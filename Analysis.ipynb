{
 "cells": [
  {
   "cell_type": "code",
   "execution_count": 1,
   "metadata": {},
   "outputs": [],
   "source": [
    "import pandas as pd\n",
    "import numpy as np\n",
    "import torch.nn.functional as F\n",
    "import torch\n",
    "from storage.query_storage import QueryStorage\n",
    "from tqdm import tqdm\n",
    "import matplotlib.pyplot as plt\n",
    "import sklearn\n",
    "from collections import OrderedDict\n",
    "\n",
    "enc_len = 50\n",
    "num_actions = 21\n",
    "mol_enc =   OrderedDict([('A', 0), ('R', 1), ('N', 2), ('D', 3), ('C', 4), ('E', 5), ('Q', 6), ('G', 7), ('H', 8), ('I', 9), ('L', 10), ('K', 11), ('M', 12), ('F', 13), ('P', 14), ('S', 15), ('T', 16), ('W', 17), ('Y', 18), ('V', 19), ('>', 20)])\n",
    "\n",
    "def seq_to_enc(seq):\n",
    "    enc = [None for i in range(enc_len)]\n",
    "    for i in range(enc_len):\n",
    "        if i < len(seq):\n",
    "            enc[i] = mol_enc[seq[i]]\n",
    "        else:\n",
    "            enc[i] = 20\n",
    "    \n",
    "    return F.one_hot(torch.tensor(enc), num_classes=num_actions).numpy()\n",
    "\n",
    "def get_AMP_data(mode):\n",
    "\n",
    "    if mode == \"test\":\n",
    "        df = pd.read_csv(\"data/210820_v0.24.1_rf_not-alibicani.csv\")\n",
    "    elif mode == \"val\":\n",
    "        df = pd.read_csv(\"data/210820_v0.24.1_rf_alibicani.csv\")\n",
    "    else:\n",
    "        raise NotImplementedError\n",
    " \n",
    "#     df = df[(df.sequence.map(len) >= 15)]\n",
    "    filtered_seq = df.sequence.map(lambda x : 'C' not in x and len(x) >= 15 and len(x) <= 50)\n",
    "    df = df[filtered_seq]\n",
    "    \n",
    "    df.sequence = df.sequence.map(seq_to_enc)\n",
    "\n",
    "    storage = QueryStorage(df.sequence.shape[0], df.sequence.shape[1:])\n",
    "\n",
    "    storage.mols = torch.tensor(df.sequence.to_list())\n",
    "\n",
    "    storage.scores = torch.tensor(df.is_amp.to_list()).long()\n",
    "\n",
    "    return storage\n",
    "\n",
    "\n"
   ]
  },
  {
   "cell_type": "code",
   "execution_count": 2,
   "metadata": {},
   "outputs": [],
   "source": [
    "# df = pd.read_csv(\"data/210820_v0.24.1_rf_alibicani.csv\")\n"
   ]
  },
  {
   "cell_type": "code",
   "execution_count": 3,
   "metadata": {},
   "outputs": [],
   "source": [
    "data = get_AMP_data(\"test\")"
   ]
  },
  {
   "cell_type": "code",
   "execution_count": 4,
   "metadata": {
    "scrolled": true
   },
   "outputs": [
    {
     "data": {
      "text/plain": [
       "torch.Size([22060, 50, 21])"
      ]
     },
     "execution_count": 4,
     "metadata": {},
     "output_type": "execute_result"
    }
   ],
   "source": [
    "data.mols.shape"
   ]
  },
  {
   "cell_type": "code",
   "execution_count": 5,
   "metadata": {},
   "outputs": [],
   "source": [
    "seq = data.mols.flatten(start_dim=-2, end_dim=-1)\n",
    "value = data.scores"
   ]
  },
  {
   "cell_type": "code",
   "execution_count": 7,
   "metadata": {
    "scrolled": true
   },
   "outputs": [
    {
     "name": "stderr",
     "output_type": "stream",
     "text": [
      " 10%|█         | 1/10 [00:19<02:54, 19.40s/it]\n"
     ]
    },
    {
     "ename": "KeyboardInterrupt",
     "evalue": "",
     "output_type": "error",
     "traceback": [
      "\u001b[0;31m---------------------------------------------------------------------------\u001b[0m",
      "\u001b[0;31mKeyboardInterrupt\u001b[0m                         Traceback (most recent call last)",
      "\u001b[0;32m<ipython-input-7-4221d157163b>\u001b[0m in \u001b[0;36m<module>\u001b[0;34m\u001b[0m\n\u001b[1;32m      9\u001b[0m     \u001b[0;32mfrom\u001b[0m \u001b[0msklearn\u001b[0m\u001b[0;34m.\u001b[0m\u001b[0mensemble\u001b[0m \u001b[0;32mimport\u001b[0m \u001b[0mRandomForestClassifier\u001b[0m\u001b[0;34m\u001b[0m\u001b[0;34m\u001b[0m\u001b[0m\n\u001b[1;32m     10\u001b[0m     \u001b[0mmodel\u001b[0m \u001b[0;34m=\u001b[0m \u001b[0mRandomForestClassifier\u001b[0m\u001b[0;34m(\u001b[0m\u001b[0mrandom_state\u001b[0m\u001b[0;34m=\u001b[0m\u001b[0ms\u001b[0m\u001b[0;34m,\u001b[0m \u001b[0mn_estimators\u001b[0m\u001b[0;34m=\u001b[0m\u001b[0;36m128\u001b[0m\u001b[0;34m)\u001b[0m\u001b[0;34m\u001b[0m\u001b[0;34m\u001b[0m\u001b[0m\n\u001b[0;32m---> 11\u001b[0;31m     \u001b[0mmodel\u001b[0m\u001b[0;34m.\u001b[0m\u001b[0mfit\u001b[0m\u001b[0;34m(\u001b[0m\u001b[0mseq\u001b[0m\u001b[0;34m,\u001b[0m \u001b[0mvalue\u001b[0m\u001b[0;34m)\u001b[0m\u001b[0;34m\u001b[0m\u001b[0;34m\u001b[0m\u001b[0m\n\u001b[0m\u001b[1;32m     12\u001b[0m \u001b[0;34m\u001b[0m\u001b[0m\n\u001b[1;32m     13\u001b[0m     \u001b[0mmax_scores\u001b[0m \u001b[0;34m=\u001b[0m \u001b[0;34m[\u001b[0m\u001b[0;34m]\u001b[0m\u001b[0;34m\u001b[0m\u001b[0;34m\u001b[0m\u001b[0m\n",
      "\u001b[0;32m~/miniconda3/lib/python3.6/site-packages/sklearn/ensemble/_forest.py\u001b[0m in \u001b[0;36mfit\u001b[0;34m(self, X, y, sample_weight)\u001b[0m\n\u001b[1;32m    391\u001b[0m                     \u001b[0mverbose\u001b[0m\u001b[0;34m=\u001b[0m\u001b[0mself\u001b[0m\u001b[0;34m.\u001b[0m\u001b[0mverbose\u001b[0m\u001b[0;34m,\u001b[0m \u001b[0mclass_weight\u001b[0m\u001b[0;34m=\u001b[0m\u001b[0mself\u001b[0m\u001b[0;34m.\u001b[0m\u001b[0mclass_weight\u001b[0m\u001b[0;34m,\u001b[0m\u001b[0;34m\u001b[0m\u001b[0;34m\u001b[0m\u001b[0m\n\u001b[1;32m    392\u001b[0m                     n_samples_bootstrap=n_samples_bootstrap)\n\u001b[0;32m--> 393\u001b[0;31m                 for i, t in enumerate(trees))\n\u001b[0m\u001b[1;32m    394\u001b[0m \u001b[0;34m\u001b[0m\u001b[0m\n\u001b[1;32m    395\u001b[0m             \u001b[0;31m# Collect newly grown trees\u001b[0m\u001b[0;34m\u001b[0m\u001b[0;34m\u001b[0m\u001b[0;34m\u001b[0m\u001b[0m\n",
      "\u001b[0;32m~/miniconda3/lib/python3.6/site-packages/joblib/parallel.py\u001b[0m in \u001b[0;36m__call__\u001b[0;34m(self, iterable)\u001b[0m\n\u001b[1;32m    984\u001b[0m                 \u001b[0mself\u001b[0m\u001b[0;34m.\u001b[0m\u001b[0m_iterating\u001b[0m \u001b[0;34m=\u001b[0m \u001b[0mself\u001b[0m\u001b[0;34m.\u001b[0m\u001b[0m_original_iterator\u001b[0m \u001b[0;32mis\u001b[0m \u001b[0;32mnot\u001b[0m \u001b[0;32mNone\u001b[0m\u001b[0;34m\u001b[0m\u001b[0;34m\u001b[0m\u001b[0m\n\u001b[1;32m    985\u001b[0m \u001b[0;34m\u001b[0m\u001b[0m\n\u001b[0;32m--> 986\u001b[0;31m             \u001b[0;32mwhile\u001b[0m \u001b[0mself\u001b[0m\u001b[0;34m.\u001b[0m\u001b[0mdispatch_one_batch\u001b[0m\u001b[0;34m(\u001b[0m\u001b[0miterator\u001b[0m\u001b[0;34m)\u001b[0m\u001b[0;34m:\u001b[0m\u001b[0;34m\u001b[0m\u001b[0;34m\u001b[0m\u001b[0m\n\u001b[0m\u001b[1;32m    987\u001b[0m                 \u001b[0;32mpass\u001b[0m\u001b[0;34m\u001b[0m\u001b[0;34m\u001b[0m\u001b[0m\n\u001b[1;32m    988\u001b[0m \u001b[0;34m\u001b[0m\u001b[0m\n",
      "\u001b[0;32m~/miniconda3/lib/python3.6/site-packages/joblib/parallel.py\u001b[0m in \u001b[0;36mdispatch_one_batch\u001b[0;34m(self, iterator)\u001b[0m\n\u001b[1;32m    823\u001b[0m                 \u001b[0;32mreturn\u001b[0m \u001b[0;32mFalse\u001b[0m\u001b[0;34m\u001b[0m\u001b[0;34m\u001b[0m\u001b[0m\n\u001b[1;32m    824\u001b[0m             \u001b[0;32melse\u001b[0m\u001b[0;34m:\u001b[0m\u001b[0;34m\u001b[0m\u001b[0;34m\u001b[0m\u001b[0m\n\u001b[0;32m--> 825\u001b[0;31m                 \u001b[0mself\u001b[0m\u001b[0;34m.\u001b[0m\u001b[0m_dispatch\u001b[0m\u001b[0;34m(\u001b[0m\u001b[0mtasks\u001b[0m\u001b[0;34m)\u001b[0m\u001b[0;34m\u001b[0m\u001b[0;34m\u001b[0m\u001b[0m\n\u001b[0m\u001b[1;32m    826\u001b[0m                 \u001b[0;32mreturn\u001b[0m \u001b[0;32mTrue\u001b[0m\u001b[0;34m\u001b[0m\u001b[0;34m\u001b[0m\u001b[0m\n\u001b[1;32m    827\u001b[0m \u001b[0;34m\u001b[0m\u001b[0m\n",
      "\u001b[0;32m~/miniconda3/lib/python3.6/site-packages/joblib/parallel.py\u001b[0m in \u001b[0;36m_dispatch\u001b[0;34m(self, batch)\u001b[0m\n\u001b[1;32m    780\u001b[0m         \u001b[0;32mwith\u001b[0m \u001b[0mself\u001b[0m\u001b[0;34m.\u001b[0m\u001b[0m_lock\u001b[0m\u001b[0;34m:\u001b[0m\u001b[0;34m\u001b[0m\u001b[0;34m\u001b[0m\u001b[0m\n\u001b[1;32m    781\u001b[0m             \u001b[0mjob_idx\u001b[0m \u001b[0;34m=\u001b[0m \u001b[0mlen\u001b[0m\u001b[0;34m(\u001b[0m\u001b[0mself\u001b[0m\u001b[0;34m.\u001b[0m\u001b[0m_jobs\u001b[0m\u001b[0;34m)\u001b[0m\u001b[0;34m\u001b[0m\u001b[0;34m\u001b[0m\u001b[0m\n\u001b[0;32m--> 782\u001b[0;31m             \u001b[0mjob\u001b[0m \u001b[0;34m=\u001b[0m \u001b[0mself\u001b[0m\u001b[0;34m.\u001b[0m\u001b[0m_backend\u001b[0m\u001b[0;34m.\u001b[0m\u001b[0mapply_async\u001b[0m\u001b[0;34m(\u001b[0m\u001b[0mbatch\u001b[0m\u001b[0;34m,\u001b[0m \u001b[0mcallback\u001b[0m\u001b[0;34m=\u001b[0m\u001b[0mcb\u001b[0m\u001b[0;34m)\u001b[0m\u001b[0;34m\u001b[0m\u001b[0;34m\u001b[0m\u001b[0m\n\u001b[0m\u001b[1;32m    783\u001b[0m             \u001b[0;31m# A job can complete so quickly than its callback is\u001b[0m\u001b[0;34m\u001b[0m\u001b[0;34m\u001b[0m\u001b[0;34m\u001b[0m\u001b[0m\n\u001b[1;32m    784\u001b[0m             \u001b[0;31m# called before we get here, causing self._jobs to\u001b[0m\u001b[0;34m\u001b[0m\u001b[0;34m\u001b[0m\u001b[0;34m\u001b[0m\u001b[0m\n",
      "\u001b[0;32m~/miniconda3/lib/python3.6/site-packages/joblib/_parallel_backends.py\u001b[0m in \u001b[0;36mapply_async\u001b[0;34m(self, func, callback)\u001b[0m\n\u001b[1;32m    180\u001b[0m     \u001b[0;32mdef\u001b[0m \u001b[0mapply_async\u001b[0m\u001b[0;34m(\u001b[0m\u001b[0mself\u001b[0m\u001b[0;34m,\u001b[0m \u001b[0mfunc\u001b[0m\u001b[0;34m,\u001b[0m \u001b[0mcallback\u001b[0m\u001b[0;34m=\u001b[0m\u001b[0;32mNone\u001b[0m\u001b[0;34m)\u001b[0m\u001b[0;34m:\u001b[0m\u001b[0;34m\u001b[0m\u001b[0;34m\u001b[0m\u001b[0m\n\u001b[1;32m    181\u001b[0m         \u001b[0;34m\"\"\"Schedule a func to be run\"\"\"\u001b[0m\u001b[0;34m\u001b[0m\u001b[0;34m\u001b[0m\u001b[0m\n\u001b[0;32m--> 182\u001b[0;31m         \u001b[0mresult\u001b[0m \u001b[0;34m=\u001b[0m \u001b[0mImmediateResult\u001b[0m\u001b[0;34m(\u001b[0m\u001b[0mfunc\u001b[0m\u001b[0;34m)\u001b[0m\u001b[0;34m\u001b[0m\u001b[0;34m\u001b[0m\u001b[0m\n\u001b[0m\u001b[1;32m    183\u001b[0m         \u001b[0;32mif\u001b[0m \u001b[0mcallback\u001b[0m\u001b[0;34m:\u001b[0m\u001b[0;34m\u001b[0m\u001b[0;34m\u001b[0m\u001b[0m\n\u001b[1;32m    184\u001b[0m             \u001b[0mcallback\u001b[0m\u001b[0;34m(\u001b[0m\u001b[0mresult\u001b[0m\u001b[0;34m)\u001b[0m\u001b[0;34m\u001b[0m\u001b[0;34m\u001b[0m\u001b[0m\n",
      "\u001b[0;32m~/miniconda3/lib/python3.6/site-packages/joblib/_parallel_backends.py\u001b[0m in \u001b[0;36m__init__\u001b[0;34m(self, batch)\u001b[0m\n\u001b[1;32m    543\u001b[0m         \u001b[0;31m# Don't delay the application, to avoid keeping the input\u001b[0m\u001b[0;34m\u001b[0m\u001b[0;34m\u001b[0m\u001b[0;34m\u001b[0m\u001b[0m\n\u001b[1;32m    544\u001b[0m         \u001b[0;31m# arguments in memory\u001b[0m\u001b[0;34m\u001b[0m\u001b[0;34m\u001b[0m\u001b[0;34m\u001b[0m\u001b[0m\n\u001b[0;32m--> 545\u001b[0;31m         \u001b[0mself\u001b[0m\u001b[0;34m.\u001b[0m\u001b[0mresults\u001b[0m \u001b[0;34m=\u001b[0m \u001b[0mbatch\u001b[0m\u001b[0;34m(\u001b[0m\u001b[0;34m)\u001b[0m\u001b[0;34m\u001b[0m\u001b[0;34m\u001b[0m\u001b[0m\n\u001b[0m\u001b[1;32m    546\u001b[0m \u001b[0;34m\u001b[0m\u001b[0m\n\u001b[1;32m    547\u001b[0m     \u001b[0;32mdef\u001b[0m \u001b[0mget\u001b[0m\u001b[0;34m(\u001b[0m\u001b[0mself\u001b[0m\u001b[0;34m)\u001b[0m\u001b[0;34m:\u001b[0m\u001b[0;34m\u001b[0m\u001b[0;34m\u001b[0m\u001b[0m\n",
      "\u001b[0;32m~/miniconda3/lib/python3.6/site-packages/joblib/parallel.py\u001b[0m in \u001b[0;36m__call__\u001b[0;34m(self)\u001b[0m\n\u001b[1;32m    259\u001b[0m         \u001b[0;32mwith\u001b[0m \u001b[0mparallel_backend\u001b[0m\u001b[0;34m(\u001b[0m\u001b[0mself\u001b[0m\u001b[0;34m.\u001b[0m\u001b[0m_backend\u001b[0m\u001b[0;34m)\u001b[0m\u001b[0;34m:\u001b[0m\u001b[0;34m\u001b[0m\u001b[0;34m\u001b[0m\u001b[0m\n\u001b[1;32m    260\u001b[0m             return [func(*args, **kwargs)\n\u001b[0;32m--> 261\u001b[0;31m                     for func, args, kwargs in self.items]\n\u001b[0m\u001b[1;32m    262\u001b[0m \u001b[0;34m\u001b[0m\u001b[0m\n\u001b[1;32m    263\u001b[0m     \u001b[0;32mdef\u001b[0m \u001b[0m__len__\u001b[0m\u001b[0;34m(\u001b[0m\u001b[0mself\u001b[0m\u001b[0;34m)\u001b[0m\u001b[0;34m:\u001b[0m\u001b[0;34m\u001b[0m\u001b[0;34m\u001b[0m\u001b[0m\n",
      "\u001b[0;32m~/miniconda3/lib/python3.6/site-packages/joblib/parallel.py\u001b[0m in \u001b[0;36m<listcomp>\u001b[0;34m(.0)\u001b[0m\n\u001b[1;32m    259\u001b[0m         \u001b[0;32mwith\u001b[0m \u001b[0mparallel_backend\u001b[0m\u001b[0;34m(\u001b[0m\u001b[0mself\u001b[0m\u001b[0;34m.\u001b[0m\u001b[0m_backend\u001b[0m\u001b[0;34m)\u001b[0m\u001b[0;34m:\u001b[0m\u001b[0;34m\u001b[0m\u001b[0;34m\u001b[0m\u001b[0m\n\u001b[1;32m    260\u001b[0m             return [func(*args, **kwargs)\n\u001b[0;32m--> 261\u001b[0;31m                     for func, args, kwargs in self.items]\n\u001b[0m\u001b[1;32m    262\u001b[0m \u001b[0;34m\u001b[0m\u001b[0m\n\u001b[1;32m    263\u001b[0m     \u001b[0;32mdef\u001b[0m \u001b[0m__len__\u001b[0m\u001b[0;34m(\u001b[0m\u001b[0mself\u001b[0m\u001b[0;34m)\u001b[0m\u001b[0;34m:\u001b[0m\u001b[0;34m\u001b[0m\u001b[0;34m\u001b[0m\u001b[0m\n",
      "\u001b[0;32m~/miniconda3/lib/python3.6/site-packages/sklearn/utils/fixes.py\u001b[0m in \u001b[0;36m__call__\u001b[0;34m(self, *args, **kwargs)\u001b[0m\n\u001b[1;32m    220\u001b[0m     \u001b[0;32mdef\u001b[0m \u001b[0m__call__\u001b[0m\u001b[0;34m(\u001b[0m\u001b[0mself\u001b[0m\u001b[0;34m,\u001b[0m \u001b[0;34m*\u001b[0m\u001b[0margs\u001b[0m\u001b[0;34m,\u001b[0m \u001b[0;34m**\u001b[0m\u001b[0mkwargs\u001b[0m\u001b[0;34m)\u001b[0m\u001b[0;34m:\u001b[0m\u001b[0;34m\u001b[0m\u001b[0;34m\u001b[0m\u001b[0m\n\u001b[1;32m    221\u001b[0m         \u001b[0;32mwith\u001b[0m \u001b[0mconfig_context\u001b[0m\u001b[0;34m(\u001b[0m\u001b[0;34m**\u001b[0m\u001b[0mself\u001b[0m\u001b[0;34m.\u001b[0m\u001b[0mconfig\u001b[0m\u001b[0;34m)\u001b[0m\u001b[0;34m:\u001b[0m\u001b[0;34m\u001b[0m\u001b[0;34m\u001b[0m\u001b[0m\n\u001b[0;32m--> 222\u001b[0;31m             \u001b[0;32mreturn\u001b[0m \u001b[0mself\u001b[0m\u001b[0;34m.\u001b[0m\u001b[0mfunction\u001b[0m\u001b[0;34m(\u001b[0m\u001b[0;34m*\u001b[0m\u001b[0margs\u001b[0m\u001b[0;34m,\u001b[0m \u001b[0;34m**\u001b[0m\u001b[0mkwargs\u001b[0m\u001b[0;34m)\u001b[0m\u001b[0;34m\u001b[0m\u001b[0;34m\u001b[0m\u001b[0m\n\u001b[0m",
      "\u001b[0;32m~/miniconda3/lib/python3.6/site-packages/sklearn/ensemble/_forest.py\u001b[0m in \u001b[0;36m_parallel_build_trees\u001b[0;34m(tree, forest, X, y, sample_weight, tree_idx, n_trees, verbose, class_weight, n_samples_bootstrap)\u001b[0m\n\u001b[1;32m    167\u001b[0m                                                         indices=indices)\n\u001b[1;32m    168\u001b[0m \u001b[0;34m\u001b[0m\u001b[0m\n\u001b[0;32m--> 169\u001b[0;31m         \u001b[0mtree\u001b[0m\u001b[0;34m.\u001b[0m\u001b[0mfit\u001b[0m\u001b[0;34m(\u001b[0m\u001b[0mX\u001b[0m\u001b[0;34m,\u001b[0m \u001b[0my\u001b[0m\u001b[0;34m,\u001b[0m \u001b[0msample_weight\u001b[0m\u001b[0;34m=\u001b[0m\u001b[0mcurr_sample_weight\u001b[0m\u001b[0;34m,\u001b[0m \u001b[0mcheck_input\u001b[0m\u001b[0;34m=\u001b[0m\u001b[0;32mFalse\u001b[0m\u001b[0;34m)\u001b[0m\u001b[0;34m\u001b[0m\u001b[0;34m\u001b[0m\u001b[0m\n\u001b[0m\u001b[1;32m    170\u001b[0m     \u001b[0;32melse\u001b[0m\u001b[0;34m:\u001b[0m\u001b[0;34m\u001b[0m\u001b[0;34m\u001b[0m\u001b[0m\n\u001b[1;32m    171\u001b[0m         \u001b[0mtree\u001b[0m\u001b[0;34m.\u001b[0m\u001b[0mfit\u001b[0m\u001b[0;34m(\u001b[0m\u001b[0mX\u001b[0m\u001b[0;34m,\u001b[0m \u001b[0my\u001b[0m\u001b[0;34m,\u001b[0m \u001b[0msample_weight\u001b[0m\u001b[0;34m=\u001b[0m\u001b[0msample_weight\u001b[0m\u001b[0;34m,\u001b[0m \u001b[0mcheck_input\u001b[0m\u001b[0;34m=\u001b[0m\u001b[0;32mFalse\u001b[0m\u001b[0;34m)\u001b[0m\u001b[0;34m\u001b[0m\u001b[0;34m\u001b[0m\u001b[0m\n",
      "\u001b[0;32m~/miniconda3/lib/python3.6/site-packages/sklearn/tree/_classes.py\u001b[0m in \u001b[0;36mfit\u001b[0;34m(self, X, y, sample_weight, check_input, X_idx_sorted)\u001b[0m\n\u001b[1;32m    900\u001b[0m             \u001b[0msample_weight\u001b[0m\u001b[0;34m=\u001b[0m\u001b[0msample_weight\u001b[0m\u001b[0;34m,\u001b[0m\u001b[0;34m\u001b[0m\u001b[0;34m\u001b[0m\u001b[0m\n\u001b[1;32m    901\u001b[0m             \u001b[0mcheck_input\u001b[0m\u001b[0;34m=\u001b[0m\u001b[0mcheck_input\u001b[0m\u001b[0;34m,\u001b[0m\u001b[0;34m\u001b[0m\u001b[0;34m\u001b[0m\u001b[0m\n\u001b[0;32m--> 902\u001b[0;31m             X_idx_sorted=X_idx_sorted)\n\u001b[0m\u001b[1;32m    903\u001b[0m         \u001b[0;32mreturn\u001b[0m \u001b[0mself\u001b[0m\u001b[0;34m\u001b[0m\u001b[0;34m\u001b[0m\u001b[0m\n\u001b[1;32m    904\u001b[0m \u001b[0;34m\u001b[0m\u001b[0m\n",
      "\u001b[0;32m~/miniconda3/lib/python3.6/site-packages/sklearn/tree/_classes.py\u001b[0m in \u001b[0;36mfit\u001b[0;34m(self, X, y, sample_weight, check_input, X_idx_sorted)\u001b[0m\n\u001b[1;32m    387\u001b[0m                                            min_impurity_split)\n\u001b[1;32m    388\u001b[0m \u001b[0;34m\u001b[0m\u001b[0m\n\u001b[0;32m--> 389\u001b[0;31m         \u001b[0mbuilder\u001b[0m\u001b[0;34m.\u001b[0m\u001b[0mbuild\u001b[0m\u001b[0;34m(\u001b[0m\u001b[0mself\u001b[0m\u001b[0;34m.\u001b[0m\u001b[0mtree_\u001b[0m\u001b[0;34m,\u001b[0m \u001b[0mX\u001b[0m\u001b[0;34m,\u001b[0m \u001b[0my\u001b[0m\u001b[0;34m,\u001b[0m \u001b[0msample_weight\u001b[0m\u001b[0;34m)\u001b[0m\u001b[0;34m\u001b[0m\u001b[0;34m\u001b[0m\u001b[0m\n\u001b[0m\u001b[1;32m    390\u001b[0m \u001b[0;34m\u001b[0m\u001b[0m\n\u001b[1;32m    391\u001b[0m         \u001b[0;32mif\u001b[0m \u001b[0mself\u001b[0m\u001b[0;34m.\u001b[0m\u001b[0mn_outputs_\u001b[0m \u001b[0;34m==\u001b[0m \u001b[0;36m1\u001b[0m \u001b[0;32mand\u001b[0m \u001b[0mis_classifier\u001b[0m\u001b[0;34m(\u001b[0m\u001b[0mself\u001b[0m\u001b[0;34m)\u001b[0m\u001b[0;34m:\u001b[0m\u001b[0;34m\u001b[0m\u001b[0;34m\u001b[0m\u001b[0m\n",
      "\u001b[0;31mKeyboardInterrupt\u001b[0m: "
     ]
    }
   ],
   "source": [
    "import random\n",
    "from tqdm import tqdm\n",
    "\n",
    "num_seeds = 10\n",
    "scores = []\n",
    "\n",
    "\n",
    "for s in tqdm(range(num_seeds)):\n",
    "    from sklearn.ensemble import RandomForestClassifier\n",
    "    model = RandomForestClassifier(random_state=s, n_estimators=128)\n",
    "    model.fit(seq, value)\n",
    "    \n",
    "    max_scores = []\n",
    "\n",
    "    for qq in range(8):\n",
    "        mol_probs = []\n",
    "        mols = []\n",
    "        for i in range(250):\n",
    "            rand_len = random.randint(1, 50)\n",
    "\n",
    "            rand_mol = [random.randint(0, 19) for i in range(rand_len)]\n",
    "            rand_mol += (50 - len(rand_mol))*[20]\n",
    "            rand_mol = torch.tensor(rand_mol)\n",
    "            rand_mol = torch.nn.functional.one_hot(rand_mol, num_classes=21).flatten(-2, -1)\n",
    "            mols.append(rand_mol)\n",
    "\n",
    "\n",
    "        mol_probs = model.predict_proba(torch.stack(mols, 0).numpy())\n",
    "        \n",
    "        mol_probs = mol_probs[:, 1]\n",
    "\n",
    "#         print(\"Average score:\", mol_probs.mean())\n",
    "\n",
    "#         print(\"Cumulative Max Score:\", mol_probs.max())\n",
    "\n",
    "\n",
    "        max_scores.append(mol_probs.max())\n",
    "\n",
    "\n",
    "\n",
    "    scores.append(max_scores)"
   ]
  },
  {
   "cell_type": "code",
   "execution_count": 49,
   "metadata": {},
   "outputs": [
    {
     "name": "stdout",
     "output_type": "stream",
     "text": [
      "Cumul. max scores [0.2734375, 0.2578125, 0.2265625, 0.28125, 0.375, 0.2890625, 0.3984375, 0.2578125]\n"
     ]
    }
   ],
   "source": [
    "print(\"Cumul. max scores\", max_scores)"
   ]
  },
  {
   "cell_type": "code",
   "execution_count": 50,
   "metadata": {},
   "outputs": [],
   "source": [
    "for i in range(num_seeds):\n",
    "    for j in range(1, 8):\n",
    "        scores[i][j] = max(scores[i][j], scores[i][j-1])"
   ]
  },
  {
   "cell_type": "code",
   "execution_count": 51,
   "metadata": {},
   "outputs": [],
   "source": [
    "ys = np.array(scores)"
   ]
  },
  {
   "cell_type": "code",
   "execution_count": 52,
   "metadata": {},
   "outputs": [],
   "source": [
    "y_mean = ys.mean(0)\n",
    "y_std = ys.std(0)/num_seeds**0.5"
   ]
  },
  {
   "cell_type": "code",
   "execution_count": 53,
   "metadata": {},
   "outputs": [],
   "source": [
    "xs = [250*i for i in range(1, 9)]"
   ]
  },
  {
   "cell_type": "code",
   "execution_count": 54,
   "metadata": {},
   "outputs": [
    {
     "data": {
      "image/png": "[encoded data removed]",
      "text/plain": [
       "<Figure size 432x288 with 1 Axes>"
      ]
     },
     "metadata": {
      "needs_background": "light"
     },
     "output_type": "display_data"
    }
   ],
   "source": [
    "plt.ylim((0.2, 0.9))\n",
    "plt.title(\"rf_not-alibicani\")\n",
    "plt.plot(xs, y_mean, 'k-', label='Random')\n",
    "plt.fill_between(xs, y_mean-y_std, y_mean+y_std)\n",
    "plt.xlabel(\"Number of samples\")\n",
    "plt.ylabel(\"Cumulative maximum\")\n",
    "plt.legend()\n",
    "plt.show()"
   ]
  },
  {
   "cell_type": "code",
   "execution_count": 44,
   "metadata": {},
   "outputs": [
    {
     "data": {
      "image/png": "[encoded data removed]",
      "text/plain": [
       "<Figure size 432x288 with 1 Axes>"
      ]
     },
     "metadata": {
      "needs_background": "light"
     },
     "output_type": "display_data"
    }
   ],
   "source": [
    "plt.ylim((0.2, 0.9))\n",
    "plt.title(\"rf_alibicani\")\n",
    "plt.plot(xs, y_mean, 'k-', label='Random')\n",
    "plt.fill_between(xs, y_mean-y_std, y_mean+y_std)\n",
    "plt.xlabel(\"Number of samples\")\n",
    "plt.ylabel(\"Cumulative maximum\")\n",
    "plt.legend()\n",
    "plt.show()"
   ]
  },
  {
   "cell_type": "code",
   "execution_count": 13,
   "metadata": {},
   "outputs": [
    {
     "data": {
      "text/plain": [
       "'0.24.1'"
      ]
     },
     "execution_count": 13,
     "metadata": {},
     "output_type": "execute_result"
    }
   ],
   "source": [
    "sklearn.__version__"
   ]
  },
  {
   "cell_type": "markdown",
   "metadata": {},
   "source": [
    "## Using the AMP dataset"
   ]
  },
  {
   "cell_type": "code",
   "execution_count": 235,
   "metadata": {},
   "outputs": [],
   "source": [
    "df = pd.read_csv('./data/amp_dataset.csv')\n",
    "# df = pd.read_csv('./data/amp_dataset_cleaned_apparently.csv')"
   ]
  },
  {
   "cell_type": "code",
   "execution_count": 236,
   "metadata": {},
   "outputs": [],
   "source": [
    "df_2 = pd.read_csv('./data/amp_dataset_2.csv')"
   ]
  },
  {
   "cell_type": "code",
   "execution_count": 237,
   "metadata": {},
   "outputs": [
    {
     "data": {
      "text/html": [
       "<div>\n",
       "<style scoped>\n",
       "    .dataframe tbody tr th:only-of-type {\n",
       "        vertical-align: middle;\n",
       "    }\n",
       "\n",
       "    .dataframe tbody tr th {\n",
       "        vertical-align: top;\n",
       "    }\n",
       "\n",
       "    .dataframe thead th {\n",
       "        text-align: right;\n",
       "    }\n",
       "</style>\n",
       "<table border=\"1\" class=\"dataframe\">\n",
       "  <thead>\n",
       "    <tr style=\"text-align: right;\">\n",
       "      <th></th>\n",
       "      <th>target</th>\n",
       "      <th>sequence</th>\n",
       "      <th>value</th>\n",
       "      <th>is_amp</th>\n",
       "    </tr>\n",
       "  </thead>\n",
       "  <tbody>\n",
       "    <tr>\n",
       "      <th>0</th>\n",
       "      <td>A. acidoterrestris</td>\n",
       "      <td>FWQKMSFA</td>\n",
       "      <td>1.345238</td>\n",
       "      <td>True</td>\n",
       "    </tr>\n",
       "    <tr>\n",
       "      <th>1</th>\n",
       "      <td>A. actinomycetemcomitans</td>\n",
       "      <td>FKCRRWQWRMKKLGKRSKNKGFKEQAKSLLKWILD</td>\n",
       "      <td>0.707570</td>\n",
       "      <td>True</td>\n",
       "    </tr>\n",
       "    <tr>\n",
       "      <th>2</th>\n",
       "      <td>A. actinomycetemcomitans</td>\n",
       "      <td>GIGDPVTCLKSGAICHPVFCPRRYKQIGTCGLPGTKCCKKP</td>\n",
       "      <td>1.761030</td>\n",
       "      <td>True</td>\n",
       "    </tr>\n",
       "    <tr>\n",
       "      <th>3</th>\n",
       "      <td>A. actinomycetemcomitans</td>\n",
       "      <td>GVVDILKGAAKDIAGHLASKVM</td>\n",
       "      <td>2.347076</td>\n",
       "      <td>True</td>\n",
       "    </tr>\n",
       "    <tr>\n",
       "      <th>4</th>\n",
       "      <td>A. actinomycetemcomitans</td>\n",
       "      <td>GVVDILKGAAKDIAGHLASKVMN</td>\n",
       "      <td>2.322302</td>\n",
       "      <td>True</td>\n",
       "    </tr>\n",
       "    <tr>\n",
       "      <th>...</th>\n",
       "      <td>...</td>\n",
       "      <td>...</td>\n",
       "      <td>...</td>\n",
       "      <td>...</td>\n",
       "    </tr>\n",
       "    <tr>\n",
       "      <th>115911</th>\n",
       "      <td>Z. mobilis</td>\n",
       "      <td>RCATCARPFF</td>\n",
       "      <td>4.000000</td>\n",
       "      <td>False</td>\n",
       "    </tr>\n",
       "    <tr>\n",
       "      <th>115912</th>\n",
       "      <td>Z. mobilis</td>\n",
       "      <td>GKGLHEFDSL</td>\n",
       "      <td>4.000000</td>\n",
       "      <td>False</td>\n",
       "    </tr>\n",
       "    <tr>\n",
       "      <th>115913</th>\n",
       "      <td>Z. mobilis</td>\n",
       "      <td>EELACVNDIV</td>\n",
       "      <td>4.000000</td>\n",
       "      <td>False</td>\n",
       "    </tr>\n",
       "    <tr>\n",
       "      <th>115914</th>\n",
       "      <td>Z. mobilis</td>\n",
       "      <td>DGQHLASGDR</td>\n",
       "      <td>4.000000</td>\n",
       "      <td>False</td>\n",
       "    </tr>\n",
       "    <tr>\n",
       "      <th>115915</th>\n",
       "      <td>Z. mobilis</td>\n",
       "      <td>NEANQTALNY</td>\n",
       "      <td>4.000000</td>\n",
       "      <td>False</td>\n",
       "    </tr>\n",
       "  </tbody>\n",
       "</table>\n",
       "<p>115916 rows × 4 columns</p>\n",
       "</div>"
      ],
      "text/plain": [
       "                          target                                   sequence  \\\n",
       "0             A. acidoterrestris                                   FWQKMSFA   \n",
       "1       A. actinomycetemcomitans        FKCRRWQWRMKKLGKRSKNKGFKEQAKSLLKWILD   \n",
       "2       A. actinomycetemcomitans  GIGDPVTCLKSGAICHPVFCPRRYKQIGTCGLPGTKCCKKP   \n",
       "3       A. actinomycetemcomitans                     GVVDILKGAAKDIAGHLASKVM   \n",
       "4       A. actinomycetemcomitans                    GVVDILKGAAKDIAGHLASKVMN   \n",
       "...                          ...                                        ...   \n",
       "115911                Z. mobilis                                 RCATCARPFF   \n",
       "115912                Z. mobilis                                 GKGLHEFDSL   \n",
       "115913                Z. mobilis                                 EELACVNDIV   \n",
       "115914                Z. mobilis                                 DGQHLASGDR   \n",
       "115915                Z. mobilis                                 NEANQTALNY   \n",
       "\n",
       "           value  is_amp  \n",
       "0       1.345238    True  \n",
       "1       0.707570    True  \n",
       "2       1.761030    True  \n",
       "3       2.347076    True  \n",
       "4       2.322302    True  \n",
       "...          ...     ...  \n",
       "115911  4.000000   False  \n",
       "115912  4.000000   False  \n",
       "115913  4.000000   False  \n",
       "115914  4.000000   False  \n",
       "115915  4.000000   False  \n",
       "\n",
       "[115916 rows x 4 columns]"
      ]
     },
     "execution_count": 237,
     "metadata": {},
     "output_type": "execute_result"
    }
   ],
   "source": [
    "df_2"
   ]
  },
  {
   "cell_type": "code",
   "execution_count": 238,
   "metadata": {},
   "outputs": [
    {
     "data": {
      "text/plain": [
       "target      115916\n",
       "sequence    115916\n",
       "value       115916\n",
       "is_amp      115916\n",
       "dtype: int64"
      ]
     },
     "execution_count": 238,
     "metadata": {},
     "output_type": "execute_result"
    }
   ],
   "source": [
    "(df == df_2).sum()"
   ]
  },
  {
   "cell_type": "code",
   "execution_count": null,
   "metadata": {},
   "outputs": [],
   "source": []
  },
  {
   "cell_type": "code",
   "execution_count": 239,
   "metadata": {
    "scrolled": true
   },
   "outputs": [
    {
     "data": {
      "text/plain": [
       "array(['A. acidoterrestris', 'A. actinomycetemcomitans', 'A. alternata',\n",
       "       'A. awamori', 'A. baumanii', 'A. baumannii', 'A. brasiliensis',\n",
       "       'A. brassicae', 'A. brassicicola', 'A. brassicola',\n",
       "       'A. calcoaceticus', 'A. carrageenovora', 'A. caviae', 'A. cinerea',\n",
       "       'A. dauci', 'A. faecalis', 'A. favus', 'A. fla', 'A. flavus',\n",
       "       'A. fumigates', 'A. fumigatus', 'A. globiformis', 'A. helianthi',\n",
       "       'A. hydrohila', 'A. hydrophila', 'A. israelii', 'A. johnsonii',\n",
       "       'A. junii', 'A. laidlawii', 'A. longipes', 'A. lwoffi',\n",
       "       'A. lwoffii', 'A. molecular', 'A. myeloid', 'A. naeslundii',\n",
       "       'A. nidulans', 'A. niger', 'A. ochraceus', 'A. parasiticus',\n",
       "       'A. pisi', 'A. pullulans', 'A. punctata', 'A. rabiei',\n",
       "       'A. radiobacter', 'A. rhizogenes', 'A. salmonicida', 'A. simii',\n",
       "       'A. sobria', 'A. solani', 'A. sp', 'A. sp.', 'A. terreus',\n",
       "       'A. tumefaciens', 'A. tumerfaciens', 'A. umigates', 'A. ustus',\n",
       "       'A. veronii', 'A. versicolor', 'A. vinelandii', 'A. viridans',\n",
       "       'A. viscosus', 'A. wieringae', 'A. xylosoxidans', 'B. abortus',\n",
       "       'B. alvei', 'B. amyloliquefaciens', 'B. anthracis', 'B. bassiana',\n",
       "       'B. brevis', 'B. bronchiseptica', 'B. cenocepacia', 'B. cepacia',\n",
       "       'B. cereus', 'B. cinerea', 'B. circulans', 'B. coagulans',\n",
       "       'B. dendrobatidis', 'B. dysenteriae', 'B. dysenterium',\n",
       "       'B. elliptica', 'B. epiphytus', 'B. equi', 'B. flexus',\n",
       "       'B. fragilis', 'B. globigii', 'B. licheniformis', 'B. magaterium',\n",
       "       'B. megaterium', 'B. megateriun', 'B. megateriurm',\n",
       "       'B. megatherium', 'B. mycoides', 'B. negaterium', 'B. pertussis',\n",
       "       'B. petunia', 'B. proteus', 'B. pumilu', 'B. pumilus',\n",
       "       'B. pyocyaneus', 'B. s', 'B. sorokiniana', 'B. sp', 'B. sp.',\n",
       "       'B. sphaericus', 'B. spp', 'B. stabilis', 'B. stationis',\n",
       "       'B. stearothermophilus', 'B. subtilis', 'B. subtillis', 'B. suis',\n",
       "       'B. thailandensis', 'B. thuringensis', 'B. thuringiensis',\n",
       "       'B. ﬂexus', 'C. acutatum', 'C. albican', 'C. albicans',\n",
       "       'C. aquatilis', 'C. beticola', 'C. botulinum', 'C. bouis',\n",
       "       'C. bovis', 'C. columnare', 'C. comatus', 'C. difficile',\n",
       "       'C. diphtheriae', 'C. divergens', 'C. drobachiensis',\n",
       "       'C. dubliniensis', 'C. elegans', 'C. flaccumfaciens',\n",
       "       'C. freundii', 'C. fructus', 'C. fulvum', 'C. funditum',\n",
       "       'C. gallinarum', 'C. gattii', 'C. geniculata', 'C. glabrata',\n",
       "       'C. gloeosporioides', 'C. glutamicum', 'C. grabrata',\n",
       "       'C. graminicola', 'C. guillermondii', 'C. guilliermondii',\n",
       "       'C. herbarum', 'C. inconspicua', 'C. insidiosum', 'C. jejune',\n",
       "       'C. jejuni', 'C. kefyr', 'C. koseri', 'C. krusei', 'C. lagenarium',\n",
       "       'C. laurentii', 'C. lindemuthianum', 'C. lipolytica',\n",
       "       'C. lusitania', 'C. lusitaniae', 'C. lymphocytic',\n",
       "       'C. maltaromaticum', 'C. meningosepticum', 'C. michiaganesis',\n",
       "       'C. michiganense', 'C. michiganensis', 'C. mobile',\n",
       "       'C. muytjensii', 'C. neoformans', 'C. nicotianae', 'C. orbiculare',\n",
       "       'C. paradoxa', 'C. parapsilosis', 'C. perfringens',\n",
       "       'C. perfringensâ', 'C. piscicola', 'C. pseudotropicalis',\n",
       "       'C. pseudotuberculosis', 'C. renale', 'C. sakazakii',\n",
       "       'C. septicum', 'C. sp', 'C. sphaerospermum', 'C. sporogenes',\n",
       "       'C. spp', 'C. striatum', 'C. tertium', 'C. tropicalis',\n",
       "       'C. tyrobutyricum', 'C. utilis', 'C. wickerhamii', 'C. xerosis',\n",
       "       'D. brizae', 'D. maydis', 'D. pneumoniae', 'D. ribution',\n",
       "       'E. aerogenes', 'E. amnigenus', 'E. amylovora', 'E. asbriae',\n",
       "       'E. asburiae', 'E. carolovora', 'E. carotovora',\n",
       "       'E. casseliflavus', 'E. cloacae', 'E. col', 'E. coli', 'E. durans',\n",
       "       'E. faecalis', 'E. faecium', 'E. fecalis', 'E. feces',\n",
       "       'E. gallinarum', 'E. helveticus', 'E. herbicola', 'E. hirae',\n",
       "       'E. ictaluri', 'E. jaecalis', 'E. ocli', 'E. sakazakii',\n",
       "       'E. salicis', 'E. spp', 'E. spp.', 'E. tarda', 'F. avenaceum',\n",
       "       'F. culmorum', 'F. graminearum', 'F. moniliforme', 'F. nucleatum',\n",
       "       'F. oxisporum', 'F. oxysporum', 'F. psychrophilum', 'F. solani',\n",
       "       'F. sp', 'F. varium', 'F. verticillioides', 'G. candidum',\n",
       "       'G. saubinetii', 'G. stearothermophilus', 'G. vaginalis',\n",
       "       'H. acute', 'H. annosum', 'H. bladder', 'H. breast', 'H. cervical',\n",
       "       'H. colon', 'H. ducreyi', 'H. epidermoid', 'H. erythroleukemia',\n",
       "       'H. fibrosarcoma', 'H. gastric', 'H. glioblastoma',\n",
       "       'H. hepatocarcinoma', 'H. hepatocellular', 'H. histiocytic',\n",
       "       'H. influenzae', 'H. inﬂuenzae', 'H. kidney', 'H. leukaemia',\n",
       "       'H. liver', 'H. lung', 'H. lymphoblastic', 'H. melanoma',\n",
       "       'H. myelogenous', 'H. nasopharyngeal', 'H. ovarian',\n",
       "       'H. pancreatic', 'H. parasuis', 'H. promyelocytic', 'H. prostate',\n",
       "       'H. pulchellus', 'H. pylori', 'H. renal', 'H. simplex', 'H. skin',\n",
       "       'H. somni', 'H. spp', 'H. squamous', 'I. molecular', 'J. cancer',\n",
       "       'J. cells', 'K. aerogenes', 'K. cryocrescens', 'K. oxytoca',\n",
       "       'K. ozaenae', 'K. pneumonia', 'K. pneumoniae', 'K. rhizophila',\n",
       "       'K. sp', 'L. acidophilus', 'L. algicola', 'L. amazonensis',\n",
       "       'L. anguillarum', 'L. bozemanii', 'L. braziliensis', 'L. casei',\n",
       "       'L. coryneformis', 'L. coryniformis', 'L. curvatus',\n",
       "       'L. denitrificans', 'L. donovani', 'L. dumofii', 'L. feeleii',\n",
       "       'L. fermenti', 'L. fermentum', 'L. fleischmannii', 'L. garviae',\n",
       "       'L. garvieae', 'L. grayi', 'L. grayi,', 'L. infantum',\n",
       "       'L. innocua', 'L. innocua,', 'L. ivanovii', 'L. ivanovii,',\n",
       "       'L. lactis', 'L. longbeachae', 'L. maculans', 'L. major',\n",
       "       'L. mesenteroides', 'L. mexicana', 'L. micdadei',\n",
       "       'L. moncyrogenes', 'L. monocytogene', 'L. monocytogenes',\n",
       "       'L. monocytogenes.gram-negative', 'L. mucor', 'L. murrayi',\n",
       "       'L. oakridgensis', 'L. paracasei', 'L. plantarum',\n",
       "       'L. pneumophila', 'L. rhamnosus', 'L. sakei', 'L. seeligeri',\n",
       "       'L. sp', 'L. tropica', 'L. viridescens', 'L. welshimeri',\n",
       "       'M. abscessus', 'M. anisopliae', 'M. arachidicola', 'M. avidus',\n",
       "       'M. avium', 'M. bovis', 'M. canis', 'M. catarrhalis', 'M. cells',\n",
       "       'M. citreus', 'M. eumusae', 'M. fortuitum', 'M. furfur',\n",
       "       'M. gallisepticum', 'M. grisea', 'M. haemolytica', 'M. hominis',\n",
       "       'M. humenis', 'M. lutes', 'M. luteus', 'M. lymphocytic',\n",
       "       'M. lysodeikticus', 'M. maritypicum', 'M. morganii', 'M. mycoides',\n",
       "       'M. nishinomiyaensis', 'M. oxydans', 'M. phlei', 'M. s',\n",
       "       'M. scarlatinae', 'M. smegmatis', 'M. spp', 'M. sympodialis',\n",
       "       'M. tuberculosis', 'M. vaccae', 'N. asteroides', 'N. brasiliensis',\n",
       "       'N. catrrhalis', 'N. cinerea', 'N. crassa', 'N. gonorrhoeae',\n",
       "       'N. gonorrhoeoe', 'N. haematococca', 'N. iactamica',\n",
       "       'N. meningitidis', 'N. spp', 'O. carcinoma', 'O. cayaporum',\n",
       "       'O. epidermoid', 'P. acidilactici', 'P. acidipropionici',\n",
       "       'P. acidolacrici', 'P. acidovorans', 'P. acnes', 'P. aeroginosa',\n",
       "       'P. aeruginosa', 'P. aeruginsa', 'P. alginovora', 'P. anaerobius',\n",
       "       'P. apacia', 'P. aphanidermatum', 'P. asaccharolyticus',\n",
       "       'P. azadirachtae', 'P. betae', 'P. carotovorum', 'P. cepacia',\n",
       "       'P. chrysogenum', 'P. cichorii', 'P. citreus', 'P. coronata',\n",
       "       'P. corrugata', 'P. crustosum', 'P. cryptogea', 'P. curious',\n",
       "       'P. dameselae', 'P. damselae', 'P. debaryanum', 'P. denitrificans',\n",
       "       'P. dextrinicus', 'P. digitatum', 'P. diospyri', 'P. etchellsii',\n",
       "       'P. exigua', 'P. expansum', 'P. faecalis', 'P. falciparum',\n",
       "       'P. fluorences', 'P. fluorescens', 'P. fluorescent',\n",
       "       'P. freudenreichii', 'P. gingivalis', 'P. glumae',\n",
       "       'P. granivorans', 'P. grisea', 'P. haemolytica', 'P. immobilis',\n",
       "       'P. immobilisc', 'P. infestans', 'P. jensenii', 'P. lachrymans',\n",
       "       'P. larvae', 'P. lilacinum', 'P. litchii', 'P. luteola',\n",
       "       'P. macerans', 'P. maculicola', 'P. maltophilia',\n",
       "       'P. melaninogenica', 'P. micros', 'P. mirabilis', 'P. multocida',\n",
       "       'P. nicotianae', 'P. nigrella', 'P. oryzae', 'P. parasitica',\n",
       "       'P. pastoris', 'P. pentosaceus', 'P. pickettii', 'P. piricola',\n",
       "       'P. pisi', 'P. polymyxa', 'P. putida', 'P. rettgeri',\n",
       "       'P. roqueforti', 'P. s', 'P. sarana', 'P. shigelloides',\n",
       "       'P. solanacearum', 'P. sorghi', 'P. sp', 'P. sp.', 'P. species',\n",
       "       'P. spiniger', 'P. ssp', 'P. stipitis', 'P. stiptis',\n",
       "       'P. stuartii', 'P. stutzeri', 'P. syringae', 'P. tannophilus',\n",
       "       'P. thoenii', 'P. trehalosi', 'P. tritici', 'P. ultimum',\n",
       "       'P. uticale', 'P. valerianella', 'P. vulgaris', 'R. cerealis',\n",
       "       'R. equi', 'R. eutropha', 'R. meliloti', 'R. oryzae',\n",
       "       'R. prolixus', 'R. radiobacter', 'R. rhodochrous', 'R. rubra',\n",
       "       'R. solanacearum', 'R. solani', 'R. sp', 'R. sphenocephala',\n",
       "       'R. stolonifer', 'S. a', 'S. agalactiae', 'S. agalactiaea',\n",
       "       'S. alactolyticus', 'S. anginosus', 'S. apis', 'S. arizonae',\n",
       "       'S. aureu', 'S. aureus', 'S. bovis', 'S. capitis', 'S. carnosus',\n",
       "       'S. cerevisiae', 'S. choleraesuis', 'S. citri', 'S. cohnii',\n",
       "       'S. dysemeriae', 'S. dysentariae', 'S. dysenteriae',\n",
       "       'S. dysentery', 'S. dysgalactiae', 'S. enterica', 'S. enteritidis',\n",
       "       'S. epidermidis', 'S. epidermis', 'S. epidermius', 'S. equi',\n",
       "       'S. equinus', 'S. equisimilis', 'S. faecalis', 'S. fecalis',\n",
       "       'S. flexneri', 'S. floricola', 'S. gallinarum',\n",
       "       'S. gallinarum-pullorum', 'S. gordonii', 'S. group',\n",
       "       'S. haemolyticus', 'S. hemolyticus', 'S. hominis', 'S. iniae',\n",
       "       'S. intermedius', 'S. lactis', 'S. lentus', 'S. lutea',\n",
       "       'S. lutetiensis', 'S. maltophilia', 'S. marcescens',\n",
       "       'S. marscencens', 'S. marsescens', 'S. meliloti', 'S. melliferum',\n",
       "       'S. minnesota', 'S. mitis', 'S. mold', 'S. mould', 'S. mouldd',\n",
       "       'S. mutans', 'S. mutants', 'S. newport', 'S. nodorum',\n",
       "       'S. oneidensis', 'S. oralis', 'S. parasanguinis', 'S. parasitica',\n",
       "       'S. paratyphi', 'S. pneumonia', 'S. pneumoniae', 'S. pnumoniae',\n",
       "       'S. pombe', 'S. pseudintermedius', 'S. pullorum',\n",
       "       'S. putrefaciens', 'S. pyogenes', 'S. rubidaea', 'S. salford',\n",
       "       'S. salivarius', 'S. sanguinis', 'S. sanguis', 'S. saprophiticus',\n",
       "       'S. saprophyticus', 'S. saprophytius', 'S. schenckii', 'S. sciuri',\n",
       "       'S. sclerotiorum', 'S. serotype', 'S. simulans', 'S. siyangense',\n",
       "       'S. smith', 'S. sobrinus', 'S. sonnei', 'S. sp', 'S. sp.',\n",
       "       'S. spp', 'S. subtilis', 'S. suis', 'S. thyphi', 'S. thyphimurium',\n",
       "       'S. thyphinurium', 'S. trifoliorum', 'S. tritici', 'S. typhi',\n",
       "       'S. typhimorium', 'S. typhimurium', 'S. typhoid', 'S. typhomurium',\n",
       "       'S. typhymurium', 'S. uberis', 'S. ureae', 'S. viridans',\n",
       "       'S. wall', 'S. warneri', 'S. xylosus', 'T. basicola',\n",
       "       'T. beigelii', 'T. brucei', 'T. cruzi', 'T. equiperdum',\n",
       "       'T. evansi', 'T. halophilus', 'T. hamatum', 'T. harzianum',\n",
       "       'T. human', 'T. mentagrophytes', 'T. rubrum', 'T. sp',\n",
       "       'T. vaginalis', 'T. viridae', 'T. viride', 'U. canigenitalium',\n",
       "       'U. urealyticum', 'V. aestuarianus', 'V. albo', 'V. alginolyticus',\n",
       "       'V. anguillarum', 'V. atypica', 'V. campbellii', 'V. cholera',\n",
       "       'V. cholerae', 'V. coralliilyticus', 'V. dahliae', 'V. damsela',\n",
       "       'V. fluvialis', 'V. harveyi', 'V. harveyis', 'V. inaequalis',\n",
       "       'V. logei', 'V. metschnikovii', 'V. metshnikovii',\n",
       "       'V. nigripulchritudo', 'V. ordalii', 'V. parahaemdyticus',\n",
       "       'V. parahaemolyticus', 'V. parahamelytics', 'V. parahemolyticus',\n",
       "       'V. penaeicida', 'V. salmonicida', 'V. shiloi', 'V. sp',\n",
       "       'V. splendidus', 'V. streptococci', 'V. tapetis', 'V. toreilis',\n",
       "       'V. vulnificus', 'X. axonopodis', 'X. campestris', 'X. japonicus',\n",
       "       'X. maltophilia', 'X. nematophilus', 'X. oryzae', 'X. vesicatoria',\n",
       "       'Y. enterocolitica', 'Y. pestis', 'Y. pseudotubercolosis',\n",
       "       'Y. pseudotuberculosis', 'Y. pseudotuhercolosis', 'Y. ruckeri',\n",
       "       'Y. ruckeric', 'Y. rukeri', 'Z. marxianus', 'Z. mobilis'],\n",
       "      dtype=object)"
      ]
     },
     "execution_count": 239,
     "metadata": {},
     "output_type": "execute_result"
    }
   ],
   "source": [
    "df.target.unique()"
   ]
  },
  {
   "cell_type": "code",
   "execution_count": 240,
   "metadata": {},
   "outputs": [
    {
     "data": {
      "text/html": [
       "<div>\n",
       "<style scoped>\n",
       "    .dataframe tbody tr th:only-of-type {\n",
       "        vertical-align: middle;\n",
       "    }\n",
       "\n",
       "    .dataframe tbody tr th {\n",
       "        vertical-align: top;\n",
       "    }\n",
       "\n",
       "    .dataframe thead th {\n",
       "        text-align: right;\n",
       "    }\n",
       "</style>\n",
       "<table border=\"1\" class=\"dataframe\">\n",
       "  <thead>\n",
       "    <tr style=\"text-align: right;\">\n",
       "      <th></th>\n",
       "      <th>target</th>\n",
       "      <th>sequence</th>\n",
       "      <th>value</th>\n",
       "      <th>is_amp</th>\n",
       "    </tr>\n",
       "  </thead>\n",
       "  <tbody>\n",
       "    <tr>\n",
       "      <th>3578</th>\n",
       "      <td>C. albican</td>\n",
       "      <td>GIFSKLAGKKIKNLLISGLKNVGKEVGMDVVRTGIDIAGCKIKGEC</td>\n",
       "      <td>-1.0</td>\n",
       "      <td>True</td>\n",
       "    </tr>\n",
       "    <tr>\n",
       "      <th>39713</th>\n",
       "      <td>C. albican</td>\n",
       "      <td>TSPSTFSSQFLKSTDRTHSFTSKLQSFNPVGTSLLASSLGTSQEDS</td>\n",
       "      <td>4.0</td>\n",
       "      <td>False</td>\n",
       "    </tr>\n",
       "    <tr>\n",
       "      <th>39714</th>\n",
       "      <td>C. albican</td>\n",
       "      <td>LDDMFEGEKVAVCPSCSLMIDVVFDKEDLAEYYEEAGIHPPEPIAA</td>\n",
       "      <td>4.0</td>\n",
       "      <td>False</td>\n",
       "    </tr>\n",
       "    <tr>\n",
       "      <th>39715</th>\n",
       "      <td>C. albican</td>\n",
       "      <td>GWEKTGSHSEPQARGDPGDQTKAEGSSTASSGSQLAEGKGSQMGTV</td>\n",
       "      <td>4.0</td>\n",
       "      <td>False</td>\n",
       "    </tr>\n",
       "  </tbody>\n",
       "</table>\n",
       "</div>"
      ],
      "text/plain": [
       "           target                                        sequence  value  \\\n",
       "3578   C. albican  GIFSKLAGKKIKNLLISGLKNVGKEVGMDVVRTGIDIAGCKIKGEC   -1.0   \n",
       "39713  C. albican  TSPSTFSSQFLKSTDRTHSFTSKLQSFNPVGTSLLASSLGTSQEDS    4.0   \n",
       "39714  C. albican  LDDMFEGEKVAVCPSCSLMIDVVFDKEDLAEYYEEAGIHPPEPIAA    4.0   \n",
       "39715  C. albican  GWEKTGSHSEPQARGDPGDQTKAEGSSTASSGSQLAEGKGSQMGTV    4.0   \n",
       "\n",
       "       is_amp  \n",
       "3578     True  \n",
       "39713   False  \n",
       "39714   False  \n",
       "39715   False  "
      ]
     },
     "execution_count": 240,
     "metadata": {},
     "output_type": "execute_result"
    }
   ],
   "source": [
    "df[df['target'] == 'C. albican']"
   ]
  },
  {
   "cell_type": "code",
   "execution_count": 241,
   "metadata": {},
   "outputs": [
    {
     "data": {
      "text/html": [
       "<div>\n",
       "<style scoped>\n",
       "    .dataframe tbody tr th:only-of-type {\n",
       "        vertical-align: middle;\n",
       "    }\n",
       "\n",
       "    .dataframe tbody tr th {\n",
       "        vertical-align: top;\n",
       "    }\n",
       "\n",
       "    .dataframe thead th {\n",
       "        text-align: right;\n",
       "    }\n",
       "</style>\n",
       "<table border=\"1\" class=\"dataframe\">\n",
       "  <thead>\n",
       "    <tr style=\"text-align: right;\">\n",
       "      <th></th>\n",
       "      <th>target</th>\n",
       "      <th>sequence</th>\n",
       "      <th>value</th>\n",
       "      <th>is_amp</th>\n",
       "    </tr>\n",
       "  </thead>\n",
       "  <tbody>\n",
       "    <tr>\n",
       "      <th>3579</th>\n",
       "      <td>C. albicans</td>\n",
       "      <td>AAGMGFFGAR</td>\n",
       "      <td>1.401387</td>\n",
       "      <td>True</td>\n",
       "    </tr>\n",
       "    <tr>\n",
       "      <th>3580</th>\n",
       "      <td>C. albicans</td>\n",
       "      <td>AALKGCWTKSIPPKPCFGF</td>\n",
       "      <td>0.365541</td>\n",
       "      <td>True</td>\n",
       "    </tr>\n",
       "    <tr>\n",
       "      <th>3581</th>\n",
       "      <td>C. albicans</td>\n",
       "      <td>AALKGCWTKSIPPKPCFGKR</td>\n",
       "      <td>0.040033</td>\n",
       "      <td>True</td>\n",
       "    </tr>\n",
       "    <tr>\n",
       "      <th>3582</th>\n",
       "      <td>C. albicans</td>\n",
       "      <td>AALKGCWTKSIPPKPCSGKR</td>\n",
       "      <td>1.366720</td>\n",
       "      <td>True</td>\n",
       "    </tr>\n",
       "    <tr>\n",
       "      <th>3583</th>\n",
       "      <td>C. albicans</td>\n",
       "      <td>AALRGCWTKSIPPKPCPGKR</td>\n",
       "      <td>1.664014</td>\n",
       "      <td>True</td>\n",
       "    </tr>\n",
       "    <tr>\n",
       "      <th>...</th>\n",
       "      <td>...</td>\n",
       "      <td>...</td>\n",
       "      <td>...</td>\n",
       "      <td>...</td>\n",
       "    </tr>\n",
       "    <tr>\n",
       "      <th>44712</th>\n",
       "      <td>C. albicans</td>\n",
       "      <td>TCPEIKIKPLGPMLLNGLTKLINEYKEDPKLLSMAYSAVGKLSS</td>\n",
       "      <td>4.000000</td>\n",
       "      <td>False</td>\n",
       "    </tr>\n",
       "    <tr>\n",
       "      <th>44713</th>\n",
       "      <td>C. albicans</td>\n",
       "      <td>SSNLEYRLCFTLSAFLSGNYKESLEQIQYLISSCNLSPLVVSRL</td>\n",
       "      <td>4.000000</td>\n",
       "      <td>False</td>\n",
       "    </tr>\n",
       "    <tr>\n",
       "      <th>44714</th>\n",
       "      <td>C. albicans</td>\n",
       "      <td>GGIESTPTDLESTTDWNIQSLFGKKILLAGIISILFQCQEEV</td>\n",
       "      <td>4.000000</td>\n",
       "      <td>False</td>\n",
       "    </tr>\n",
       "    <tr>\n",
       "      <th>44715</th>\n",
       "      <td>C. albicans</td>\n",
       "      <td>SLITANVPYQTVMRNADLDSFTTHRRHRGLIRAYEFAVDQLA</td>\n",
       "      <td>4.000000</td>\n",
       "      <td>False</td>\n",
       "    </tr>\n",
       "    <tr>\n",
       "      <th>44716</th>\n",
       "      <td>C. albicans</td>\n",
       "      <td>AGKPKEACDMYMHNQDWDAAMRIAERYDPTMVSEILVSQARV</td>\n",
       "      <td>4.000000</td>\n",
       "      <td>False</td>\n",
       "    </tr>\n",
       "  </tbody>\n",
       "</table>\n",
       "<p>6668 rows × 4 columns</p>\n",
       "</div>"
      ],
      "text/plain": [
       "            target                                      sequence     value  \\\n",
       "3579   C. albicans                                    AAGMGFFGAR  1.401387   \n",
       "3580   C. albicans                           AALKGCWTKSIPPKPCFGF  0.365541   \n",
       "3581   C. albicans                          AALKGCWTKSIPPKPCFGKR  0.040033   \n",
       "3582   C. albicans                          AALKGCWTKSIPPKPCSGKR  1.366720   \n",
       "3583   C. albicans                          AALRGCWTKSIPPKPCPGKR  1.664014   \n",
       "...            ...                                           ...       ...   \n",
       "44712  C. albicans  TCPEIKIKPLGPMLLNGLTKLINEYKEDPKLLSMAYSAVGKLSS  4.000000   \n",
       "44713  C. albicans  SSNLEYRLCFTLSAFLSGNYKESLEQIQYLISSCNLSPLVVSRL  4.000000   \n",
       "44714  C. albicans    GGIESTPTDLESTTDWNIQSLFGKKILLAGIISILFQCQEEV  4.000000   \n",
       "44715  C. albicans    SLITANVPYQTVMRNADLDSFTTHRRHRGLIRAYEFAVDQLA  4.000000   \n",
       "44716  C. albicans    AGKPKEACDMYMHNQDWDAAMRIAERYDPTMVSEILVSQARV  4.000000   \n",
       "\n",
       "       is_amp  \n",
       "3579     True  \n",
       "3580     True  \n",
       "3581     True  \n",
       "3582     True  \n",
       "3583     True  \n",
       "...       ...  \n",
       "44712   False  \n",
       "44713   False  \n",
       "44714   False  \n",
       "44715   False  \n",
       "44716   False  \n",
       "\n",
       "[6668 rows x 4 columns]"
      ]
     },
     "execution_count": 241,
     "metadata": {},
     "output_type": "execute_result"
    }
   ],
   "source": [
    "df[df['target'] == 'C. albicans']"
   ]
  },
  {
   "cell_type": "code",
   "execution_count": 242,
   "metadata": {},
   "outputs": [],
   "source": [
    "df = df[df['target'] == 'C. albicans']"
   ]
  },
  {
   "cell_type": "code",
   "execution_count": 243,
   "metadata": {},
   "outputs": [
    {
     "data": {
      "text/plain": [
       "(6668, 4)"
      ]
     },
     "execution_count": 243,
     "metadata": {},
     "output_type": "execute_result"
    }
   ],
   "source": [
    "df.shape"
   ]
  },
  {
   "cell_type": "code",
   "execution_count": 244,
   "metadata": {},
   "outputs": [
    {
     "data": {
      "text/plain": [
       "1667"
      ]
     },
     "execution_count": 244,
     "metadata": {},
     "output_type": "execute_result"
    }
   ],
   "source": [
    "df.is_amp.sum()"
   ]
  },
  {
   "cell_type": "code",
   "execution_count": 245,
   "metadata": {},
   "outputs": [
    {
     "data": {
      "text/html": [
       "<div>\n",
       "<style scoped>\n",
       "    .dataframe tbody tr th:only-of-type {\n",
       "        vertical-align: middle;\n",
       "    }\n",
       "\n",
       "    .dataframe tbody tr th {\n",
       "        vertical-align: top;\n",
       "    }\n",
       "\n",
       "    .dataframe thead th {\n",
       "        text-align: right;\n",
       "    }\n",
       "</style>\n",
       "<table border=\"1\" class=\"dataframe\">\n",
       "  <thead>\n",
       "    <tr style=\"text-align: right;\">\n",
       "      <th></th>\n",
       "      <th>target</th>\n",
       "      <th>sequence</th>\n",
       "      <th>value</th>\n",
       "      <th>is_amp</th>\n",
       "    </tr>\n",
       "  </thead>\n",
       "  <tbody>\n",
       "    <tr>\n",
       "      <th>3579</th>\n",
       "      <td>C. albicans</td>\n",
       "      <td>AAGMGFFGAR</td>\n",
       "      <td>1.401387</td>\n",
       "      <td>True</td>\n",
       "    </tr>\n",
       "    <tr>\n",
       "      <th>3580</th>\n",
       "      <td>C. albicans</td>\n",
       "      <td>AALKGCWTKSIPPKPCFGF</td>\n",
       "      <td>0.365541</td>\n",
       "      <td>True</td>\n",
       "    </tr>\n",
       "    <tr>\n",
       "      <th>3581</th>\n",
       "      <td>C. albicans</td>\n",
       "      <td>AALKGCWTKSIPPKPCFGKR</td>\n",
       "      <td>0.040033</td>\n",
       "      <td>True</td>\n",
       "    </tr>\n",
       "    <tr>\n",
       "      <th>3582</th>\n",
       "      <td>C. albicans</td>\n",
       "      <td>AALKGCWTKSIPPKPCSGKR</td>\n",
       "      <td>1.366720</td>\n",
       "      <td>True</td>\n",
       "    </tr>\n",
       "    <tr>\n",
       "      <th>3583</th>\n",
       "      <td>C. albicans</td>\n",
       "      <td>AALRGCWTKSIPPKPCPGKR</td>\n",
       "      <td>1.664014</td>\n",
       "      <td>True</td>\n",
       "    </tr>\n",
       "    <tr>\n",
       "      <th>...</th>\n",
       "      <td>...</td>\n",
       "      <td>...</td>\n",
       "      <td>...</td>\n",
       "      <td>...</td>\n",
       "    </tr>\n",
       "    <tr>\n",
       "      <th>44712</th>\n",
       "      <td>C. albicans</td>\n",
       "      <td>TCPEIKIKPLGPMLLNGLTKLINEYKEDPKLLSMAYSAVGKLSS</td>\n",
       "      <td>4.000000</td>\n",
       "      <td>False</td>\n",
       "    </tr>\n",
       "    <tr>\n",
       "      <th>44713</th>\n",
       "      <td>C. albicans</td>\n",
       "      <td>SSNLEYRLCFTLSAFLSGNYKESLEQIQYLISSCNLSPLVVSRL</td>\n",
       "      <td>4.000000</td>\n",
       "      <td>False</td>\n",
       "    </tr>\n",
       "    <tr>\n",
       "      <th>44714</th>\n",
       "      <td>C. albicans</td>\n",
       "      <td>GGIESTPTDLESTTDWNIQSLFGKKILLAGIISILFQCQEEV</td>\n",
       "      <td>4.000000</td>\n",
       "      <td>False</td>\n",
       "    </tr>\n",
       "    <tr>\n",
       "      <th>44715</th>\n",
       "      <td>C. albicans</td>\n",
       "      <td>SLITANVPYQTVMRNADLDSFTTHRRHRGLIRAYEFAVDQLA</td>\n",
       "      <td>4.000000</td>\n",
       "      <td>False</td>\n",
       "    </tr>\n",
       "    <tr>\n",
       "      <th>44716</th>\n",
       "      <td>C. albicans</td>\n",
       "      <td>AGKPKEACDMYMHNQDWDAAMRIAERYDPTMVSEILVSQARV</td>\n",
       "      <td>4.000000</td>\n",
       "      <td>False</td>\n",
       "    </tr>\n",
       "  </tbody>\n",
       "</table>\n",
       "<p>6668 rows × 4 columns</p>\n",
       "</div>"
      ],
      "text/plain": [
       "            target                                      sequence     value  \\\n",
       "3579   C. albicans                                    AAGMGFFGAR  1.401387   \n",
       "3580   C. albicans                           AALKGCWTKSIPPKPCFGF  0.365541   \n",
       "3581   C. albicans                          AALKGCWTKSIPPKPCFGKR  0.040033   \n",
       "3582   C. albicans                          AALKGCWTKSIPPKPCSGKR  1.366720   \n",
       "3583   C. albicans                          AALRGCWTKSIPPKPCPGKR  1.664014   \n",
       "...            ...                                           ...       ...   \n",
       "44712  C. albicans  TCPEIKIKPLGPMLLNGLTKLINEYKEDPKLLSMAYSAVGKLSS  4.000000   \n",
       "44713  C. albicans  SSNLEYRLCFTLSAFLSGNYKESLEQIQYLISSCNLSPLVVSRL  4.000000   \n",
       "44714  C. albicans    GGIESTPTDLESTTDWNIQSLFGKKILLAGIISILFQCQEEV  4.000000   \n",
       "44715  C. albicans    SLITANVPYQTVMRNADLDSFTTHRRHRGLIRAYEFAVDQLA  4.000000   \n",
       "44716  C. albicans    AGKPKEACDMYMHNQDWDAAMRIAERYDPTMVSEILVSQARV  4.000000   \n",
       "\n",
       "       is_amp  \n",
       "3579     True  \n",
       "3580     True  \n",
       "3581     True  \n",
       "3582     True  \n",
       "3583     True  \n",
       "...       ...  \n",
       "44712   False  \n",
       "44713   False  \n",
       "44714   False  \n",
       "44715   False  \n",
       "44716   False  \n",
       "\n",
       "[6668 rows x 4 columns]"
      ]
     },
     "execution_count": 245,
     "metadata": {},
     "output_type": "execute_result"
    }
   ],
   "source": [
    "df"
   ]
  },
  {
   "cell_type": "code",
   "execution_count": 246,
   "metadata": {},
   "outputs": [],
   "source": [
    "filtered_seq = df.sequence.map(lambda x : 'C' not in x and len(x) >= 15 and len(x) <= 50)\n",
    "\n",
    "df = df[filtered_seq]"
   ]
  },
  {
   "cell_type": "code",
   "execution_count": 247,
   "metadata": {},
   "outputs": [
    {
     "data": {
      "text/plain": [
       "682"
      ]
     },
     "execution_count": 247,
     "metadata": {},
     "output_type": "execute_result"
    }
   ],
   "source": [
    "df.is_amp.sum()"
   ]
  },
  {
   "cell_type": "code",
   "execution_count": null,
   "metadata": {},
   "outputs": [],
   "source": []
  },
  {
   "cell_type": "code",
   "execution_count": 248,
   "metadata": {
    "scrolled": true
   },
   "outputs": [],
   "source": [
    "df = df.reset_index()"
   ]
  },
  {
   "cell_type": "code",
   "execution_count": 249,
   "metadata": {},
   "outputs": [],
   "source": [
    "df.sequence = df.sequence.map(seq_to_enc)\n",
    "\n",
    "storage = QueryStorage(df.sequence.shape[0], df.sequence.shape[1:])\n",
    "\n",
    "storage.mols = torch.tensor(df.sequence.to_list())\n",
    "\n",
    "storage.scores = torch.tensor(df.is_amp.to_list()).long()"
   ]
  },
  {
   "cell_type": "code",
   "execution_count": 250,
   "metadata": {},
   "outputs": [],
   "source": [
    "data=storage"
   ]
  },
  {
   "cell_type": "code",
   "execution_count": 251,
   "metadata": {},
   "outputs": [
    {
     "data": {
      "text/plain": [
       "torch.Size([3184, 50, 21])"
      ]
     },
     "execution_count": 251,
     "metadata": {},
     "output_type": "execute_result"
    }
   ],
   "source": [
    "storage.mols.shape"
   ]
  },
  {
   "cell_type": "markdown",
   "metadata": {},
   "source": [
    "## Check the model performance"
   ]
  },
  {
   "cell_type": "code",
   "execution_count": 254,
   "metadata": {},
   "outputs": [
    {
     "data": {
      "text/plain": [
       "0       [[1, 0, 0, 0, 0, 0, 0, 0, 0, 0, 0, 0, 0, 0, 0,...\n",
       "1       [[1, 0, 0, 0, 0, 0, 0, 0, 0, 0, 0, 0, 0, 0, 0,...\n",
       "2       [[1, 0, 0, 0, 0, 0, 0, 0, 0, 0, 0, 0, 0, 0, 0,...\n",
       "3       [[1, 0, 0, 0, 0, 0, 0, 0, 0, 0, 0, 0, 0, 0, 0,...\n",
       "4       [[1, 0, 0, 0, 0, 0, 0, 0, 0, 0, 0, 0, 0, 0, 0,...\n",
       "                              ...                        \n",
       "3179    [[0, 0, 0, 0, 0, 0, 0, 0, 0, 0, 0, 0, 0, 1, 0,...\n",
       "3180    [[0, 0, 0, 0, 0, 0, 0, 0, 0, 0, 0, 0, 0, 0, 0,...\n",
       "3181    [[0, 0, 0, 0, 0, 0, 0, 0, 0, 0, 0, 0, 0, 0, 0,...\n",
       "3182    [[0, 0, 0, 0, 0, 0, 0, 0, 0, 0, 0, 0, 0, 0, 0,...\n",
       "3183    [[0, 0, 0, 0, 0, 0, 0, 0, 0, 0, 0, 0, 0, 0, 0,...\n",
       "Name: sequence, Length: 3184, dtype: object"
      ]
     },
     "execution_count": 254,
     "metadata": {},
     "output_type": "execute_result"
    }
   ],
   "source": [
    "df.sequence\n"
   ]
  },
  {
   "cell_type": "code",
   "execution_count": null,
   "metadata": {},
   "outputs": [],
   "source": []
  },
  {
   "cell_type": "code",
   "execution_count": 255,
   "metadata": {},
   "outputs": [],
   "source": [
    "from sklearn.ensemble import RandomForestClassifier\n",
    "model = RandomForestClassifier(n_estimators=128)\n",
    "\n"
   ]
  },
  {
   "cell_type": "code",
   "execution_count": 256,
   "metadata": {},
   "outputs": [
    {
     "data": {
      "text/plain": [
       "RandomForestClassifier(bootstrap=True, class_weight=None, criterion='gini',\n",
       "                       max_depth=None, max_features='auto', max_leaf_nodes=None,\n",
       "                       min_impurity_decrease=0.0, min_impurity_split=None,\n",
       "                       min_samples_leaf=1, min_samples_split=2,\n",
       "                       min_weight_fraction_leaf=0.0, n_estimators=128,\n",
       "                       n_jobs=None, oob_score=False, random_state=None,\n",
       "                       verbose=0, warm_start=False)"
      ]
     },
     "execution_count": 256,
     "metadata": {},
     "output_type": "execute_result"
    }
   ],
   "source": [
    "\n",
    "seq = data.mols.flatten(start_dim=-2, end_dim=-1)\n",
    "value = data.scores\n",
    "model.fit(seq, value)"
   ]
  },
  {
   "cell_type": "code",
   "execution_count": 269,
   "metadata": {
    "scrolled": true
   },
   "outputs": [
    {
     "name": "stdout",
     "output_type": "stream",
     "text": [
      "Average score: 0.13265625\n",
      "Cumulative Max Score: 0.3984375\n",
      "Average score: 0.12134375\n",
      "Cumulative Max Score: 0.421875\n",
      "Average score: 0.12\n",
      "Cumulative Max Score: 0.296875\n",
      "Average score: 0.12128125\n",
      "Cumulative Max Score: 0.4296875\n",
      "Average score: 0.12575\n",
      "Cumulative Max Score: 0.34375\n",
      "Average score: 0.1164375\n",
      "Cumulative Max Score: 0.359375\n",
      "Average score: 0.1265\n",
      "Cumulative Max Score: 0.3984375\n",
      "Average score: 0.11965625\n",
      "Cumulative Max Score: 0.375\n",
      "Average score: 0.12275\n",
      "Cumulative Max Score: 0.375\n",
      "Average score: 0.12215625\n",
      "Cumulative Max Score: 0.34375\n"
     ]
    }
   ],
   "source": [
    "max_scores = []\n",
    "\n",
    "for qq in range(8):\n",
    "    mol_probs = []\n",
    "    mols = []\n",
    "    for i in range(250):\n",
    "        rand_len = random.randint(15, 49)\n",
    "\n",
    "        rand_mol = [random.randint(0, 19) for i in range(rand_len)]\n",
    "        rand_mol += (50 - len(rand_mol))*[20]\n",
    "        rand_mol = torch.tensor(rand_mol)\n",
    "        rand_mol = torch.nn.functional.one_hot(rand_mol, num_classes=21).flatten(-2, -1)\n",
    "        mols.append(rand_mol)\n",
    "        \n",
    "    \n",
    "    mol_probs = model.predict_proba(torch.stack(mols, 0).numpy())\n",
    "\n",
    "    print(\"Average score:\", mol_probs[:, 1].mean())\n",
    "\n",
    "    print(\"Cumulative Max Score:\", mol_probs[:, 1].max())\n",
    "\n",
    "\n",
    "    max_scores.append(mol_probs[:, 1].max())\n",
    "\n"
   ]
  },
  {
   "cell_type": "code",
   "execution_count": null,
   "metadata": {},
   "outputs": [],
   "source": []
  },
  {
   "cell_type": "code",
   "execution_count": null,
   "metadata": {},
   "outputs": [],
   "source": []
  },
  {
   "cell_type": "markdown",
   "metadata": {},
   "source": [
    "## Checking performance of classifier"
   ]
  },
  {
   "cell_type": "code",
   "execution_count": 57,
   "metadata": {},
   "outputs": [],
   "source": [
    "data = get_AMP_data(\"val\")"
   ]
  },
  {
   "cell_type": "code",
   "execution_count": 58,
   "metadata": {},
   "outputs": [
    {
     "data": {
      "text/plain": [
       "<storage.query_storage.QueryStorage at 0x13ead4630>"
      ]
     },
     "execution_count": 58,
     "metadata": {},
     "output_type": "execute_result"
    }
   ],
   "source": [
    "data"
   ]
  },
  {
   "cell_type": "code",
   "execution_count": 60,
   "metadata": {
    "scrolled": true
   },
   "outputs": [],
   "source": [
    "nCount = data.mols.shape[0]"
   ]
  },
  {
   "cell_type": "code",
   "execution_count": 61,
   "metadata": {},
   "outputs": [
    {
     "data": {
      "text/plain": [
       "22060"
      ]
     },
     "execution_count": 61,
     "metadata": {},
     "output_type": "execute_result"
    }
   ],
   "source": [
    "nCount"
   ]
  },
  {
   "cell_type": "code",
   "execution_count": 62,
   "metadata": {},
   "outputs": [],
   "source": [
    "idxes = np.array([i for i in range(nCount)])\n",
    "\n",
    "idxes = np.random.permutation(idxes)"
   ]
  },
  {
   "cell_type": "code",
   "execution_count": 63,
   "metadata": {},
   "outputs": [
    {
     "data": {
      "text/plain": [
       "array([ 8521,  2876, 19349, ..., 20282,  9832,  4707])"
      ]
     },
     "execution_count": 63,
     "metadata": {},
     "output_type": "execute_result"
    }
   ],
   "source": [
    "max_index = int(0.8 * nCount)\n",
    "\n"
   ]
  },
  {
   "cell_type": "code",
   "execution_count": 67,
   "metadata": {},
   "outputs": [],
   "source": [
    "max_index = int(0.8 * nCount)\n",
    "\n",
    "train_index = idxes[:max_index]\n",
    "val_index = idxes[max_index:]"
   ]
  },
  {
   "cell_type": "code",
   "execution_count": 69,
   "metadata": {},
   "outputs": [],
   "source": [
    "train_mols = data.mols[train_index]\n",
    "train_scores = data.scores[train_index]\n",
    "\n",
    "val_mols = data.mols[val_index]\n",
    "val_scores = data.scores[val_index]"
   ]
  },
  {
   "cell_type": "code",
   "execution_count": 70,
   "metadata": {},
   "outputs": [
    {
     "data": {
      "text/plain": [
       "RandomForestClassifier(n_estimators=128)"
      ]
     },
     "execution_count": 70,
     "metadata": {},
     "output_type": "execute_result"
    }
   ],
   "source": [
    "from sklearn.ensemble import RandomForestClassifier\n",
    "model = RandomForestClassifier(n_estimators=128)\n",
    "\n",
    "\n",
    "seq = train_mols.flatten(start_dim=-2, end_dim=-1)\n",
    "value = train_scores\n",
    "model.fit(seq, value)"
   ]
  },
  {
   "cell_type": "code",
   "execution_count": 72,
   "metadata": {},
   "outputs": [
    {
     "data": {
      "text/plain": [
       "array([[0.015625 , 0.984375 ],\n",
       "       [0.9453125, 0.0546875],\n",
       "       [0.9296875, 0.0703125],\n",
       "       ...,\n",
       "       [0.9765625, 0.0234375],\n",
       "       [0.9296875, 0.0703125],\n",
       "       [0.0078125, 0.9921875]])"
      ]
     },
     "execution_count": 72,
     "metadata": {},
     "output_type": "execute_result"
    }
   ],
   "source": [
    "val_seq = val_mols.flatten(start_dim=-2, end_dim=-1)\n",
    "\n",
    "val_pred = model.predict_proba(val_seq)\n",
    "val_pred"
   ]
  },
  {
   "cell_type": "code",
   "execution_count": 75,
   "metadata": {},
   "outputs": [
    {
     "data": {
      "text/plain": [
       "tensor([[0, 0, 0,  ..., 0, 0, 1],\n",
       "        [0, 0, 0,  ..., 0, 0, 1],\n",
       "        [1, 0, 0,  ..., 0, 0, 1],\n",
       "        ...,\n",
       "        [0, 0, 0,  ..., 0, 0, 1],\n",
       "        [0, 0, 0,  ..., 0, 0, 1],\n",
       "        [0, 0, 0,  ..., 0, 0, 1]])"
      ]
     },
     "execution_count": 75,
     "metadata": {},
     "output_type": "execute_result"
    }
   ],
   "source": [
    "val_seq"
   ]
  },
  {
   "cell_type": "code",
   "execution_count": 86,
   "metadata": {},
   "outputs": [
    {
     "data": {
      "text/plain": [
       "tensor([1, 0, 0,  ..., 0, 0, 1])"
      ]
     },
     "execution_count": 86,
     "metadata": {},
     "output_type": "execute_result"
    }
   ],
   "source": [
    "torch.tensor(val_pred.argmax(1))"
   ]
  },
  {
   "cell_type": "code",
   "execution_count": 84,
   "metadata": {},
   "outputs": [
    {
     "data": {
      "text/plain": [
       "torch.Size([4412])"
      ]
     },
     "execution_count": 84,
     "metadata": {},
     "output_type": "execute_result"
    }
   ],
   "source": [
    "val_scores.shape"
   ]
  },
  {
   "cell_type": "code",
   "execution_count": 89,
   "metadata": {},
   "outputs": [
    {
     "data": {
      "text/plain": [
       "tensor(4364)"
      ]
     },
     "execution_count": 89,
     "metadata": {},
     "output_type": "execute_result"
    }
   ],
   "source": [
    "(torch.tensor(val_pred.argmax(1)) == val_scores).sum()"
   ]
  },
  {
   "cell_type": "code",
   "execution_count": null,
   "metadata": {},
   "outputs": [],
   "source": []
  },
  {
   "cell_type": "code",
   "execution_count": null,
   "metadata": {},
   "outputs": [],
   "source": []
  },
  {
   "cell_type": "markdown",
   "metadata": {},
   "source": [
    "## Testing speed of queries of Proxy Oracles"
   ]
  },
  {
   "cell_type": "code",
   "execution_count": 6,
   "metadata": {},
   "outputs": [],
   "source": [
    "nSamples = 2000"
   ]
  },
  {
   "cell_type": "code",
   "execution_count": 9,
   "metadata": {},
   "outputs": [
    {
     "data": {
      "text/plain": [
       "RandomForestClassifier(n_estimators=128, random_state=1)"
      ]
     },
     "execution_count": 9,
     "metadata": {},
     "output_type": "execute_result"
    }
   ],
   "source": [
    "from sklearn.ensemble import RandomForestClassifier\n",
    "model = RandomForestClassifier(random_state=1, n_estimators=128)\n",
    "model.fit(seq, value)"
   ]
  },
  {
   "cell_type": "code",
   "execution_count": 11,
   "metadata": {},
   "outputs": [],
   "source": [
    "# Generate Molecules for training\n",
    "import random\n",
    "\n",
    "mol_probs = []\n",
    "mols = []\n",
    "for i in range(nSamples):\n",
    "    rand_len = random.randint(1, 50)\n",
    "\n",
    "    rand_mol = [random.randint(0, 19) for i in range(rand_len)]\n",
    "    rand_mol += (50 - len(rand_mol))*[20]\n",
    "    rand_mol = torch.tensor(rand_mol)\n",
    "    rand_mol = torch.nn.functional.one_hot(rand_mol, num_classes=21).flatten(-2, -1)\n",
    "    mols.append(rand_mol)\n",
    "\n",
    "mols = torch.stack(mols, 0)\n",
    "\n",
    "mol_probs = model.predict_proba(torch.stack(mols, 0).numpy())\n",
    "mol_probs = mol_probs[:, 1]\n"
   ]
  },
  {
   "cell_type": "code",
   "execution_count": 16,
   "metadata": {},
   "outputs": [
    {
     "data": {
      "text/plain": [
       "KNeighborsRegressor()"
      ]
     },
     "execution_count": 16,
     "metadata": {},
     "output_type": "execute_result"
    }
   ],
   "source": [
    "# Fit proxy model\n",
    "\n",
    "from oracles.models import *\n",
    "\n",
    "proxy_model = KNR()\n",
    "\n",
    "proxy_model.fit(mols, mol_probs)"
   ]
  },
  {
   "cell_type": "code",
   "execution_count": 32,
   "metadata": {},
   "outputs": [],
   "source": [
    "nQuery = 16\n",
    "\n",
    "query_mols = []\n",
    "\n",
    "for _ in range(nQuery):\n",
    "    rand_mol = [random.randint(0, 19) for i in range(rand_len)]\n",
    "    rand_mol += (50 - len(rand_mol))*[20]\n",
    "    rand_mol = torch.tensor(rand_mol)\n",
    "    rand_mol = torch.nn.functional.one_hot(rand_mol, num_classes=21).flatten(-2, -1)\n",
    "    query_mols.append(rand_mol)\n",
    "    \n",
    "query_mols = torch.stack(query_mols, 0)"
   ]
  },
  {
   "cell_type": "code",
   "execution_count": 36,
   "metadata": {},
   "outputs": [],
   "source": [
    "import time\n",
    "nIterations = 100"
   ]
  },
  {
   "cell_type": "code",
   "execution_count": 42,
   "metadata": {},
   "outputs": [],
   "source": [
    "# Timing\n",
    "\n",
    "t1 = time.time()\n",
    "for _ in range(nIterations):\n",
    "    for i in range(nQuery):\n",
    "        proxy_model.predict(query_mols[i:i+1])\n",
    "    \n",
    "time_spent = time.time() - t1"
   ]
  },
  {
   "cell_type": "code",
   "execution_count": 43,
   "metadata": {},
   "outputs": [
    {
     "name": "stdout",
     "output_type": "stream",
     "text": [
      "10.428635835647583\n"
     ]
    }
   ],
   "source": [
    "print(time_spent)"
   ]
  },
  {
   "cell_type": "code",
   "execution_count": 44,
   "metadata": {},
   "outputs": [],
   "source": [
    "# Timing\n",
    "\n",
    "t1 = time.time()\n",
    "for _ in range(nIterations):\n",
    "    proxy_model.predict(query_mols)\n",
    "    \n",
    "time_spent = time.time() - t1"
   ]
  },
  {
   "cell_type": "code",
   "execution_count": 45,
   "metadata": {},
   "outputs": [
    {
     "name": "stdout",
     "output_type": "stream",
     "text": [
      "1.1583681106567383\n"
     ]
    }
   ],
   "source": [
    "print(time_spent)"
   ]
  },
  {
   "cell_type": "code",
   "execution_count": null,
   "metadata": {},
   "outputs": [],
   "source": []
  },
  {
   "cell_type": "code",
   "execution_count": null,
   "metadata": {},
   "outputs": [],
   "source": [
    "proxy_model.fit(rand)"
   ]
  },
  {
   "cell_type": "code",
   "execution_count": 46,
   "metadata": {},
   "outputs": [],
   "source": [
    "empty_mol = torch.nn.functional.one_hot(torch.tensor([20] * 50), 21).numpy()"
   ]
  },
  {
   "cell_type": "code",
   "execution_count": 47,
   "metadata": {},
   "outputs": [],
   "source": [
    "x = torch.ones((50, 50, 21))"
   ]
  },
  {
   "cell_type": "code",
   "execution_count": null,
   "metadata": {},
   "outputs": [],
   "source": []
  }
 ],
 "metadata": {
  "kernelspec": {
   "display_name": "Python 3",
   "language": "python",
   "name": "python3"
  },
  "language_info": {
   "codemirror_mode": {
    "name": "ipython",
    "version": 3
   },
   "file_extension": ".py",
   "mimetype": "text/x-python",
   "name": "python",
   "nbconvert_exporter": "python",
   "pygments_lexer": "ipython3",
   "version": "3.6.7"
  }
 },
 "nbformat": 4,
 "nbformat_minor": 2
}
