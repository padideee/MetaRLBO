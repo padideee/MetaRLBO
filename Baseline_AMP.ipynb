{
 "cells": [
  {
   "cell_type": "code",
   "execution_count": 1,
   "id": "01d38e0c",
   "metadata": {},
   "outputs": [],
   "source": [
    "import flexs"
   ]
  },
  {
   "cell_type": "code",
   "execution_count": 1,
   "id": "ab3bd190",
   "metadata": {},
   "outputs": [],
   "source": [
    "import editdistance\n",
    "import matplotlib.pyplot as plt\n",
    "import seaborn as sns\n",
    "import pandas as pd\n",
    "import pprint\n",
    "import numpy as np\n",
    "import json\n",
    "\n",
    "import flexs\n",
    "from flexs import baselines\n",
    "import flexs.utils.sequence_utils as s_utils\n",
    "import torch.nn.functional as F\n",
    "import torch"
   ]
  },
  {
   "cell_type": "code",
   "execution_count": 2,
   "id": "22b6a7f5",
   "metadata": {},
   "outputs": [],
   "source": [
    "exp_name = 'AMP'\n",
    "\n",
    "# Extend the number of characters by one to include the \"Space character\" so that we can have a fixed number of sequences..."
   ]
  },
  {
   "cell_type": "code",
   "execution_count": 3,
   "id": "9a093800",
   "metadata": {},
   "outputs": [],
   "source": [
    "from collections import OrderedDict\n",
    "\n",
    "enc_len = 50\n",
    "num_actions = 21\n",
    "\n",
    "char_pairs = [('A', 0), ('R', 1), ('N', 2), ('D', 3), ('C', 4), ('E', 5), ('Q', 6), ('G', 7), ('H', 8), ('I', 9), ('L', 10), ('K', 11), ('M', 12), ('F', 13), ('P', 14), ('S', 15), ('T', 16), ('W', 17), ('Y', 18), ('V', 19), ('>', 20)]\n",
    "mol_enc = OrderedDict(char_pairs)\n",
    "enc_mol = OrderedDict(list(map(lambda x : (x[1], x[0]), char_pairs)))"
   ]
  },
  {
   "cell_type": "code",
   "execution_count": 4,
   "id": "744cf6a3",
   "metadata": {},
   "outputs": [],
   "source": [
    "def seq_to_enc(seq):\n",
    "    enc = []\n",
    "    for i in range(enc_len):\n",
    "        if i < len(seq):\n",
    "            enc.append(mol_enc[seq[i]])\n",
    "            if seq[i] == '>':\n",
    "                break\n",
    "        else:\n",
    "            enc[i].append(20)\n",
    "    while len(enc) < enc_len:\n",
    "        enc.append(20)\n",
    "    \n",
    "    return F.one_hot(torch.tensor(enc), num_classes=num_actions).numpy()"
   ]
  },
  {
   "cell_type": "code",
   "execution_count": 5,
   "id": "396a5471",
   "metadata": {},
   "outputs": [],
   "source": [
    "def convertor(sequences):\n",
    "    \"\"\"\n",
    "        Does the padding of the sequences to the correct length... w/ the extra chars...\n",
    "        \n",
    "        Input: sequences List[str]\n",
    "        \n",
    "        Return: list[ndarray]\n",
    "    \"\"\"\n",
    "    \n",
    "    all_seqs = []\n",
    "    for seq in sequences:\n",
    "        all_seqs.append(seq_to_enc(seq).flatten())\n",
    "        \n",
    "    return np.stack(all_seqs)\n",
    "    \n",
    "    \n",
    "    "
   ]
  },
  {
   "cell_type": "code",
   "execution_count": 6,
   "id": "091dec46",
   "metadata": {},
   "outputs": [],
   "source": [
    "import pickle\n",
    "\n",
    "class AMPLandscape(flexs.Landscape):\n",
    "    \"\"\"AMP landscape.\"\"\"\n",
    "\n",
    "    def __init__(self, mode):\n",
    "        \"\"\"Create a AMP landscape.\"\"\"\n",
    "        super().__init__(name=\"AMP\")\n",
    "        assert mode == 'val' or mode == 'test'\n",
    "        self.alphabet = flexs\n",
    "        \n",
    "        if mode == 'val':\n",
    "            fname = \"data/metarlbo_rfc_not-alibicani.pkl\"\n",
    "        elif mode == 'test':\n",
    "            fname = \"data/metarlbo_rfc_alibicani.pkl\"\n",
    "                \n",
    "        with open(fname, \"rb\") as f:\n",
    "            self.model = pickle.load(f)\n",
    "\n",
    "\n",
    "    def _fitness_function(self, sequences):\n",
    "        \"\"\"\n",
    "            Takes as input a list of strings (w/ alphabet of 20)\n",
    "            \n",
    "            \n",
    "            Returns numpy array of scores\n",
    "        \"\"\"\n",
    "        \n",
    "        np_seqs = convertor(sequences)\n",
    "        \n",
    "        scores = self.model.predict_proba(np_seqs)[:, 1]\n",
    "        \n",
    "        return scores\n",
    "        \n",
    "        \n",
    "        \n",
    "    "
   ]
  },
  {
   "cell_type": "code",
   "execution_count": 7,
   "id": "a6fd21c2",
   "metadata": {},
   "outputs": [],
   "source": [
    "landscape = AMPLandscape(\"test\")\n",
    "alph_chars = list(mol_enc.keys())[:-1]\n",
    "alphabet=''.join(alph_chars)"
   ]
  },
  {
   "cell_type": "code",
   "execution_count": 8,
   "id": "2bc1ab82",
   "metadata": {},
   "outputs": [],
   "source": [
    "bsize = 250\n",
    "nRounds = 12\n",
    "\n",
    "nRuns = 3"
   ]
  },
  {
   "cell_type": "code",
   "execution_count": 9,
   "id": "d578f1c8",
   "metadata": {},
   "outputs": [],
   "source": [
    "explorer_scores = {}"
   ]
  },
  {
   "cell_type": "code",
   "execution_count": 10,
   "id": "ca100399",
   "metadata": {},
   "outputs": [],
   "source": [
    "import os\n",
    "\n",
    "logs_dir = f'./analysis/{exp_name}'\n",
    "\n",
    "os.listdir(logs_dir)\n",
    "\n",
    "from datetime import datetime\n",
    "def get_time():\n",
    "    return datetime.now().isoformat()"
   ]
  },
  {
   "cell_type": "code",
   "execution_count": 11,
   "id": "2f3b74f7",
   "metadata": {},
   "outputs": [],
   "source": [
    "nModelQueries = 4000"
   ]
  },
  {
   "cell_type": "markdown",
   "id": "6b056921",
   "metadata": {},
   "source": [
    "# Random Explorer"
   ]
  },
  {
   "cell_type": "code",
   "execution_count": 12,
   "id": "eb84acc5",
   "metadata": {},
   "outputs": [],
   "source": [
    "rand_seq_len = 50\n",
    "\n",
    "\n",
    "def random_start():\n",
    "    starting_sequence = \"\".join([np.random.choice(list(alph_chars)) for _ in range(rand_seq_len)])\n",
    "    return starting_sequence\n",
    "\n",
    "\n",
    "starting_sequence = random_start()"
   ]
  },
  {
   "cell_type": "code",
   "execution_count": 13,
   "id": "d3968780",
   "metadata": {},
   "outputs": [
    {
     "name": "stderr",
     "output_type": "stream",
     "text": [
      "2022-01-25 21:50:37.423134: I tensorflow/core/platform/cpu_feature_guard.cc:151] This TensorFlow binary is optimized with oneAPI Deep Neural Network Library (oneDNN) to use the following CPU instructions in performance-critical operations:  AVX2 FMA\n",
      "To enable them in other operations, rebuild TensorFlow with the appropriate compiler flags.\n"
     ]
    },
    {
     "name": "stdout",
     "output_type": "stream",
     "text": [
      "round: 0, top: 0.09, time: 0.000954s\n",
      "round: 1, top: 0.15, time: 1.302323s\n",
      "round: 2, top: 0.155, time: 1.278300s\n",
      "round: 3, top: 0.255, time: 2.626645s\n",
      "round: 4, top: 0.255, time: 3.854781s\n",
      "round: 5, top: 0.255, time: 5.205343s\n",
      "round: 6, top: 0.275, time: 8.741921s\n",
      "round: 7, top: 0.275, time: 9.588659s\n",
      "round: 8, top: 0.275, time: 8.421843s\n",
      "round: 9, top: 0.275, time: 10.686332s\n",
      "round: 10, top: 0.275, time: 12.122928s\n",
      "round: 11, top: 0.275, time: 11.537391s\n",
      "round: 12, top: 0.275, time: 16.070231s\n",
      "round: 0, top: 0.07, time: 0.000261s\n",
      "round: 1, top: 0.175, time: 1.305523s\n",
      "round: 2, top: 0.185, time: 1.908162s\n",
      "round: 3, top: 0.185, time: 3.105039s\n",
      "round: 4, top: 0.195, time: 3.496087s\n",
      "round: 5, top: 0.21, time: 5.812083s\n",
      "round: 6, top: 0.21, time: 6.229323s\n",
      "round: 7, top: 0.21, time: 8.026355s\n",
      "round: 8, top: 0.21, time: 8.355092s\n",
      "round: 9, top: 0.21, time: 12.991206s\n",
      "round: 10, top: 0.21, time: 10.910213s\n",
      "round: 11, top: 0.21, time: 11.787356s\n",
      "round: 12, top: 0.21, time: 13.006339s\n",
      "round: 0, top: 0.235, time: 0.000337s\n",
      "round: 1, top: 0.35, time: 1.285555s\n",
      "round: 2, top: 0.35, time: 1.421230s\n",
      "round: 3, top: 0.35, time: 2.476099s\n",
      "round: 4, top: 0.36, time: 3.612269s\n",
      "round: 5, top: 0.36, time: 4.983777s\n",
      "round: 6, top: 0.365, time: 5.934458s\n",
      "round: 7, top: 0.365, time: 6.546341s\n",
      "round: 8, top: 0.365, time: 7.332560s\n",
      "round: 9, top: 0.365, time: 8.938617s\n",
      "round: 10, top: 0.365, time: 9.090249s\n",
      "round: 11, top: 0.365, time: 9.951734s\n",
      "round: 12, top: 0.365, time: 10.825430s\n"
     ]
    }
   ],
   "source": [
    "\n",
    "scores = []\n",
    "\n",
    "for _ in range(nRuns):\n",
    "    starting_sequence = random_start()\n",
    "    cnn = baselines.models.CNN(len(starting_sequence), alphabet=alphabet,\n",
    "                             num_filters=32, hidden_size=100, loss='MSE')\n",
    "\n",
    "    random_explorer = baselines.explorers.Random(\n",
    "        cnn,\n",
    "        rounds=nRounds,\n",
    "        mu=1,\n",
    "        starting_sequence=starting_sequence,\n",
    "        sequences_batch_size=bsize,\n",
    "        model_queries_per_batch=bsize,\n",
    "        alphabet=alphabet\n",
    "    )\n",
    "\n",
    "    random_sequences, metadata = random_explorer.run(landscape)\n",
    "    fname = \"Random_Explorer_\" + get_time() + \".csv\"\n",
    "    random_sequences.to_csv(os.path.join(logs_dir, fname))\n",
    "    random_sequences"
   ]
  },
  {
   "cell_type": "code",
   "execution_count": 56,
   "id": "3a9366fb",
   "metadata": {},
   "outputs": [
    {
     "name": "stdout",
     "output_type": "stream",
     "text": [
      "{'random': [[0.29, 0.29, 0.29, 0.29, 0.29, 0.29, 0.29, 0.29, 0.29, 0.29, 0.29, 0.29], [0.195, 0.22, 0.22, 0.23, 0.23, 0.23, 0.23, 0.23, 0.23, 0.26, 0.26, 0.26], [0.24, 0.275, 0.275, 0.275, 0.275, 0.275, 0.275, 0.275, 0.275, 0.275, 0.275, 0.275]]}\n"
     ]
    }
   ],
   "source": [
    "# import json\n",
    "\n",
    "# with open(os.path.join(logs_dir, \"random_baseline_results.json\"), \"w\") as f:\n",
    "#     json.dump(explorer_scores, f)\n",
    "\n",
    "# with open(os.path.join(logs_dir, \"random_baseline_results.json\"), \"r\") as f:\n",
    "#     print(json.load(f))"
   ]
  },
  {
   "cell_type": "markdown",
   "id": "026081d5",
   "metadata": {},
   "source": [
    "## Adalead Explorer"
   ]
  },
  {
   "cell_type": "code",
   "execution_count": 14,
   "id": "5d6ab7bb",
   "metadata": {},
   "outputs": [
    {
     "name": "stdout",
     "output_type": "stream",
     "text": [
      "round: 0, top: 0.12, time: 0.000366s\n",
      "round: 1, top: 0.29, time: 30.772849s\n",
      "round: 2, top: 0.335, time: 20.630404s\n",
      "round: 3, top: 0.38, time: 17.457087s\n",
      "round: 4, top: 0.415, time: 20.114118s\n",
      "round: 5, top: 0.415, time: 21.160380s\n",
      "round: 6, top: 0.445, time: 22.111371s\n",
      "round: 7, top: 0.475, time: 28.329053s\n",
      "round: 8, top: 0.525, time: 23.123876s\n",
      "round: 9, top: 0.55, time: 22.367420s\n",
      "round: 10, top: 0.56, time: 25.857623s\n",
      "round: 11, top: 0.57, time: 26.235091s\n",
      "round: 12, top: 0.595, time: 27.901884s\n",
      "round: 0, top: 0.12, time: 0.001770s\n",
      "round: 1, top: 0.3, time: 43.705676s\n",
      "round: 2, top: 0.435, time: 21.779532s\n",
      "round: 3, top: 0.515, time: 15.717407s\n",
      "round: 4, top: 0.555, time: 18.693542s\n",
      "round: 5, top: 0.58, time: 20.157077s\n",
      "round: 6, top: 0.6, time: 19.794545s\n",
      "round: 7, top: 0.64, time: 21.196096s\n",
      "round: 8, top: 0.655, time: 25.210932s\n",
      "round: 9, top: 0.66, time: 24.349577s\n",
      "round: 10, top: 0.675, time: 26.081559s\n",
      "round: 11, top: 0.68, time: 28.519878s\n",
      "round: 12, top: 0.695, time: 30.104458s\n",
      "round: 0, top: 0.235, time: 0.000365s\n",
      "round: 1, top: 0.38, time: 22.091812s\n",
      "round: 2, top: 0.425, time: 22.137491s\n",
      "round: 3, top: 0.445, time: 24.396726s\n",
      "round: 4, top: 0.45, time: 21.211556s\n",
      "round: 5, top: 0.45, time: 22.512906s\n",
      "round: 6, top: 0.47, time: 21.518768s\n",
      "round: 7, top: 0.485, time: 22.277886s\n",
      "round: 8, top: 0.495, time: 22.467913s\n",
      "round: 9, top: 0.5, time: 23.609936s\n",
      "round: 10, top: 0.51, time: 24.143298s\n",
      "round: 11, top: 0.525, time: 27.369266s\n",
      "round: 12, top: 0.545, time: 26.968729s\n"
     ]
    }
   ],
   "source": [
    "\n",
    "scores = []\n",
    "\n",
    "for _ in range(nRuns):\n",
    "    starting_sequence = random_start()\n",
    "    \n",
    "    cnn = baselines.models.CNN(len(starting_sequence), alphabet=alphabet,\n",
    "                             num_filters=32, hidden_size=100, loss='MSE')\n",
    "\n",
    "    adalead_explorer = baselines.explorers.Adalead(\n",
    "        cnn,\n",
    "        rounds=nRounds,\n",
    "        starting_sequence=starting_sequence,\n",
    "        sequences_batch_size=bsize,\n",
    "        model_queries_per_batch=nModelQueries,\n",
    "        alphabet=alphabet\n",
    "    )\n",
    "\n",
    "    adalead_sequences, metadata = adalead_explorer.run(landscape)\n",
    "    fname = \"Adalead_Explorer_\" + get_time() + \".csv\"\n",
    "    adalead_sequences.to_csv(os.path.join(logs_dir, fname))\n",
    "    adalead_sequences\n"
   ]
  },
  {
   "cell_type": "code",
   "execution_count": 15,
   "id": "9bc5531c",
   "metadata": {},
   "outputs": [],
   "source": [
    "# import json\n",
    "\n",
    "# with open(os.path.join(logs_dir, \"adalead_baseline_results.json\"), \"w\") as f:\n",
    "#     json.dump(explorer_scores, f)"
   ]
  },
  {
   "cell_type": "markdown",
   "id": "9bced2e4",
   "metadata": {},
   "source": [
    "## Genetic Explorer"
   ]
  },
  {
   "cell_type": "code",
   "execution_count": 16,
   "id": "f3e4aa26",
   "metadata": {},
   "outputs": [
    {
     "name": "stdout",
     "output_type": "stream",
     "text": [
      "round: 0, top: 0.235, time: 0.000333s\n",
      "round: 1, top: 0.285, time: 219.736943s\n",
      "round: 2, top: 0.405, time: 213.976650s\n",
      "round: 3, top: 0.435, time: 216.498816s\n",
      "round: 4, top: 0.475, time: 219.624427s\n",
      "round: 5, top: 0.505, time: 216.770466s\n",
      "round: 6, top: 0.51, time: 240.871651s\n",
      "round: 7, top: 0.55, time: 283.343795s\n",
      "round: 8, top: 0.56, time: 287.039928s\n",
      "round: 9, top: 0.56, time: 219.803259s\n",
      "round: 10, top: 0.57, time: 239.149468s\n",
      "round: 11, top: 0.605, time: 172.253866s\n",
      "round: 12, top: 0.63, time: 170.585303s\n",
      "round: 0, top: 0.235, time: 0.000229s\n",
      "round: 1, top: 0.255, time: 152.713641s\n",
      "round: 2, top: 0.255, time: 153.234794s\n",
      "round: 3, top: 0.255, time: 156.559653s\n",
      "round: 4, top: 0.26, time: 172.272106s\n",
      "round: 5, top: 0.275, time: 193.266444s\n",
      "round: 6, top: 0.295, time: 245.842131s\n",
      "round: 7, top: 0.335, time: 171.876207s\n",
      "round: 8, top: 0.395, time: 155.392100s\n",
      "round: 9, top: 0.42, time: 155.480710s\n",
      "round: 10, top: 0.445, time: 162.862805s\n",
      "round: 11, top: 0.455, time: 157.346620s\n",
      "round: 12, top: 0.545, time: 159.370418s\n",
      "round: 0, top: 0.235, time: 0.000225s\n",
      "round: 1, top: 0.325, time: 148.408531s\n",
      "round: 2, top: 0.415, time: 150.627174s\n",
      "round: 3, top: 0.435, time: 149.422437s\n",
      "round: 4, top: 0.47, time: 153.012791s\n",
      "round: 5, top: 0.54, time: 167.750678s\n",
      "round: 6, top: 0.555, time: 220.102071s\n",
      "round: 7, top: 0.57, time: 199.045579s\n",
      "round: 8, top: 0.59, time: 249.219992s\n",
      "round: 9, top: 0.59, time: 249.224509s\n",
      "round: 10, top: 0.6, time: 267.350466s\n",
      "round: 11, top: 0.6, time: 323.876141s\n",
      "round: 12, top: 0.605, time: 291.554939s\n"
     ]
    }
   ],
   "source": [
    "for _ in range(nRuns):\n",
    "    cnn = baselines.models.CNN(len(starting_sequence), alphabet=alphabet,\n",
    "                             num_filters=32, hidden_size=100, loss='MSE')\n",
    "\n",
    "    genetic_explorer = baselines.explorers.GeneticAlgorithm(\n",
    "        cnn,\n",
    "\n",
    "        population_size=8,\n",
    "        parent_selection_strategy='wright-fisher', # wright-fisher model decides who gets to 'mate'\n",
    "        beta=0.01,\n",
    "        children_proportion=0.2,\n",
    "\n",
    "        rounds=nRounds,\n",
    "        starting_sequence=starting_sequence,\n",
    "        sequences_batch_size=bsize,\n",
    "        model_queries_per_batch=nModelQueries,\n",
    "        alphabet=alphabet\n",
    "    )\n",
    "\n",
    "\n",
    "    genetic_algo_sequences, metadata = genetic_explorer.run(landscape)\n",
    "    fname = \"Genetic_Explorer_\" + get_time() + \".csv\"\n",
    "    genetic_algo_sequences.to_csv(os.path.join(logs_dir, fname))\n",
    "    genetic_algo_sequences"
   ]
  },
  {
   "cell_type": "markdown",
   "id": "cc25362f",
   "metadata": {},
   "source": [
    "## CMAES Explorer"
   ]
  },
  {
   "cell_type": "code",
   "execution_count": 17,
   "id": "a31f0db0",
   "metadata": {},
   "outputs": [
    {
     "name": "stdout",
     "output_type": "stream",
     "text": [
      "round: 0, top: 0.1, time: 0.000351s\n",
      "round: 1, top: 0.23, time: 73.579385s\n",
      "round: 2, top: 0.28, time: 69.306206s\n",
      "round: 3, top: 0.355, time: 72.923403s\n",
      "round: 4, top: 0.415, time: 73.628188s\n",
      "round: 5, top: 0.43, time: 78.125262s\n",
      "round: 6, top: 0.44, time: 81.330773s\n",
      "round: 7, top: 0.44, time: 86.032399s\n",
      "round: 8, top: 0.44, time: 78.503929s\n",
      "round: 9, top: 0.455, time: 78.599188s\n",
      "round: 10, top: 0.455, time: 77.367282s\n",
      "round: 11, top: 0.455, time: 68.658507s\n",
      "round: 12, top: 0.455, time: 73.173318s\n",
      "round: 0, top: 0.12, time: 0.000304s\n",
      "round: 1, top: 0.265, time: 77.755350s\n",
      "round: 2, top: 0.265, time: 89.074584s\n",
      "round: 3, top: 0.34, time: 81.247708s\n",
      "round: 4, top: 0.38, time: 76.586161s\n",
      "round: 5, top: 0.41, time: 71.491936s\n",
      "round: 6, top: 0.41, time: 91.906987s\n",
      "round: 7, top: 0.41, time: 81.231723s\n",
      "round: 8, top: 0.41, time: 77.881304s\n",
      "round: 9, top: 0.455, time: 68.220772s\n",
      "round: 10, top: 0.455, time: 64.752208s\n",
      "round: 11, top: 0.465, time: 124.409408s\n",
      "round: 12, top: 0.525, time: 119.842482s\n",
      "round: 0, top: 0.11, time: 0.000320s\n",
      "round: 1, top: 0.22, time: 131.481731s\n",
      "round: 2, top: 0.285, time: 110.131953s\n",
      "round: 3, top: 0.34, time: 134.711245s\n",
      "round: 4, top: 0.355, time: 99.526682s\n",
      "round: 5, top: 0.37, time: 130.074483s\n",
      "round: 6, top: 0.38, time: 122.702310s\n",
      "round: 7, top: 0.4, time: 102.732153s\n",
      "round: 8, top: 0.4, time: 108.591025s\n",
      "round: 9, top: 0.4, time: 111.167017s\n",
      "round: 10, top: 0.455, time: 93.703163s\n",
      "round: 11, top: 0.455, time: 104.195893s\n",
      "round: 12, top: 0.46, time: 135.305653s\n"
     ]
    }
   ],
   "source": [
    "\n",
    "scores = []\n",
    "\n",
    "for _ in range(nRuns):\n",
    "    starting_sequence = random_start()\n",
    "\n",
    "    cnn = baselines.models.CNN(len(starting_sequence), alphabet=alphabet,\n",
    "                             num_filters=32, hidden_size=100, loss='MSE')\n",
    "\n",
    "    cmaes_explorer = baselines.explorers.CMAES(\n",
    "        flexs.LandscapeAsModel(landscape),\n",
    "\n",
    "        population_size=10,\n",
    "        max_iter=200,\n",
    "\n",
    "        rounds=nRounds,\n",
    "        starting_sequence=starting_sequence,\n",
    "        sequences_batch_size=bsize,\n",
    "        model_queries_per_batch=nModelQueries,\n",
    "        alphabet=alphabet\n",
    "    )\n",
    "    \n",
    "    cmaes_sequences, metadata = cmaes_explorer.run(landscape)\n",
    "    fname = \"CMAES_Explorer_\" + get_time() + \".csv\"\n",
    "    cmaes_sequences.to_csv(os.path.join(logs_dir, fname))\n",
    "    cmaes_sequences\n",
    "    \n",
    "    "
   ]
  },
  {
   "cell_type": "code",
   "execution_count": 18,
   "id": "a248b26a",
   "metadata": {},
   "outputs": [],
   "source": [
    "# import json\n",
    "\n",
    "# with open(os.path.join(logs_dir, \"cmaes_baseline_results.json\"), \"w\") as f:\n",
    "#     json.dump(explorer_scores, f)"
   ]
  },
  {
   "cell_type": "markdown",
   "id": "5d6e7748",
   "metadata": {},
   "source": [
    "## DynaPPO Explorer"
   ]
  },
  {
   "cell_type": "code",
   "execution_count": 19,
   "id": "a8f0b165",
   "metadata": {},
   "outputs": [
    {
     "name": "stderr",
     "output_type": "stream",
     "text": [
      "/Users/leofeng/miniconda3/envs/flexsenv/lib/python3.7/site-packages/sklearn/linear_model/_coordinate_descent.py:532: ConvergenceWarning: Objective did not converge. You might want to increase the number of iterations. Duality gap: 0.0, tolerance: 0.0\n",
      "  positive)\n"
     ]
    },
    {
     "name": "stdout",
     "output_type": "stream",
     "text": [
      "BoundedTensorSpec(shape=(), dtype=tf.int64, name='action', minimum=array(0), maximum=array(19))\n",
      "round: 0, top: 0.095, time: 0.000351s\n",
      "WARNING:tensorflow:From /Users/leofeng/miniconda3/envs/flexsenv/lib/python3.7/site-packages/flexs/baselines/explorers/dyna_ppo.py:287: ReplayBuffer.gather_all (from tf_agents.replay_buffers.replay_buffer) is deprecated and will be removed in a future version.\n",
      "Instructions for updating:\n",
      "Use `as_dataset(..., single_deterministic_pass=True)` instead.\n",
      "round: 1, top: 0.355, time: 472.579896s\n",
      "round: 2, top: 0.42, time: 533.425051s\n"
     ]
    },
    {
     "ename": "KeyboardInterrupt",
     "evalue": "",
     "output_type": "error",
     "traceback": [
      "\u001b[0;31m---------------------------------------------------------------------------\u001b[0m",
      "\u001b[0;31mKeyboardInterrupt\u001b[0m                         Traceback (most recent call last)",
      "\u001b[0;32m/var/folders/f4/xryngv2x045_m6s988v9s80c0000gn/T/ipykernel_28645/1340520606.py\u001b[0m in \u001b[0;36m<module>\u001b[0;34m\u001b[0m\n\u001b[1;32m     15\u001b[0m     )\n\u001b[1;32m     16\u001b[0m \u001b[0;34m\u001b[0m\u001b[0m\n\u001b[0;32m---> 17\u001b[0;31m     \u001b[0mdynappo_sequences\u001b[0m\u001b[0;34m,\u001b[0m \u001b[0mmetadata\u001b[0m \u001b[0;34m=\u001b[0m \u001b[0mdynappo_explorer\u001b[0m\u001b[0;34m.\u001b[0m\u001b[0mrun\u001b[0m\u001b[0;34m(\u001b[0m\u001b[0mlandscape\u001b[0m\u001b[0;34m)\u001b[0m\u001b[0;34m\u001b[0m\u001b[0;34m\u001b[0m\u001b[0m\n\u001b[0m\u001b[1;32m     18\u001b[0m     \u001b[0mfname\u001b[0m \u001b[0;34m=\u001b[0m \u001b[0;34m\"DynaPPO_Explorer_\"\u001b[0m \u001b[0;34m+\u001b[0m \u001b[0mget_time\u001b[0m\u001b[0;34m(\u001b[0m\u001b[0;34m)\u001b[0m \u001b[0;34m+\u001b[0m \u001b[0;34m\".csv\"\u001b[0m\u001b[0;34m\u001b[0m\u001b[0;34m\u001b[0m\u001b[0m\n\u001b[1;32m     19\u001b[0m     \u001b[0mdynappo_sequences\u001b[0m\u001b[0;34m.\u001b[0m\u001b[0mto_csv\u001b[0m\u001b[0;34m(\u001b[0m\u001b[0mos\u001b[0m\u001b[0;34m.\u001b[0m\u001b[0mpath\u001b[0m\u001b[0;34m.\u001b[0m\u001b[0mjoin\u001b[0m\u001b[0;34m(\u001b[0m\u001b[0mlogs_dir\u001b[0m\u001b[0;34m,\u001b[0m \u001b[0mfname\u001b[0m\u001b[0;34m)\u001b[0m\u001b[0;34m)\u001b[0m\u001b[0;34m\u001b[0m\u001b[0;34m\u001b[0m\u001b[0m\n",
      "\u001b[0;32m~/miniconda3/envs/flexsenv/lib/python3.7/site-packages/flexs/explorer.py\u001b[0m in \u001b[0;36mrun\u001b[0;34m(self, landscape, verbose)\u001b[0m\n\u001b[1;32m    160\u001b[0m             )\n\u001b[1;32m    161\u001b[0m \u001b[0;34m\u001b[0m\u001b[0m\n\u001b[0;32m--> 162\u001b[0;31m             \u001b[0mseqs\u001b[0m\u001b[0;34m,\u001b[0m \u001b[0mpreds\u001b[0m \u001b[0;34m=\u001b[0m \u001b[0mself\u001b[0m\u001b[0;34m.\u001b[0m\u001b[0mpropose_sequences\u001b[0m\u001b[0;34m(\u001b[0m\u001b[0msequences_data\u001b[0m\u001b[0;34m)\u001b[0m\u001b[0;34m\u001b[0m\u001b[0;34m\u001b[0m\u001b[0m\n\u001b[0m\u001b[1;32m    163\u001b[0m             \u001b[0mtrue_score\u001b[0m \u001b[0;34m=\u001b[0m \u001b[0mlandscape\u001b[0m\u001b[0;34m.\u001b[0m\u001b[0mget_fitness\u001b[0m\u001b[0;34m(\u001b[0m\u001b[0mseqs\u001b[0m\u001b[0;34m)\u001b[0m\u001b[0;34m\u001b[0m\u001b[0;34m\u001b[0m\u001b[0m\n\u001b[1;32m    164\u001b[0m \u001b[0;34m\u001b[0m\u001b[0m\n",
      "\u001b[0;32m~/miniconda3/envs/flexsenv/lib/python3.7/site-packages/flexs/baselines/explorers/dyna_ppo.py\u001b[0m in \u001b[0;36mpropose_sequences\u001b[0;34m(self, measured_sequences_data)\u001b[0m\n\u001b[1;32m    301\u001b[0m                 \u001b[0mself\u001b[0m\u001b[0;34m.\u001b[0m\u001b[0mmodel_queries_per_batch\u001b[0m \u001b[0;34m/\u001b[0m \u001b[0mself\u001b[0m\u001b[0;34m.\u001b[0m\u001b[0mnum_model_rounds\u001b[0m\u001b[0;34m\u001b[0m\u001b[0;34m\u001b[0m\u001b[0m\n\u001b[1;32m    302\u001b[0m             ):\n\u001b[0;32m--> 303\u001b[0;31m                 \u001b[0mcollect_driver\u001b[0m\u001b[0;34m.\u001b[0m\u001b[0mrun\u001b[0m\u001b[0;34m(\u001b[0m\u001b[0;34m)\u001b[0m\u001b[0;34m\u001b[0m\u001b[0;34m\u001b[0m\u001b[0m\n\u001b[0m\u001b[1;32m    304\u001b[0m \u001b[0;34m\u001b[0m\u001b[0m\n\u001b[1;32m    305\u001b[0m             \u001b[0mtrajectories\u001b[0m \u001b[0;34m=\u001b[0m \u001b[0mreplay_buffer\u001b[0m\u001b[0;34m.\u001b[0m\u001b[0mgather_all\u001b[0m\u001b[0;34m(\u001b[0m\u001b[0;34m)\u001b[0m\u001b[0;34m\u001b[0m\u001b[0;34m\u001b[0m\u001b[0m\n",
      "\u001b[0;32m~/miniconda3/envs/flexsenv/lib/python3.7/site-packages/tf_agents/drivers/dynamic_episode_driver.py\u001b[0m in \u001b[0;36mrun\u001b[0;34m(self, time_step, policy_state, num_episodes, maximum_iterations)\u001b[0m\n\u001b[1;32m    213\u001b[0m         \u001b[0mpolicy_state\u001b[0m\u001b[0;34m=\u001b[0m\u001b[0mpolicy_state\u001b[0m\u001b[0;34m,\u001b[0m\u001b[0;34m\u001b[0m\u001b[0;34m\u001b[0m\u001b[0m\n\u001b[1;32m    214\u001b[0m         \u001b[0mnum_episodes\u001b[0m\u001b[0;34m=\u001b[0m\u001b[0mnum_episodes\u001b[0m\u001b[0;34m,\u001b[0m\u001b[0;34m\u001b[0m\u001b[0;34m\u001b[0m\u001b[0m\n\u001b[0;32m--> 215\u001b[0;31m         maximum_iterations=maximum_iterations)\n\u001b[0m\u001b[1;32m    216\u001b[0m \u001b[0;34m\u001b[0m\u001b[0m\n\u001b[1;32m    217\u001b[0m   def _run(self,\n",
      "\u001b[0;32m~/miniconda3/envs/flexsenv/lib/python3.7/site-packages/tf_agents/utils/common.py\u001b[0m in \u001b[0;36mwith_check_resource_vars\u001b[0;34m(*fn_args, **fn_kwargs)\u001b[0m\n\u001b[1;32m    186\u001b[0m         \u001b[0;31m# We're either in eager mode or in tf.function mode (no in-between); so\u001b[0m\u001b[0;34m\u001b[0m\u001b[0;34m\u001b[0m\u001b[0;34m\u001b[0m\u001b[0m\n\u001b[1;32m    187\u001b[0m         \u001b[0;31m# autodep-like behavior is already expected of fn.\u001b[0m\u001b[0;34m\u001b[0m\u001b[0;34m\u001b[0m\u001b[0;34m\u001b[0m\u001b[0m\n\u001b[0;32m--> 188\u001b[0;31m         \u001b[0;32mreturn\u001b[0m \u001b[0mfn\u001b[0m\u001b[0;34m(\u001b[0m\u001b[0;34m*\u001b[0m\u001b[0mfn_args\u001b[0m\u001b[0;34m,\u001b[0m \u001b[0;34m**\u001b[0m\u001b[0mfn_kwargs\u001b[0m\u001b[0;34m)\u001b[0m\u001b[0;34m\u001b[0m\u001b[0;34m\u001b[0m\u001b[0m\n\u001b[0m\u001b[1;32m    189\u001b[0m       \u001b[0;32mif\u001b[0m \u001b[0;32mnot\u001b[0m \u001b[0mresource_variables_enabled\u001b[0m\u001b[0;34m(\u001b[0m\u001b[0;34m)\u001b[0m\u001b[0;34m:\u001b[0m\u001b[0;34m\u001b[0m\u001b[0;34m\u001b[0m\u001b[0m\n\u001b[1;32m    190\u001b[0m         \u001b[0;32mraise\u001b[0m \u001b[0mRuntimeError\u001b[0m\u001b[0;34m(\u001b[0m\u001b[0mMISSING_RESOURCE_VARIABLES_ERROR\u001b[0m\u001b[0;34m)\u001b[0m\u001b[0;34m\u001b[0m\u001b[0;34m\u001b[0m\u001b[0m\n",
      "\u001b[0;32m~/miniconda3/envs/flexsenv/lib/python3.7/site-packages/tf_agents/drivers/dynamic_episode_driver.py\u001b[0m in \u001b[0;36m_run\u001b[0;34m(self, time_step, policy_state, num_episodes, maximum_iterations)\u001b[0m\n\u001b[1;32m    242\u001b[0m             \u001b[0mparallel_iterations\u001b[0m\u001b[0;34m=\u001b[0m\u001b[0;36m1\u001b[0m\u001b[0;34m,\u001b[0m\u001b[0;34m\u001b[0m\u001b[0;34m\u001b[0m\u001b[0m\n\u001b[1;32m    243\u001b[0m             \u001b[0mmaximum_iterations\u001b[0m\u001b[0;34m=\u001b[0m\u001b[0mmaximum_iterations\u001b[0m\u001b[0;34m,\u001b[0m\u001b[0;34m\u001b[0m\u001b[0;34m\u001b[0m\u001b[0m\n\u001b[0;32m--> 244\u001b[0;31m             name='driver_loop'))\n\u001b[0m\u001b[1;32m    245\u001b[0m \u001b[0;34m\u001b[0m\u001b[0m\n\u001b[1;32m    246\u001b[0m     \u001b[0;32mreturn\u001b[0m \u001b[0mtime_step\u001b[0m\u001b[0;34m,\u001b[0m \u001b[0mpolicy_state\u001b[0m\u001b[0;34m\u001b[0m\u001b[0;34m\u001b[0m\u001b[0m\n",
      "\u001b[0;32m~/miniconda3/envs/flexsenv/lib/python3.7/site-packages/tensorflow/python/util/deprecation.py\u001b[0m in \u001b[0;36mnew_func\u001b[0;34m(*args, **kwargs)\u001b[0m\n\u001b[1;32m    618\u001b[0m                   \u001b[0mfunc\u001b[0m\u001b[0;34m.\u001b[0m\u001b[0m__module__\u001b[0m\u001b[0;34m,\u001b[0m \u001b[0marg_name\u001b[0m\u001b[0;34m,\u001b[0m \u001b[0marg_value\u001b[0m\u001b[0;34m,\u001b[0m \u001b[0;34m'in a future version'\u001b[0m\u001b[0;34m\u001b[0m\u001b[0;34m\u001b[0m\u001b[0m\n\u001b[1;32m    619\u001b[0m                   if date is None else ('after %s' % date), instructions)\n\u001b[0;32m--> 620\u001b[0;31m       \u001b[0;32mreturn\u001b[0m \u001b[0mfunc\u001b[0m\u001b[0;34m(\u001b[0m\u001b[0;34m*\u001b[0m\u001b[0margs\u001b[0m\u001b[0;34m,\u001b[0m \u001b[0;34m**\u001b[0m\u001b[0mkwargs\u001b[0m\u001b[0;34m)\u001b[0m\u001b[0;34m\u001b[0m\u001b[0;34m\u001b[0m\u001b[0m\n\u001b[0m\u001b[1;32m    621\u001b[0m \u001b[0;34m\u001b[0m\u001b[0m\n\u001b[1;32m    622\u001b[0m     doc = _add_deprecated_arg_value_notice_to_docstring(\n",
      "\u001b[0;32m~/miniconda3/envs/flexsenv/lib/python3.7/site-packages/tensorflow/python/ops/control_flow_ops.py\u001b[0m in \u001b[0;36mwhile_loop_v2\u001b[0;34m(cond, body, loop_vars, shape_invariants, parallel_iterations, back_prop, swap_memory, maximum_iterations, name)\u001b[0m\n\u001b[1;32m   2556\u001b[0m       \u001b[0mname\u001b[0m\u001b[0;34m=\u001b[0m\u001b[0mname\u001b[0m\u001b[0;34m,\u001b[0m\u001b[0;34m\u001b[0m\u001b[0;34m\u001b[0m\u001b[0m\n\u001b[1;32m   2557\u001b[0m       \u001b[0mmaximum_iterations\u001b[0m\u001b[0;34m=\u001b[0m\u001b[0mmaximum_iterations\u001b[0m\u001b[0;34m,\u001b[0m\u001b[0;34m\u001b[0m\u001b[0;34m\u001b[0m\u001b[0m\n\u001b[0;32m-> 2558\u001b[0;31m       return_same_structure=True)\n\u001b[0m\u001b[1;32m   2559\u001b[0m \u001b[0;34m\u001b[0m\u001b[0m\n\u001b[1;32m   2560\u001b[0m \u001b[0;34m\u001b[0m\u001b[0m\n",
      "\u001b[0;32m~/miniconda3/envs/flexsenv/lib/python3.7/site-packages/tensorflow/python/ops/control_flow_ops.py\u001b[0m in \u001b[0;36mwhile_loop\u001b[0;34m(cond, body, loop_vars, shape_invariants, parallel_iterations, back_prop, swap_memory, name, maximum_iterations, return_same_structure)\u001b[0m\n\u001b[1;32m   2793\u001b[0m                                               list(loop_vars))\n\u001b[1;32m   2794\u001b[0m       \u001b[0;32mwhile\u001b[0m \u001b[0mcond\u001b[0m\u001b[0;34m(\u001b[0m\u001b[0;34m*\u001b[0m\u001b[0mloop_vars\u001b[0m\u001b[0;34m)\u001b[0m\u001b[0;34m:\u001b[0m\u001b[0;34m\u001b[0m\u001b[0;34m\u001b[0m\u001b[0m\n\u001b[0;32m-> 2795\u001b[0;31m         \u001b[0mloop_vars\u001b[0m \u001b[0;34m=\u001b[0m \u001b[0mbody\u001b[0m\u001b[0;34m(\u001b[0m\u001b[0;34m*\u001b[0m\u001b[0mloop_vars\u001b[0m\u001b[0;34m)\u001b[0m\u001b[0;34m\u001b[0m\u001b[0;34m\u001b[0m\u001b[0m\n\u001b[0m\u001b[1;32m   2796\u001b[0m         \u001b[0;32mif\u001b[0m \u001b[0mtry_to_pack\u001b[0m \u001b[0;32mand\u001b[0m \u001b[0;32mnot\u001b[0m \u001b[0misinstance\u001b[0m\u001b[0;34m(\u001b[0m\u001b[0mloop_vars\u001b[0m\u001b[0;34m,\u001b[0m \u001b[0;34m(\u001b[0m\u001b[0mlist\u001b[0m\u001b[0;34m,\u001b[0m \u001b[0m_basetuple\u001b[0m\u001b[0;34m)\u001b[0m\u001b[0;34m)\u001b[0m\u001b[0;34m:\u001b[0m\u001b[0;34m\u001b[0m\u001b[0;34m\u001b[0m\u001b[0m\n\u001b[1;32m   2797\u001b[0m           \u001b[0mpacked\u001b[0m \u001b[0;34m=\u001b[0m \u001b[0;32mTrue\u001b[0m\u001b[0;34m\u001b[0m\u001b[0;34m\u001b[0m\u001b[0m\n",
      "\u001b[0;32m~/miniconda3/envs/flexsenv/lib/python3.7/site-packages/tf_agents/drivers/dynamic_episode_driver.py\u001b[0m in \u001b[0;36mloop_body\u001b[0;34m(counter, time_step, policy_state)\u001b[0m\n\u001b[1;32m    152\u001b[0m \u001b[0;34m\u001b[0m\u001b[0m\n\u001b[1;32m    153\u001b[0m       \u001b[0mtraj\u001b[0m \u001b[0;34m=\u001b[0m \u001b[0mtrajectory\u001b[0m\u001b[0;34m.\u001b[0m\u001b[0mfrom_transition\u001b[0m\u001b[0;34m(\u001b[0m\u001b[0mtime_step\u001b[0m\u001b[0;34m,\u001b[0m \u001b[0maction_step\u001b[0m\u001b[0;34m,\u001b[0m \u001b[0mnext_time_step\u001b[0m\u001b[0;34m)\u001b[0m\u001b[0;34m\u001b[0m\u001b[0;34m\u001b[0m\u001b[0m\n\u001b[0;32m--> 154\u001b[0;31m       \u001b[0mobserver_ops\u001b[0m \u001b[0;34m=\u001b[0m \u001b[0;34m[\u001b[0m\u001b[0mobserver\u001b[0m\u001b[0;34m(\u001b[0m\u001b[0mtraj\u001b[0m\u001b[0;34m)\u001b[0m \u001b[0;32mfor\u001b[0m \u001b[0mobserver\u001b[0m \u001b[0;32min\u001b[0m \u001b[0mself\u001b[0m\u001b[0;34m.\u001b[0m\u001b[0m_observers\u001b[0m\u001b[0;34m]\u001b[0m\u001b[0;34m\u001b[0m\u001b[0;34m\u001b[0m\u001b[0m\n\u001b[0m\u001b[1;32m    155\u001b[0m       transition_observer_ops = [\n\u001b[1;32m    156\u001b[0m           \u001b[0mobserver\u001b[0m\u001b[0;34m(\u001b[0m\u001b[0;34m(\u001b[0m\u001b[0mtime_step\u001b[0m\u001b[0;34m,\u001b[0m \u001b[0maction_step\u001b[0m\u001b[0;34m,\u001b[0m \u001b[0mnext_time_step\u001b[0m\u001b[0;34m)\u001b[0m\u001b[0;34m)\u001b[0m\u001b[0;34m\u001b[0m\u001b[0;34m\u001b[0m\u001b[0m\n",
      "\u001b[0;32m~/miniconda3/envs/flexsenv/lib/python3.7/site-packages/tf_agents/drivers/dynamic_episode_driver.py\u001b[0m in \u001b[0;36m<listcomp>\u001b[0;34m(.0)\u001b[0m\n\u001b[1;32m    152\u001b[0m \u001b[0;34m\u001b[0m\u001b[0m\n\u001b[1;32m    153\u001b[0m       \u001b[0mtraj\u001b[0m \u001b[0;34m=\u001b[0m \u001b[0mtrajectory\u001b[0m\u001b[0;34m.\u001b[0m\u001b[0mfrom_transition\u001b[0m\u001b[0;34m(\u001b[0m\u001b[0mtime_step\u001b[0m\u001b[0;34m,\u001b[0m \u001b[0maction_step\u001b[0m\u001b[0;34m,\u001b[0m \u001b[0mnext_time_step\u001b[0m\u001b[0;34m)\u001b[0m\u001b[0;34m\u001b[0m\u001b[0;34m\u001b[0m\u001b[0m\n\u001b[0;32m--> 154\u001b[0;31m       \u001b[0mobserver_ops\u001b[0m \u001b[0;34m=\u001b[0m \u001b[0;34m[\u001b[0m\u001b[0mobserver\u001b[0m\u001b[0;34m(\u001b[0m\u001b[0mtraj\u001b[0m\u001b[0;34m)\u001b[0m \u001b[0;32mfor\u001b[0m \u001b[0mobserver\u001b[0m \u001b[0;32min\u001b[0m \u001b[0mself\u001b[0m\u001b[0;34m.\u001b[0m\u001b[0m_observers\u001b[0m\u001b[0;34m]\u001b[0m\u001b[0;34m\u001b[0m\u001b[0;34m\u001b[0m\u001b[0m\n\u001b[0m\u001b[1;32m    155\u001b[0m       transition_observer_ops = [\n\u001b[1;32m    156\u001b[0m           \u001b[0mobserver\u001b[0m\u001b[0;34m(\u001b[0m\u001b[0;34m(\u001b[0m\u001b[0mtime_step\u001b[0m\u001b[0;34m,\u001b[0m \u001b[0maction_step\u001b[0m\u001b[0;34m,\u001b[0m \u001b[0mnext_time_step\u001b[0m\u001b[0;34m)\u001b[0m\u001b[0;34m)\u001b[0m\u001b[0;34m\u001b[0m\u001b[0;34m\u001b[0m\u001b[0m\n",
      "\u001b[0;32m~/miniconda3/envs/flexsenv/lib/python3.7/site-packages/flexs/baselines/explorers/dyna_ppo.py\u001b[0m in \u001b[0;36madd_last_seq_in_trajectory\u001b[0;34m(self, experience, new_seqs)\u001b[0m\n\u001b[1;32m    243\u001b[0m         \u001b[0mare\u001b[0m \u001b[0mgenerated\u001b[0m \u001b[0;32mfrom\u001b[0m \u001b[0mthat\u001b[0m \u001b[0mnew\u001b[0m \u001b[0msequence\u001b[0m\u001b[0;34m.\u001b[0m\u001b[0;34m\u001b[0m\u001b[0;34m\u001b[0m\u001b[0m\n\u001b[1;32m    244\u001b[0m         \"\"\"\n\u001b[0;32m--> 245\u001b[0;31m         \u001b[0;32mfor\u001b[0m \u001b[0mis_bound\u001b[0m\u001b[0;34m,\u001b[0m \u001b[0mobs\u001b[0m \u001b[0;32min\u001b[0m \u001b[0mzip\u001b[0m\u001b[0;34m(\u001b[0m\u001b[0mexperience\u001b[0m\u001b[0;34m.\u001b[0m\u001b[0mis_boundary\u001b[0m\u001b[0;34m(\u001b[0m\u001b[0;34m)\u001b[0m\u001b[0;34m,\u001b[0m \u001b[0mexperience\u001b[0m\u001b[0;34m.\u001b[0m\u001b[0mobservation\u001b[0m\u001b[0;34m)\u001b[0m\u001b[0;34m:\u001b[0m\u001b[0;34m\u001b[0m\u001b[0;34m\u001b[0m\u001b[0m\n\u001b[0m\u001b[1;32m    246\u001b[0m             \u001b[0;32mif\u001b[0m \u001b[0mis_bound\u001b[0m\u001b[0;34m:\u001b[0m\u001b[0;34m\u001b[0m\u001b[0;34m\u001b[0m\u001b[0m\n\u001b[1;32m    247\u001b[0m                 \u001b[0mseq\u001b[0m \u001b[0;34m=\u001b[0m \u001b[0ms_utils\u001b[0m\u001b[0;34m.\u001b[0m\u001b[0mone_hot_to_string\u001b[0m\u001b[0;34m(\u001b[0m\u001b[0mobs\u001b[0m\u001b[0;34m.\u001b[0m\u001b[0mnumpy\u001b[0m\u001b[0;34m(\u001b[0m\u001b[0;34m)\u001b[0m\u001b[0;34m[\u001b[0m\u001b[0;34m:\u001b[0m\u001b[0;34m,\u001b[0m \u001b[0;34m:\u001b[0m\u001b[0;34m-\u001b[0m\u001b[0;36m1\u001b[0m\u001b[0;34m]\u001b[0m\u001b[0;34m,\u001b[0m \u001b[0mself\u001b[0m\u001b[0;34m.\u001b[0m\u001b[0malphabet\u001b[0m\u001b[0;34m)\u001b[0m\u001b[0;34m\u001b[0m\u001b[0;34m\u001b[0m\u001b[0m\n",
      "\u001b[0;32m~/miniconda3/envs/flexsenv/lib/python3.7/site-packages/tensorflow/python/framework/ops.py\u001b[0m in \u001b[0;36m__next__\u001b[0;34m(self)\u001b[0m\n\u001b[1;32m   7217\u001b[0m     \u001b[0;32mif\u001b[0m \u001b[0mself\u001b[0m\u001b[0;34m.\u001b[0m\u001b[0m_index\u001b[0m \u001b[0;34m==\u001b[0m \u001b[0mself\u001b[0m\u001b[0;34m.\u001b[0m\u001b[0m_limit\u001b[0m\u001b[0;34m:\u001b[0m\u001b[0;34m\u001b[0m\u001b[0;34m\u001b[0m\u001b[0m\n\u001b[1;32m   7218\u001b[0m       \u001b[0;32mraise\u001b[0m \u001b[0mStopIteration\u001b[0m\u001b[0;34m\u001b[0m\u001b[0;34m\u001b[0m\u001b[0m\n\u001b[0;32m-> 7219\u001b[0;31m     \u001b[0mresult\u001b[0m \u001b[0;34m=\u001b[0m \u001b[0mself\u001b[0m\u001b[0;34m.\u001b[0m\u001b[0m_tensor\u001b[0m\u001b[0;34m[\u001b[0m\u001b[0mself\u001b[0m\u001b[0;34m.\u001b[0m\u001b[0m_index\u001b[0m\u001b[0;34m]\u001b[0m\u001b[0;34m\u001b[0m\u001b[0;34m\u001b[0m\u001b[0m\n\u001b[0m\u001b[1;32m   7220\u001b[0m     \u001b[0mself\u001b[0m\u001b[0;34m.\u001b[0m\u001b[0m_index\u001b[0m \u001b[0;34m+=\u001b[0m \u001b[0;36m1\u001b[0m\u001b[0;34m\u001b[0m\u001b[0;34m\u001b[0m\u001b[0m\n\u001b[1;32m   7221\u001b[0m     \u001b[0;32mreturn\u001b[0m \u001b[0mresult\u001b[0m\u001b[0;34m\u001b[0m\u001b[0;34m\u001b[0m\u001b[0m\n",
      "\u001b[0;32m~/miniconda3/envs/flexsenv/lib/python3.7/site-packages/tensorflow/python/util/traceback_utils.py\u001b[0m in \u001b[0;36merror_handler\u001b[0;34m(*args, **kwargs)\u001b[0m\n\u001b[1;32m    148\u001b[0m     \u001b[0mfiltered_tb\u001b[0m \u001b[0;34m=\u001b[0m \u001b[0;32mNone\u001b[0m\u001b[0;34m\u001b[0m\u001b[0;34m\u001b[0m\u001b[0m\n\u001b[1;32m    149\u001b[0m     \u001b[0;32mtry\u001b[0m\u001b[0;34m:\u001b[0m\u001b[0;34m\u001b[0m\u001b[0;34m\u001b[0m\u001b[0m\n\u001b[0;32m--> 150\u001b[0;31m       \u001b[0;32mreturn\u001b[0m \u001b[0mfn\u001b[0m\u001b[0;34m(\u001b[0m\u001b[0;34m*\u001b[0m\u001b[0margs\u001b[0m\u001b[0;34m,\u001b[0m \u001b[0;34m**\u001b[0m\u001b[0mkwargs\u001b[0m\u001b[0;34m)\u001b[0m\u001b[0;34m\u001b[0m\u001b[0;34m\u001b[0m\u001b[0m\n\u001b[0m\u001b[1;32m    151\u001b[0m     \u001b[0;32mexcept\u001b[0m \u001b[0mException\u001b[0m \u001b[0;32mas\u001b[0m \u001b[0me\u001b[0m\u001b[0;34m:\u001b[0m\u001b[0;34m\u001b[0m\u001b[0;34m\u001b[0m\u001b[0m\n\u001b[1;32m    152\u001b[0m       \u001b[0mfiltered_tb\u001b[0m \u001b[0;34m=\u001b[0m \u001b[0m_process_traceback_frames\u001b[0m\u001b[0;34m(\u001b[0m\u001b[0me\u001b[0m\u001b[0;34m.\u001b[0m\u001b[0m__traceback__\u001b[0m\u001b[0;34m)\u001b[0m\u001b[0;34m\u001b[0m\u001b[0;34m\u001b[0m\u001b[0m\n",
      "\u001b[0;32m~/miniconda3/envs/flexsenv/lib/python3.7/site-packages/tensorflow/python/util/dispatch.py\u001b[0m in \u001b[0;36mop_dispatch_handler\u001b[0;34m(*args, **kwargs)\u001b[0m\n\u001b[1;32m   1094\u001b[0m       \u001b[0;31m# Fallback dispatch system (dispatch v1):\u001b[0m\u001b[0;34m\u001b[0m\u001b[0;34m\u001b[0m\u001b[0;34m\u001b[0m\u001b[0m\n\u001b[1;32m   1095\u001b[0m       \u001b[0;32mtry\u001b[0m\u001b[0;34m:\u001b[0m\u001b[0;34m\u001b[0m\u001b[0;34m\u001b[0m\u001b[0m\n\u001b[0;32m-> 1096\u001b[0;31m         \u001b[0;32mreturn\u001b[0m \u001b[0mdispatch_target\u001b[0m\u001b[0;34m(\u001b[0m\u001b[0;34m*\u001b[0m\u001b[0margs\u001b[0m\u001b[0;34m,\u001b[0m \u001b[0;34m**\u001b[0m\u001b[0mkwargs\u001b[0m\u001b[0;34m)\u001b[0m\u001b[0;34m\u001b[0m\u001b[0;34m\u001b[0m\u001b[0m\n\u001b[0m\u001b[1;32m   1097\u001b[0m       \u001b[0;32mexcept\u001b[0m \u001b[0;34m(\u001b[0m\u001b[0mTypeError\u001b[0m\u001b[0;34m,\u001b[0m \u001b[0mValueError\u001b[0m\u001b[0;34m)\u001b[0m\u001b[0;34m:\u001b[0m\u001b[0;34m\u001b[0m\u001b[0;34m\u001b[0m\u001b[0m\n\u001b[1;32m   1098\u001b[0m         \u001b[0;31m# Note: convert_to_eager_tensor currently raises a ValueError, not a\u001b[0m\u001b[0;34m\u001b[0m\u001b[0;34m\u001b[0m\u001b[0;34m\u001b[0m\u001b[0m\n",
      "\u001b[0;32m~/miniconda3/envs/flexsenv/lib/python3.7/site-packages/tensorflow/python/ops/array_ops.py\u001b[0m in \u001b[0;36m_slice_helper\u001b[0;34m(tensor, slice_spec, var)\u001b[0m\n\u001b[1;32m   1027\u001b[0m     \u001b[0;32mif\u001b[0m \u001b[0mbegin\u001b[0m\u001b[0;34m:\u001b[0m\u001b[0;34m\u001b[0m\u001b[0;34m\u001b[0m\u001b[0m\n\u001b[1;32m   1028\u001b[0m       packed_begin, packed_end, packed_strides = (stack(begin), stack(end),\n\u001b[0;32m-> 1029\u001b[0;31m                                                   stack(strides))\n\u001b[0m\u001b[1;32m   1030\u001b[0m       if (packed_begin.dtype == dtypes.int64 or\n\u001b[1;32m   1031\u001b[0m           \u001b[0mpacked_end\u001b[0m\u001b[0;34m.\u001b[0m\u001b[0mdtype\u001b[0m \u001b[0;34m==\u001b[0m \u001b[0mdtypes\u001b[0m\u001b[0;34m.\u001b[0m\u001b[0mint64\u001b[0m \u001b[0;32mor\u001b[0m\u001b[0;34m\u001b[0m\u001b[0;34m\u001b[0m\u001b[0m\n",
      "\u001b[0;32m~/miniconda3/envs/flexsenv/lib/python3.7/site-packages/tensorflow/python/util/traceback_utils.py\u001b[0m in \u001b[0;36merror_handler\u001b[0;34m(*args, **kwargs)\u001b[0m\n\u001b[1;32m    148\u001b[0m     \u001b[0mfiltered_tb\u001b[0m \u001b[0;34m=\u001b[0m \u001b[0;32mNone\u001b[0m\u001b[0;34m\u001b[0m\u001b[0;34m\u001b[0m\u001b[0m\n\u001b[1;32m    149\u001b[0m     \u001b[0;32mtry\u001b[0m\u001b[0;34m:\u001b[0m\u001b[0;34m\u001b[0m\u001b[0;34m\u001b[0m\u001b[0m\n\u001b[0;32m--> 150\u001b[0;31m       \u001b[0;32mreturn\u001b[0m \u001b[0mfn\u001b[0m\u001b[0;34m(\u001b[0m\u001b[0;34m*\u001b[0m\u001b[0margs\u001b[0m\u001b[0;34m,\u001b[0m \u001b[0;34m**\u001b[0m\u001b[0mkwargs\u001b[0m\u001b[0;34m)\u001b[0m\u001b[0;34m\u001b[0m\u001b[0;34m\u001b[0m\u001b[0m\n\u001b[0m\u001b[1;32m    151\u001b[0m     \u001b[0;32mexcept\u001b[0m \u001b[0mException\u001b[0m \u001b[0;32mas\u001b[0m \u001b[0me\u001b[0m\u001b[0;34m:\u001b[0m\u001b[0;34m\u001b[0m\u001b[0;34m\u001b[0m\u001b[0m\n\u001b[1;32m    152\u001b[0m       \u001b[0mfiltered_tb\u001b[0m \u001b[0;34m=\u001b[0m \u001b[0m_process_traceback_frames\u001b[0m\u001b[0;34m(\u001b[0m\u001b[0me\u001b[0m\u001b[0;34m.\u001b[0m\u001b[0m__traceback__\u001b[0m\u001b[0;34m)\u001b[0m\u001b[0;34m\u001b[0m\u001b[0;34m\u001b[0m\u001b[0m\n",
      "\u001b[0;32m~/miniconda3/envs/flexsenv/lib/python3.7/site-packages/tensorflow/python/util/dispatch.py\u001b[0m in \u001b[0;36mop_dispatch_handler\u001b[0;34m(*args, **kwargs)\u001b[0m\n\u001b[1;32m   1088\u001b[0m         \u001b[0;32mif\u001b[0m \u001b[0miterable_params\u001b[0m \u001b[0;32mis\u001b[0m \u001b[0;32mnot\u001b[0m \u001b[0;32mNone\u001b[0m\u001b[0;34m:\u001b[0m\u001b[0;34m\u001b[0m\u001b[0;34m\u001b[0m\u001b[0m\n\u001b[1;32m   1089\u001b[0m           \u001b[0margs\u001b[0m\u001b[0;34m,\u001b[0m \u001b[0mkwargs\u001b[0m \u001b[0;34m=\u001b[0m \u001b[0mreplace_iterable_params\u001b[0m\u001b[0;34m(\u001b[0m\u001b[0margs\u001b[0m\u001b[0;34m,\u001b[0m \u001b[0mkwargs\u001b[0m\u001b[0;34m,\u001b[0m \u001b[0miterable_params\u001b[0m\u001b[0;34m)\u001b[0m\u001b[0;34m\u001b[0m\u001b[0;34m\u001b[0m\u001b[0m\n\u001b[0;32m-> 1090\u001b[0;31m         \u001b[0mresult\u001b[0m \u001b[0;34m=\u001b[0m \u001b[0mapi_dispatcher\u001b[0m\u001b[0;34m.\u001b[0m\u001b[0mDispatch\u001b[0m\u001b[0;34m(\u001b[0m\u001b[0margs\u001b[0m\u001b[0;34m,\u001b[0m \u001b[0mkwargs\u001b[0m\u001b[0;34m)\u001b[0m\u001b[0;34m\u001b[0m\u001b[0;34m\u001b[0m\u001b[0m\n\u001b[0m\u001b[1;32m   1091\u001b[0m         \u001b[0;32mif\u001b[0m \u001b[0mresult\u001b[0m \u001b[0;32mis\u001b[0m \u001b[0;32mnot\u001b[0m \u001b[0mNotImplemented\u001b[0m\u001b[0;34m:\u001b[0m\u001b[0;34m\u001b[0m\u001b[0;34m\u001b[0m\u001b[0m\n\u001b[1;32m   1092\u001b[0m           \u001b[0;32mreturn\u001b[0m \u001b[0mresult\u001b[0m\u001b[0;34m\u001b[0m\u001b[0;34m\u001b[0m\u001b[0m\n",
      "\u001b[0;31mKeyboardInterrupt\u001b[0m: "
     ]
    }
   ],
   "source": [
    "nModelRounds = nRounds\n",
    "scores = []\n",
    "\n",
    "for _ in range(nRuns):\n",
    "    starting_sequence = random_start()\n",
    "    dynappo_explorer = baselines.explorers.DynaPPO(  # DynaPPO has its own default ensemble model, so don't use CNN\n",
    "        landscape=landscape,\n",
    "        env_batch_size=10,\n",
    "        num_model_rounds=nModelRounds,\n",
    "        rounds=nRounds,\n",
    "        starting_sequence=starting_sequence,\n",
    "        sequences_batch_size=bsize,\n",
    "        model_queries_per_batch=nModelQueries,\n",
    "        alphabet=alphabet,\n",
    "    )\n",
    "\n",
    "    dynappo_sequences, metadata = dynappo_explorer.run(landscape)\n",
    "    fname = \"DynaPPO_Explorer_\" + get_time() + \".csv\"\n",
    "    dynappo_sequences.to_csv(os.path.join(logs_dir, fname))\n",
    "    dynappo_sequences"
   ]
  },
  {
   "cell_type": "code",
   "execution_count": null,
   "id": "b19a5ab2",
   "metadata": {},
   "outputs": [],
   "source": [
    "# import json\n",
    "\n",
    "# with open(os.path.join(logs_dir, \"dynappo_baseline_results.json\"), \"w\") as f:\n",
    "#     json.dump(explorer_scores, f)"
   ]
  },
  {
   "cell_type": "markdown",
   "id": "d892dde1",
   "metadata": {},
   "source": [
    "# Plots some results"
   ]
  },
  {
   "cell_type": "code",
   "execution_count": 53,
   "id": "a67266c4",
   "metadata": {},
   "outputs": [],
   "source": [
    "\n",
    "results = {\n",
    "    'adalead': [0.275, 0.38, 0.49, 0.545, 0.61, 0.66, 0.705, 0.73],\n",
    "    'dyappo': [0.4, 0.455, 0.455, 0.455, 0.455, 0.455, 0.455, 0.455],\n",
    "    'metarlbo': [0.39, 0.41, 0.45, 0.6, 0.73, 0.75, 0.77, 0.77],\n",
    "    'random_mut': [0.175, 0.185, 0.185, 0.185, 0.21, 0.28, 0.28, 0.28],\n",
    "}\n"
   ]
  },
  {
   "cell_type": "code",
   "execution_count": 57,
   "id": "76b60701",
   "metadata": {},
   "outputs": [
    {
     "data": {
      "text/plain": [
       "<matplotlib.legend.Legend at 0x16df44490>"
      ]
     },
     "execution_count": 57,
     "metadata": {},
     "output_type": "execute_result"
    },
    {
     "data": {
      "image/png": "[encoded data removed]",
      "text/plain": [
       "<Figure size 432x288 with 1 Axes>"
      ]
     },
     "metadata": {
      "needs_background": "light"
     },
     "output_type": "display_data"
    }
   ],
   "source": [
    "import matplotlib.pyplot as plt\n",
    "\n",
    "xs = [(i+1)*250 for i in range(8)]\n",
    "\n",
    "\n",
    "plt.ylim((0, 1))\n",
    "\n",
    "plt.title(\"AMP Task (from DynaPPO)\")\n",
    "plt.xlabel(\"\\# of samples\")\n",
    "plt.ylabel(\"Score given by oracle\")\n",
    "\n",
    "\n",
    "for name, res in results.items():\n",
    "    plt.plot(xs, res, label=name)\n",
    "    \n",
    "plt.legend()"
   ]
  },
  {
   "cell_type": "code",
   "execution_count": null,
   "id": "578d9d38",
   "metadata": {},
   "outputs": [],
   "source": []
  }
 ],
 "metadata": {
  "kernelspec": {
   "display_name": "Python 3 (ipykernel)",
   "language": "python",
   "name": "python3"
  },
  "language_info": {
   "codemirror_mode": {
    "name": "ipython",
    "version": 3
   },
   "file_extension": ".py",
   "mimetype": "text/x-python",
   "name": "python",
   "nbconvert_exporter": "python",
   "pygments_lexer": "ipython3",
   "version": "3.7.11"
  }
 },
 "nbformat": 4,
 "nbformat_minor": 5
}
