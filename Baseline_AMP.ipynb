{
 "cells": [
  {
   "cell_type": "code",
   "execution_count": 1,
   "id": "117e15f1-2001-4cb5-b588-5d98aff9e59d",
   "metadata": {},
   "outputs": [],
   "source": [
    "import flexs"
   ]
  },
  {
   "cell_type": "code",
   "execution_count": 18,
   "id": "e8a73df2-bf6d-42f4-b775-a33294767285",
   "metadata": {},
   "outputs": [],
   "source": [
    "import editdistance\n",
    "import matplotlib.pyplot as plt\n",
    "import seaborn as sns\n",
    "import pandas as pd\n",
    "import pprint\n",
    "import numpy as np\n",
    "import json\n",
    "\n",
    "import flexs\n",
    "from flexs import baselines\n",
    "import flexs.utils.sequence_utils as s_utils\n",
    "import torch.nn.functional as F\n",
    "import torch"
   ]
  },
  {
   "cell_type": "code",
   "execution_count": 19,
   "id": "d3317071-90f6-46ff-b5cf-da7c002e6d1e",
   "metadata": {},
   "outputs": [],
   "source": [
    "from collections import OrderedDict\n",
    "\n",
    "enc_len = 50\n",
    "num_actions = 21\n",
    "\n",
    "\n",
    "char_pairs = [('A', 0), ('R', 1), ('N', 2), ('D', 3), ('C', 4), ('E', 5), ('Q', 6), ('G', 7), ('H', 8), ('I', 9), ('L', 10), ('K', 11), ('M', 12), ('F', 13), ('P', 14), ('S', 15), ('T', 16), ('W', 17), ('Y', 18), ('V', 19), ('>', 20)]\n",
    "mol_enc = OrderedDict(char_pairs)\n",
    "enc_mol = OrderedDict(list(map(lambda x : (x[1], x[0]), char_pairs)))"
   ]
  },
  {
   "cell_type": "code",
   "execution_count": 20,
   "id": "023dd65a-8c9d-42a9-8792-087f2a090358",
   "metadata": {},
   "outputs": [],
   "source": [
    "def seq_to_enc(seq):\n",
    "    enc = [None for i in range(enc_len)]\n",
    "    for i in range(enc_len):\n",
    "        if i < len(seq):\n",
    "            enc[i] = mol_enc[seq[i]]\n",
    "        else:\n",
    "            enc[i] = 20\n",
    "    \n",
    "    return F.one_hot(torch.tensor(enc), num_classes=num_actions).numpy()"
   ]
  },
  {
   "cell_type": "code",
   "execution_count": 21,
   "id": "ff4a926f-525e-400e-98aa-33a40651fb0f",
   "metadata": {},
   "outputs": [],
   "source": [
    "def convertor(sequences):\n",
    "    \"\"\"\n",
    "        Does the padding of the sequences to the correct length... w/ the extra chars...\n",
    "        \n",
    "        Input: sequences List[str]\n",
    "        \n",
    "        Return: list[ndarray]\n",
    "    \"\"\"\n",
    "    \n",
    "    all_seqs = []\n",
    "    for seq in sequences:\n",
    "        all_seqs.append(seq_to_enc(seq).flatten())\n",
    "        \n",
    "    return np.stack(all_seqs)\n",
    "    \n",
    "    \n",
    "    "
   ]
  },
  {
   "cell_type": "code",
   "execution_count": 26,
   "id": "0312af99-ae2b-4f5a-ae01-6e1d441948b4",
   "metadata": {},
   "outputs": [],
   "source": [
    "import pickle\n",
    "\n",
    "class AMPLandscape(flexs.Landscape):\n",
    "    \"\"\"AMP landscape.\"\"\"\n",
    "\n",
    "    def __init__(self, mode):\n",
    "        \"\"\"Create a AMP landscape.\"\"\"\n",
    "        super().__init__(name=\"AMP\")\n",
    "        assert mode == 'val' or mode == 'test'\n",
    "        self.alphabet = flexs\n",
    "        \n",
    "        if mode == 'val':\n",
    "            fname = \"data/metarlbo_rfc_not-alibicani.pkl\"\n",
    "        elif mode == 'test':\n",
    "            fname = \"data/metarlbo_rfc_alibicani.pkl\"\n",
    "                \n",
    "        with open(fname, \"rb\") as f:\n",
    "            self.model = pickle.load(f)\n",
    "\n",
    "\n",
    "    def _fitness_function(self, sequences):\n",
    "        \"\"\"\n",
    "            Takes as input a list of strings (w/ alphabet of 20)\n",
    "            \n",
    "            \n",
    "            Returns numpy array of scores\n",
    "        \"\"\"\n",
    "        \n",
    "        np_seqs = convertor(sequences)\n",
    "        \n",
    "        scores = self.model.predict_proba(np_seqs)[:, 1]\n",
    "        \n",
    "        return scores\n",
    "        \n",
    "        \n",
    "        \n",
    "    "
   ]
  },
  {
   "cell_type": "code",
   "execution_count": 38,
   "id": "a1e529da-41d8-4700-b1ca-d730fdb33b27",
   "metadata": {},
   "outputs": [],
   "source": [
    "landscape = AMPLandscape(\"test\")\n",
    "alph_chars = list(mol_enc.keys())[:-1]\n",
    "alphabet=''.join(alph_chars)"
   ]
  },
  {
   "cell_type": "code",
   "execution_count": 46,
   "id": "310f88f3-cc35-4b4b-b39f-091d1f0b6456",
   "metadata": {},
   "outputs": [],
   "source": [
    "bsize = 250"
   ]
  },
  {
   "cell_type": "markdown",
   "id": "7e6adae6",
   "metadata": {},
   "source": [
    "## Random Explorer"
   ]
  },
  {
   "cell_type": "code",
   "execution_count": 47,
   "id": "f0505934-6be3-42a3-8e5a-d64d67cd5460",
   "metadata": {},
   "outputs": [],
   "source": [
    "rand_seq_len = 30\n",
    "starting_sequence = \"\".join([np.random.choice(list(alph_chars)) for _ in range(rand_seq_len)])\n",
    "\n",
    "cnn = baselines.models.CNN(len(starting_sequence), alphabet=alphabet,\n",
    "                         num_filters=32, hidden_size=100, loss='MSE')\n",
    "\n",
    "random_explorer = baselines.explorers.Random(\n",
    "    cnn,\n",
    "    rounds=8,\n",
    "    mu=1,\n",
    "    starting_sequence=starting_sequence,\n",
    "    sequences_batch_size=bsize,\n",
    "    model_queries_per_batch=bsize,\n",
    "    alphabet=alphabet\n",
    ")"
   ]
  },
  {
   "cell_type": "code",
   "execution_count": 41,
   "id": "395615f5-7556-4c61-8e69-ffd7e9e1a4ab",
   "metadata": {},
   "outputs": [
    {
     "name": "stdout",
     "output_type": "stream",
     "text": [
      "round: 0, top: 0.075, time: 0.000617s\n",
      "round: 1, top: 0.175, time: 0.712936s\n",
      "round: 2, top: 0.185, time: 0.652846s\n",
      "round: 3, top: 0.185, time: 1.349131s\n",
      "round: 4, top: 0.185, time: 1.714978s\n",
      "round: 5, top: 0.21, time: 2.225392s\n",
      "round: 6, top: 0.28, time: 2.685761s\n",
      "round: 7, top: 0.28, time: 3.412812s\n",
      "round: 8, top: 0.28, time: 3.947842s\n"
     ]
    },
    {
     "data": {
      "text/html": [
       "<div>\n",
       "<style scoped>\n",
       "    .dataframe tbody tr th:only-of-type {\n",
       "        vertical-align: middle;\n",
       "    }\n",
       "\n",
       "    .dataframe tbody tr th {\n",
       "        vertical-align: top;\n",
       "    }\n",
       "\n",
       "    .dataframe thead th {\n",
       "        text-align: right;\n",
       "    }\n",
       "</style>\n",
       "<table border=\"1\" class=\"dataframe\">\n",
       "  <thead>\n",
       "    <tr style=\"text-align: right;\">\n",
       "      <th></th>\n",
       "      <th>sequence</th>\n",
       "      <th>model_score</th>\n",
       "      <th>true_score</th>\n",
       "      <th>round</th>\n",
       "      <th>model_cost</th>\n",
       "      <th>measurement_cost</th>\n",
       "    </tr>\n",
       "  </thead>\n",
       "  <tbody>\n",
       "    <tr>\n",
       "      <th>0</th>\n",
       "      <td>MVESNEYIDSEFPKIAAYIYRGFIVMDYYY</td>\n",
       "      <td>NaN</td>\n",
       "      <td>0.075</td>\n",
       "      <td>0</td>\n",
       "      <td>0</td>\n",
       "      <td>1</td>\n",
       "    </tr>\n",
       "    <tr>\n",
       "      <th>0</th>\n",
       "      <td>MKESNEYGDSEFPKIAAYIYQGFIVMDYTY</td>\n",
       "      <td>0.106697</td>\n",
       "      <td>0.100</td>\n",
       "      <td>1</td>\n",
       "      <td>251</td>\n",
       "      <td>251</td>\n",
       "    </tr>\n",
       "    <tr>\n",
       "      <th>1</th>\n",
       "      <td>MVESNEYIDSEFPKIAMYIYRGFIVMDYYY</td>\n",
       "      <td>0.100922</td>\n",
       "      <td>0.070</td>\n",
       "      <td>1</td>\n",
       "      <td>251</td>\n",
       "      <td>251</td>\n",
       "    </tr>\n",
       "    <tr>\n",
       "      <th>2</th>\n",
       "      <td>MVESNEYIDSEFPKIAAYIYRGFDVMDYYY</td>\n",
       "      <td>0.098670</td>\n",
       "      <td>0.070</td>\n",
       "      <td>1</td>\n",
       "      <td>251</td>\n",
       "      <td>251</td>\n",
       "    </tr>\n",
       "    <tr>\n",
       "      <th>3</th>\n",
       "      <td>LVESNEYIDSEFPKIAAYIYRGFIVMDYYY</td>\n",
       "      <td>0.098147</td>\n",
       "      <td>0.070</td>\n",
       "      <td>1</td>\n",
       "      <td>251</td>\n",
       "      <td>251</td>\n",
       "    </tr>\n",
       "    <tr>\n",
       "      <th>...</th>\n",
       "      <td>...</td>\n",
       "      <td>...</td>\n",
       "      <td>...</td>\n",
       "      <td>...</td>\n",
       "      <td>...</td>\n",
       "      <td>...</td>\n",
       "    </tr>\n",
       "    <tr>\n",
       "      <th>245</th>\n",
       "      <td>MVHSFEYSDSEFPLIEAYIYRGFIVMDYYN</td>\n",
       "      <td>0.100562</td>\n",
       "      <td>0.100</td>\n",
       "      <td>8</td>\n",
       "      <td>2008</td>\n",
       "      <td>2001</td>\n",
       "    </tr>\n",
       "    <tr>\n",
       "      <th>246</th>\n",
       "      <td>QVESNEGITSEFPKPAAYIYRGFIVMDRYH</td>\n",
       "      <td>0.099734</td>\n",
       "      <td>0.085</td>\n",
       "      <td>8</td>\n",
       "      <td>2008</td>\n",
       "      <td>2001</td>\n",
       "    </tr>\n",
       "    <tr>\n",
       "      <th>247</th>\n",
       "      <td>MREPNEYIDSEFYKIAAKIYRGFIVMLEYY</td>\n",
       "      <td>0.092817</td>\n",
       "      <td>0.085</td>\n",
       "      <td>8</td>\n",
       "      <td>2008</td>\n",
       "      <td>2001</td>\n",
       "    </tr>\n",
       "    <tr>\n",
       "      <th>248</th>\n",
       "      <td>MVPSNPYIDCETPKIGAYIYRGFIVMDPYY</td>\n",
       "      <td>0.082896</td>\n",
       "      <td>0.070</td>\n",
       "      <td>8</td>\n",
       "      <td>2008</td>\n",
       "      <td>2001</td>\n",
       "    </tr>\n",
       "    <tr>\n",
       "      <th>249</th>\n",
       "      <td>MVESNEYIYSEFPKIAAYIYRGTIVMDYYN</td>\n",
       "      <td>0.069690</td>\n",
       "      <td>0.080</td>\n",
       "      <td>8</td>\n",
       "      <td>2008</td>\n",
       "      <td>2001</td>\n",
       "    </tr>\n",
       "  </tbody>\n",
       "</table>\n",
       "<p>2001 rows × 6 columns</p>\n",
       "</div>"
      ],
      "text/plain": [
       "                           sequence  model_score  true_score  round  \\\n",
       "0    MVESNEYIDSEFPKIAAYIYRGFIVMDYYY          NaN       0.075      0   \n",
       "0    MKESNEYGDSEFPKIAAYIYQGFIVMDYTY     0.106697       0.100      1   \n",
       "1    MVESNEYIDSEFPKIAMYIYRGFIVMDYYY     0.100922       0.070      1   \n",
       "2    MVESNEYIDSEFPKIAAYIYRGFDVMDYYY     0.098670       0.070      1   \n",
       "3    LVESNEYIDSEFPKIAAYIYRGFIVMDYYY     0.098147       0.070      1   \n",
       "..                              ...          ...         ...    ...   \n",
       "245  MVHSFEYSDSEFPLIEAYIYRGFIVMDYYN     0.100562       0.100      8   \n",
       "246  QVESNEGITSEFPKPAAYIYRGFIVMDRYH     0.099734       0.085      8   \n",
       "247  MREPNEYIDSEFYKIAAKIYRGFIVMLEYY     0.092817       0.085      8   \n",
       "248  MVPSNPYIDCETPKIGAYIYRGFIVMDPYY     0.082896       0.070      8   \n",
       "249  MVESNEYIYSEFPKIAAYIYRGTIVMDYYN     0.069690       0.080      8   \n",
       "\n",
       "     model_cost  measurement_cost  \n",
       "0             0                 1  \n",
       "0           251               251  \n",
       "1           251               251  \n",
       "2           251               251  \n",
       "3           251               251  \n",
       "..          ...               ...  \n",
       "245        2008              2001  \n",
       "246        2008              2001  \n",
       "247        2008              2001  \n",
       "248        2008              2001  \n",
       "249        2008              2001  \n",
       "\n",
       "[2001 rows x 6 columns]"
      ]
     },
     "execution_count": 41,
     "metadata": {},
     "output_type": "execute_result"
    }
   ],
   "source": [
    "random_sequences, metadata = random_explorer.run(landscape)\n",
    "random_sequences"
   ]
  },
  {
   "cell_type": "code",
   "execution_count": 44,
   "id": "832ac425-ee91-4f7e-867c-8bef060037f9",
   "metadata": {},
   "outputs": [],
   "source": [
    "cnn = baselines.models.CNN(len(starting_sequence), alphabet=alphabet,\n",
    "                         num_filters=32, hidden_size=100, loss='MSE')\n",
    "\n",
    "adalead_explorer = baselines.explorers.Adalead(\n",
    "    cnn,\n",
    "    rounds=8,\n",
    "    starting_sequence=starting_sequence,\n",
    "    sequences_batch_size=bsize,\n",
    "    model_queries_per_batch=2000,\n",
    "    alphabet=alphabet\n",
    ")"
   ]
  },
  {
   "cell_type": "code",
   "execution_count": 45,
   "id": "c1fd25e1-d48a-4e03-b5f0-8c5b39321e55",
   "metadata": {},
   "outputs": [
    {
     "name": "stdout",
     "output_type": "stream",
     "text": [
      "round: 0, top: 0.075, time: 0.000357s\n",
      "round: 1, top: 0.275, time: 13.208885s\n",
      "round: 2, top: 0.38, time: 11.158290s\n",
      "round: 3, top: 0.49, time: 5.648659s\n",
      "round: 4, top: 0.545, time: 6.849150s\n",
      "round: 5, top: 0.61, time: 6.687722s\n",
      "round: 6, top: 0.66, time: 8.526681s\n",
      "round: 7, top: 0.705, time: 8.499133s\n",
      "round: 8, top: 0.73, time: 10.799047s\n"
     ]
    }
   ],
   "source": [
    "adalead_sequences, metadata = adalead_explorer.run(landscape)"
   ]
  },
  {
   "cell_type": "markdown",
   "id": "99896c0d",
   "metadata": {},
   "source": [
    "## Genetic Explorer"
   ]
  },
  {
   "cell_type": "code",
   "execution_count": 48,
   "id": "8b509576-4415-44dc-986d-194f81c450ea",
   "metadata": {},
   "outputs": [],
   "source": [
    "cnn = baselines.models.CNN(len(starting_sequence), alphabet=alphabet,\n",
    "                         num_filters=32, hidden_size=100, loss='MSE')\n",
    "\n",
    "genetic_explorer = baselines.explorers.GeneticAlgorithm(\n",
    "    cnn,\n",
    "    \n",
    "    population_size=8,\n",
    "    parent_selection_strategy='wright-fisher', # wright-fisher model decides who gets to 'mate'\n",
    "    beta=0.01,\n",
    "    children_proportion=0.2,\n",
    "\n",
    "    rounds=8,\n",
    "    starting_sequence=starting_sequence,\n",
    "    sequences_batch_size=bsize,\n",
    "    model_queries_per_batch=1000,\n",
    "    alphabet=alphabet\n",
    ")"
   ]
  },
  {
   "cell_type": "code",
   "execution_count": 49,
   "id": "ad441f74-433c-436d-9912-65f9ccd7b13c",
   "metadata": {
    "scrolled": true
   },
   "outputs": [
    {
     "name": "stdout",
     "output_type": "stream",
     "text": [
      "round: 0, top: 0.055, time: 0.000579s\n",
      "round: 1, top: 0.31, time: 47.479483s\n"
     ]
    },
    {
     "ename": "KeyboardInterrupt",
     "evalue": "",
     "output_type": "error",
     "traceback": [
      "\u001b[0;31m---------------------------------------------------------------------------\u001b[0m",
      "\u001b[0;31mKeyboardInterrupt\u001b[0m                         Traceback (most recent call last)",
      "\u001b[0;32m/var/folders/f4/xryngv2x045_m6s988v9s80c0000gn/T/ipykernel_16566/3076554424.py\u001b[0m in \u001b[0;36m<module>\u001b[0;34m\u001b[0m\n\u001b[0;32m----> 1\u001b[0;31m \u001b[0mgenetic_algo_sequences\u001b[0m\u001b[0;34m,\u001b[0m \u001b[0mmetadata\u001b[0m \u001b[0;34m=\u001b[0m \u001b[0mgenetic_explorer\u001b[0m\u001b[0;34m.\u001b[0m\u001b[0mrun\u001b[0m\u001b[0;34m(\u001b[0m\u001b[0mlandscape\u001b[0m\u001b[0;34m)\u001b[0m\u001b[0;34m\u001b[0m\u001b[0;34m\u001b[0m\u001b[0m\n\u001b[0m",
      "\u001b[0;32m~/miniconda3/envs/flexsenv/lib/python3.7/site-packages/flexs/explorer.py\u001b[0m in \u001b[0;36mrun\u001b[0;34m(self, landscape, verbose)\u001b[0m\n\u001b[1;32m    157\u001b[0m             self.model.train(\n\u001b[1;32m    158\u001b[0m                 \u001b[0msequences_data\u001b[0m\u001b[0;34m[\u001b[0m\u001b[0;34m\"sequence\"\u001b[0m\u001b[0;34m]\u001b[0m\u001b[0;34m.\u001b[0m\u001b[0mto_numpy\u001b[0m\u001b[0;34m(\u001b[0m\u001b[0;34m)\u001b[0m\u001b[0;34m,\u001b[0m\u001b[0;34m\u001b[0m\u001b[0;34m\u001b[0m\u001b[0m\n\u001b[0;32m--> 159\u001b[0;31m                 \u001b[0msequences_data\u001b[0m\u001b[0;34m[\u001b[0m\u001b[0;34m\"true_score\"\u001b[0m\u001b[0;34m]\u001b[0m\u001b[0;34m.\u001b[0m\u001b[0mto_numpy\u001b[0m\u001b[0;34m(\u001b[0m\u001b[0;34m)\u001b[0m\u001b[0;34m,\u001b[0m\u001b[0;34m\u001b[0m\u001b[0;34m\u001b[0m\u001b[0m\n\u001b[0m\u001b[1;32m    160\u001b[0m             )\n\u001b[1;32m    161\u001b[0m \u001b[0;34m\u001b[0m\u001b[0m\n",
      "\u001b[0;32m~/miniconda3/envs/flexsenv/lib/python3.7/site-packages/flexs/baselines/models/keras_model.py\u001b[0m in \u001b[0;36mtrain\u001b[0;34m(self, sequences, labels, verbose)\u001b[0m\n\u001b[1;32m     64\u001b[0m             \u001b[0mbatch_size\u001b[0m\u001b[0;34m=\u001b[0m\u001b[0mself\u001b[0m\u001b[0;34m.\u001b[0m\u001b[0mbatch_size\u001b[0m\u001b[0;34m,\u001b[0m\u001b[0;34m\u001b[0m\u001b[0;34m\u001b[0m\u001b[0m\n\u001b[1;32m     65\u001b[0m             \u001b[0mepochs\u001b[0m\u001b[0;34m=\u001b[0m\u001b[0mself\u001b[0m\u001b[0;34m.\u001b[0m\u001b[0mepochs\u001b[0m\u001b[0;34m,\u001b[0m\u001b[0;34m\u001b[0m\u001b[0;34m\u001b[0m\u001b[0m\n\u001b[0;32m---> 66\u001b[0;31m             \u001b[0mverbose\u001b[0m\u001b[0;34m=\u001b[0m\u001b[0mverbose\u001b[0m\u001b[0;34m,\u001b[0m\u001b[0;34m\u001b[0m\u001b[0;34m\u001b[0m\u001b[0m\n\u001b[0m\u001b[1;32m     67\u001b[0m         )\n\u001b[1;32m     68\u001b[0m \u001b[0;34m\u001b[0m\u001b[0m\n",
      "\u001b[0;32m~/miniconda3/envs/flexsenv/lib/python3.7/site-packages/keras/utils/traceback_utils.py\u001b[0m in \u001b[0;36merror_handler\u001b[0;34m(*args, **kwargs)\u001b[0m\n\u001b[1;32m     62\u001b[0m     \u001b[0mfiltered_tb\u001b[0m \u001b[0;34m=\u001b[0m \u001b[0;32mNone\u001b[0m\u001b[0;34m\u001b[0m\u001b[0;34m\u001b[0m\u001b[0m\n\u001b[1;32m     63\u001b[0m     \u001b[0;32mtry\u001b[0m\u001b[0;34m:\u001b[0m\u001b[0;34m\u001b[0m\u001b[0;34m\u001b[0m\u001b[0m\n\u001b[0;32m---> 64\u001b[0;31m       \u001b[0;32mreturn\u001b[0m \u001b[0mfn\u001b[0m\u001b[0;34m(\u001b[0m\u001b[0;34m*\u001b[0m\u001b[0margs\u001b[0m\u001b[0;34m,\u001b[0m \u001b[0;34m**\u001b[0m\u001b[0mkwargs\u001b[0m\u001b[0;34m)\u001b[0m\u001b[0;34m\u001b[0m\u001b[0;34m\u001b[0m\u001b[0m\n\u001b[0m\u001b[1;32m     65\u001b[0m     \u001b[0;32mexcept\u001b[0m \u001b[0mException\u001b[0m \u001b[0;32mas\u001b[0m \u001b[0me\u001b[0m\u001b[0;34m:\u001b[0m  \u001b[0;31m# pylint: disable=broad-except\u001b[0m\u001b[0;34m\u001b[0m\u001b[0;34m\u001b[0m\u001b[0m\n\u001b[1;32m     66\u001b[0m       \u001b[0mfiltered_tb\u001b[0m \u001b[0;34m=\u001b[0m \u001b[0m_process_traceback_frames\u001b[0m\u001b[0;34m(\u001b[0m\u001b[0me\u001b[0m\u001b[0;34m.\u001b[0m\u001b[0m__traceback__\u001b[0m\u001b[0;34m)\u001b[0m\u001b[0;34m\u001b[0m\u001b[0;34m\u001b[0m\u001b[0m\n",
      "\u001b[0;32m~/miniconda3/envs/flexsenv/lib/python3.7/site-packages/keras/engine/training.py\u001b[0m in \u001b[0;36mfit\u001b[0;34m(self, x, y, batch_size, epochs, verbose, callbacks, validation_split, validation_data, shuffle, class_weight, sample_weight, initial_epoch, steps_per_epoch, validation_steps, validation_batch_size, validation_freq, max_queue_size, workers, use_multiprocessing)\u001b[0m\n\u001b[1;32m   1214\u001b[0m                 _r=1):\n\u001b[1;32m   1215\u001b[0m               \u001b[0mcallbacks\u001b[0m\u001b[0;34m.\u001b[0m\u001b[0mon_train_batch_begin\u001b[0m\u001b[0;34m(\u001b[0m\u001b[0mstep\u001b[0m\u001b[0;34m)\u001b[0m\u001b[0;34m\u001b[0m\u001b[0;34m\u001b[0m\u001b[0m\n\u001b[0;32m-> 1216\u001b[0;31m               \u001b[0mtmp_logs\u001b[0m \u001b[0;34m=\u001b[0m \u001b[0mself\u001b[0m\u001b[0;34m.\u001b[0m\u001b[0mtrain_function\u001b[0m\u001b[0;34m(\u001b[0m\u001b[0miterator\u001b[0m\u001b[0;34m)\u001b[0m\u001b[0;34m\u001b[0m\u001b[0;34m\u001b[0m\u001b[0m\n\u001b[0m\u001b[1;32m   1217\u001b[0m               \u001b[0;32mif\u001b[0m \u001b[0mdata_handler\u001b[0m\u001b[0;34m.\u001b[0m\u001b[0mshould_sync\u001b[0m\u001b[0;34m:\u001b[0m\u001b[0;34m\u001b[0m\u001b[0;34m\u001b[0m\u001b[0m\n\u001b[1;32m   1218\u001b[0m                 \u001b[0mcontext\u001b[0m\u001b[0;34m.\u001b[0m\u001b[0masync_wait\u001b[0m\u001b[0;34m(\u001b[0m\u001b[0;34m)\u001b[0m\u001b[0;34m\u001b[0m\u001b[0;34m\u001b[0m\u001b[0m\n",
      "\u001b[0;32m~/miniconda3/envs/flexsenv/lib/python3.7/site-packages/tensorflow/python/util/traceback_utils.py\u001b[0m in \u001b[0;36merror_handler\u001b[0;34m(*args, **kwargs)\u001b[0m\n\u001b[1;32m    148\u001b[0m     \u001b[0mfiltered_tb\u001b[0m \u001b[0;34m=\u001b[0m \u001b[0;32mNone\u001b[0m\u001b[0;34m\u001b[0m\u001b[0;34m\u001b[0m\u001b[0m\n\u001b[1;32m    149\u001b[0m     \u001b[0;32mtry\u001b[0m\u001b[0;34m:\u001b[0m\u001b[0;34m\u001b[0m\u001b[0;34m\u001b[0m\u001b[0m\n\u001b[0;32m--> 150\u001b[0;31m       \u001b[0;32mreturn\u001b[0m \u001b[0mfn\u001b[0m\u001b[0;34m(\u001b[0m\u001b[0;34m*\u001b[0m\u001b[0margs\u001b[0m\u001b[0;34m,\u001b[0m \u001b[0;34m**\u001b[0m\u001b[0mkwargs\u001b[0m\u001b[0;34m)\u001b[0m\u001b[0;34m\u001b[0m\u001b[0;34m\u001b[0m\u001b[0m\n\u001b[0m\u001b[1;32m    151\u001b[0m     \u001b[0;32mexcept\u001b[0m \u001b[0mException\u001b[0m \u001b[0;32mas\u001b[0m \u001b[0me\u001b[0m\u001b[0;34m:\u001b[0m\u001b[0;34m\u001b[0m\u001b[0;34m\u001b[0m\u001b[0m\n\u001b[1;32m    152\u001b[0m       \u001b[0mfiltered_tb\u001b[0m \u001b[0;34m=\u001b[0m \u001b[0m_process_traceback_frames\u001b[0m\u001b[0;34m(\u001b[0m\u001b[0me\u001b[0m\u001b[0;34m.\u001b[0m\u001b[0m__traceback__\u001b[0m\u001b[0;34m)\u001b[0m\u001b[0;34m\u001b[0m\u001b[0;34m\u001b[0m\u001b[0m\n",
      "\u001b[0;32m~/miniconda3/envs/flexsenv/lib/python3.7/site-packages/tensorflow/python/eager/def_function.py\u001b[0m in \u001b[0;36m__call__\u001b[0;34m(self, *args, **kwds)\u001b[0m\n\u001b[1;32m    908\u001b[0m \u001b[0;34m\u001b[0m\u001b[0m\n\u001b[1;32m    909\u001b[0m       \u001b[0;32mwith\u001b[0m \u001b[0mOptionalXlaContext\u001b[0m\u001b[0;34m(\u001b[0m\u001b[0mself\u001b[0m\u001b[0;34m.\u001b[0m\u001b[0m_jit_compile\u001b[0m\u001b[0;34m)\u001b[0m\u001b[0;34m:\u001b[0m\u001b[0;34m\u001b[0m\u001b[0;34m\u001b[0m\u001b[0m\n\u001b[0;32m--> 910\u001b[0;31m         \u001b[0mresult\u001b[0m \u001b[0;34m=\u001b[0m \u001b[0mself\u001b[0m\u001b[0;34m.\u001b[0m\u001b[0m_call\u001b[0m\u001b[0;34m(\u001b[0m\u001b[0;34m*\u001b[0m\u001b[0margs\u001b[0m\u001b[0;34m,\u001b[0m \u001b[0;34m**\u001b[0m\u001b[0mkwds\u001b[0m\u001b[0;34m)\u001b[0m\u001b[0;34m\u001b[0m\u001b[0;34m\u001b[0m\u001b[0m\n\u001b[0m\u001b[1;32m    911\u001b[0m \u001b[0;34m\u001b[0m\u001b[0m\n\u001b[1;32m    912\u001b[0m       \u001b[0mnew_tracing_count\u001b[0m \u001b[0;34m=\u001b[0m \u001b[0mself\u001b[0m\u001b[0;34m.\u001b[0m\u001b[0mexperimental_get_tracing_count\u001b[0m\u001b[0;34m(\u001b[0m\u001b[0;34m)\u001b[0m\u001b[0;34m\u001b[0m\u001b[0;34m\u001b[0m\u001b[0m\n",
      "\u001b[0;32m~/miniconda3/envs/flexsenv/lib/python3.7/site-packages/tensorflow/python/eager/def_function.py\u001b[0m in \u001b[0;36m_call\u001b[0;34m(self, *args, **kwds)\u001b[0m\n\u001b[1;32m    940\u001b[0m       \u001b[0;31m# In this case we have created variables on the first call, so we run the\u001b[0m\u001b[0;34m\u001b[0m\u001b[0;34m\u001b[0m\u001b[0;34m\u001b[0m\u001b[0m\n\u001b[1;32m    941\u001b[0m       \u001b[0;31m# defunned version which is guaranteed to never create variables.\u001b[0m\u001b[0;34m\u001b[0m\u001b[0;34m\u001b[0m\u001b[0;34m\u001b[0m\u001b[0m\n\u001b[0;32m--> 942\u001b[0;31m       \u001b[0;32mreturn\u001b[0m \u001b[0mself\u001b[0m\u001b[0;34m.\u001b[0m\u001b[0m_stateless_fn\u001b[0m\u001b[0;34m(\u001b[0m\u001b[0;34m*\u001b[0m\u001b[0margs\u001b[0m\u001b[0;34m,\u001b[0m \u001b[0;34m**\u001b[0m\u001b[0mkwds\u001b[0m\u001b[0;34m)\u001b[0m  \u001b[0;31m# pylint: disable=not-callable\u001b[0m\u001b[0;34m\u001b[0m\u001b[0;34m\u001b[0m\u001b[0m\n\u001b[0m\u001b[1;32m    943\u001b[0m     \u001b[0;32melif\u001b[0m \u001b[0mself\u001b[0m\u001b[0;34m.\u001b[0m\u001b[0m_stateful_fn\u001b[0m \u001b[0;32mis\u001b[0m \u001b[0;32mnot\u001b[0m \u001b[0;32mNone\u001b[0m\u001b[0;34m:\u001b[0m\u001b[0;34m\u001b[0m\u001b[0;34m\u001b[0m\u001b[0m\n\u001b[1;32m    944\u001b[0m       \u001b[0;31m# Release the lock early so that multiple threads can perform the call\u001b[0m\u001b[0;34m\u001b[0m\u001b[0;34m\u001b[0m\u001b[0;34m\u001b[0m\u001b[0m\n",
      "\u001b[0;32m~/miniconda3/envs/flexsenv/lib/python3.7/site-packages/tensorflow/python/eager/function.py\u001b[0m in \u001b[0;36m__call__\u001b[0;34m(self, *args, **kwargs)\u001b[0m\n\u001b[1;32m   3129\u001b[0m        filtered_flat_args) = self._maybe_define_function(args, kwargs)\n\u001b[1;32m   3130\u001b[0m     return graph_function._call_flat(\n\u001b[0;32m-> 3131\u001b[0;31m         filtered_flat_args, captured_inputs=graph_function.captured_inputs)  # pylint: disable=protected-access\n\u001b[0m\u001b[1;32m   3132\u001b[0m \u001b[0;34m\u001b[0m\u001b[0m\n\u001b[1;32m   3133\u001b[0m   \u001b[0;34m@\u001b[0m\u001b[0mproperty\u001b[0m\u001b[0;34m\u001b[0m\u001b[0;34m\u001b[0m\u001b[0m\n",
      "\u001b[0;32m~/miniconda3/envs/flexsenv/lib/python3.7/site-packages/tensorflow/python/eager/function.py\u001b[0m in \u001b[0;36m_call_flat\u001b[0;34m(self, args, captured_inputs, cancellation_manager)\u001b[0m\n\u001b[1;32m   1958\u001b[0m       \u001b[0;31m# No tape is watching; skip to running the function.\u001b[0m\u001b[0;34m\u001b[0m\u001b[0;34m\u001b[0m\u001b[0;34m\u001b[0m\u001b[0m\n\u001b[1;32m   1959\u001b[0m       return self._build_call_outputs(self._inference_function.call(\n\u001b[0;32m-> 1960\u001b[0;31m           ctx, args, cancellation_manager=cancellation_manager))\n\u001b[0m\u001b[1;32m   1961\u001b[0m     forward_backward = self._select_forward_and_backward_functions(\n\u001b[1;32m   1962\u001b[0m         \u001b[0margs\u001b[0m\u001b[0;34m,\u001b[0m\u001b[0;34m\u001b[0m\u001b[0;34m\u001b[0m\u001b[0m\n",
      "\u001b[0;32m~/miniconda3/envs/flexsenv/lib/python3.7/site-packages/tensorflow/python/eager/function.py\u001b[0m in \u001b[0;36mcall\u001b[0;34m(self, ctx, args, cancellation_manager)\u001b[0m\n\u001b[1;32m    601\u001b[0m               \u001b[0minputs\u001b[0m\u001b[0;34m=\u001b[0m\u001b[0margs\u001b[0m\u001b[0;34m,\u001b[0m\u001b[0;34m\u001b[0m\u001b[0;34m\u001b[0m\u001b[0m\n\u001b[1;32m    602\u001b[0m               \u001b[0mattrs\u001b[0m\u001b[0;34m=\u001b[0m\u001b[0mattrs\u001b[0m\u001b[0;34m,\u001b[0m\u001b[0;34m\u001b[0m\u001b[0;34m\u001b[0m\u001b[0m\n\u001b[0;32m--> 603\u001b[0;31m               ctx=ctx)\n\u001b[0m\u001b[1;32m    604\u001b[0m         \u001b[0;32melse\u001b[0m\u001b[0;34m:\u001b[0m\u001b[0;34m\u001b[0m\u001b[0;34m\u001b[0m\u001b[0m\n\u001b[1;32m    605\u001b[0m           outputs = execute.execute_with_cancellation(\n",
      "\u001b[0;32m~/miniconda3/envs/flexsenv/lib/python3.7/site-packages/tensorflow/python/eager/execute.py\u001b[0m in \u001b[0;36mquick_execute\u001b[0;34m(op_name, num_outputs, inputs, attrs, ctx, name)\u001b[0m\n\u001b[1;32m     57\u001b[0m     \u001b[0mctx\u001b[0m\u001b[0;34m.\u001b[0m\u001b[0mensure_initialized\u001b[0m\u001b[0;34m(\u001b[0m\u001b[0;34m)\u001b[0m\u001b[0;34m\u001b[0m\u001b[0;34m\u001b[0m\u001b[0m\n\u001b[1;32m     58\u001b[0m     tensors = pywrap_tfe.TFE_Py_Execute(ctx._handle, device_name, op_name,\n\u001b[0;32m---> 59\u001b[0;31m                                         inputs, attrs, num_outputs)\n\u001b[0m\u001b[1;32m     60\u001b[0m   \u001b[0;32mexcept\u001b[0m \u001b[0mcore\u001b[0m\u001b[0;34m.\u001b[0m\u001b[0m_NotOkStatusException\u001b[0m \u001b[0;32mas\u001b[0m \u001b[0me\u001b[0m\u001b[0;34m:\u001b[0m\u001b[0;34m\u001b[0m\u001b[0;34m\u001b[0m\u001b[0m\n\u001b[1;32m     61\u001b[0m     \u001b[0;32mif\u001b[0m \u001b[0mname\u001b[0m \u001b[0;32mis\u001b[0m \u001b[0;32mnot\u001b[0m \u001b[0;32mNone\u001b[0m\u001b[0;34m:\u001b[0m\u001b[0;34m\u001b[0m\u001b[0;34m\u001b[0m\u001b[0m\n",
      "\u001b[0;31mKeyboardInterrupt\u001b[0m: "
     ]
    }
   ],
   "source": [
    "genetic_algo_sequences, metadata = genetic_explorer.run(landscape)"
   ]
  },
  {
   "cell_type": "markdown",
   "id": "48eacf22",
   "metadata": {},
   "source": [
    "## CMAES Explorer"
   ]
  },
  {
   "cell_type": "code",
   "execution_count": null,
   "id": "9c67a577-e4a2-4889-90bc-99765ba1f792",
   "metadata": {},
   "outputs": [],
   "source": [
    "cnn = baselines.models.CNN(len(starting_sequence), alphabet=alphabet,\n",
    "                         num_filters=32, hidden_size=100, loss='MSE')\n",
    "\n",
    "cmaes_explorer = baselines.explorers.CMAES(\n",
    "    flexs.LandscapeAsModel(landscape),\n",
    "    \n",
    "    population_size=10,\n",
    "    max_iter=200,\n",
    "    \n",
    "    rounds=10,\n",
    "    starting_sequence=starting_sequence,\n",
    "    sequences_batch_size=bsize,\n",
    "    model_queries_per_batch=1000,\n",
    "    alphabet=alphabet\n",
    ")"
   ]
  },
  {
   "cell_type": "code",
   "execution_count": null,
   "id": "a1c7c45b-99a2-40d4-839e-4b66a7a0c875",
   "metadata": {},
   "outputs": [],
   "source": [
    "cmaes_sequences, metadata = cmaes_explorer.run(landscape)"
   ]
  },
  {
   "cell_type": "markdown",
   "id": "7f62b797",
   "metadata": {},
   "source": [
    "## DynaPPO Explorer"
   ]
  },
  {
   "cell_type": "code",
   "execution_count": 50,
   "id": "0cee27cf-4dd8-47f6-a17a-1bf0a84d66fd",
   "metadata": {},
   "outputs": [
    {
     "name": "stderr",
     "output_type": "stream",
     "text": [
      "/Users/leofeng/miniconda3/envs/flexsenv/lib/python3.7/site-packages/sklearn/linear_model/_coordinate_descent.py:532: ConvergenceWarning: Objective did not converge. You might want to increase the number of iterations. Duality gap: 0.0, tolerance: 0.0\n",
      "  positive)\n"
     ]
    },
    {
     "name": "stdout",
     "output_type": "stream",
     "text": [
      "BoundedTensorSpec(shape=(), dtype=tf.int64, name='action', minimum=array(0), maximum=array(19))\n"
     ]
    }
   ],
   "source": [
    "dynappo_explorer = baselines.explorers.DynaPPO(  # DynaPPO has its own default ensemble model, so don't use CNN\n",
    "    landscape=landscape,\n",
    "    env_batch_size=10,\n",
    "    num_model_rounds=10,\n",
    "    rounds=8,\n",
    "    starting_sequence=starting_sequence,\n",
    "    sequences_batch_size=bsize,\n",
    "    model_queries_per_batch=1000,\n",
    "    alphabet=alphabet,\n",
    ")"
   ]
  },
  {
   "cell_type": "code",
   "execution_count": null,
   "id": "8c186a1c-8f87-4bef-bc4e-0f5a8e5850ae",
   "metadata": {},
   "outputs": [],
   "source": []
  },
  {
   "cell_type": "code",
   "execution_count": 51,
   "id": "7b3c9c5a-e71c-4b56-9566-23a519331faa",
   "metadata": {},
   "outputs": [
    {
     "name": "stdout",
     "output_type": "stream",
     "text": [
      "round: 0, top: 0.055, time: 0.000272s\n",
      "WARNING:tensorflow:From /Users/leofeng/miniconda3/envs/flexsenv/lib/python3.7/site-packages/flexs/baselines/explorers/dyna_ppo.py:287: ReplayBuffer.gather_all (from tf_agents.replay_buffers.replay_buffer) is deprecated and will be removed in a future version.\n",
      "Instructions for updating:\n",
      "Use `as_dataset(..., single_deterministic_pass=True)` instead.\n",
      "round: 1, top: 0.4, time: 34.370612s\n",
      "round: 2, top: 0.455, time: 45.274750s\n",
      "round: 3, top: 0.455, time: 53.331195s\n",
      "round: 4, top: 0.455, time: 73.574244s\n",
      "round: 5, top: 0.455, time: 84.374833s\n",
      "round: 6, top: 0.455, time: 88.926061s\n",
      "round: 7, top: 0.455, time: 101.114303s\n",
      "round: 8, top: 0.455, time: 113.993819s\n"
     ]
    }
   ],
   "source": [
    "dynappo_sequences, metadata = dynappo_explorer.run(landscape)"
   ]
  },
  {
   "cell_type": "markdown",
   "id": "597bac97-4082-4f3f-9391-540f1a5216a1",
   "metadata": {},
   "source": [
    "# Plots some results"
   ]
  },
  {
   "cell_type": "code",
   "execution_count": 53,
   "id": "84360b88-305b-4357-8e94-e67c905430c8",
   "metadata": {},
   "outputs": [],
   "source": [
    "\n",
    "results = {\n",
    "    'adalead': [0.275, 0.38, 0.49, 0.545, 0.61, 0.66, 0.705, 0.73],\n",
    "    'dyappo': [0.4, 0.455, 0.455, 0.455, 0.455, 0.455, 0.455, 0.455],\n",
    "    'metarlbo': [0.39, 0.41, 0.45, 0.6, 0.73, 0.75, 0.77, 0.77],\n",
    "    'random_mut': [0.175, 0.185, 0.185, 0.185, 0.21, 0.28, 0.28, 0.28],\n",
    "}\n"
   ]
  },
  {
   "cell_type": "code",
   "execution_count": 57,
   "id": "3cb1a21f-5c5b-472b-8bbc-a3e49cee6305",
   "metadata": {},
   "outputs": [
    {
     "data": {
      "text/plain": [
       "<matplotlib.legend.Legend at 0x16df44490>"
      ]
     },
     "execution_count": 57,
     "metadata": {},
     "output_type": "execute_result"
    },
    {
     "data": {
      "image/png": "[encoded data removed]",
      "text/plain": [
       "<Figure size 432x288 with 1 Axes>"
      ]
     },
     "metadata": {
      "needs_background": "light"
     },
     "output_type": "display_data"
    }
   ],
   "source": [
    "import matplotlib.pyplot as plt\n",
    "\n",
    "xs = [(i+1)*250 for i in range(8)]\n",
    "\n",
    "\n",
    "plt.ylim((0, 1))\n",
    "\n",
    "plt.title(\"AMP Task (from DynaPPO)\")\n",
    "plt.xlabel(\"\\# of samples\")\n",
    "plt.ylabel(\"Score given by oracle\")\n",
    "\n",
    "\n",
    "for name, res in results.items():\n",
    "    plt.plot(xs, res, label=name)\n",
    "    \n",
    "plt.legend()"
   ]
  },
  {
   "cell_type": "code",
   "execution_count": null,
   "id": "bc27d62b-f53a-4d83-b16a-4ddd843c1f6c",
   "metadata": {},
   "outputs": [],
   "source": []
  }
 ],
 "metadata": {
  "kernelspec": {
   "display_name": "Python 3 (ipykernel)",
   "language": "python",
   "name": "python3"
  },
  "language_info": {
   "codemirror_mode": {
    "name": "ipython",
    "version": 3
   },
   "file_extension": ".py",
   "mimetype": "text/x-python",
   "name": "python",
   "nbconvert_exporter": "python",
   "pygments_lexer": "ipython3",
   "version": "3.7.11"
  }
 },
 "nbformat": 4,
 "nbformat_minor": 5
}
