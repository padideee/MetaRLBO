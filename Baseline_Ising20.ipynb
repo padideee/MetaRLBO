{
 "cells": [
  {
   "cell_type": "code",
   "execution_count": 15,
   "id": "d322db38",
   "metadata": {},
   "outputs": [],
   "source": [
    "import flexs"
   ]
  },
  {
   "cell_type": "code",
   "execution_count": 16,
   "id": "df710bfd",
   "metadata": {},
   "outputs": [],
   "source": [
    "import editdistance\n",
    "import matplotlib.pyplot as plt\n",
    "import seaborn as sns\n",
    "import pandas as pd\n",
    "import pprint\n",
    "import numpy as np\n",
    "import json\n",
    "\n",
    "import flexs\n",
    "from flexs import baselines\n",
    "import flexs.utils.sequence_utils as s_utils\n",
    "import torch.nn.functional as F\n",
    "import torch"
   ]
  },
  {
   "cell_type": "code",
   "execution_count": 17,
   "id": "782b30e1",
   "metadata": {},
   "outputs": [],
   "source": [
    "seq_len = 20 # 20 or 50!\n",
    "exp_name = 'Ising20'"
   ]
  },
  {
   "cell_type": "code",
   "execution_count": 18,
   "id": "624fe3ad",
   "metadata": {},
   "outputs": [],
   "source": [
    "\n",
    "from oracles.custom_models.alt_ising_model import AlternatingChainIsingModel\n",
    "\n",
    "def AltIsingModel(length=50, vocab_size=20):\n",
    "    return AlternatingChainIsingModel(length=length, vocab_size=vocab_size)\n",
    "\n",
    "\n",
    "model = AltIsingModel(length=seq_len, vocab_size=20)"
   ]
  },
  {
   "cell_type": "code",
   "execution_count": 19,
   "id": "2aaa5be2",
   "metadata": {},
   "outputs": [],
   "source": [
    "from collections import OrderedDict\n",
    "\n",
    "# enc_len = 50\n",
    "num_actions = 20\n",
    "\n",
    "\n",
    "char_pairs = [('A', 0), ('R', 1), ('N', 2), ('D', 3), ('C', 4), ('E', 5), ('Q', 6), ('G', 7), ('H', 8), ('I', 9), ('L', 10), ('K', 11), ('M', 12), ('F', 13), ('P', 14), ('S', 15), ('T', 16), ('W', 17), ('Y', 18), ('V', 19), ('>', 20)]\n",
    "mol_enc = OrderedDict(char_pairs)\n",
    "enc_mol = OrderedDict(list(map(lambda x : (x[1], x[0]), char_pairs)))"
   ]
  },
  {
   "cell_type": "code",
   "execution_count": 20,
   "id": "30902877",
   "metadata": {},
   "outputs": [],
   "source": [
    "def seq_to_enc(seq):\n",
    "    enc = [None for i in range(len(seq))]\n",
    "    for i in range(len(seq)):\n",
    "        enc[i] = mol_enc[seq[i]]\n",
    "    \n",
    "    return F.one_hot(torch.tensor(enc), num_classes=num_actions).numpy()"
   ]
  },
  {
   "cell_type": "code",
   "execution_count": 21,
   "id": "752a99d1",
   "metadata": {},
   "outputs": [],
   "source": [
    "def convertor(sequences):\n",
    "    \"\"\"\n",
    "        Does the padding of the sequences to the correct length... w/ the extra chars...\n",
    "        \n",
    "        Input: sequences List[str]\n",
    "        \n",
    "        Return: list[ndarray]\n",
    "    \"\"\"\n",
    "    \n",
    "    all_seqs = []\n",
    "    for seq in sequences:\n",
    "        all_seqs.append(seq_to_enc(seq)) # Not flattened for this problem\n",
    "        \n",
    "    return np.stack(all_seqs)\n",
    "    \n",
    "    \n",
    "    "
   ]
  },
  {
   "cell_type": "code",
   "execution_count": 22,
   "id": "038bcc08",
   "metadata": {},
   "outputs": [],
   "source": [
    "import pickle\n",
    "\n",
    "class IsingLandscape(flexs.Landscape):\n",
    "    \"\"\"AMP landscape.\"\"\"\n",
    "\n",
    "    def __init__(self, seq_len):\n",
    "        \"\"\"Create a AMP landscape.\"\"\"\n",
    "        super().__init__(name=f\"Ising{seq_len}\")\n",
    "        self.alphabet = flexs\n",
    "        \n",
    "        self.model = AltIsingModel(length=seq_len, vocab_size=20)\n",
    "\n",
    "\n",
    "    def _fitness_function(self, sequences):\n",
    "        \"\"\"\n",
    "            Takes as input a list of strings (w/ alphabet of 20)\n",
    "            \n",
    "            \n",
    "            Returns numpy array of scores\n",
    "        \"\"\"\n",
    "        \n",
    "        np_seqs = convertor(sequences)\n",
    "        scores = self.model(np_seqs.argmax(-1))\n",
    "        \n",
    "        return scores"
   ]
  },
  {
   "cell_type": "code",
   "execution_count": 23,
   "id": "216542a7",
   "metadata": {},
   "outputs": [],
   "source": [
    "def get_scores(sequences, nRounds):\n",
    "    run_max_scores = []\n",
    "    for i in range(nRounds):\n",
    "        max_found = sequences[sequences['round'] <= i+1].true_score.max()\n",
    "        run_max_scores.append(max_found)\n",
    "    return run_max_scores\n",
    "    "
   ]
  },
  {
   "cell_type": "code",
   "execution_count": 24,
   "id": "fbbb45d7",
   "metadata": {},
   "outputs": [],
   "source": [
    "landscape = IsingLandscape(seq_len)\n",
    "alph_chars = list(mol_enc.keys())[:-1]\n",
    "alphabet=''.join(alph_chars)"
   ]
  },
  {
   "cell_type": "code",
   "execution_count": 25,
   "id": "184689d1",
   "metadata": {},
   "outputs": [
    {
     "data": {
      "text/plain": [
       "['Random_Explorer_2022-01-25T15:00:14.265595.csv']"
      ]
     },
     "execution_count": 25,
     "metadata": {},
     "output_type": "execute_result"
    }
   ],
   "source": [
    "from datetime import datetime\n",
    "import os\n",
    "\n",
    "logs_dir = f'./analysis/{exp_name}'\n",
    "\n",
    "def get_time():\n",
    "    return datetime.now().isoformat()\n",
    "\n",
    "os.listdir(logs_dir)"
   ]
  },
  {
   "cell_type": "code",
   "execution_count": 26,
   "id": "32814367",
   "metadata": {},
   "outputs": [],
   "source": [
    "query_batch_size = 500\n",
    "model_queries_per_batch = 4000\n",
    "nRounds = 16\n",
    "nRuns = 3"
   ]
  },
  {
   "cell_type": "code",
   "execution_count": 27,
   "id": "d9397027",
   "metadata": {},
   "outputs": [],
   "source": [
    "# Start from a random sequence!\n",
    "\n",
    "rand_seq_len = seq_len\n",
    "\n",
    "\n",
    "def random_start():\n",
    "    starting_sequence = \"\".join([np.random.choice(list(alph_chars)) for _ in range(rand_seq_len)])\n",
    "    return starting_sequence\n",
    "\n",
    "def store_results(results, baseline_name):\n",
    "    import os\n",
    "    with open(os.path.join(logs_dir, f\"{baseline_name}_baseline_results.json\"), \"w\") as f:\n",
    "        json.dump(results, f)\n",
    "\n",
    "starting_sequence = random_start()"
   ]
  },
  {
   "cell_type": "markdown",
   "id": "6216eb78",
   "metadata": {},
   "source": [
    "## Random Explorer"
   ]
  },
  {
   "cell_type": "code",
   "execution_count": 28,
   "id": "e2ff192b",
   "metadata": {},
   "outputs": [
    {
     "name": "stdout",
     "output_type": "stream",
     "text": [
      "round: 0, top: 2.0, time: 0.001661s\n",
      "round: 1, top: 4.0, time: 2.150102s\n",
      "round: 2, top: 4.0, time: 2.495977s\n",
      "round: 3, top: 4.0, time: 3.317954s\n",
      "round: 4, top: 4.0, time: 4.003099s\n",
      "round: 5, top: 4.0, time: 7.298541s\n",
      "round: 6, top: 6.0, time: 10.521020s\n",
      "round: 7, top: 6.0, time: 11.262097s\n",
      "round: 8, top: 6.0, time: 10.558063s\n",
      "round: 9, top: 6.0, time: 14.157281s\n",
      "round: 10, top: 6.0, time: 11.554172s\n",
      "round: 11, top: 6.0, time: 12.230251s\n",
      "round: 12, top: 6.0, time: 17.397320s\n",
      "round: 13, top: 6.0, time: 16.993301s\n",
      "round: 14, top: 6.0, time: 18.446965s\n",
      "round: 15, top: 6.0, time: 22.188700s\n",
      "round: 16, top: 6.0, time: 17.781346s\n",
      "round: 0, top: 0.0, time: 0.000232s\n",
      "round: 1, top: 2.0, time: 3.951832s\n",
      "round: 2, top: 2.0, time: 2.913171s\n",
      "round: 3, top: 3.0, time: 4.040678s\n",
      "round: 4, top: 3.0, time: 4.305081s\n",
      "round: 5, top: 3.0, time: 6.433593s\n",
      "round: 6, top: 4.0, time: 7.088112s\n",
      "round: 7, top: 4.0, time: 11.469468s\n",
      "round: 8, top: 4.0, time: 10.417594s\n",
      "round: 9, top: 4.0, time: 9.126615s\n",
      "round: 10, top: 4.0, time: 10.553292s\n",
      "round: 11, top: 4.0, time: 12.651519s\n",
      "round: 12, top: 4.0, time: 17.007717s\n",
      "round: 13, top: 4.0, time: 17.856214s\n",
      "round: 14, top: 4.0, time: 22.017839s\n",
      "round: 15, top: 4.0, time: 15.845290s\n",
      "round: 16, top: 4.0, time: 19.849473s\n",
      "round: 0, top: 0.0, time: 0.000371s\n",
      "round: 1, top: 2.0, time: 4.528097s\n",
      "round: 2, top: 2.0, time: 2.316782s\n",
      "round: 3, top: 3.0, time: 3.963393s\n",
      "round: 4, top: 3.0, time: 6.184187s\n",
      "round: 5, top: 3.0, time: 5.179198s\n",
      "round: 6, top: 3.0, time: 7.307123s\n",
      "round: 7, top: 3.0, time: 8.118914s\n",
      "round: 8, top: 3.0, time: 9.026118s\n",
      "round: 9, top: 4.0, time: 9.569155s\n",
      "round: 10, top: 4.0, time: 11.712518s\n",
      "round: 11, top: 4.0, time: 12.747835s\n",
      "round: 12, top: 4.0, time: 14.676001s\n",
      "round: 13, top: 4.0, time: 22.451578s\n",
      "round: 14, top: 4.0, time: 19.603283s\n",
      "round: 15, top: 5.0, time: 22.034864s\n",
      "round: 16, top: 5.0, time: 21.924471s\n"
     ]
    }
   ],
   "source": [
    "\n",
    "\n",
    "for _ in range(nRuns):\n",
    "    starting_sequence = random_start()\n",
    "    cnn = baselines.models.CNN(len(starting_sequence), alphabet=alphabet,\n",
    "                             num_filters=32, hidden_size=100, loss='MSE')\n",
    "\n",
    "    random_explorer = baselines.explorers.Random(\n",
    "        cnn,\n",
    "        rounds=nRounds,\n",
    "        mu=1,\n",
    "        starting_sequence=starting_sequence,\n",
    "        sequences_batch_size=query_batch_size,\n",
    "        model_queries_per_batch=model_queries_per_batch,\n",
    "        alphabet=alphabet\n",
    "    )\n",
    "\n",
    "\n",
    "    random_sequences, metadata = random_explorer.run(landscape)\n",
    "    fname = \"Random_Explorer_\" + get_time() + \".csv\"\n",
    "    random_sequences.to_csv(os.path.join(logs_dir, fname))\n",
    "    random_sequences"
   ]
  },
  {
   "cell_type": "markdown",
   "id": "2e988203",
   "metadata": {},
   "source": [
    "## Adalead Explorer"
   ]
  },
  {
   "cell_type": "code",
   "execution_count": 29,
   "id": "730230e5",
   "metadata": {},
   "outputs": [
    {
     "name": "stdout",
     "output_type": "stream",
     "text": [
      "round: 0, top: 0.0, time: 0.000541s\n",
      "round: 1, top: 3.0, time: 100.321170s\n",
      "round: 2, top: 5.0, time: 97.388045s\n",
      "round: 3, top: 7.0, time: 35.334614s\n",
      "round: 4, top: 9.0, time: 43.163657s\n",
      "round: 5, top: 10.0, time: 32.776505s\n",
      "round: 6, top: 11.0, time: 34.348356s\n",
      "round: 7, top: 12.0, time: 35.501030s\n",
      "round: 8, top: 12.0, time: 36.892123s\n",
      "round: 9, top: 13.0, time: 40.426834s\n",
      "round: 10, top: 13.0, time: 32.969383s\n",
      "round: 11, top: 14.0, time: 23.383321s\n",
      "round: 12, top: 14.0, time: 21.164380s\n",
      "round: 13, top: 16.0, time: 23.218679s\n",
      "round: 14, top: 16.0, time: 32.544640s\n",
      "round: 15, top: 16.0, time: 23.483199s\n",
      "round: 16, top: 17.0, time: 24.139629s\n",
      "round: 0, top: 1.0, time: 0.000335s\n",
      "round: 1, top: 3.0, time: 13.802107s\n",
      "round: 2, top: 5.0, time: 18.542640s\n",
      "round: 3, top: 7.0, time: 24.477063s\n",
      "round: 4, top: 8.0, time: 18.794301s\n",
      "round: 5, top: 10.0, time: 19.634175s\n",
      "round: 6, top: 12.0, time: 17.404062s\n",
      "round: 7, top: 13.0, time: 17.131866s\n",
      "round: 8, top: 13.0, time: 18.106939s\n",
      "round: 9, top: 14.0, time: 23.471100s\n",
      "round: 10, top: 15.0, time: 20.796071s\n",
      "round: 11, top: 15.0, time: 20.539471s\n",
      "round: 12, top: 15.0, time: 20.926134s\n",
      "round: 13, top: 15.0, time: 22.174713s\n",
      "round: 14, top: 16.0, time: 33.893589s\n",
      "round: 15, top: 16.0, time: 32.187364s\n",
      "round: 16, top: 16.0, time: 33.199482s\n",
      "round: 0, top: 1.0, time: 0.000774s\n",
      "round: 1, top: 3.0, time: 15.423993s\n",
      "round: 2, top: 5.0, time: 21.787282s\n",
      "round: 3, top: 6.0, time: 21.505525s\n",
      "round: 4, top: 8.0, time: 18.631986s\n",
      "round: 5, top: 9.0, time: 15.890063s\n",
      "round: 6, top: 10.0, time: 20.221935s\n",
      "round: 7, top: 11.0, time: 19.798526s\n",
      "round: 8, top: 12.0, time: 24.205227s\n",
      "round: 9, top: 13.0, time: 20.524407s\n",
      "round: 10, top: 14.0, time: 20.313710s\n",
      "round: 11, top: 14.0, time: 23.622672s\n",
      "round: 12, top: 14.0, time: 21.389616s\n",
      "round: 13, top: 15.0, time: 22.796872s\n",
      "round: 14, top: 15.0, time: 23.410603s\n",
      "round: 15, top: 15.0, time: 24.767898s\n",
      "round: 16, top: 15.0, time: 24.471356s\n"
     ]
    }
   ],
   "source": [
    "\n",
    "\n",
    "for _ in range(nRuns):\n",
    "    starting_sequence = random_start()\n",
    "    \n",
    "    cnn = baselines.models.CNN(len(starting_sequence), alphabet=alphabet,\n",
    "                             num_filters=32, hidden_size=100, loss='MSE')\n",
    "\n",
    "    adalead_explorer = baselines.explorers.Adalead(\n",
    "        cnn,\n",
    "        rounds=nRounds,\n",
    "        starting_sequence=starting_sequence,\n",
    "        sequences_batch_size=query_batch_size,\n",
    "        model_queries_per_batch=model_queries_per_batch,\n",
    "        alphabet=alphabet\n",
    "    )\n",
    "\n",
    "\n",
    "\n",
    "    adalead_sequences, metadata = adalead_explorer.run(landscape)\n",
    "    fname = \"Adalead_Explorer_\" + get_time() + \".csv\"\n",
    "    adalead_sequences.to_csv(os.path.join(logs_dir, fname))\n",
    "    adalead_sequences"
   ]
  },
  {
   "cell_type": "code",
   "execution_count": 30,
   "id": "01558a50",
   "metadata": {},
   "outputs": [],
   "source": [
    "# import json\n",
    "\n",
    "# with open(os.path.join(logs_dir, \"adalead_baseline_results.json\"), \"w\") as f:\n",
    "#     json.dump(explorer_scores, f)"
   ]
  },
  {
   "cell_type": "markdown",
   "id": "56cbf8df",
   "metadata": {},
   "source": [
    "## Genetic Explorer"
   ]
  },
  {
   "cell_type": "code",
   "execution_count": null,
   "id": "7308f3ad",
   "metadata": {},
   "outputs": [
    {
     "name": "stdout",
     "output_type": "stream",
     "text": [
      "round: 0, top: 1.0, time: 0.001779s\n"
     ]
    }
   ],
   "source": [
    "for _ in range(nRuns):\n",
    "    cnn = baselines.models.CNN(len(starting_sequence), alphabet=alphabet,\n",
    "                             num_filters=32, hidden_size=100, loss='MSE')\n",
    "\n",
    "    genetic_explorer = baselines.explorers.GeneticAlgorithm(\n",
    "        cnn,\n",
    "\n",
    "        population_size=8,\n",
    "        parent_selection_strategy='wright-fisher', # wright-fisher model decides who gets to 'mate'\n",
    "        beta=0.01,\n",
    "        children_proportion=0.2,\n",
    "\n",
    "        rounds=nRounds,\n",
    "        starting_sequence=starting_sequence,\n",
    "        sequences_batch_size=query_batch_size,\n",
    "        model_queries_per_batch=model_queries_per_batch,\n",
    "        alphabet=alphabet\n",
    "    )\n",
    "\n",
    "\n",
    "    genetic_algo_sequences, metadata = genetic_explorer.run(landscape)\n",
    "    fname = \"Genetic_Explorer_\" + get_time() + \".csv\"\n",
    "    genetic_algo_sequences.to_csv(os.path.join(logs_dir, fname))\n",
    "    genetic_algo_sequences"
   ]
  },
  {
   "cell_type": "markdown",
   "id": "1a73e436",
   "metadata": {},
   "source": [
    "## CMAES"
   ]
  },
  {
   "cell_type": "code",
   "execution_count": 32,
   "id": "4d88b7a4",
   "metadata": {},
   "outputs": [
    {
     "name": "stdout",
     "output_type": "stream",
     "text": [
      "round: 0, top: 1.0, time: 0.000340s\n",
      "round: 1, top: 4.0, time: 18.560867s\n",
      "round: 2, top: 4.0, time: 22.649351s\n",
      "round: 3, top: 6.0, time: 21.472733s\n",
      "round: 4, top: 6.0, time: 24.543971s\n",
      "round: 5, top: 6.0, time: 26.258149s\n",
      "round: 6, top: 6.0, time: 18.574942s\n",
      "round: 7, top: 6.0, time: 14.936915s\n",
      "round: 8, top: 6.0, time: 26.790218s\n",
      "round: 9, top: 6.0, time: 35.851884s\n",
      "round: 10, top: 6.0, time: 10.540258s\n",
      "round: 11, top: 6.0, time: 13.658385s\n",
      "round: 12, top: 6.0, time: 7.994963s\n",
      "round: 13, top: 6.0, time: 7.950749s\n",
      "round: 14, top: 7.0, time: 15.459680s\n",
      "round: 15, top: 7.0, time: 6.113836s\n",
      "round: 16, top: 7.0, time: 8.019704s\n",
      "round: 0, top: 1.0, time: 0.000232s\n",
      "round: 1, top: 3.0, time: 7.619569s\n",
      "round: 2, top: 5.0, time: 7.260200s\n",
      "round: 3, top: 5.0, time: 5.941866s\n",
      "round: 4, top: 5.0, time: 5.960084s\n",
      "round: 5, top: 5.0, time: 7.188241s\n",
      "round: 6, top: 5.0, time: 18.192449s\n",
      "round: 7, top: 6.0, time: 27.182322s\n",
      "round: 8, top: 6.0, time: 34.530914s\n",
      "round: 9, top: 6.0, time: 26.166909s\n",
      "round: 10, top: 6.0, time: 37.388596s\n",
      "round: 11, top: 6.0, time: 29.794622s\n",
      "round: 12, top: 6.0, time: 43.121815s\n",
      "round: 13, top: 6.0, time: 34.422123s\n",
      "round: 14, top: 6.0, time: 24.775756s\n",
      "round: 15, top: 6.0, time: 23.970773s\n",
      "round: 16, top: 6.0, time: 28.051737s\n",
      "round: 0, top: 1.0, time: 0.000343s\n",
      "round: 1, top: 3.0, time: 29.171760s\n",
      "round: 2, top: 5.0, time: 31.745061s\n",
      "round: 3, top: 5.0, time: 34.400466s\n",
      "round: 4, top: 5.0, time: 27.858932s\n",
      "round: 5, top: 5.0, time: 30.122614s\n",
      "round: 6, top: 5.0, time: 48.823818s\n",
      "round: 7, top: 5.0, time: 27.655814s\n",
      "round: 8, top: 5.0, time: 20.585543s\n",
      "round: 9, top: 5.0, time: 22.765882s\n",
      "round: 10, top: 5.0, time: 30.732466s\n",
      "round: 11, top: 6.0, time: 20.874701s\n",
      "round: 12, top: 6.0, time: 29.670833s\n",
      "round: 13, top: 6.0, time: 23.217117s\n",
      "round: 14, top: 6.0, time: 23.779196s\n",
      "round: 15, top: 6.0, time: 28.973776s\n",
      "round: 16, top: 6.0, time: 21.835877s\n"
     ]
    }
   ],
   "source": [
    "for _ in range(nRuns):\n",
    "\n",
    "    cnn = baselines.models.CNN(len(starting_sequence), alphabet=alphabet,\n",
    "                             num_filters=32, hidden_size=100, loss='MSE')\n",
    "\n",
    "    cmaes_explorer = baselines.explorers.CMAES(\n",
    "        flexs.LandscapeAsModel(landscape),\n",
    "\n",
    "        population_size=10,\n",
    "        max_iter=200,\n",
    "\n",
    "        rounds=nRounds,\n",
    "        starting_sequence=starting_sequence,\n",
    "        sequences_batch_size=query_batch_size,\n",
    "        model_queries_per_batch=model_queries_per_batch,\n",
    "        alphabet=alphabet\n",
    "    )\n",
    "\n",
    "    cmaes_sequences, metadata = cmaes_explorer.run(landscape)\n",
    "    fname = \"CMAES_Explorer_\" + get_time() + \".csv\"\n",
    "    cmaes_sequences.to_csv(os.path.join(logs_dir, fname))\n",
    "    cmaes_sequences"
   ]
  },
  {
   "cell_type": "markdown",
   "id": "1997bbe1",
   "metadata": {},
   "source": [
    "## DynaPPO"
   ]
  },
  {
   "cell_type": "code",
   "execution_count": 34,
   "id": "b563131c",
   "metadata": {},
   "outputs": [
    {
     "name": "stderr",
     "output_type": "stream",
     "text": [
      "/Users/leofeng/miniconda3/envs/flexsenv/lib/python3.7/site-packages/sklearn/linear_model/_coordinate_descent.py:532: ConvergenceWarning: Objective did not converge. You might want to increase the number of iterations. Duality gap: 0.0, tolerance: 0.0\n",
      "  positive)\n"
     ]
    },
    {
     "name": "stdout",
     "output_type": "stream",
     "text": [
      "BoundedTensorSpec(shape=(), dtype=tf.int64, name='action', minimum=array(0), maximum=array(19))\n",
      "round: 0, top: 1.0, time: 0.004836s\n",
      "WARNING:tensorflow:From /Users/leofeng/miniconda3/envs/flexsenv/lib/python3.7/site-packages/flexs/baselines/explorers/dyna_ppo.py:287: ReplayBuffer.gather_all (from tf_agents.replay_buffers.replay_buffer) is deprecated and will be removed in a future version.\n",
      "Instructions for updating:\n",
      "Use `as_dataset(..., single_deterministic_pass=True)` instead.\n",
      "round: 1, top: 5.0, time: 204.439113s\n",
      "round: 2, top: 5.0, time: 371.667588s\n",
      "round: 3, top: 5.0, time: 639.979513s\n",
      "round: 4, top: 5.0, time: 698.987177s\n",
      "round: 5, top: 6.0, time: 899.983372s\n"
     ]
    },
    {
     "ename": "KeyboardInterrupt",
     "evalue": "",
     "output_type": "error",
     "traceback": [
      "\u001b[0;31m---------------------------------------------------------------------------\u001b[0m",
      "\u001b[0;31mKeyboardInterrupt\u001b[0m                         Traceback (most recent call last)",
      "\u001b[0;32m/var/folders/f4/xryngv2x045_m6s988v9s80c0000gn/T/ipykernel_28762/3300625819.py\u001b[0m in \u001b[0;36m<module>\u001b[0;34m\u001b[0m\n\u001b[1;32m     16\u001b[0m \u001b[0;34m\u001b[0m\u001b[0m\n\u001b[1;32m     17\u001b[0m \u001b[0;34m\u001b[0m\u001b[0m\n\u001b[0;32m---> 18\u001b[0;31m     \u001b[0mdynappo_sequences\u001b[0m\u001b[0;34m,\u001b[0m \u001b[0mmetadata\u001b[0m \u001b[0;34m=\u001b[0m \u001b[0mdynappo_explorer\u001b[0m\u001b[0;34m.\u001b[0m\u001b[0mrun\u001b[0m\u001b[0;34m(\u001b[0m\u001b[0mlandscape\u001b[0m\u001b[0;34m)\u001b[0m\u001b[0;34m\u001b[0m\u001b[0;34m\u001b[0m\u001b[0m\n\u001b[0m\u001b[1;32m     19\u001b[0m     \u001b[0mfname\u001b[0m \u001b[0;34m=\u001b[0m \u001b[0;34m\"DynaPPO_Explorer_\"\u001b[0m \u001b[0;34m+\u001b[0m \u001b[0mget_time\u001b[0m\u001b[0;34m(\u001b[0m\u001b[0;34m)\u001b[0m \u001b[0;34m+\u001b[0m \u001b[0;34m\".csv\"\u001b[0m\u001b[0;34m\u001b[0m\u001b[0;34m\u001b[0m\u001b[0m\n\u001b[1;32m     20\u001b[0m     \u001b[0mdynappo_sequences\u001b[0m\u001b[0;34m.\u001b[0m\u001b[0mto_csv\u001b[0m\u001b[0;34m(\u001b[0m\u001b[0mos\u001b[0m\u001b[0;34m.\u001b[0m\u001b[0mpath\u001b[0m\u001b[0;34m.\u001b[0m\u001b[0mjoin\u001b[0m\u001b[0;34m(\u001b[0m\u001b[0mlogs_dir\u001b[0m\u001b[0;34m,\u001b[0m \u001b[0mfname\u001b[0m\u001b[0;34m)\u001b[0m\u001b[0;34m)\u001b[0m\u001b[0;34m\u001b[0m\u001b[0;34m\u001b[0m\u001b[0m\n",
      "\u001b[0;32m~/miniconda3/envs/flexsenv/lib/python3.7/site-packages/flexs/explorer.py\u001b[0m in \u001b[0;36mrun\u001b[0;34m(self, landscape, verbose)\u001b[0m\n\u001b[1;32m    160\u001b[0m             )\n\u001b[1;32m    161\u001b[0m \u001b[0;34m\u001b[0m\u001b[0m\n\u001b[0;32m--> 162\u001b[0;31m             \u001b[0mseqs\u001b[0m\u001b[0;34m,\u001b[0m \u001b[0mpreds\u001b[0m \u001b[0;34m=\u001b[0m \u001b[0mself\u001b[0m\u001b[0;34m.\u001b[0m\u001b[0mpropose_sequences\u001b[0m\u001b[0;34m(\u001b[0m\u001b[0msequences_data\u001b[0m\u001b[0;34m)\u001b[0m\u001b[0;34m\u001b[0m\u001b[0;34m\u001b[0m\u001b[0m\n\u001b[0m\u001b[1;32m    163\u001b[0m             \u001b[0mtrue_score\u001b[0m \u001b[0;34m=\u001b[0m \u001b[0mlandscape\u001b[0m\u001b[0;34m.\u001b[0m\u001b[0mget_fitness\u001b[0m\u001b[0;34m(\u001b[0m\u001b[0mseqs\u001b[0m\u001b[0;34m)\u001b[0m\u001b[0;34m\u001b[0m\u001b[0;34m\u001b[0m\u001b[0m\n\u001b[1;32m    164\u001b[0m \u001b[0;34m\u001b[0m\u001b[0m\n",
      "\u001b[0;32m~/miniconda3/envs/flexsenv/lib/python3.7/site-packages/flexs/baselines/explorers/dyna_ppo.py\u001b[0m in \u001b[0;36mpropose_sequences\u001b[0;34m(self, measured_sequences_data)\u001b[0m\n\u001b[1;32m    301\u001b[0m                 \u001b[0mself\u001b[0m\u001b[0;34m.\u001b[0m\u001b[0mmodel_queries_per_batch\u001b[0m \u001b[0;34m/\u001b[0m \u001b[0mself\u001b[0m\u001b[0;34m.\u001b[0m\u001b[0mnum_model_rounds\u001b[0m\u001b[0;34m\u001b[0m\u001b[0;34m\u001b[0m\u001b[0m\n\u001b[1;32m    302\u001b[0m             ):\n\u001b[0;32m--> 303\u001b[0;31m                 \u001b[0mcollect_driver\u001b[0m\u001b[0;34m.\u001b[0m\u001b[0mrun\u001b[0m\u001b[0;34m(\u001b[0m\u001b[0;34m)\u001b[0m\u001b[0;34m\u001b[0m\u001b[0;34m\u001b[0m\u001b[0m\n\u001b[0m\u001b[1;32m    304\u001b[0m \u001b[0;34m\u001b[0m\u001b[0m\n\u001b[1;32m    305\u001b[0m             \u001b[0mtrajectories\u001b[0m \u001b[0;34m=\u001b[0m \u001b[0mreplay_buffer\u001b[0m\u001b[0;34m.\u001b[0m\u001b[0mgather_all\u001b[0m\u001b[0;34m(\u001b[0m\u001b[0;34m)\u001b[0m\u001b[0;34m\u001b[0m\u001b[0;34m\u001b[0m\u001b[0m\n",
      "\u001b[0;32m~/miniconda3/envs/flexsenv/lib/python3.7/site-packages/tf_agents/drivers/dynamic_episode_driver.py\u001b[0m in \u001b[0;36mrun\u001b[0;34m(self, time_step, policy_state, num_episodes, maximum_iterations)\u001b[0m\n\u001b[1;32m    213\u001b[0m         \u001b[0mpolicy_state\u001b[0m\u001b[0;34m=\u001b[0m\u001b[0mpolicy_state\u001b[0m\u001b[0;34m,\u001b[0m\u001b[0;34m\u001b[0m\u001b[0;34m\u001b[0m\u001b[0m\n\u001b[1;32m    214\u001b[0m         \u001b[0mnum_episodes\u001b[0m\u001b[0;34m=\u001b[0m\u001b[0mnum_episodes\u001b[0m\u001b[0;34m,\u001b[0m\u001b[0;34m\u001b[0m\u001b[0;34m\u001b[0m\u001b[0m\n\u001b[0;32m--> 215\u001b[0;31m         maximum_iterations=maximum_iterations)\n\u001b[0m\u001b[1;32m    216\u001b[0m \u001b[0;34m\u001b[0m\u001b[0m\n\u001b[1;32m    217\u001b[0m   def _run(self,\n",
      "\u001b[0;32m~/miniconda3/envs/flexsenv/lib/python3.7/site-packages/tf_agents/utils/common.py\u001b[0m in \u001b[0;36mwith_check_resource_vars\u001b[0;34m(*fn_args, **fn_kwargs)\u001b[0m\n\u001b[1;32m    186\u001b[0m         \u001b[0;31m# We're either in eager mode or in tf.function mode (no in-between); so\u001b[0m\u001b[0;34m\u001b[0m\u001b[0;34m\u001b[0m\u001b[0;34m\u001b[0m\u001b[0m\n\u001b[1;32m    187\u001b[0m         \u001b[0;31m# autodep-like behavior is already expected of fn.\u001b[0m\u001b[0;34m\u001b[0m\u001b[0;34m\u001b[0m\u001b[0;34m\u001b[0m\u001b[0m\n\u001b[0;32m--> 188\u001b[0;31m         \u001b[0;32mreturn\u001b[0m \u001b[0mfn\u001b[0m\u001b[0;34m(\u001b[0m\u001b[0;34m*\u001b[0m\u001b[0mfn_args\u001b[0m\u001b[0;34m,\u001b[0m \u001b[0;34m**\u001b[0m\u001b[0mfn_kwargs\u001b[0m\u001b[0;34m)\u001b[0m\u001b[0;34m\u001b[0m\u001b[0;34m\u001b[0m\u001b[0m\n\u001b[0m\u001b[1;32m    189\u001b[0m       \u001b[0;32mif\u001b[0m \u001b[0;32mnot\u001b[0m \u001b[0mresource_variables_enabled\u001b[0m\u001b[0;34m(\u001b[0m\u001b[0;34m)\u001b[0m\u001b[0;34m:\u001b[0m\u001b[0;34m\u001b[0m\u001b[0;34m\u001b[0m\u001b[0m\n\u001b[1;32m    190\u001b[0m         \u001b[0;32mraise\u001b[0m \u001b[0mRuntimeError\u001b[0m\u001b[0;34m(\u001b[0m\u001b[0mMISSING_RESOURCE_VARIABLES_ERROR\u001b[0m\u001b[0;34m)\u001b[0m\u001b[0;34m\u001b[0m\u001b[0;34m\u001b[0m\u001b[0m\n",
      "\u001b[0;32m~/miniconda3/envs/flexsenv/lib/python3.7/site-packages/tf_agents/drivers/dynamic_episode_driver.py\u001b[0m in \u001b[0;36m_run\u001b[0;34m(self, time_step, policy_state, num_episodes, maximum_iterations)\u001b[0m\n\u001b[1;32m    242\u001b[0m             \u001b[0mparallel_iterations\u001b[0m\u001b[0;34m=\u001b[0m\u001b[0;36m1\u001b[0m\u001b[0;34m,\u001b[0m\u001b[0;34m\u001b[0m\u001b[0;34m\u001b[0m\u001b[0m\n\u001b[1;32m    243\u001b[0m             \u001b[0mmaximum_iterations\u001b[0m\u001b[0;34m=\u001b[0m\u001b[0mmaximum_iterations\u001b[0m\u001b[0;34m,\u001b[0m\u001b[0;34m\u001b[0m\u001b[0;34m\u001b[0m\u001b[0m\n\u001b[0;32m--> 244\u001b[0;31m             name='driver_loop'))\n\u001b[0m\u001b[1;32m    245\u001b[0m \u001b[0;34m\u001b[0m\u001b[0m\n\u001b[1;32m    246\u001b[0m     \u001b[0;32mreturn\u001b[0m \u001b[0mtime_step\u001b[0m\u001b[0;34m,\u001b[0m \u001b[0mpolicy_state\u001b[0m\u001b[0;34m\u001b[0m\u001b[0;34m\u001b[0m\u001b[0m\n",
      "\u001b[0;32m~/miniconda3/envs/flexsenv/lib/python3.7/site-packages/tensorflow/python/util/deprecation.py\u001b[0m in \u001b[0;36mnew_func\u001b[0;34m(*args, **kwargs)\u001b[0m\n\u001b[1;32m    618\u001b[0m                   \u001b[0mfunc\u001b[0m\u001b[0;34m.\u001b[0m\u001b[0m__module__\u001b[0m\u001b[0;34m,\u001b[0m \u001b[0marg_name\u001b[0m\u001b[0;34m,\u001b[0m \u001b[0marg_value\u001b[0m\u001b[0;34m,\u001b[0m \u001b[0;34m'in a future version'\u001b[0m\u001b[0;34m\u001b[0m\u001b[0;34m\u001b[0m\u001b[0m\n\u001b[1;32m    619\u001b[0m                   if date is None else ('after %s' % date), instructions)\n\u001b[0;32m--> 620\u001b[0;31m       \u001b[0;32mreturn\u001b[0m \u001b[0mfunc\u001b[0m\u001b[0;34m(\u001b[0m\u001b[0;34m*\u001b[0m\u001b[0margs\u001b[0m\u001b[0;34m,\u001b[0m \u001b[0;34m**\u001b[0m\u001b[0mkwargs\u001b[0m\u001b[0;34m)\u001b[0m\u001b[0;34m\u001b[0m\u001b[0;34m\u001b[0m\u001b[0m\n\u001b[0m\u001b[1;32m    621\u001b[0m \u001b[0;34m\u001b[0m\u001b[0m\n\u001b[1;32m    622\u001b[0m     doc = _add_deprecated_arg_value_notice_to_docstring(\n",
      "\u001b[0;32m~/miniconda3/envs/flexsenv/lib/python3.7/site-packages/tensorflow/python/ops/control_flow_ops.py\u001b[0m in \u001b[0;36mwhile_loop_v2\u001b[0;34m(cond, body, loop_vars, shape_invariants, parallel_iterations, back_prop, swap_memory, maximum_iterations, name)\u001b[0m\n\u001b[1;32m   2556\u001b[0m       \u001b[0mname\u001b[0m\u001b[0;34m=\u001b[0m\u001b[0mname\u001b[0m\u001b[0;34m,\u001b[0m\u001b[0;34m\u001b[0m\u001b[0;34m\u001b[0m\u001b[0m\n\u001b[1;32m   2557\u001b[0m       \u001b[0mmaximum_iterations\u001b[0m\u001b[0;34m=\u001b[0m\u001b[0mmaximum_iterations\u001b[0m\u001b[0;34m,\u001b[0m\u001b[0;34m\u001b[0m\u001b[0;34m\u001b[0m\u001b[0m\n\u001b[0;32m-> 2558\u001b[0;31m       return_same_structure=True)\n\u001b[0m\u001b[1;32m   2559\u001b[0m \u001b[0;34m\u001b[0m\u001b[0m\n\u001b[1;32m   2560\u001b[0m \u001b[0;34m\u001b[0m\u001b[0m\n",
      "\u001b[0;32m~/miniconda3/envs/flexsenv/lib/python3.7/site-packages/tensorflow/python/ops/control_flow_ops.py\u001b[0m in \u001b[0;36mwhile_loop\u001b[0;34m(cond, body, loop_vars, shape_invariants, parallel_iterations, back_prop, swap_memory, name, maximum_iterations, return_same_structure)\u001b[0m\n\u001b[1;32m   2793\u001b[0m                                               list(loop_vars))\n\u001b[1;32m   2794\u001b[0m       \u001b[0;32mwhile\u001b[0m \u001b[0mcond\u001b[0m\u001b[0;34m(\u001b[0m\u001b[0;34m*\u001b[0m\u001b[0mloop_vars\u001b[0m\u001b[0;34m)\u001b[0m\u001b[0;34m:\u001b[0m\u001b[0;34m\u001b[0m\u001b[0;34m\u001b[0m\u001b[0m\n\u001b[0;32m-> 2795\u001b[0;31m         \u001b[0mloop_vars\u001b[0m \u001b[0;34m=\u001b[0m \u001b[0mbody\u001b[0m\u001b[0;34m(\u001b[0m\u001b[0;34m*\u001b[0m\u001b[0mloop_vars\u001b[0m\u001b[0;34m)\u001b[0m\u001b[0;34m\u001b[0m\u001b[0;34m\u001b[0m\u001b[0m\n\u001b[0m\u001b[1;32m   2796\u001b[0m         \u001b[0;32mif\u001b[0m \u001b[0mtry_to_pack\u001b[0m \u001b[0;32mand\u001b[0m \u001b[0;32mnot\u001b[0m \u001b[0misinstance\u001b[0m\u001b[0;34m(\u001b[0m\u001b[0mloop_vars\u001b[0m\u001b[0;34m,\u001b[0m \u001b[0;34m(\u001b[0m\u001b[0mlist\u001b[0m\u001b[0;34m,\u001b[0m \u001b[0m_basetuple\u001b[0m\u001b[0;34m)\u001b[0m\u001b[0;34m)\u001b[0m\u001b[0;34m:\u001b[0m\u001b[0;34m\u001b[0m\u001b[0;34m\u001b[0m\u001b[0m\n\u001b[1;32m   2797\u001b[0m           \u001b[0mpacked\u001b[0m \u001b[0;34m=\u001b[0m \u001b[0;32mTrue\u001b[0m\u001b[0;34m\u001b[0m\u001b[0;34m\u001b[0m\u001b[0m\n",
      "\u001b[0;32m~/miniconda3/envs/flexsenv/lib/python3.7/site-packages/tf_agents/drivers/dynamic_episode_driver.py\u001b[0m in \u001b[0;36mloop_body\u001b[0;34m(counter, time_step, policy_state)\u001b[0m\n\u001b[1;32m    139\u001b[0m       \u001b[0;31m# in parallel.\u001b[0m\u001b[0;34m\u001b[0m\u001b[0;34m\u001b[0m\u001b[0;34m\u001b[0m\u001b[0m\n\u001b[1;32m    140\u001b[0m       \u001b[0;32mwith\u001b[0m \u001b[0mtf\u001b[0m\u001b[0;34m.\u001b[0m\u001b[0mcontrol_dependencies\u001b[0m\u001b[0;34m(\u001b[0m\u001b[0mtf\u001b[0m\u001b[0;34m.\u001b[0m\u001b[0mnest\u001b[0m\u001b[0;34m.\u001b[0m\u001b[0mflatten\u001b[0m\u001b[0;34m(\u001b[0m\u001b[0;34m[\u001b[0m\u001b[0mtime_step\u001b[0m\u001b[0;34m]\u001b[0m\u001b[0;34m)\u001b[0m\u001b[0;34m)\u001b[0m\u001b[0;34m:\u001b[0m\u001b[0;34m\u001b[0m\u001b[0;34m\u001b[0m\u001b[0m\n\u001b[0;32m--> 141\u001b[0;31m         \u001b[0mnext_time_step\u001b[0m \u001b[0;34m=\u001b[0m \u001b[0mself\u001b[0m\u001b[0;34m.\u001b[0m\u001b[0menv\u001b[0m\u001b[0;34m.\u001b[0m\u001b[0mstep\u001b[0m\u001b[0;34m(\u001b[0m\u001b[0maction_step\u001b[0m\u001b[0;34m.\u001b[0m\u001b[0maction\u001b[0m\u001b[0;34m)\u001b[0m\u001b[0;34m\u001b[0m\u001b[0;34m\u001b[0m\u001b[0m\n\u001b[0m\u001b[1;32m    142\u001b[0m \u001b[0;34m\u001b[0m\u001b[0m\n\u001b[1;32m    143\u001b[0m       \u001b[0mpolicy_state\u001b[0m \u001b[0;34m=\u001b[0m \u001b[0maction_step\u001b[0m\u001b[0;34m.\u001b[0m\u001b[0mstate\u001b[0m\u001b[0;34m\u001b[0m\u001b[0;34m\u001b[0m\u001b[0m\n",
      "\u001b[0;32m~/miniconda3/envs/flexsenv/lib/python3.7/site-packages/tf_agents/environments/tf_environment.py\u001b[0m in \u001b[0;36mstep\u001b[0;34m(self, action)\u001b[0m\n\u001b[1;32m    239\u001b[0m           \u001b[0mcorresponding\u001b[0m \u001b[0mto\u001b[0m\u001b[0;31m \u001b[0m\u001b[0;31m`\u001b[0m\u001b[0mobservation_spec\u001b[0m\u001b[0;34m(\u001b[0m\u001b[0;34m)\u001b[0m\u001b[0;31m`\u001b[0m\u001b[0;34m.\u001b[0m\u001b[0;34m\u001b[0m\u001b[0;34m\u001b[0m\u001b[0m\n\u001b[1;32m    240\u001b[0m     \"\"\"\n\u001b[0;32m--> 241\u001b[0;31m     \u001b[0;32mreturn\u001b[0m \u001b[0mself\u001b[0m\u001b[0;34m.\u001b[0m\u001b[0m_step\u001b[0m\u001b[0;34m(\u001b[0m\u001b[0maction\u001b[0m\u001b[0;34m)\u001b[0m\u001b[0;34m\u001b[0m\u001b[0;34m\u001b[0m\u001b[0m\n\u001b[0m\u001b[1;32m    242\u001b[0m \u001b[0;34m\u001b[0m\u001b[0m\n\u001b[1;32m    243\u001b[0m   \u001b[0;32mdef\u001b[0m \u001b[0mrender\u001b[0m\u001b[0;34m(\u001b[0m\u001b[0mself\u001b[0m\u001b[0;34m)\u001b[0m\u001b[0;34m:\u001b[0m\u001b[0;34m\u001b[0m\u001b[0;34m\u001b[0m\u001b[0m\n",
      "\u001b[0;32m~/miniconda3/envs/flexsenv/lib/python3.7/site-packages/tf_agents/environments/tf_py_environment.py\u001b[0m in \u001b[0;36m_step\u001b[0;34m(self, actions)\u001b[0m\n\u001b[1;32m    318\u001b[0m           \u001b[0mflat_actions\u001b[0m\u001b[0;34m,\u001b[0m\u001b[0;34m\u001b[0m\u001b[0;34m\u001b[0m\u001b[0m\n\u001b[1;32m    319\u001b[0m           \u001b[0mself\u001b[0m\u001b[0;34m.\u001b[0m\u001b[0m_time_step_dtypes\u001b[0m\u001b[0;34m,\u001b[0m\u001b[0;34m\u001b[0m\u001b[0;34m\u001b[0m\u001b[0m\n\u001b[0;32m--> 320\u001b[0;31m           name='step_py_func')\n\u001b[0m\u001b[1;32m    321\u001b[0m       \u001b[0;32mreturn\u001b[0m \u001b[0mself\u001b[0m\u001b[0;34m.\u001b[0m\u001b[0m_time_step_from_numpy_function_outputs\u001b[0m\u001b[0;34m(\u001b[0m\u001b[0moutputs\u001b[0m\u001b[0;34m)\u001b[0m\u001b[0;34m\u001b[0m\u001b[0;34m\u001b[0m\u001b[0m\n\u001b[1;32m    322\u001b[0m \u001b[0;34m\u001b[0m\u001b[0m\n",
      "\u001b[0;32m~/miniconda3/envs/flexsenv/lib/python3.7/site-packages/tensorflow/python/util/traceback_utils.py\u001b[0m in \u001b[0;36merror_handler\u001b[0;34m(*args, **kwargs)\u001b[0m\n\u001b[1;32m    148\u001b[0m     \u001b[0mfiltered_tb\u001b[0m \u001b[0;34m=\u001b[0m \u001b[0;32mNone\u001b[0m\u001b[0;34m\u001b[0m\u001b[0;34m\u001b[0m\u001b[0m\n\u001b[1;32m    149\u001b[0m     \u001b[0;32mtry\u001b[0m\u001b[0;34m:\u001b[0m\u001b[0;34m\u001b[0m\u001b[0;34m\u001b[0m\u001b[0m\n\u001b[0;32m--> 150\u001b[0;31m       \u001b[0;32mreturn\u001b[0m \u001b[0mfn\u001b[0m\u001b[0;34m(\u001b[0m\u001b[0;34m*\u001b[0m\u001b[0margs\u001b[0m\u001b[0;34m,\u001b[0m \u001b[0;34m**\u001b[0m\u001b[0mkwargs\u001b[0m\u001b[0;34m)\u001b[0m\u001b[0;34m\u001b[0m\u001b[0;34m\u001b[0m\u001b[0m\n\u001b[0m\u001b[1;32m    151\u001b[0m     \u001b[0;32mexcept\u001b[0m \u001b[0mException\u001b[0m \u001b[0;32mas\u001b[0m \u001b[0me\u001b[0m\u001b[0;34m:\u001b[0m\u001b[0;34m\u001b[0m\u001b[0;34m\u001b[0m\u001b[0m\n\u001b[1;32m    152\u001b[0m       \u001b[0mfiltered_tb\u001b[0m \u001b[0;34m=\u001b[0m \u001b[0m_process_traceback_frames\u001b[0m\u001b[0;34m(\u001b[0m\u001b[0me\u001b[0m\u001b[0;34m.\u001b[0m\u001b[0m__traceback__\u001b[0m\u001b[0;34m)\u001b[0m\u001b[0;34m\u001b[0m\u001b[0;34m\u001b[0m\u001b[0m\n",
      "\u001b[0;32m~/miniconda3/envs/flexsenv/lib/python3.7/site-packages/tensorflow/python/util/dispatch.py\u001b[0m in \u001b[0;36mop_dispatch_handler\u001b[0;34m(*args, **kwargs)\u001b[0m\n\u001b[1;32m   1094\u001b[0m       \u001b[0;31m# Fallback dispatch system (dispatch v1):\u001b[0m\u001b[0;34m\u001b[0m\u001b[0;34m\u001b[0m\u001b[0;34m\u001b[0m\u001b[0m\n\u001b[1;32m   1095\u001b[0m       \u001b[0;32mtry\u001b[0m\u001b[0;34m:\u001b[0m\u001b[0;34m\u001b[0m\u001b[0;34m\u001b[0m\u001b[0m\n\u001b[0;32m-> 1096\u001b[0;31m         \u001b[0;32mreturn\u001b[0m \u001b[0mdispatch_target\u001b[0m\u001b[0;34m(\u001b[0m\u001b[0;34m*\u001b[0m\u001b[0margs\u001b[0m\u001b[0;34m,\u001b[0m \u001b[0;34m**\u001b[0m\u001b[0mkwargs\u001b[0m\u001b[0;34m)\u001b[0m\u001b[0;34m\u001b[0m\u001b[0;34m\u001b[0m\u001b[0m\n\u001b[0m\u001b[1;32m   1097\u001b[0m       \u001b[0;32mexcept\u001b[0m \u001b[0;34m(\u001b[0m\u001b[0mTypeError\u001b[0m\u001b[0;34m,\u001b[0m \u001b[0mValueError\u001b[0m\u001b[0;34m)\u001b[0m\u001b[0;34m:\u001b[0m\u001b[0;34m\u001b[0m\u001b[0;34m\u001b[0m\u001b[0m\n\u001b[1;32m   1098\u001b[0m         \u001b[0;31m# Note: convert_to_eager_tensor currently raises a ValueError, not a\u001b[0m\u001b[0;34m\u001b[0m\u001b[0;34m\u001b[0m\u001b[0;34m\u001b[0m\u001b[0m\n",
      "\u001b[0;32m~/miniconda3/envs/flexsenv/lib/python3.7/site-packages/tensorflow/python/ops/script_ops.py\u001b[0m in \u001b[0;36mnumpy_function\u001b[0;34m(func, inp, Tout, name)\u001b[0m\n\u001b[1;32m    752\u001b[0m     \u001b[0mSingle\u001b[0m \u001b[0;32mor\u001b[0m \u001b[0mlist\u001b[0m \u001b[0mof\u001b[0m\u001b[0;31m \u001b[0m\u001b[0;31m`\u001b[0m\u001b[0mtf\u001b[0m\u001b[0;34m.\u001b[0m\u001b[0mTensor\u001b[0m\u001b[0;31m`\u001b[0m \u001b[0mwhich\u001b[0m\u001b[0;31m \u001b[0m\u001b[0;31m`\u001b[0m\u001b[0mfunc\u001b[0m\u001b[0;31m`\u001b[0m \u001b[0mcomputes\u001b[0m\u001b[0;34m.\u001b[0m\u001b[0;34m\u001b[0m\u001b[0;34m\u001b[0m\u001b[0m\n\u001b[1;32m    753\u001b[0m   \"\"\"\n\u001b[0;32m--> 754\u001b[0;31m   \u001b[0;32mreturn\u001b[0m \u001b[0mpy_func_common\u001b[0m\u001b[0;34m(\u001b[0m\u001b[0mfunc\u001b[0m\u001b[0;34m,\u001b[0m \u001b[0minp\u001b[0m\u001b[0;34m,\u001b[0m \u001b[0mTout\u001b[0m\u001b[0;34m,\u001b[0m \u001b[0mstateful\u001b[0m\u001b[0;34m=\u001b[0m\u001b[0;32mTrue\u001b[0m\u001b[0;34m,\u001b[0m \u001b[0mname\u001b[0m\u001b[0;34m=\u001b[0m\u001b[0mname\u001b[0m\u001b[0;34m)\u001b[0m\u001b[0;34m\u001b[0m\u001b[0;34m\u001b[0m\u001b[0m\n\u001b[0m\u001b[1;32m    755\u001b[0m \u001b[0;34m\u001b[0m\u001b[0m\n\u001b[1;32m    756\u001b[0m \u001b[0;34m\u001b[0m\u001b[0m\n",
      "\u001b[0;32m~/miniconda3/envs/flexsenv/lib/python3.7/site-packages/tensorflow/python/ops/script_ops.py\u001b[0m in \u001b[0;36mpy_func_common\u001b[0;34m(func, inp, Tout, stateful, name)\u001b[0m\n\u001b[1;32m    634\u001b[0m   \"\"\"\n\u001b[1;32m    635\u001b[0m   \u001b[0;32mif\u001b[0m \u001b[0mcontext\u001b[0m\u001b[0;34m.\u001b[0m\u001b[0mexecuting_eagerly\u001b[0m\u001b[0;34m(\u001b[0m\u001b[0;34m)\u001b[0m\u001b[0;34m:\u001b[0m\u001b[0;34m\u001b[0m\u001b[0;34m\u001b[0m\u001b[0m\n\u001b[0;32m--> 636\u001b[0;31m     \u001b[0mresult\u001b[0m \u001b[0;34m=\u001b[0m \u001b[0mfunc\u001b[0m\u001b[0;34m(\u001b[0m\u001b[0;34m*\u001b[0m\u001b[0;34m[\u001b[0m\u001b[0mnp\u001b[0m\u001b[0;34m.\u001b[0m\u001b[0marray\u001b[0m\u001b[0;34m(\u001b[0m\u001b[0mx\u001b[0m\u001b[0;34m)\u001b[0m \u001b[0;32mfor\u001b[0m \u001b[0mx\u001b[0m \u001b[0;32min\u001b[0m \u001b[0minp\u001b[0m\u001b[0;34m]\u001b[0m\u001b[0;34m)\u001b[0m\u001b[0;34m\u001b[0m\u001b[0;34m\u001b[0m\u001b[0m\n\u001b[0m\u001b[1;32m    637\u001b[0m     \u001b[0mresult\u001b[0m \u001b[0;34m=\u001b[0m \u001b[0mnest\u001b[0m\u001b[0;34m.\u001b[0m\u001b[0mflatten\u001b[0m\u001b[0;34m(\u001b[0m\u001b[0mresult\u001b[0m\u001b[0;34m)\u001b[0m\u001b[0;34m\u001b[0m\u001b[0;34m\u001b[0m\u001b[0m\n\u001b[1;32m    638\u001b[0m \u001b[0;34m\u001b[0m\u001b[0m\n",
      "\u001b[0;32m~/miniconda3/envs/flexsenv/lib/python3.7/site-packages/tf_agents/environments/tf_py_environment.py\u001b[0m in \u001b[0;36m_isolated_step_py\u001b[0;34m(*flattened_actions)\u001b[0m\n\u001b[1;32m    301\u001b[0m \u001b[0;34m\u001b[0m\u001b[0m\n\u001b[1;32m    302\u001b[0m     \u001b[0;32mdef\u001b[0m \u001b[0m_isolated_step_py\u001b[0m\u001b[0;34m(\u001b[0m\u001b[0;34m*\u001b[0m\u001b[0mflattened_actions\u001b[0m\u001b[0;34m)\u001b[0m\u001b[0;34m:\u001b[0m\u001b[0;34m\u001b[0m\u001b[0;34m\u001b[0m\u001b[0m\n\u001b[0;32m--> 303\u001b[0;31m       \u001b[0;32mreturn\u001b[0m \u001b[0mself\u001b[0m\u001b[0;34m.\u001b[0m\u001b[0m_execute\u001b[0m\u001b[0;34m(\u001b[0m\u001b[0m_step_py\u001b[0m\u001b[0;34m,\u001b[0m \u001b[0;34m*\u001b[0m\u001b[0mflattened_actions\u001b[0m\u001b[0;34m)\u001b[0m\u001b[0;34m\u001b[0m\u001b[0;34m\u001b[0m\u001b[0m\n\u001b[0m\u001b[1;32m    304\u001b[0m \u001b[0;34m\u001b[0m\u001b[0m\n\u001b[1;32m    305\u001b[0m     \u001b[0;32mwith\u001b[0m \u001b[0mtf\u001b[0m\u001b[0;34m.\u001b[0m\u001b[0mname_scope\u001b[0m\u001b[0;34m(\u001b[0m\u001b[0;34m'step'\u001b[0m\u001b[0;34m)\u001b[0m\u001b[0;34m:\u001b[0m\u001b[0;34m\u001b[0m\u001b[0;34m\u001b[0m\u001b[0m\n",
      "\u001b[0;32m~/miniconda3/envs/flexsenv/lib/python3.7/site-packages/tf_agents/environments/tf_py_environment.py\u001b[0m in \u001b[0;36m_execute\u001b[0;34m(self, fn, *args, **kwargs)\u001b[0m\n\u001b[1;32m    210\u001b[0m   \u001b[0;32mdef\u001b[0m \u001b[0m_execute\u001b[0m\u001b[0;34m(\u001b[0m\u001b[0mself\u001b[0m\u001b[0;34m,\u001b[0m \u001b[0mfn\u001b[0m\u001b[0;34m,\u001b[0m \u001b[0;34m*\u001b[0m\u001b[0margs\u001b[0m\u001b[0;34m,\u001b[0m \u001b[0;34m**\u001b[0m\u001b[0mkwargs\u001b[0m\u001b[0;34m)\u001b[0m\u001b[0;34m:\u001b[0m\u001b[0;34m\u001b[0m\u001b[0;34m\u001b[0m\u001b[0m\n\u001b[1;32m    211\u001b[0m     \u001b[0;32mif\u001b[0m \u001b[0;32mnot\u001b[0m \u001b[0mself\u001b[0m\u001b[0;34m.\u001b[0m\u001b[0m_pool\u001b[0m\u001b[0;34m:\u001b[0m\u001b[0;34m\u001b[0m\u001b[0;34m\u001b[0m\u001b[0m\n\u001b[0;32m--> 212\u001b[0;31m       \u001b[0;32mreturn\u001b[0m \u001b[0mfn\u001b[0m\u001b[0;34m(\u001b[0m\u001b[0;34m*\u001b[0m\u001b[0margs\u001b[0m\u001b[0;34m,\u001b[0m \u001b[0;34m**\u001b[0m\u001b[0mkwargs\u001b[0m\u001b[0;34m)\u001b[0m\u001b[0;34m\u001b[0m\u001b[0;34m\u001b[0m\u001b[0m\n\u001b[0m\u001b[1;32m    213\u001b[0m     \u001b[0;32mreturn\u001b[0m \u001b[0mself\u001b[0m\u001b[0;34m.\u001b[0m\u001b[0m_pool\u001b[0m\u001b[0;34m.\u001b[0m\u001b[0mapply\u001b[0m\u001b[0;34m(\u001b[0m\u001b[0mfn\u001b[0m\u001b[0;34m,\u001b[0m \u001b[0margs\u001b[0m\u001b[0;34m=\u001b[0m\u001b[0margs\u001b[0m\u001b[0;34m,\u001b[0m \u001b[0mkwds\u001b[0m\u001b[0;34m=\u001b[0m\u001b[0mkwargs\u001b[0m\u001b[0;34m)\u001b[0m\u001b[0;34m\u001b[0m\u001b[0;34m\u001b[0m\u001b[0m\n\u001b[1;32m    214\u001b[0m \u001b[0;34m\u001b[0m\u001b[0m\n",
      "\u001b[0;32m~/miniconda3/envs/flexsenv/lib/python3.7/site-packages/tf_agents/environments/tf_py_environment.py\u001b[0m in \u001b[0;36m_step_py\u001b[0;34m(*flattened_actions)\u001b[0m\n\u001b[1;32m    297\u001b[0m         packed = tf.nest.pack_sequence_as(\n\u001b[1;32m    298\u001b[0m             structure=self.action_spec(), flat_sequence=flattened_actions)\n\u001b[0;32m--> 299\u001b[0;31m         \u001b[0mself\u001b[0m\u001b[0;34m.\u001b[0m\u001b[0m_time_step\u001b[0m \u001b[0;34m=\u001b[0m \u001b[0mself\u001b[0m\u001b[0;34m.\u001b[0m\u001b[0m_env\u001b[0m\u001b[0;34m.\u001b[0m\u001b[0mstep\u001b[0m\u001b[0;34m(\u001b[0m\u001b[0mpacked\u001b[0m\u001b[0;34m)\u001b[0m\u001b[0;34m\u001b[0m\u001b[0;34m\u001b[0m\u001b[0m\n\u001b[0m\u001b[1;32m    300\u001b[0m         \u001b[0;32mreturn\u001b[0m \u001b[0mtf\u001b[0m\u001b[0;34m.\u001b[0m\u001b[0mnest\u001b[0m\u001b[0;34m.\u001b[0m\u001b[0mflatten\u001b[0m\u001b[0;34m(\u001b[0m\u001b[0mself\u001b[0m\u001b[0;34m.\u001b[0m\u001b[0m_time_step\u001b[0m\u001b[0;34m)\u001b[0m\u001b[0;34m\u001b[0m\u001b[0;34m\u001b[0m\u001b[0m\n\u001b[1;32m    301\u001b[0m \u001b[0;34m\u001b[0m\u001b[0m\n",
      "\u001b[0;32m~/miniconda3/envs/flexsenv/lib/python3.7/site-packages/tf_agents/environments/py_environment.py\u001b[0m in \u001b[0;36mstep\u001b[0;34m(self, action)\u001b[0m\n\u001b[1;32m    231\u001b[0m       \u001b[0;32mreturn\u001b[0m \u001b[0mself\u001b[0m\u001b[0;34m.\u001b[0m\u001b[0mreset\u001b[0m\u001b[0;34m(\u001b[0m\u001b[0;34m)\u001b[0m\u001b[0;34m\u001b[0m\u001b[0;34m\u001b[0m\u001b[0m\n\u001b[1;32m    232\u001b[0m \u001b[0;34m\u001b[0m\u001b[0m\n\u001b[0;32m--> 233\u001b[0;31m     \u001b[0mself\u001b[0m\u001b[0;34m.\u001b[0m\u001b[0m_current_time_step\u001b[0m \u001b[0;34m=\u001b[0m \u001b[0mself\u001b[0m\u001b[0;34m.\u001b[0m\u001b[0m_step\u001b[0m\u001b[0;34m(\u001b[0m\u001b[0maction\u001b[0m\u001b[0;34m)\u001b[0m\u001b[0;34m\u001b[0m\u001b[0;34m\u001b[0m\u001b[0m\n\u001b[0m\u001b[1;32m    234\u001b[0m     \u001b[0;32mreturn\u001b[0m \u001b[0mself\u001b[0m\u001b[0;34m.\u001b[0m\u001b[0m_current_time_step\u001b[0m\u001b[0;34m\u001b[0m\u001b[0;34m\u001b[0m\u001b[0m\n\u001b[1;32m    235\u001b[0m \u001b[0;34m\u001b[0m\u001b[0m\n",
      "\u001b[0;32m~/miniconda3/envs/flexsenv/lib/python3.7/site-packages/flexs/baselines/explorers/environments/dyna_ppo.py\u001b[0m in \u001b[0;36m_step\u001b[0;34m(self, actions)\u001b[0m\n\u001b[1;32m    156\u001b[0m             [\n\u001b[1;32m    157\u001b[0m                 \u001b[0mf\u001b[0m \u001b[0;34m-\u001b[0m \u001b[0mself\u001b[0m\u001b[0;34m.\u001b[0m\u001b[0mlam\u001b[0m \u001b[0;34m*\u001b[0m \u001b[0mself\u001b[0m\u001b[0;34m.\u001b[0m\u001b[0msequence_density\u001b[0m\u001b[0;34m(\u001b[0m\u001b[0mseq\u001b[0m\u001b[0;34m)\u001b[0m\u001b[0;34m\u001b[0m\u001b[0;34m\u001b[0m\u001b[0m\n\u001b[0;32m--> 158\u001b[0;31m                 \u001b[0;32mfor\u001b[0m \u001b[0mseq\u001b[0m\u001b[0;34m,\u001b[0m \u001b[0mf\u001b[0m \u001b[0;32min\u001b[0m \u001b[0mzip\u001b[0m\u001b[0;34m(\u001b[0m\u001b[0mcomplete_sequences\u001b[0m\u001b[0;34m,\u001b[0m \u001b[0mfitnesses\u001b[0m\u001b[0;34m)\u001b[0m\u001b[0;34m\u001b[0m\u001b[0;34m\u001b[0m\u001b[0m\n\u001b[0m\u001b[1;32m    159\u001b[0m             ]\n\u001b[1;32m    160\u001b[0m         )\n",
      "\u001b[0;32m~/miniconda3/envs/flexsenv/lib/python3.7/site-packages/flexs/baselines/explorers/environments/dyna_ppo.py\u001b[0m in \u001b[0;36m<listcomp>\u001b[0;34m(.0)\u001b[0m\n\u001b[1;32m    156\u001b[0m             [\n\u001b[1;32m    157\u001b[0m                 \u001b[0mf\u001b[0m \u001b[0;34m-\u001b[0m \u001b[0mself\u001b[0m\u001b[0;34m.\u001b[0m\u001b[0mlam\u001b[0m \u001b[0;34m*\u001b[0m \u001b[0mself\u001b[0m\u001b[0;34m.\u001b[0m\u001b[0msequence_density\u001b[0m\u001b[0;34m(\u001b[0m\u001b[0mseq\u001b[0m\u001b[0;34m)\u001b[0m\u001b[0;34m\u001b[0m\u001b[0;34m\u001b[0m\u001b[0m\n\u001b[0;32m--> 158\u001b[0;31m                 \u001b[0;32mfor\u001b[0m \u001b[0mseq\u001b[0m\u001b[0;34m,\u001b[0m \u001b[0mf\u001b[0m \u001b[0;32min\u001b[0m \u001b[0mzip\u001b[0m\u001b[0;34m(\u001b[0m\u001b[0mcomplete_sequences\u001b[0m\u001b[0;34m,\u001b[0m \u001b[0mfitnesses\u001b[0m\u001b[0;34m)\u001b[0m\u001b[0;34m\u001b[0m\u001b[0;34m\u001b[0m\u001b[0m\n\u001b[0m\u001b[1;32m    159\u001b[0m             ]\n\u001b[1;32m    160\u001b[0m         )\n",
      "\u001b[0;32m~/miniconda3/envs/flexsenv/lib/python3.7/site-packages/flexs/baselines/explorers/environments/dyna_ppo.py\u001b[0m in \u001b[0;36msequence_density\u001b[0;34m(self, seq)\u001b[0m\n\u001b[1;32m    109\u001b[0m         \u001b[0mdist_radius\u001b[0m \u001b[0;34m=\u001b[0m \u001b[0;36m2\u001b[0m\u001b[0;34m\u001b[0m\u001b[0;34m\u001b[0m\u001b[0m\n\u001b[1;32m    110\u001b[0m         \u001b[0;32mfor\u001b[0m \u001b[0ms\u001b[0m \u001b[0;32min\u001b[0m \u001b[0mself\u001b[0m\u001b[0;34m.\u001b[0m\u001b[0mall_seqs\u001b[0m\u001b[0;34m:\u001b[0m\u001b[0;34m\u001b[0m\u001b[0;34m\u001b[0m\u001b[0m\n\u001b[0;32m--> 111\u001b[0;31m             \u001b[0mdist\u001b[0m \u001b[0;34m=\u001b[0m \u001b[0mint\u001b[0m\u001b[0;34m(\u001b[0m\u001b[0meditdistance\u001b[0m\u001b[0;34m.\u001b[0m\u001b[0meval\u001b[0m\u001b[0;34m(\u001b[0m\u001b[0ms\u001b[0m\u001b[0;34m,\u001b[0m \u001b[0mseq\u001b[0m\u001b[0;34m)\u001b[0m\u001b[0;34m)\u001b[0m\u001b[0;34m\u001b[0m\u001b[0;34m\u001b[0m\u001b[0m\n\u001b[0m\u001b[1;32m    112\u001b[0m             \u001b[0;32mif\u001b[0m \u001b[0mdist\u001b[0m \u001b[0;34m!=\u001b[0m \u001b[0;36m0\u001b[0m \u001b[0;32mand\u001b[0m \u001b[0mdist\u001b[0m \u001b[0;34m<=\u001b[0m \u001b[0mdist_radius\u001b[0m\u001b[0;34m:\u001b[0m\u001b[0;34m\u001b[0m\u001b[0;34m\u001b[0m\u001b[0m\n\u001b[1;32m    113\u001b[0m                 \u001b[0mdens\u001b[0m \u001b[0;34m+=\u001b[0m \u001b[0mself\u001b[0m\u001b[0;34m.\u001b[0m\u001b[0mall_seqs\u001b[0m\u001b[0;34m[\u001b[0m\u001b[0ms\u001b[0m\u001b[0;34m]\u001b[0m \u001b[0;34m/\u001b[0m \u001b[0mdist\u001b[0m\u001b[0;34m\u001b[0m\u001b[0;34m\u001b[0m\u001b[0m\n",
      "\u001b[0;31mKeyboardInterrupt\u001b[0m: "
     ]
    }
   ],
   "source": [
    "scores = []\n",
    "nModelRounds = nRounds\n",
    "\n",
    "for _ in range(nRuns):\n",
    "    starting_sequence = random_start()\n",
    "    dynappo_explorer = baselines.explorers.DynaPPO(  # DynaPPO has its own default ensemble model, so don't use CNN\n",
    "        landscape=landscape,\n",
    "        env_batch_size=10,\n",
    "        num_model_rounds=nModelRounds,\n",
    "        rounds=nRounds,\n",
    "        starting_sequence=starting_sequence,\n",
    "        sequences_batch_size=query_batch_size,\n",
    "        model_queries_per_batch=model_queries_per_batch,\n",
    "        alphabet=alphabet,\n",
    "    )\n",
    "\n",
    "    \n",
    "    dynappo_sequences, metadata = dynappo_explorer.run(landscape)\n",
    "    fname = \"DynaPPO_Explorer_\" + get_time() + \".csv\"\n",
    "    dynappo_sequences.to_csv(os.path.join(logs_dir, fname))\n",
    "    dynappo_sequences"
   ]
  },
  {
   "cell_type": "code",
   "execution_count": null,
   "id": "7150fd72",
   "metadata": {},
   "outputs": [],
   "source": [
    "# import json\n",
    "\n",
    "# with open(os.path.join(logs_dir, \"dynappo_baseline_results.json\"), \"w\") as f:\n",
    "#     json.dump(explorer_scores, f)"
   ]
  },
  {
   "cell_type": "markdown",
   "id": "0a0cd509",
   "metadata": {},
   "source": [
    "## PPO"
   ]
  },
  {
   "cell_type": "code",
   "execution_count": null,
   "id": "762572c2",
   "metadata": {},
   "outputs": [],
   "source": [
    "cnn = baselines.models.CNN(len(starting_sequence), alphabet=alphabet,\n",
    "                         num_filters=32, hidden_size=100, loss='MSE')\n",
    "\n",
    "ppo_explorer = baselines.explorers.PPO(  # DynaPPO has its own default ensemble model, so don't use CNN\n",
    "    model=cnn,\n",
    "    rounds=nRounds,\n",
    "    starting_sequence=starting_sequence,\n",
    "    sequences_batch_size=query_batch_size,\n",
    "    model_queries_per_batch=model_queries_per_batch,\n",
    "    alphabet=alphabet,\n",
    ")\n",
    "\n",
    "ppo_sequences, metadata = ppo_explorer.run(landscape)\n",
    "ppo_sequences"
   ]
  }
 ],
 "metadata": {
  "kernelspec": {
   "display_name": "Python 3 (ipykernel)",
   "language": "python",
   "name": "python3"
  },
  "language_info": {
   "codemirror_mode": {
    "name": "ipython",
    "version": 3
   },
   "file_extension": ".py",
   "mimetype": "text/x-python",
   "name": "python",
   "nbconvert_exporter": "python",
   "pygments_lexer": "ipython3",
   "version": "3.7.11"
  }
 },
 "nbformat": 4,
 "nbformat_minor": 5
}
