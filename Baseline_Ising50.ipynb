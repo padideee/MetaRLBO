{
 "cells": [
  {
   "cell_type": "code",
   "execution_count": 33,
   "id": "d322db38",
   "metadata": {},
   "outputs": [],
   "source": [
    "import flexs"
   ]
  },
  {
   "cell_type": "code",
   "execution_count": 34,
   "id": "df710bfd",
   "metadata": {},
   "outputs": [],
   "source": [
    "import editdistance\n",
    "import matplotlib.pyplot as plt\n",
    "import seaborn as sns\n",
    "import pandas as pd\n",
    "import pprint\n",
    "import numpy as np\n",
    "import json\n",
    "\n",
    "import flexs\n",
    "from flexs import baselines\n",
    "import flexs.utils.sequence_utils as s_utils\n",
    "import torch.nn.functional as F\n",
    "import torch"
   ]
  },
  {
   "cell_type": "code",
   "execution_count": 35,
   "id": "782b30e1",
   "metadata": {},
   "outputs": [],
   "source": [
    "seq_len = 50 # 20 or 50!\n",
    "exp_name = 'Ising50'"
   ]
  },
  {
   "cell_type": "code",
   "execution_count": 36,
   "id": "624fe3ad",
   "metadata": {},
   "outputs": [],
   "source": [
    "\n",
    "from oracles.custom_models.alt_ising_model import AlternatingChainIsingModel\n",
    "\n",
    "def AltIsingModel(length=50, vocab_size=20):\n",
    "    return AlternatingChainIsingModel(length=length, vocab_size=vocab_size)\n",
    "\n",
    "\n",
    "model = AltIsingModel(length=seq_len, vocab_size=20)"
   ]
  },
  {
   "cell_type": "code",
   "execution_count": 37,
   "id": "2aaa5be2",
   "metadata": {},
   "outputs": [],
   "source": [
    "from collections import OrderedDict\n",
    "\n",
    "# enc_len = 50\n",
    "num_actions = 20\n",
    "\n",
    "\n",
    "char_pairs = [('A', 0), ('R', 1), ('N', 2), ('D', 3), ('C', 4), ('E', 5), ('Q', 6), ('G', 7), ('H', 8), ('I', 9), ('L', 10), ('K', 11), ('M', 12), ('F', 13), ('P', 14), ('S', 15), ('T', 16), ('W', 17), ('Y', 18), ('V', 19), ('>', 20)]\n",
    "mol_enc = OrderedDict(char_pairs)\n",
    "enc_mol = OrderedDict(list(map(lambda x : (x[1], x[0]), char_pairs)))"
   ]
  },
  {
   "cell_type": "code",
   "execution_count": 38,
   "id": "30902877",
   "metadata": {},
   "outputs": [],
   "source": [
    "def seq_to_enc(seq):\n",
    "    enc = [None for i in range(len(seq))]\n",
    "    for i in range(len(seq)):\n",
    "        enc[i] = mol_enc[seq[i]]\n",
    "    \n",
    "    return F.one_hot(torch.tensor(enc), num_classes=num_actions).numpy()"
   ]
  },
  {
   "cell_type": "code",
   "execution_count": 39,
   "id": "752a99d1",
   "metadata": {},
   "outputs": [],
   "source": [
    "def convertor(sequences):\n",
    "    \"\"\"\n",
    "        Does the padding of the sequences to the correct length... w/ the extra chars...\n",
    "        \n",
    "        Input: sequences List[str]\n",
    "        \n",
    "        Return: list[ndarray]\n",
    "    \"\"\"\n",
    "    \n",
    "    all_seqs = []\n",
    "    for seq in sequences:\n",
    "        all_seqs.append(seq_to_enc(seq)) # Not flattened for this problem\n",
    "        \n",
    "    return np.stack(all_seqs)\n",
    "    \n",
    "    \n",
    "    "
   ]
  },
  {
   "cell_type": "code",
   "execution_count": 40,
   "id": "038bcc08",
   "metadata": {},
   "outputs": [],
   "source": [
    "import pickle\n",
    "\n",
    "class IsingLandscape(flexs.Landscape):\n",
    "    \"\"\"AMP landscape.\"\"\"\n",
    "\n",
    "    def __init__(self, seq_len):\n",
    "        \"\"\"Create a AMP landscape.\"\"\"\n",
    "        super().__init__(name=f\"Ising{seq_len}\")\n",
    "        self.alphabet = flexs\n",
    "        \n",
    "        self.model = AltIsingModel(length=seq_len, vocab_size=20)\n",
    "\n",
    "\n",
    "    def _fitness_function(self, sequences):\n",
    "        \"\"\"\n",
    "            Takes as input a list of strings (w/ alphabet of 20)\n",
    "            \n",
    "            \n",
    "            Returns numpy array of scores\n",
    "        \"\"\"\n",
    "        \n",
    "        np_seqs = convertor(sequences)\n",
    "        scores = self.model(np_seqs.argmax(-1))\n",
    "        \n",
    "        return scores"
   ]
  },
  {
   "cell_type": "code",
   "execution_count": 41,
   "id": "216542a7",
   "metadata": {},
   "outputs": [],
   "source": [
    "def get_scores(sequences, nRounds):\n",
    "    run_max_scores = []\n",
    "    for i in range(nRounds):\n",
    "        max_found = sequences[sequences['round'] <= i+1].true_score.max()\n",
    "        run_max_scores.append(max_found)\n",
    "    return run_max_scores\n",
    "    "
   ]
  },
  {
   "cell_type": "code",
   "execution_count": 42,
   "id": "fbbb45d7",
   "metadata": {},
   "outputs": [],
   "source": [
    "landscape = IsingLandscape(seq_len)\n",
    "alph_chars = list(mol_enc.keys())[:-1]\n",
    "alphabet=''.join(alph_chars)"
   ]
  },
  {
   "cell_type": "code",
   "execution_count": 43,
   "id": "184689d1",
   "metadata": {},
   "outputs": [
    {
     "data": {
      "text/plain": [
       "['Random_Explorer_2022-01-25T22:13:59.229990.csv',\n",
       " 'Random_Explorer_2022-01-25T22:08:50.099231.csv',\n",
       " 'Random_Explorer_2022-01-25T22:03:21.069431.csv']"
      ]
     },
     "execution_count": 43,
     "metadata": {},
     "output_type": "execute_result"
    }
   ],
   "source": [
    "from datetime import datetime\n",
    "import os\n",
    "\n",
    "logs_dir = f'./analysis/{exp_name}'\n",
    "\n",
    "def get_time():\n",
    "    return datetime.now().isoformat()\n",
    "\n",
    "os.listdir(logs_dir)"
   ]
  },
  {
   "cell_type": "code",
   "execution_count": 44,
   "id": "32814367",
   "metadata": {},
   "outputs": [],
   "source": [
    "query_batch_size = 500\n",
    "model_queries_per_batch = 4000\n",
    "nRounds = 16\n",
    "nRuns = 3"
   ]
  },
  {
   "cell_type": "code",
   "execution_count": 45,
   "id": "d9397027",
   "metadata": {},
   "outputs": [],
   "source": [
    "# Start from a random sequence!\n",
    "\n",
    "rand_seq_len = seq_len\n",
    "\n",
    "\n",
    "def random_start():\n",
    "    starting_sequence = \"\".join([np.random.choice(list(alph_chars)) for _ in range(rand_seq_len)])\n",
    "    return starting_sequence\n",
    "\n",
    "def store_results(results, baseline_name):\n",
    "    import os\n",
    "    with open(os.path.join(logs_dir, f\"{baseline_name}_baseline_results.json\"), \"w\") as f:\n",
    "        json.dump(results, f)\n",
    "\n",
    "starting_sequence = random_start()"
   ]
  },
  {
   "cell_type": "markdown",
   "id": "6216eb78",
   "metadata": {},
   "source": [
    "## Random Explorer"
   ]
  },
  {
   "cell_type": "code",
   "execution_count": 32,
   "id": "e2ff192b",
   "metadata": {},
   "outputs": [
    {
     "name": "stdout",
     "output_type": "stream",
     "text": [
      "round: 0, top: 2.0, time: 0.001539s\n",
      "round: 1, top: 4.0, time: 5.973458s\n",
      "round: 2, top: 5.0, time: 9.368751s\n",
      "round: 3, top: 6.0, time: 12.886451s\n",
      "round: 4, top: 6.0, time: 11.342615s\n",
      "round: 5, top: 6.0, time: 20.376222s\n",
      "round: 6, top: 6.0, time: 18.815828s\n",
      "round: 7, top: 6.0, time: 27.342245s\n",
      "round: 8, top: 6.0, time: 29.221762s\n",
      "round: 9, top: 7.0, time: 24.993708s\n",
      "round: 10, top: 7.0, time: 30.300635s\n",
      "round: 11, top: 7.0, time: 37.883516s\n",
      "round: 12, top: 7.0, time: 42.548008s\n",
      "round: 13, top: 7.0, time: 46.264281s\n",
      "round: 14, top: 7.0, time: 46.358729s\n",
      "round: 15, top: 7.0, time: 47.876694s\n",
      "round: 16, top: 7.0, time: 51.906568s\n",
      "round: 0, top: 4.0, time: 0.000757s\n",
      "round: 1, top: 6.0, time: 1.942241s\n",
      "round: 2, top: 6.0, time: 6.011039s\n",
      "round: 3, top: 6.0, time: 12.853021s\n",
      "round: 4, top: 6.0, time: 11.117261s\n",
      "round: 5, top: 8.0, time: 12.554868s\n",
      "round: 6, top: 8.0, time: 19.346360s\n",
      "round: 7, top: 8.0, time: 16.614126s\n",
      "round: 8, top: 8.0, time: 16.818939s\n",
      "round: 9, top: 8.0, time: 19.120490s\n",
      "round: 10, top: 8.0, time: 23.002320s\n",
      "round: 11, top: 8.0, time: 26.230672s\n",
      "round: 12, top: 8.0, time: 27.793155s\n",
      "round: 13, top: 8.0, time: 29.069985s\n",
      "round: 14, top: 8.0, time: 31.962735s\n",
      "round: 15, top: 8.0, time: 34.341370s\n",
      "round: 16, top: 8.0, time: 40.082307s\n",
      "round: 0, top: 0.0, time: 0.000360s\n",
      "round: 1, top: 2.0, time: 2.645377s\n",
      "round: 2, top: 3.0, time: 3.221479s\n",
      "round: 3, top: 3.0, time: 5.706145s\n",
      "round: 4, top: 3.0, time: 8.485150s\n",
      "round: 5, top: 3.0, time: 11.745875s\n",
      "round: 6, top: 4.0, time: 12.635700s\n",
      "round: 7, top: 4.0, time: 15.781613s\n",
      "round: 8, top: 4.0, time: 17.327781s\n",
      "round: 9, top: 4.0, time: 19.381211s\n",
      "round: 10, top: 4.0, time: 23.008826s\n",
      "round: 11, top: 4.0, time: 25.575039s\n",
      "round: 12, top: 4.0, time: 28.354840s\n",
      "round: 13, top: 4.0, time: 29.059619s\n",
      "round: 14, top: 4.0, time: 33.375874s\n",
      "round: 15, top: 4.0, time: 35.000632s\n",
      "round: 16, top: 4.0, time: 37.637762s\n"
     ]
    }
   ],
   "source": [
    "\n",
    "\n",
    "for _ in range(nRuns):\n",
    "    starting_sequence = random_start()\n",
    "    cnn = baselines.models.CNN(len(starting_sequence), alphabet=alphabet,\n",
    "                             num_filters=32, hidden_size=100, loss='MSE')\n",
    "\n",
    "    random_explorer = baselines.explorers.Random(\n",
    "        cnn,\n",
    "        rounds=nRounds,\n",
    "        mu=1,\n",
    "        starting_sequence=starting_sequence,\n",
    "        sequences_batch_size=query_batch_size,\n",
    "        model_queries_per_batch=model_queries_per_batch,\n",
    "        alphabet=alphabet\n",
    "    )\n",
    "\n",
    "\n",
    "    random_sequences, metadata = random_explorer.run(landscape)\n",
    "    fname = \"Random_Explorer_\" + get_time() + \".csv\"\n",
    "    random_sequences.to_csv(os.path.join(logs_dir, fname))\n",
    "    random_sequences"
   ]
  },
  {
   "cell_type": "markdown",
   "id": "2e988203",
   "metadata": {},
   "source": [
    "## Adalead Explorer"
   ]
  },
  {
   "cell_type": "code",
   "execution_count": 46,
   "id": "730230e5",
   "metadata": {},
   "outputs": [
    {
     "name": "stdout",
     "output_type": "stream",
     "text": [
      "round: 0, top: 1.0, time: 0.001665s\n",
      "round: 1, top: 3.0, time: 18.169769s\n",
      "round: 2, top: 5.0, time: 42.318246s\n",
      "round: 3, top: 8.0, time: 39.217206s\n",
      "round: 4, top: 10.0, time: 37.175601s\n",
      "round: 5, top: 12.0, time: 39.847947s\n",
      "round: 6, top: 14.0, time: 35.639586s\n",
      "round: 7, top: 16.0, time: 46.438486s\n",
      "round: 8, top: 18.0, time: 43.823012s\n",
      "round: 9, top: 20.0, time: 43.823577s\n",
      "round: 10, top: 21.0, time: 49.272891s\n",
      "round: 11, top: 22.0, time: 43.948959s\n",
      "round: 12, top: 23.0, time: 45.367780s\n",
      "round: 13, top: 24.0, time: 44.868366s\n",
      "round: 14, top: 25.0, time: 48.492000s\n",
      "round: 15, top: 26.0, time: 61.035913s\n",
      "round: 16, top: 27.0, time: 55.070549s\n",
      "round: 0, top: 1.0, time: 0.000338s\n",
      "round: 1, top: 3.0, time: 17.949930s\n",
      "round: 2, top: 5.0, time: 18.768709s\n",
      "round: 3, top: 8.0, time: 28.364246s\n",
      "round: 4, top: 10.0, time: 32.096282s\n",
      "round: 5, top: 13.0, time: 43.478042s\n",
      "round: 6, top: 15.0, time: 33.343840s\n",
      "round: 7, top: 17.0, time: 35.432357s\n",
      "round: 8, top: 20.0, time: 41.832899s\n",
      "round: 9, top: 22.0, time: 44.539624s\n",
      "round: 10, top: 23.0, time: 39.874320s\n",
      "round: 11, top: 24.0, time: 43.303274s\n",
      "round: 12, top: 25.0, time: 42.329390s\n",
      "round: 13, top: 26.0, time: 43.715319s\n",
      "round: 14, top: 27.0, time: 45.557238s\n",
      "round: 15, top: 28.0, time: 49.728312s\n",
      "round: 16, top: 29.0, time: 55.196742s\n",
      "round: 0, top: 0.0, time: 0.000342s\n",
      "round: 1, top: 9.0, time: 84.675781s\n",
      "round: 2, top: 11.0, time: 24.080927s\n",
      "round: 3, top: 12.0, time: 20.469252s\n",
      "round: 4, top: 14.0, time: 30.240656s\n",
      "round: 5, top: 17.0, time: 35.327761s\n",
      "round: 6, top: 19.0, time: 27.301713s\n",
      "round: 7, top: 21.0, time: 31.249190s\n",
      "round: 8, top: 22.0, time: 39.834093s\n",
      "round: 9, top: 24.0, time: 49.111487s\n",
      "round: 10, top: 25.0, time: 42.428595s\n",
      "round: 11, top: 26.0, time: 45.109347s\n",
      "round: 12, top: 27.0, time: 46.090867s\n",
      "round: 13, top: 28.0, time: 50.000061s\n",
      "round: 14, top: 28.0, time: 58.186997s\n",
      "round: 15, top: 29.0, time: 51.491260s\n",
      "round: 16, top: 29.0, time: 51.936206s\n"
     ]
    }
   ],
   "source": [
    "\n",
    "\n",
    "for _ in range(nRuns):\n",
    "    starting_sequence = random_start()\n",
    "    \n",
    "    cnn = baselines.models.CNN(len(starting_sequence), alphabet=alphabet,\n",
    "                             num_filters=32, hidden_size=100, loss='MSE')\n",
    "\n",
    "    adalead_explorer = baselines.explorers.Adalead(\n",
    "        cnn,\n",
    "        rounds=nRounds,\n",
    "        starting_sequence=starting_sequence,\n",
    "        sequences_batch_size=query_batch_size,\n",
    "        model_queries_per_batch=model_queries_per_batch,\n",
    "        alphabet=alphabet\n",
    "    )\n",
    "\n",
    "\n",
    "\n",
    "    adalead_sequences, metadata = adalead_explorer.run(landscape)\n",
    "    fname = \"Adalead_Explorer_\" + get_time() + \".csv\"\n",
    "    adalead_sequences.to_csv(os.path.join(logs_dir, fname))\n",
    "    adalead_sequences"
   ]
  },
  {
   "cell_type": "code",
   "execution_count": 47,
   "id": "01558a50",
   "metadata": {},
   "outputs": [],
   "source": [
    "# import json\n",
    "\n",
    "# with open(os.path.join(logs_dir, \"adalead_baseline_results.json\"), \"w\") as f:\n",
    "#     json.dump(explorer_scores, f)"
   ]
  },
  {
   "cell_type": "markdown",
   "id": "56cbf8df",
   "metadata": {},
   "source": [
    "## Genetic Explorer"
   ]
  },
  {
   "cell_type": "code",
   "execution_count": null,
   "id": "7308f3ad",
   "metadata": {},
   "outputs": [],
   "source": [
    "for _ in range(nRuns):\n",
    "    cnn = baselines.models.CNN(len(starting_sequence), alphabet=alphabet,\n",
    "                             num_filters=32, hidden_size=100, loss='MSE')\n",
    "\n",
    "    genetic_explorer = baselines.explorers.GeneticAlgorithm(\n",
    "        cnn,\n",
    "\n",
    "        population_size=8,\n",
    "        parent_selection_strategy='wright-fisher', # wright-fisher model decides who gets to 'mate'\n",
    "        beta=0.01,\n",
    "        children_proportion=0.2,\n",
    "\n",
    "        rounds=nRounds,\n",
    "        starting_sequence=starting_sequence,\n",
    "        sequences_batch_size=query_batch_size,\n",
    "        model_queries_per_batch=model_queries_per_batch,\n",
    "        alphabet=alphabet\n",
    "    )\n",
    "\n",
    "\n",
    "    genetic_algo_sequences, metadata = genetic_explorer.run(landscape)\n",
    "    fname = \"Genetic_Explorer_\" + get_time() + \".csv\"\n",
    "    genetic_algo_sequences.to_csv(os.path.join(logs_dir, fname))\n",
    "    genetic_algo_sequences"
   ]
  },
  {
   "cell_type": "markdown",
   "id": "1a73e436",
   "metadata": {},
   "source": [
    "## CMAES"
   ]
  },
  {
   "cell_type": "code",
   "execution_count": 48,
   "id": "4d88b7a4",
   "metadata": {},
   "outputs": [
    {
     "name": "stdout",
     "output_type": "stream",
     "text": [
      "round: 0, top: 0.0, time: 0.000323s\n",
      "round: 1, top: 4.0, time: 10.699157s\n",
      "round: 2, top: 7.0, time: 11.435345s\n",
      "round: 3, top: 7.0, time: 15.235479s\n",
      "round: 4, top: 7.0, time: 14.871799s\n",
      "round: 5, top: 7.0, time: 11.634634s\n",
      "round: 6, top: 7.0, time: 11.715258s\n",
      "round: 7, top: 8.0, time: 12.812527s\n",
      "round: 8, top: 8.0, time: 10.775759s\n",
      "round: 9, top: 9.0, time: 19.132927s\n",
      "round: 10, top: 10.0, time: 13.154495s\n",
      "round: 11, top: 10.0, time: 10.052949s\n",
      "round: 12, top: 10.0, time: 11.797098s\n",
      "round: 13, top: 10.0, time: 9.381970s\n",
      "round: 14, top: 10.0, time: 9.397948s\n",
      "round: 15, top: 10.0, time: 11.596999s\n",
      "round: 16, top: 10.0, time: 13.565015s\n",
      "round: 0, top: 0.0, time: 0.000336s\n",
      "round: 1, top: 4.0, time: 15.519073s\n",
      "round: 2, top: 5.0, time: 10.963936s\n",
      "round: 3, top: 7.0, time: 11.953653s\n",
      "round: 4, top: 7.0, time: 16.253817s\n",
      "round: 5, top: 8.0, time: 14.191139s\n",
      "round: 6, top: 8.0, time: 13.143806s\n",
      "round: 7, top: 8.0, time: 19.680023s\n",
      "round: 8, top: 8.0, time: 10.634289s\n",
      "round: 9, top: 8.0, time: 12.366824s\n",
      "round: 10, top: 9.0, time: 15.332448s\n",
      "round: 11, top: 9.0, time: 10.143841s\n",
      "round: 12, top: 9.0, time: 12.648629s\n",
      "round: 13, top: 9.0, time: 16.604820s\n",
      "round: 14, top: 9.0, time: 18.376194s\n",
      "round: 15, top: 9.0, time: 14.794379s\n",
      "round: 16, top: 9.0, time: 13.536761s\n",
      "round: 0, top: 0.0, time: 0.000376s\n",
      "round: 1, top: 4.0, time: 12.355520s\n",
      "round: 2, top: 7.0, time: 14.715292s\n",
      "round: 3, top: 11.0, time: 13.234199s\n",
      "round: 4, top: 11.0, time: 14.645423s\n",
      "round: 5, top: 11.0, time: 18.302335s\n",
      "round: 6, top: 11.0, time: 21.481161s\n",
      "round: 7, top: 11.0, time: 13.569243s\n",
      "round: 8, top: 11.0, time: 13.963224s\n",
      "round: 9, top: 11.0, time: 12.220768s\n",
      "round: 10, top: 11.0, time: 10.795289s\n",
      "round: 11, top: 11.0, time: 22.581382s\n",
      "round: 12, top: 11.0, time: 18.691512s\n",
      "round: 13, top: 11.0, time: 13.723583s\n",
      "round: 14, top: 11.0, time: 22.589912s\n",
      "round: 15, top: 11.0, time: 10.569392s\n",
      "round: 16, top: 11.0, time: 10.562547s\n"
     ]
    }
   ],
   "source": [
    "for _ in range(nRuns):\n",
    "\n",
    "    cnn = baselines.models.CNN(len(starting_sequence), alphabet=alphabet,\n",
    "                             num_filters=32, hidden_size=100, loss='MSE')\n",
    "\n",
    "    cmaes_explorer = baselines.explorers.CMAES(\n",
    "        flexs.LandscapeAsModel(landscape),\n",
    "\n",
    "        population_size=10,\n",
    "        max_iter=200,\n",
    "\n",
    "        rounds=nRounds,\n",
    "        starting_sequence=starting_sequence,\n",
    "        sequences_batch_size=query_batch_size,\n",
    "        model_queries_per_batch=model_queries_per_batch,\n",
    "        alphabet=alphabet\n",
    "    )\n",
    "\n",
    "    cmaes_sequences, metadata = cmaes_explorer.run(landscape)\n",
    "    fname = \"CMAES_Explorer_\" + get_time() + \".csv\"\n",
    "    cmaes_sequences.to_csv(os.path.join(logs_dir, fname))\n",
    "    cmaes_sequences"
   ]
  },
  {
   "cell_type": "markdown",
   "id": "1997bbe1",
   "metadata": {},
   "source": [
    "## DynaPPO"
   ]
  },
  {
   "cell_type": "code",
   "execution_count": 45,
   "id": "b563131c",
   "metadata": {},
   "outputs": [
    {
     "name": "stderr",
     "output_type": "stream",
     "text": [
      "/Users/leofeng/miniconda3/envs/metarlbo_env/lib/python3.7/site-packages/sklearn/linear_model/_coordinate_descent.py:532: ConvergenceWarning: Objective did not converge. You might want to increase the number of iterations. Duality gap: 0.0, tolerance: 0.0\n",
      "  positive)\n"
     ]
    },
    {
     "name": "stdout",
     "output_type": "stream",
     "text": [
      "BoundedTensorSpec(shape=(), dtype=tf.int64, name='action', minimum=array(0), maximum=array(19))\n",
      "round: 0, top: 1.0, time: 0.000254s\n",
      "WARNING:tensorflow:From /Users/leofeng/miniconda3/envs/metarlbo_env/lib/python3.7/site-packages/flexs/baselines/explorers/dyna_ppo.py:287: ReplayBuffer.gather_all (from tf_agents.replay_buffers.replay_buffer) is deprecated and will be removed in a future version.\n",
      "Instructions for updating:\n",
      "Use `as_dataset(..., single_deterministic_pass=True)` instead.\n",
      "round: 1, top: 6.0, time: 107.565540s\n",
      "round: 2, top: 6.0, time: 196.621941s\n"
     ]
    },
    {
     "ename": "KeyboardInterrupt",
     "evalue": "",
     "output_type": "error",
     "traceback": [
      "\u001b[0;31m---------------------------------------------------------------------------\u001b[0m",
      "\u001b[0;31mKeyboardInterrupt\u001b[0m                         Traceback (most recent call last)",
      "\u001b[0;32m/var/folders/f4/xryngv2x045_m6s988v9s80c0000gn/T/ipykernel_21059/3810261785.py\u001b[0m in \u001b[0;36m<module>\u001b[0;34m\u001b[0m\n\u001b[1;32m     10\u001b[0m )\n\u001b[1;32m     11\u001b[0m \u001b[0;34m\u001b[0m\u001b[0m\n\u001b[0;32m---> 12\u001b[0;31m \u001b[0mdynappo_sequences\u001b[0m\u001b[0;34m,\u001b[0m \u001b[0mmetadata\u001b[0m \u001b[0;34m=\u001b[0m \u001b[0mdynappo_explorer\u001b[0m\u001b[0;34m.\u001b[0m\u001b[0mrun\u001b[0m\u001b[0;34m(\u001b[0m\u001b[0mlandscape\u001b[0m\u001b[0;34m)\u001b[0m\u001b[0;34m\u001b[0m\u001b[0;34m\u001b[0m\u001b[0m\n\u001b[0m\u001b[1;32m     13\u001b[0m \u001b[0mdynappo_sequences\u001b[0m\u001b[0;34m\u001b[0m\u001b[0;34m\u001b[0m\u001b[0m\n",
      "\u001b[0;32m~/miniconda3/envs/metarlbo_env/lib/python3.7/site-packages/flexs/explorer.py\u001b[0m in \u001b[0;36mrun\u001b[0;34m(self, landscape, verbose)\u001b[0m\n\u001b[1;32m    160\u001b[0m             )\n\u001b[1;32m    161\u001b[0m \u001b[0;34m\u001b[0m\u001b[0m\n\u001b[0;32m--> 162\u001b[0;31m             \u001b[0mseqs\u001b[0m\u001b[0;34m,\u001b[0m \u001b[0mpreds\u001b[0m \u001b[0;34m=\u001b[0m \u001b[0mself\u001b[0m\u001b[0;34m.\u001b[0m\u001b[0mpropose_sequences\u001b[0m\u001b[0;34m(\u001b[0m\u001b[0msequences_data\u001b[0m\u001b[0;34m)\u001b[0m\u001b[0;34m\u001b[0m\u001b[0;34m\u001b[0m\u001b[0m\n\u001b[0m\u001b[1;32m    163\u001b[0m             \u001b[0mtrue_score\u001b[0m \u001b[0;34m=\u001b[0m \u001b[0mlandscape\u001b[0m\u001b[0;34m.\u001b[0m\u001b[0mget_fitness\u001b[0m\u001b[0;34m(\u001b[0m\u001b[0mseqs\u001b[0m\u001b[0;34m)\u001b[0m\u001b[0;34m\u001b[0m\u001b[0;34m\u001b[0m\u001b[0m\n\u001b[1;32m    164\u001b[0m \u001b[0;34m\u001b[0m\u001b[0m\n",
      "\u001b[0;32m~/miniconda3/envs/metarlbo_env/lib/python3.7/site-packages/flexs/baselines/explorers/dyna_ppo.py\u001b[0m in \u001b[0;36mpropose_sequences\u001b[0;34m(self, measured_sequences_data)\u001b[0m\n\u001b[1;32m    301\u001b[0m                 \u001b[0mself\u001b[0m\u001b[0;34m.\u001b[0m\u001b[0mmodel_queries_per_batch\u001b[0m \u001b[0;34m/\u001b[0m \u001b[0mself\u001b[0m\u001b[0;34m.\u001b[0m\u001b[0mnum_model_rounds\u001b[0m\u001b[0;34m\u001b[0m\u001b[0;34m\u001b[0m\u001b[0m\n\u001b[1;32m    302\u001b[0m             ):\n\u001b[0;32m--> 303\u001b[0;31m                 \u001b[0mcollect_driver\u001b[0m\u001b[0;34m.\u001b[0m\u001b[0mrun\u001b[0m\u001b[0;34m(\u001b[0m\u001b[0;34m)\u001b[0m\u001b[0;34m\u001b[0m\u001b[0;34m\u001b[0m\u001b[0m\n\u001b[0m\u001b[1;32m    304\u001b[0m \u001b[0;34m\u001b[0m\u001b[0m\n\u001b[1;32m    305\u001b[0m             \u001b[0mtrajectories\u001b[0m \u001b[0;34m=\u001b[0m \u001b[0mreplay_buffer\u001b[0m\u001b[0;34m.\u001b[0m\u001b[0mgather_all\u001b[0m\u001b[0;34m(\u001b[0m\u001b[0;34m)\u001b[0m\u001b[0;34m\u001b[0m\u001b[0;34m\u001b[0m\u001b[0m\n",
      "\u001b[0;32m~/miniconda3/envs/metarlbo_env/lib/python3.7/site-packages/tf_agents/drivers/dynamic_episode_driver.py\u001b[0m in \u001b[0;36mrun\u001b[0;34m(self, time_step, policy_state, num_episodes, maximum_iterations)\u001b[0m\n\u001b[1;32m    213\u001b[0m         \u001b[0mpolicy_state\u001b[0m\u001b[0;34m=\u001b[0m\u001b[0mpolicy_state\u001b[0m\u001b[0;34m,\u001b[0m\u001b[0;34m\u001b[0m\u001b[0;34m\u001b[0m\u001b[0m\n\u001b[1;32m    214\u001b[0m         \u001b[0mnum_episodes\u001b[0m\u001b[0;34m=\u001b[0m\u001b[0mnum_episodes\u001b[0m\u001b[0;34m,\u001b[0m\u001b[0;34m\u001b[0m\u001b[0;34m\u001b[0m\u001b[0m\n\u001b[0;32m--> 215\u001b[0;31m         maximum_iterations=maximum_iterations)\n\u001b[0m\u001b[1;32m    216\u001b[0m \u001b[0;34m\u001b[0m\u001b[0m\n\u001b[1;32m    217\u001b[0m   def _run(self,\n",
      "\u001b[0;32m~/miniconda3/envs/metarlbo_env/lib/python3.7/site-packages/tf_agents/utils/common.py\u001b[0m in \u001b[0;36mwith_check_resource_vars\u001b[0;34m(*fn_args, **fn_kwargs)\u001b[0m\n\u001b[1;32m    186\u001b[0m         \u001b[0;31m# We're either in eager mode or in tf.function mode (no in-between); so\u001b[0m\u001b[0;34m\u001b[0m\u001b[0;34m\u001b[0m\u001b[0;34m\u001b[0m\u001b[0m\n\u001b[1;32m    187\u001b[0m         \u001b[0;31m# autodep-like behavior is already expected of fn.\u001b[0m\u001b[0;34m\u001b[0m\u001b[0;34m\u001b[0m\u001b[0;34m\u001b[0m\u001b[0m\n\u001b[0;32m--> 188\u001b[0;31m         \u001b[0;32mreturn\u001b[0m \u001b[0mfn\u001b[0m\u001b[0;34m(\u001b[0m\u001b[0;34m*\u001b[0m\u001b[0mfn_args\u001b[0m\u001b[0;34m,\u001b[0m \u001b[0;34m**\u001b[0m\u001b[0mfn_kwargs\u001b[0m\u001b[0;34m)\u001b[0m\u001b[0;34m\u001b[0m\u001b[0;34m\u001b[0m\u001b[0m\n\u001b[0m\u001b[1;32m    189\u001b[0m       \u001b[0;32mif\u001b[0m \u001b[0;32mnot\u001b[0m \u001b[0mresource_variables_enabled\u001b[0m\u001b[0;34m(\u001b[0m\u001b[0;34m)\u001b[0m\u001b[0;34m:\u001b[0m\u001b[0;34m\u001b[0m\u001b[0;34m\u001b[0m\u001b[0m\n\u001b[1;32m    190\u001b[0m         \u001b[0;32mraise\u001b[0m \u001b[0mRuntimeError\u001b[0m\u001b[0;34m(\u001b[0m\u001b[0mMISSING_RESOURCE_VARIABLES_ERROR\u001b[0m\u001b[0;34m)\u001b[0m\u001b[0;34m\u001b[0m\u001b[0;34m\u001b[0m\u001b[0m\n",
      "\u001b[0;32m~/miniconda3/envs/metarlbo_env/lib/python3.7/site-packages/tf_agents/drivers/dynamic_episode_driver.py\u001b[0m in \u001b[0;36m_run\u001b[0;34m(self, time_step, policy_state, num_episodes, maximum_iterations)\u001b[0m\n\u001b[1;32m    242\u001b[0m             \u001b[0mparallel_iterations\u001b[0m\u001b[0;34m=\u001b[0m\u001b[0;36m1\u001b[0m\u001b[0;34m,\u001b[0m\u001b[0;34m\u001b[0m\u001b[0;34m\u001b[0m\u001b[0m\n\u001b[1;32m    243\u001b[0m             \u001b[0mmaximum_iterations\u001b[0m\u001b[0;34m=\u001b[0m\u001b[0mmaximum_iterations\u001b[0m\u001b[0;34m,\u001b[0m\u001b[0;34m\u001b[0m\u001b[0;34m\u001b[0m\u001b[0m\n\u001b[0;32m--> 244\u001b[0;31m             name='driver_loop'))\n\u001b[0m\u001b[1;32m    245\u001b[0m \u001b[0;34m\u001b[0m\u001b[0m\n\u001b[1;32m    246\u001b[0m     \u001b[0;32mreturn\u001b[0m \u001b[0mtime_step\u001b[0m\u001b[0;34m,\u001b[0m \u001b[0mpolicy_state\u001b[0m\u001b[0;34m\u001b[0m\u001b[0;34m\u001b[0m\u001b[0m\n",
      "\u001b[0;32m~/miniconda3/envs/metarlbo_env/lib/python3.7/site-packages/tensorflow/python/util/deprecation.py\u001b[0m in \u001b[0;36mnew_func\u001b[0;34m(*args, **kwargs)\u001b[0m\n\u001b[1;32m    618\u001b[0m                   \u001b[0mfunc\u001b[0m\u001b[0;34m.\u001b[0m\u001b[0m__module__\u001b[0m\u001b[0;34m,\u001b[0m \u001b[0marg_name\u001b[0m\u001b[0;34m,\u001b[0m \u001b[0marg_value\u001b[0m\u001b[0;34m,\u001b[0m \u001b[0;34m'in a future version'\u001b[0m\u001b[0;34m\u001b[0m\u001b[0;34m\u001b[0m\u001b[0m\n\u001b[1;32m    619\u001b[0m                   if date is None else ('after %s' % date), instructions)\n\u001b[0;32m--> 620\u001b[0;31m       \u001b[0;32mreturn\u001b[0m \u001b[0mfunc\u001b[0m\u001b[0;34m(\u001b[0m\u001b[0;34m*\u001b[0m\u001b[0margs\u001b[0m\u001b[0;34m,\u001b[0m \u001b[0;34m**\u001b[0m\u001b[0mkwargs\u001b[0m\u001b[0;34m)\u001b[0m\u001b[0;34m\u001b[0m\u001b[0;34m\u001b[0m\u001b[0m\n\u001b[0m\u001b[1;32m    621\u001b[0m \u001b[0;34m\u001b[0m\u001b[0m\n\u001b[1;32m    622\u001b[0m     doc = _add_deprecated_arg_value_notice_to_docstring(\n",
      "\u001b[0;32m~/miniconda3/envs/metarlbo_env/lib/python3.7/site-packages/tensorflow/python/ops/control_flow_ops.py\u001b[0m in \u001b[0;36mwhile_loop_v2\u001b[0;34m(cond, body, loop_vars, shape_invariants, parallel_iterations, back_prop, swap_memory, maximum_iterations, name)\u001b[0m\n\u001b[1;32m   2556\u001b[0m       \u001b[0mname\u001b[0m\u001b[0;34m=\u001b[0m\u001b[0mname\u001b[0m\u001b[0;34m,\u001b[0m\u001b[0;34m\u001b[0m\u001b[0;34m\u001b[0m\u001b[0m\n\u001b[1;32m   2557\u001b[0m       \u001b[0mmaximum_iterations\u001b[0m\u001b[0;34m=\u001b[0m\u001b[0mmaximum_iterations\u001b[0m\u001b[0;34m,\u001b[0m\u001b[0;34m\u001b[0m\u001b[0;34m\u001b[0m\u001b[0m\n\u001b[0;32m-> 2558\u001b[0;31m       return_same_structure=True)\n\u001b[0m\u001b[1;32m   2559\u001b[0m \u001b[0;34m\u001b[0m\u001b[0m\n\u001b[1;32m   2560\u001b[0m \u001b[0;34m\u001b[0m\u001b[0m\n",
      "\u001b[0;32m~/miniconda3/envs/metarlbo_env/lib/python3.7/site-packages/tensorflow/python/ops/control_flow_ops.py\u001b[0m in \u001b[0;36mwhile_loop\u001b[0;34m(cond, body, loop_vars, shape_invariants, parallel_iterations, back_prop, swap_memory, name, maximum_iterations, return_same_structure)\u001b[0m\n\u001b[1;32m   2793\u001b[0m                                               list(loop_vars))\n\u001b[1;32m   2794\u001b[0m       \u001b[0;32mwhile\u001b[0m \u001b[0mcond\u001b[0m\u001b[0;34m(\u001b[0m\u001b[0;34m*\u001b[0m\u001b[0mloop_vars\u001b[0m\u001b[0;34m)\u001b[0m\u001b[0;34m:\u001b[0m\u001b[0;34m\u001b[0m\u001b[0;34m\u001b[0m\u001b[0m\n\u001b[0;32m-> 2795\u001b[0;31m         \u001b[0mloop_vars\u001b[0m \u001b[0;34m=\u001b[0m \u001b[0mbody\u001b[0m\u001b[0;34m(\u001b[0m\u001b[0;34m*\u001b[0m\u001b[0mloop_vars\u001b[0m\u001b[0;34m)\u001b[0m\u001b[0;34m\u001b[0m\u001b[0;34m\u001b[0m\u001b[0m\n\u001b[0m\u001b[1;32m   2796\u001b[0m         \u001b[0;32mif\u001b[0m \u001b[0mtry_to_pack\u001b[0m \u001b[0;32mand\u001b[0m \u001b[0;32mnot\u001b[0m \u001b[0misinstance\u001b[0m\u001b[0;34m(\u001b[0m\u001b[0mloop_vars\u001b[0m\u001b[0;34m,\u001b[0m \u001b[0;34m(\u001b[0m\u001b[0mlist\u001b[0m\u001b[0;34m,\u001b[0m \u001b[0m_basetuple\u001b[0m\u001b[0;34m)\u001b[0m\u001b[0;34m)\u001b[0m\u001b[0;34m:\u001b[0m\u001b[0;34m\u001b[0m\u001b[0;34m\u001b[0m\u001b[0m\n\u001b[1;32m   2797\u001b[0m           \u001b[0mpacked\u001b[0m \u001b[0;34m=\u001b[0m \u001b[0;32mTrue\u001b[0m\u001b[0;34m\u001b[0m\u001b[0;34m\u001b[0m\u001b[0m\n",
      "\u001b[0;32m~/miniconda3/envs/metarlbo_env/lib/python3.7/site-packages/tf_agents/drivers/dynamic_episode_driver.py\u001b[0m in \u001b[0;36mloop_body\u001b[0;34m(counter, time_step, policy_state)\u001b[0m\n\u001b[1;32m    139\u001b[0m       \u001b[0;31m# in parallel.\u001b[0m\u001b[0;34m\u001b[0m\u001b[0;34m\u001b[0m\u001b[0;34m\u001b[0m\u001b[0m\n\u001b[1;32m    140\u001b[0m       \u001b[0;32mwith\u001b[0m \u001b[0mtf\u001b[0m\u001b[0;34m.\u001b[0m\u001b[0mcontrol_dependencies\u001b[0m\u001b[0;34m(\u001b[0m\u001b[0mtf\u001b[0m\u001b[0;34m.\u001b[0m\u001b[0mnest\u001b[0m\u001b[0;34m.\u001b[0m\u001b[0mflatten\u001b[0m\u001b[0;34m(\u001b[0m\u001b[0;34m[\u001b[0m\u001b[0mtime_step\u001b[0m\u001b[0;34m]\u001b[0m\u001b[0;34m)\u001b[0m\u001b[0;34m)\u001b[0m\u001b[0;34m:\u001b[0m\u001b[0;34m\u001b[0m\u001b[0;34m\u001b[0m\u001b[0m\n\u001b[0;32m--> 141\u001b[0;31m         \u001b[0mnext_time_step\u001b[0m \u001b[0;34m=\u001b[0m \u001b[0mself\u001b[0m\u001b[0;34m.\u001b[0m\u001b[0menv\u001b[0m\u001b[0;34m.\u001b[0m\u001b[0mstep\u001b[0m\u001b[0;34m(\u001b[0m\u001b[0maction_step\u001b[0m\u001b[0;34m.\u001b[0m\u001b[0maction\u001b[0m\u001b[0;34m)\u001b[0m\u001b[0;34m\u001b[0m\u001b[0;34m\u001b[0m\u001b[0m\n\u001b[0m\u001b[1;32m    142\u001b[0m \u001b[0;34m\u001b[0m\u001b[0m\n\u001b[1;32m    143\u001b[0m       \u001b[0mpolicy_state\u001b[0m \u001b[0;34m=\u001b[0m \u001b[0maction_step\u001b[0m\u001b[0;34m.\u001b[0m\u001b[0mstate\u001b[0m\u001b[0;34m\u001b[0m\u001b[0;34m\u001b[0m\u001b[0m\n",
      "\u001b[0;32m~/miniconda3/envs/metarlbo_env/lib/python3.7/site-packages/tf_agents/environments/tf_environment.py\u001b[0m in \u001b[0;36mstep\u001b[0;34m(self, action)\u001b[0m\n\u001b[1;32m    239\u001b[0m           \u001b[0mcorresponding\u001b[0m \u001b[0mto\u001b[0m\u001b[0;31m \u001b[0m\u001b[0;31m`\u001b[0m\u001b[0mobservation_spec\u001b[0m\u001b[0;34m(\u001b[0m\u001b[0;34m)\u001b[0m\u001b[0;31m`\u001b[0m\u001b[0;34m.\u001b[0m\u001b[0;34m\u001b[0m\u001b[0;34m\u001b[0m\u001b[0m\n\u001b[1;32m    240\u001b[0m     \"\"\"\n\u001b[0;32m--> 241\u001b[0;31m     \u001b[0;32mreturn\u001b[0m \u001b[0mself\u001b[0m\u001b[0;34m.\u001b[0m\u001b[0m_step\u001b[0m\u001b[0;34m(\u001b[0m\u001b[0maction\u001b[0m\u001b[0;34m)\u001b[0m\u001b[0;34m\u001b[0m\u001b[0;34m\u001b[0m\u001b[0m\n\u001b[0m\u001b[1;32m    242\u001b[0m \u001b[0;34m\u001b[0m\u001b[0m\n\u001b[1;32m    243\u001b[0m   \u001b[0;32mdef\u001b[0m \u001b[0mrender\u001b[0m\u001b[0;34m(\u001b[0m\u001b[0mself\u001b[0m\u001b[0;34m)\u001b[0m\u001b[0;34m:\u001b[0m\u001b[0;34m\u001b[0m\u001b[0;34m\u001b[0m\u001b[0m\n",
      "\u001b[0;32m~/miniconda3/envs/metarlbo_env/lib/python3.7/site-packages/tf_agents/environments/tf_py_environment.py\u001b[0m in \u001b[0;36m_step\u001b[0;34m(self, actions)\u001b[0m\n\u001b[1;32m    318\u001b[0m           \u001b[0mflat_actions\u001b[0m\u001b[0;34m,\u001b[0m\u001b[0;34m\u001b[0m\u001b[0;34m\u001b[0m\u001b[0m\n\u001b[1;32m    319\u001b[0m           \u001b[0mself\u001b[0m\u001b[0;34m.\u001b[0m\u001b[0m_time_step_dtypes\u001b[0m\u001b[0;34m,\u001b[0m\u001b[0;34m\u001b[0m\u001b[0;34m\u001b[0m\u001b[0m\n\u001b[0;32m--> 320\u001b[0;31m           name='step_py_func')\n\u001b[0m\u001b[1;32m    321\u001b[0m       \u001b[0;32mreturn\u001b[0m \u001b[0mself\u001b[0m\u001b[0;34m.\u001b[0m\u001b[0m_time_step_from_numpy_function_outputs\u001b[0m\u001b[0;34m(\u001b[0m\u001b[0moutputs\u001b[0m\u001b[0;34m)\u001b[0m\u001b[0;34m\u001b[0m\u001b[0;34m\u001b[0m\u001b[0m\n\u001b[1;32m    322\u001b[0m \u001b[0;34m\u001b[0m\u001b[0m\n",
      "\u001b[0;32m~/miniconda3/envs/metarlbo_env/lib/python3.7/site-packages/tensorflow/python/util/traceback_utils.py\u001b[0m in \u001b[0;36merror_handler\u001b[0;34m(*args, **kwargs)\u001b[0m\n\u001b[1;32m    148\u001b[0m     \u001b[0mfiltered_tb\u001b[0m \u001b[0;34m=\u001b[0m \u001b[0;32mNone\u001b[0m\u001b[0;34m\u001b[0m\u001b[0;34m\u001b[0m\u001b[0m\n\u001b[1;32m    149\u001b[0m     \u001b[0;32mtry\u001b[0m\u001b[0;34m:\u001b[0m\u001b[0;34m\u001b[0m\u001b[0;34m\u001b[0m\u001b[0m\n\u001b[0;32m--> 150\u001b[0;31m       \u001b[0;32mreturn\u001b[0m \u001b[0mfn\u001b[0m\u001b[0;34m(\u001b[0m\u001b[0;34m*\u001b[0m\u001b[0margs\u001b[0m\u001b[0;34m,\u001b[0m \u001b[0;34m**\u001b[0m\u001b[0mkwargs\u001b[0m\u001b[0;34m)\u001b[0m\u001b[0;34m\u001b[0m\u001b[0;34m\u001b[0m\u001b[0m\n\u001b[0m\u001b[1;32m    151\u001b[0m     \u001b[0;32mexcept\u001b[0m \u001b[0mException\u001b[0m \u001b[0;32mas\u001b[0m \u001b[0me\u001b[0m\u001b[0;34m:\u001b[0m\u001b[0;34m\u001b[0m\u001b[0;34m\u001b[0m\u001b[0m\n\u001b[1;32m    152\u001b[0m       \u001b[0mfiltered_tb\u001b[0m \u001b[0;34m=\u001b[0m \u001b[0m_process_traceback_frames\u001b[0m\u001b[0;34m(\u001b[0m\u001b[0me\u001b[0m\u001b[0;34m.\u001b[0m\u001b[0m__traceback__\u001b[0m\u001b[0;34m)\u001b[0m\u001b[0;34m\u001b[0m\u001b[0;34m\u001b[0m\u001b[0m\n",
      "\u001b[0;32m~/miniconda3/envs/metarlbo_env/lib/python3.7/site-packages/tensorflow/python/util/dispatch.py\u001b[0m in \u001b[0;36mop_dispatch_handler\u001b[0;34m(*args, **kwargs)\u001b[0m\n\u001b[1;32m   1094\u001b[0m       \u001b[0;31m# Fallback dispatch system (dispatch v1):\u001b[0m\u001b[0;34m\u001b[0m\u001b[0;34m\u001b[0m\u001b[0;34m\u001b[0m\u001b[0m\n\u001b[1;32m   1095\u001b[0m       \u001b[0;32mtry\u001b[0m\u001b[0;34m:\u001b[0m\u001b[0;34m\u001b[0m\u001b[0;34m\u001b[0m\u001b[0m\n\u001b[0;32m-> 1096\u001b[0;31m         \u001b[0;32mreturn\u001b[0m \u001b[0mdispatch_target\u001b[0m\u001b[0;34m(\u001b[0m\u001b[0;34m*\u001b[0m\u001b[0margs\u001b[0m\u001b[0;34m,\u001b[0m \u001b[0;34m**\u001b[0m\u001b[0mkwargs\u001b[0m\u001b[0;34m)\u001b[0m\u001b[0;34m\u001b[0m\u001b[0;34m\u001b[0m\u001b[0m\n\u001b[0m\u001b[1;32m   1097\u001b[0m       \u001b[0;32mexcept\u001b[0m \u001b[0;34m(\u001b[0m\u001b[0mTypeError\u001b[0m\u001b[0;34m,\u001b[0m \u001b[0mValueError\u001b[0m\u001b[0;34m)\u001b[0m\u001b[0;34m:\u001b[0m\u001b[0;34m\u001b[0m\u001b[0;34m\u001b[0m\u001b[0m\n\u001b[1;32m   1098\u001b[0m         \u001b[0;31m# Note: convert_to_eager_tensor currently raises a ValueError, not a\u001b[0m\u001b[0;34m\u001b[0m\u001b[0;34m\u001b[0m\u001b[0;34m\u001b[0m\u001b[0m\n",
      "\u001b[0;32m~/miniconda3/envs/metarlbo_env/lib/python3.7/site-packages/tensorflow/python/ops/script_ops.py\u001b[0m in \u001b[0;36mnumpy_function\u001b[0;34m(func, inp, Tout, name)\u001b[0m\n\u001b[1;32m    752\u001b[0m     \u001b[0mSingle\u001b[0m \u001b[0;32mor\u001b[0m \u001b[0mlist\u001b[0m \u001b[0mof\u001b[0m\u001b[0;31m \u001b[0m\u001b[0;31m`\u001b[0m\u001b[0mtf\u001b[0m\u001b[0;34m.\u001b[0m\u001b[0mTensor\u001b[0m\u001b[0;31m`\u001b[0m \u001b[0mwhich\u001b[0m\u001b[0;31m \u001b[0m\u001b[0;31m`\u001b[0m\u001b[0mfunc\u001b[0m\u001b[0;31m`\u001b[0m \u001b[0mcomputes\u001b[0m\u001b[0;34m.\u001b[0m\u001b[0;34m\u001b[0m\u001b[0;34m\u001b[0m\u001b[0m\n\u001b[1;32m    753\u001b[0m   \"\"\"\n\u001b[0;32m--> 754\u001b[0;31m   \u001b[0;32mreturn\u001b[0m \u001b[0mpy_func_common\u001b[0m\u001b[0;34m(\u001b[0m\u001b[0mfunc\u001b[0m\u001b[0;34m,\u001b[0m \u001b[0minp\u001b[0m\u001b[0;34m,\u001b[0m \u001b[0mTout\u001b[0m\u001b[0;34m,\u001b[0m \u001b[0mstateful\u001b[0m\u001b[0;34m=\u001b[0m\u001b[0;32mTrue\u001b[0m\u001b[0;34m,\u001b[0m \u001b[0mname\u001b[0m\u001b[0;34m=\u001b[0m\u001b[0mname\u001b[0m\u001b[0;34m)\u001b[0m\u001b[0;34m\u001b[0m\u001b[0;34m\u001b[0m\u001b[0m\n\u001b[0m\u001b[1;32m    755\u001b[0m \u001b[0;34m\u001b[0m\u001b[0m\n\u001b[1;32m    756\u001b[0m \u001b[0;34m\u001b[0m\u001b[0m\n",
      "\u001b[0;32m~/miniconda3/envs/metarlbo_env/lib/python3.7/site-packages/tensorflow/python/ops/script_ops.py\u001b[0m in \u001b[0;36mpy_func_common\u001b[0;34m(func, inp, Tout, stateful, name)\u001b[0m\n\u001b[1;32m    634\u001b[0m   \"\"\"\n\u001b[1;32m    635\u001b[0m   \u001b[0;32mif\u001b[0m \u001b[0mcontext\u001b[0m\u001b[0;34m.\u001b[0m\u001b[0mexecuting_eagerly\u001b[0m\u001b[0;34m(\u001b[0m\u001b[0;34m)\u001b[0m\u001b[0;34m:\u001b[0m\u001b[0;34m\u001b[0m\u001b[0;34m\u001b[0m\u001b[0m\n\u001b[0;32m--> 636\u001b[0;31m     \u001b[0mresult\u001b[0m \u001b[0;34m=\u001b[0m \u001b[0mfunc\u001b[0m\u001b[0;34m(\u001b[0m\u001b[0;34m*\u001b[0m\u001b[0;34m[\u001b[0m\u001b[0mnp\u001b[0m\u001b[0;34m.\u001b[0m\u001b[0marray\u001b[0m\u001b[0;34m(\u001b[0m\u001b[0mx\u001b[0m\u001b[0;34m)\u001b[0m \u001b[0;32mfor\u001b[0m \u001b[0mx\u001b[0m \u001b[0;32min\u001b[0m \u001b[0minp\u001b[0m\u001b[0;34m]\u001b[0m\u001b[0;34m)\u001b[0m\u001b[0;34m\u001b[0m\u001b[0;34m\u001b[0m\u001b[0m\n\u001b[0m\u001b[1;32m    637\u001b[0m     \u001b[0mresult\u001b[0m \u001b[0;34m=\u001b[0m \u001b[0mnest\u001b[0m\u001b[0;34m.\u001b[0m\u001b[0mflatten\u001b[0m\u001b[0;34m(\u001b[0m\u001b[0mresult\u001b[0m\u001b[0;34m)\u001b[0m\u001b[0;34m\u001b[0m\u001b[0;34m\u001b[0m\u001b[0m\n\u001b[1;32m    638\u001b[0m \u001b[0;34m\u001b[0m\u001b[0m\n",
      "\u001b[0;32m~/miniconda3/envs/metarlbo_env/lib/python3.7/site-packages/tf_agents/environments/tf_py_environment.py\u001b[0m in \u001b[0;36m_isolated_step_py\u001b[0;34m(*flattened_actions)\u001b[0m\n\u001b[1;32m    301\u001b[0m \u001b[0;34m\u001b[0m\u001b[0m\n\u001b[1;32m    302\u001b[0m     \u001b[0;32mdef\u001b[0m \u001b[0m_isolated_step_py\u001b[0m\u001b[0;34m(\u001b[0m\u001b[0;34m*\u001b[0m\u001b[0mflattened_actions\u001b[0m\u001b[0;34m)\u001b[0m\u001b[0;34m:\u001b[0m\u001b[0;34m\u001b[0m\u001b[0;34m\u001b[0m\u001b[0m\n\u001b[0;32m--> 303\u001b[0;31m       \u001b[0;32mreturn\u001b[0m \u001b[0mself\u001b[0m\u001b[0;34m.\u001b[0m\u001b[0m_execute\u001b[0m\u001b[0;34m(\u001b[0m\u001b[0m_step_py\u001b[0m\u001b[0;34m,\u001b[0m \u001b[0;34m*\u001b[0m\u001b[0mflattened_actions\u001b[0m\u001b[0;34m)\u001b[0m\u001b[0;34m\u001b[0m\u001b[0;34m\u001b[0m\u001b[0m\n\u001b[0m\u001b[1;32m    304\u001b[0m \u001b[0;34m\u001b[0m\u001b[0m\n\u001b[1;32m    305\u001b[0m     \u001b[0;32mwith\u001b[0m \u001b[0mtf\u001b[0m\u001b[0;34m.\u001b[0m\u001b[0mname_scope\u001b[0m\u001b[0;34m(\u001b[0m\u001b[0;34m'step'\u001b[0m\u001b[0;34m)\u001b[0m\u001b[0;34m:\u001b[0m\u001b[0;34m\u001b[0m\u001b[0;34m\u001b[0m\u001b[0m\n",
      "\u001b[0;32m~/miniconda3/envs/metarlbo_env/lib/python3.7/site-packages/tf_agents/environments/tf_py_environment.py\u001b[0m in \u001b[0;36m_execute\u001b[0;34m(self, fn, *args, **kwargs)\u001b[0m\n\u001b[1;32m    210\u001b[0m   \u001b[0;32mdef\u001b[0m \u001b[0m_execute\u001b[0m\u001b[0;34m(\u001b[0m\u001b[0mself\u001b[0m\u001b[0;34m,\u001b[0m \u001b[0mfn\u001b[0m\u001b[0;34m,\u001b[0m \u001b[0;34m*\u001b[0m\u001b[0margs\u001b[0m\u001b[0;34m,\u001b[0m \u001b[0;34m**\u001b[0m\u001b[0mkwargs\u001b[0m\u001b[0;34m)\u001b[0m\u001b[0;34m:\u001b[0m\u001b[0;34m\u001b[0m\u001b[0;34m\u001b[0m\u001b[0m\n\u001b[1;32m    211\u001b[0m     \u001b[0;32mif\u001b[0m \u001b[0;32mnot\u001b[0m \u001b[0mself\u001b[0m\u001b[0;34m.\u001b[0m\u001b[0m_pool\u001b[0m\u001b[0;34m:\u001b[0m\u001b[0;34m\u001b[0m\u001b[0;34m\u001b[0m\u001b[0m\n\u001b[0;32m--> 212\u001b[0;31m       \u001b[0;32mreturn\u001b[0m \u001b[0mfn\u001b[0m\u001b[0;34m(\u001b[0m\u001b[0;34m*\u001b[0m\u001b[0margs\u001b[0m\u001b[0;34m,\u001b[0m \u001b[0;34m**\u001b[0m\u001b[0mkwargs\u001b[0m\u001b[0;34m)\u001b[0m\u001b[0;34m\u001b[0m\u001b[0;34m\u001b[0m\u001b[0m\n\u001b[0m\u001b[1;32m    213\u001b[0m     \u001b[0;32mreturn\u001b[0m \u001b[0mself\u001b[0m\u001b[0;34m.\u001b[0m\u001b[0m_pool\u001b[0m\u001b[0;34m.\u001b[0m\u001b[0mapply\u001b[0m\u001b[0;34m(\u001b[0m\u001b[0mfn\u001b[0m\u001b[0;34m,\u001b[0m \u001b[0margs\u001b[0m\u001b[0;34m=\u001b[0m\u001b[0margs\u001b[0m\u001b[0;34m,\u001b[0m \u001b[0mkwds\u001b[0m\u001b[0;34m=\u001b[0m\u001b[0mkwargs\u001b[0m\u001b[0;34m)\u001b[0m\u001b[0;34m\u001b[0m\u001b[0;34m\u001b[0m\u001b[0m\n\u001b[1;32m    214\u001b[0m \u001b[0;34m\u001b[0m\u001b[0m\n",
      "\u001b[0;32m~/miniconda3/envs/metarlbo_env/lib/python3.7/site-packages/tf_agents/environments/tf_py_environment.py\u001b[0m in \u001b[0;36m_step_py\u001b[0;34m(*flattened_actions)\u001b[0m\n\u001b[1;32m    297\u001b[0m         packed = tf.nest.pack_sequence_as(\n\u001b[1;32m    298\u001b[0m             structure=self.action_spec(), flat_sequence=flattened_actions)\n\u001b[0;32m--> 299\u001b[0;31m         \u001b[0mself\u001b[0m\u001b[0;34m.\u001b[0m\u001b[0m_time_step\u001b[0m \u001b[0;34m=\u001b[0m \u001b[0mself\u001b[0m\u001b[0;34m.\u001b[0m\u001b[0m_env\u001b[0m\u001b[0;34m.\u001b[0m\u001b[0mstep\u001b[0m\u001b[0;34m(\u001b[0m\u001b[0mpacked\u001b[0m\u001b[0;34m)\u001b[0m\u001b[0;34m\u001b[0m\u001b[0;34m\u001b[0m\u001b[0m\n\u001b[0m\u001b[1;32m    300\u001b[0m         \u001b[0;32mreturn\u001b[0m \u001b[0mtf\u001b[0m\u001b[0;34m.\u001b[0m\u001b[0mnest\u001b[0m\u001b[0;34m.\u001b[0m\u001b[0mflatten\u001b[0m\u001b[0;34m(\u001b[0m\u001b[0mself\u001b[0m\u001b[0;34m.\u001b[0m\u001b[0m_time_step\u001b[0m\u001b[0;34m)\u001b[0m\u001b[0;34m\u001b[0m\u001b[0;34m\u001b[0m\u001b[0m\n\u001b[1;32m    301\u001b[0m \u001b[0;34m\u001b[0m\u001b[0m\n",
      "\u001b[0;32m~/miniconda3/envs/metarlbo_env/lib/python3.7/site-packages/tf_agents/environments/py_environment.py\u001b[0m in \u001b[0;36mstep\u001b[0;34m(self, action)\u001b[0m\n\u001b[1;32m    231\u001b[0m       \u001b[0;32mreturn\u001b[0m \u001b[0mself\u001b[0m\u001b[0;34m.\u001b[0m\u001b[0mreset\u001b[0m\u001b[0;34m(\u001b[0m\u001b[0;34m)\u001b[0m\u001b[0;34m\u001b[0m\u001b[0;34m\u001b[0m\u001b[0m\n\u001b[1;32m    232\u001b[0m \u001b[0;34m\u001b[0m\u001b[0m\n\u001b[0;32m--> 233\u001b[0;31m     \u001b[0mself\u001b[0m\u001b[0;34m.\u001b[0m\u001b[0m_current_time_step\u001b[0m \u001b[0;34m=\u001b[0m \u001b[0mself\u001b[0m\u001b[0;34m.\u001b[0m\u001b[0m_step\u001b[0m\u001b[0;34m(\u001b[0m\u001b[0maction\u001b[0m\u001b[0;34m)\u001b[0m\u001b[0;34m\u001b[0m\u001b[0;34m\u001b[0m\u001b[0m\n\u001b[0m\u001b[1;32m    234\u001b[0m     \u001b[0;32mreturn\u001b[0m \u001b[0mself\u001b[0m\u001b[0;34m.\u001b[0m\u001b[0m_current_time_step\u001b[0m\u001b[0;34m\u001b[0m\u001b[0;34m\u001b[0m\u001b[0m\n\u001b[1;32m    235\u001b[0m \u001b[0;34m\u001b[0m\u001b[0m\n",
      "\u001b[0;32m~/miniconda3/envs/metarlbo_env/lib/python3.7/site-packages/flexs/baselines/explorers/environments/dyna_ppo.py\u001b[0m in \u001b[0;36m_step\u001b[0;34m(self, actions)\u001b[0m\n\u001b[1;32m    156\u001b[0m             [\n\u001b[1;32m    157\u001b[0m                 \u001b[0mf\u001b[0m \u001b[0;34m-\u001b[0m \u001b[0mself\u001b[0m\u001b[0;34m.\u001b[0m\u001b[0mlam\u001b[0m \u001b[0;34m*\u001b[0m \u001b[0mself\u001b[0m\u001b[0;34m.\u001b[0m\u001b[0msequence_density\u001b[0m\u001b[0;34m(\u001b[0m\u001b[0mseq\u001b[0m\u001b[0;34m)\u001b[0m\u001b[0;34m\u001b[0m\u001b[0;34m\u001b[0m\u001b[0m\n\u001b[0;32m--> 158\u001b[0;31m                 \u001b[0;32mfor\u001b[0m \u001b[0mseq\u001b[0m\u001b[0;34m,\u001b[0m \u001b[0mf\u001b[0m \u001b[0;32min\u001b[0m \u001b[0mzip\u001b[0m\u001b[0;34m(\u001b[0m\u001b[0mcomplete_sequences\u001b[0m\u001b[0;34m,\u001b[0m \u001b[0mfitnesses\u001b[0m\u001b[0;34m)\u001b[0m\u001b[0;34m\u001b[0m\u001b[0;34m\u001b[0m\u001b[0m\n\u001b[0m\u001b[1;32m    159\u001b[0m             ]\n\u001b[1;32m    160\u001b[0m         )\n",
      "\u001b[0;32m~/miniconda3/envs/metarlbo_env/lib/python3.7/site-packages/flexs/baselines/explorers/environments/dyna_ppo.py\u001b[0m in \u001b[0;36m<listcomp>\u001b[0;34m(.0)\u001b[0m\n\u001b[1;32m    156\u001b[0m             [\n\u001b[1;32m    157\u001b[0m                 \u001b[0mf\u001b[0m \u001b[0;34m-\u001b[0m \u001b[0mself\u001b[0m\u001b[0;34m.\u001b[0m\u001b[0mlam\u001b[0m \u001b[0;34m*\u001b[0m \u001b[0mself\u001b[0m\u001b[0;34m.\u001b[0m\u001b[0msequence_density\u001b[0m\u001b[0;34m(\u001b[0m\u001b[0mseq\u001b[0m\u001b[0;34m)\u001b[0m\u001b[0;34m\u001b[0m\u001b[0;34m\u001b[0m\u001b[0m\n\u001b[0;32m--> 158\u001b[0;31m                 \u001b[0;32mfor\u001b[0m \u001b[0mseq\u001b[0m\u001b[0;34m,\u001b[0m \u001b[0mf\u001b[0m \u001b[0;32min\u001b[0m \u001b[0mzip\u001b[0m\u001b[0;34m(\u001b[0m\u001b[0mcomplete_sequences\u001b[0m\u001b[0;34m,\u001b[0m \u001b[0mfitnesses\u001b[0m\u001b[0;34m)\u001b[0m\u001b[0;34m\u001b[0m\u001b[0;34m\u001b[0m\u001b[0m\n\u001b[0m\u001b[1;32m    159\u001b[0m             ]\n\u001b[1;32m    160\u001b[0m         )\n",
      "\u001b[0;32m~/miniconda3/envs/metarlbo_env/lib/python3.7/site-packages/flexs/baselines/explorers/environments/dyna_ppo.py\u001b[0m in \u001b[0;36msequence_density\u001b[0;34m(self, seq)\u001b[0m\n\u001b[1;32m    109\u001b[0m         \u001b[0mdist_radius\u001b[0m \u001b[0;34m=\u001b[0m \u001b[0;36m2\u001b[0m\u001b[0;34m\u001b[0m\u001b[0;34m\u001b[0m\u001b[0m\n\u001b[1;32m    110\u001b[0m         \u001b[0;32mfor\u001b[0m \u001b[0ms\u001b[0m \u001b[0;32min\u001b[0m \u001b[0mself\u001b[0m\u001b[0;34m.\u001b[0m\u001b[0mall_seqs\u001b[0m\u001b[0;34m:\u001b[0m\u001b[0;34m\u001b[0m\u001b[0;34m\u001b[0m\u001b[0m\n\u001b[0;32m--> 111\u001b[0;31m             \u001b[0mdist\u001b[0m \u001b[0;34m=\u001b[0m \u001b[0mint\u001b[0m\u001b[0;34m(\u001b[0m\u001b[0meditdistance\u001b[0m\u001b[0;34m.\u001b[0m\u001b[0meval\u001b[0m\u001b[0;34m(\u001b[0m\u001b[0ms\u001b[0m\u001b[0;34m,\u001b[0m \u001b[0mseq\u001b[0m\u001b[0;34m)\u001b[0m\u001b[0;34m)\u001b[0m\u001b[0;34m\u001b[0m\u001b[0;34m\u001b[0m\u001b[0m\n\u001b[0m\u001b[1;32m    112\u001b[0m             \u001b[0;32mif\u001b[0m \u001b[0mdist\u001b[0m \u001b[0;34m!=\u001b[0m \u001b[0;36m0\u001b[0m \u001b[0;32mand\u001b[0m \u001b[0mdist\u001b[0m \u001b[0;34m<=\u001b[0m \u001b[0mdist_radius\u001b[0m\u001b[0;34m:\u001b[0m\u001b[0;34m\u001b[0m\u001b[0;34m\u001b[0m\u001b[0m\n\u001b[1;32m    113\u001b[0m                 \u001b[0mdens\u001b[0m \u001b[0;34m+=\u001b[0m \u001b[0mself\u001b[0m\u001b[0;34m.\u001b[0m\u001b[0mall_seqs\u001b[0m\u001b[0;34m[\u001b[0m\u001b[0ms\u001b[0m\u001b[0;34m]\u001b[0m \u001b[0;34m/\u001b[0m \u001b[0mdist\u001b[0m\u001b[0;34m\u001b[0m\u001b[0;34m\u001b[0m\u001b[0m\n",
      "\u001b[0;31mKeyboardInterrupt\u001b[0m: "
     ]
    }
   ],
   "source": [
    "scores = []\n",
    "nModelRounds = nRounds\n",
    "\n",
    "for _ in range(nRuns):\n",
    "    starting_sequence = random_start()\n",
    "    dynappo_explorer = baselines.explorers.DynaPPO(  # DynaPPO has its own default ensemble model, so don't use CNN\n",
    "        landscape=landscape,\n",
    "        env_batch_size=10,\n",
    "        num_model_rounds=nModelRounds,\n",
    "        rounds=nRounds,\n",
    "        starting_sequence=starting_sequence,\n",
    "        sequences_batch_size=bsize,\n",
    "        model_queries_per_batch=model_queries_per_batch,\n",
    "        alphabet=alphabet,\n",
    "    )\n",
    "\n",
    "    \n",
    "    dynappo_sequences, metadata = dynappo_explorer.run(landscape)\n",
    "    fname = \"DynaPPO_Explorer_\" + get_time() + \".csv\"\n",
    "    dynappo_sequences.to_csv(os.path.join(logs_dir, fname))\n",
    "    dynappo_sequences"
   ]
  },
  {
   "cell_type": "code",
   "execution_count": null,
   "id": "7150fd72",
   "metadata": {},
   "outputs": [],
   "source": [
    "# import json\n",
    "\n",
    "# with open(os.path.join(logs_dir, \"dynappo_baseline_results.json\"), \"w\") as f:\n",
    "#     json.dump(explorer_scores, f)"
   ]
  },
  {
   "cell_type": "markdown",
   "id": "0a0cd509",
   "metadata": {},
   "source": [
    "## PPO"
   ]
  },
  {
   "cell_type": "code",
   "execution_count": 50,
   "id": "762572c2",
   "metadata": {},
   "outputs": [
    {
     "ename": "ValueError",
     "evalue": "Given `time_step`: TimeStep(\n{'discount': array(1., dtype=float32),\n 'observation': {'fitness': array([0.2163823], dtype=float32),\n                 'sequence': array([[0., 0., 0., 0., 0., 0., 0., 1., 0., 0., 0., 0., 0., 0., 0., 0.,\n        0., 0., 0., 0.],\n       [0., 0., 0., 0., 0., 0., 0., 0., 0., 0., 0., 0., 0., 0., 0., 0.,\n        1., 0., 0., 0.],\n       [0., 0., 0., 0., 0., 0., 0., 0., 0., 0., 1., 0., 0., 0., 0., 0.,\n        0., 0., 0., 0.],\n       [0., 0., 0., 0., 0., 0., 0., 0., 0., 0., 0., 0., 0., 0., 0., 1.,\n        0., 0., 0., 0.],\n       [0., 1., 0., 0., 0., 0., 0., 0., 0., 0., 0., 0., 0., 0., 0., 0.,\n        0., 0., 0., 0.],\n       [0., 0., 0., 0., 0., 0., 1., 0., 0., 0., 0., 0., 0., 0., 0., 0.,\n        0., 0., 0., 0.],\n       [0., 0., 0., 0., 0., 0., 0., 0., 1., 0., 0., 0., 0., 0., 0., 0.,\n        0., 0., 0., 0.],\n       [0., 1., 0., 0., 0., 0., 0., 0., 0., 0., 0., 0., 0., 0., 0., 0.,\n        0., 0., 0., 0.],\n       [1., 0., 0., 0., 0., 0., 0., 0., 0., 0., 0., 0., 0., 0., 0., 0.,\n        0., 0., 0., 0.],\n       [0., 0., 0., 0., 0., 0., 0., 1., 0., 0., 0., 0., 0., 0., 0., 0.,\n        0., 0., 0., 0.],\n       [0., 0., 0., 0., 0., 0., 0., 0., 0., 0., 0., 0., 0., 1., 0., 0.,\n        0., 0., 0., 0.],\n       [0., 0., 0., 0., 0., 0., 0., 0., 0., 0., 0., 0., 1., 0., 0., 0.,\n        0., 0., 0., 0.],\n       [0., 0., 0., 0., 0., 0., 0., 0., 0., 0., 0., 0., 0., 0., 0., 0.,\n        0., 0., 0., 1.],\n       [1., 0., 0., 0., 0., 0., 0., 0., 0., 0., 0., 0., 0., 0., 0., 0.,\n        0., 0., 0., 0.],\n       [0., 0., 0., 0., 0., 0., 0., 1., 0., 0., 0., 0., 0., 0., 0., 0.,\n        0., 0., 0., 0.],\n       [0., 1., 0., 0., 0., 0., 0., 0., 0., 0., 0., 0., 0., 0., 0., 0.,\n        0., 0., 0., 0.],\n       [0., 0., 1., 0., 0., 0., 0., 0., 0., 0., 0., 0., 0., 0., 0., 0.,\n        0., 0., 0., 0.],\n       [0., 1., 0., 0., 0., 0., 0., 0., 0., 0., 0., 0., 0., 0., 0., 0.,\n        0., 0., 0., 0.],\n       [0., 0., 0., 0., 0., 0., 0., 0., 0., 1., 0., 0., 0., 0., 0., 0.,\n        0., 0., 0., 0.],\n       [1., 0., 0., 0., 0., 0., 0., 0., 0., 0., 0., 0., 0., 0., 0., 0.,\n        0., 0., 0., 0.]], dtype=float32)},\n 'reward': array(0., dtype=float32),\n 'step_type': array(0, dtype=int32)}) does not match expected `time_step_spec`: TimeStep(\n{'discount': BoundedArraySpec(shape=(), dtype=dtype('float32'), name='discount', minimum=0.0, maximum=1.0),\n 'observation': {'fitness': BoundedArraySpec(shape=(1,), dtype=dtype('float32'), name=None, minimum=1.0, maximum=1.0),\n                 'sequence': BoundedArraySpec(shape=(20, 20), dtype=dtype('float32'), name=None, minimum=0.0, maximum=1.0)},\n 'reward': ArraySpec(shape=(), dtype=dtype('float32'), name='reward'),\n 'step_type': ArraySpec(shape=(), dtype=dtype('int32'), name='step_type')})",
     "output_type": "error",
     "traceback": [
      "\u001b[0;31m---------------------------------------------------------------------------\u001b[0m",
      "\u001b[0;31mValueError\u001b[0m                                Traceback (most recent call last)",
      "\u001b[0;32m/var/folders/f4/xryngv2x045_m6s988v9s80c0000gn/T/ipykernel_21059/901546692.py\u001b[0m in \u001b[0;36m<module>\u001b[0;34m\u001b[0m\n\u001b[1;32m      8\u001b[0m     \u001b[0msequences_batch_size\u001b[0m\u001b[0;34m=\u001b[0m\u001b[0mquery_batch_size\u001b[0m\u001b[0;34m,\u001b[0m\u001b[0;34m\u001b[0m\u001b[0;34m\u001b[0m\u001b[0m\n\u001b[1;32m      9\u001b[0m     \u001b[0mmodel_queries_per_batch\u001b[0m\u001b[0;34m=\u001b[0m\u001b[0mmodel_queries_per_batch\u001b[0m\u001b[0;34m,\u001b[0m\u001b[0;34m\u001b[0m\u001b[0;34m\u001b[0m\u001b[0m\n\u001b[0;32m---> 10\u001b[0;31m     \u001b[0malphabet\u001b[0m\u001b[0;34m=\u001b[0m\u001b[0malphabet\u001b[0m\u001b[0;34m,\u001b[0m\u001b[0;34m\u001b[0m\u001b[0;34m\u001b[0m\u001b[0m\n\u001b[0m\u001b[1;32m     11\u001b[0m )\n\u001b[1;32m     12\u001b[0m \u001b[0;34m\u001b[0m\u001b[0m\n",
      "\u001b[0;32m~/miniconda3/envs/metarlbo_env/lib/python3.7/site-packages/flexs/baselines/explorers/ppo.py\u001b[0m in \u001b[0;36m__init__\u001b[0;34m(self, model, rounds, sequences_batch_size, model_queries_per_batch, starting_sequence, alphabet, log_file)\u001b[0m\n\u001b[1;32m     59\u001b[0m             \u001b[0mstarting_seq\u001b[0m\u001b[0;34m=\u001b[0m\u001b[0mstarting_sequence\u001b[0m\u001b[0;34m,\u001b[0m\u001b[0;34m\u001b[0m\u001b[0;34m\u001b[0m\u001b[0m\n\u001b[1;32m     60\u001b[0m             \u001b[0mmodel\u001b[0m\u001b[0;34m=\u001b[0m\u001b[0mself\u001b[0m\u001b[0;34m.\u001b[0m\u001b[0mmodel\u001b[0m\u001b[0;34m,\u001b[0m\u001b[0;34m\u001b[0m\u001b[0;34m\u001b[0m\u001b[0m\n\u001b[0;32m---> 61\u001b[0;31m             \u001b[0mmax_num_steps\u001b[0m\u001b[0;34m=\u001b[0m\u001b[0mself\u001b[0m\u001b[0;34m.\u001b[0m\u001b[0mmodel_queries_per_batch\u001b[0m\u001b[0;34m,\u001b[0m\u001b[0;34m\u001b[0m\u001b[0;34m\u001b[0m\u001b[0m\n\u001b[0m\u001b[1;32m     62\u001b[0m         )\n\u001b[1;32m     63\u001b[0m         \u001b[0mself\u001b[0m\u001b[0;34m.\u001b[0m\u001b[0mtf_env\u001b[0m \u001b[0;34m=\u001b[0m \u001b[0mtf_py_environment\u001b[0m\u001b[0;34m.\u001b[0m\u001b[0mTFPyEnvironment\u001b[0m\u001b[0;34m(\u001b[0m\u001b[0menv\u001b[0m\u001b[0;34m)\u001b[0m\u001b[0;34m\u001b[0m\u001b[0;34m\u001b[0m\u001b[0m\n",
      "\u001b[0;32m~/miniconda3/envs/metarlbo_env/lib/python3.7/site-packages/flexs/baselines/explorers/environments/ppo.py\u001b[0m in \u001b[0;36m__init__\u001b[0;34m(self, alphabet, starting_seq, model, max_num_steps)\u001b[0m\n\u001b[1;32m     76\u001b[0m         \u001b[0mself\u001b[0m\u001b[0;34m.\u001b[0m\u001b[0mmax_num_steps\u001b[0m \u001b[0;34m=\u001b[0m \u001b[0mmax_num_steps\u001b[0m\u001b[0;34m\u001b[0m\u001b[0;34m\u001b[0m\u001b[0m\n\u001b[1;32m     77\u001b[0m \u001b[0;34m\u001b[0m\u001b[0m\n\u001b[0;32m---> 78\u001b[0;31m         \u001b[0mvalidate_py_environment\u001b[0m\u001b[0;34m(\u001b[0m\u001b[0mself\u001b[0m\u001b[0;34m,\u001b[0m \u001b[0mepisodes\u001b[0m\u001b[0;34m=\u001b[0m\u001b[0;36m1\u001b[0m\u001b[0;34m)\u001b[0m\u001b[0;34m\u001b[0m\u001b[0;34m\u001b[0m\u001b[0m\n\u001b[0m\u001b[1;32m     79\u001b[0m \u001b[0;34m\u001b[0m\u001b[0m\n\u001b[1;32m     80\u001b[0m     \u001b[0;32mdef\u001b[0m \u001b[0m_reset\u001b[0m\u001b[0;34m(\u001b[0m\u001b[0mself\u001b[0m\u001b[0;34m)\u001b[0m\u001b[0;34m:\u001b[0m\u001b[0;34m\u001b[0m\u001b[0;34m\u001b[0m\u001b[0m\n",
      "\u001b[0;32m~/miniconda3/envs/metarlbo_env/lib/python3.7/site-packages/tf_agents/environments/utils.py\u001b[0m in \u001b[0;36mvalidate_py_environment\u001b[0;34m(environment, episodes, observation_and_action_constraint_splitter)\u001b[0m\n\u001b[1;32m     79\u001b[0m       raise ValueError(\n\u001b[1;32m     80\u001b[0m           \u001b[0;34m'Given `time_step`: %r does not match expected '\u001b[0m\u001b[0;34m\u001b[0m\u001b[0;34m\u001b[0m\u001b[0m\n\u001b[0;32m---> 81\u001b[0;31m           '`time_step_spec`: %r' % (time_step, batched_time_step_spec))\n\u001b[0m\u001b[1;32m     82\u001b[0m \u001b[0;34m\u001b[0m\u001b[0m\n\u001b[1;32m     83\u001b[0m     \u001b[0maction\u001b[0m \u001b[0;34m=\u001b[0m \u001b[0mrandom_policy\u001b[0m\u001b[0;34m.\u001b[0m\u001b[0maction\u001b[0m\u001b[0;34m(\u001b[0m\u001b[0mtime_step\u001b[0m\u001b[0;34m)\u001b[0m\u001b[0;34m.\u001b[0m\u001b[0maction\u001b[0m\u001b[0;34m\u001b[0m\u001b[0;34m\u001b[0m\u001b[0m\n",
      "\u001b[0;31mValueError\u001b[0m: Given `time_step`: TimeStep(\n{'discount': array(1., dtype=float32),\n 'observation': {'fitness': array([0.2163823], dtype=float32),\n                 'sequence': array([[0., 0., 0., 0., 0., 0., 0., 1., 0., 0., 0., 0., 0., 0., 0., 0.,\n        0., 0., 0., 0.],\n       [0., 0., 0., 0., 0., 0., 0., 0., 0., 0., 0., 0., 0., 0., 0., 0.,\n        1., 0., 0., 0.],\n       [0., 0., 0., 0., 0., 0., 0., 0., 0., 0., 1., 0., 0., 0., 0., 0.,\n        0., 0., 0., 0.],\n       [0., 0., 0., 0., 0., 0., 0., 0., 0., 0., 0., 0., 0., 0., 0., 1.,\n        0., 0., 0., 0.],\n       [0., 1., 0., 0., 0., 0., 0., 0., 0., 0., 0., 0., 0., 0., 0., 0.,\n        0., 0., 0., 0.],\n       [0., 0., 0., 0., 0., 0., 1., 0., 0., 0., 0., 0., 0., 0., 0., 0.,\n        0., 0., 0., 0.],\n       [0., 0., 0., 0., 0., 0., 0., 0., 1., 0., 0., 0., 0., 0., 0., 0.,\n        0., 0., 0., 0.],\n       [0., 1., 0., 0., 0., 0., 0., 0., 0., 0., 0., 0., 0., 0., 0., 0.,\n        0., 0., 0., 0.],\n       [1., 0., 0., 0., 0., 0., 0., 0., 0., 0., 0., 0., 0., 0., 0., 0.,\n        0., 0., 0., 0.],\n       [0., 0., 0., 0., 0., 0., 0., 1., 0., 0., 0., 0., 0., 0., 0., 0.,\n        0., 0., 0., 0.],\n       [0., 0., 0., 0., 0., 0., 0., 0., 0., 0., 0., 0., 0., 1., 0., 0.,\n        0., 0., 0., 0.],\n       [0., 0., 0., 0., 0., 0., 0., 0., 0., 0., 0., 0., 1., 0., 0., 0.,\n        0., 0., 0., 0.],\n       [0., 0., 0., 0., 0., 0., 0., 0., 0., 0., 0., 0., 0., 0., 0., 0.,\n        0., 0., 0., 1.],\n       [1., 0., 0., 0., 0., 0., 0., 0., 0., 0., 0., 0., 0., 0., 0., 0.,\n        0., 0., 0., 0.],\n       [0., 0., 0., 0., 0., 0., 0., 1., 0., 0., 0., 0., 0., 0., 0., 0.,\n        0., 0., 0., 0.],\n       [0., 1., 0., 0., 0., 0., 0., 0., 0., 0., 0., 0., 0., 0., 0., 0.,\n        0., 0., 0., 0.],\n       [0., 0., 1., 0., 0., 0., 0., 0., 0., 0., 0., 0., 0., 0., 0., 0.,\n        0., 0., 0., 0.],\n       [0., 1., 0., 0., 0., 0., 0., 0., 0., 0., 0., 0., 0., 0., 0., 0.,\n        0., 0., 0., 0.],\n       [0., 0., 0., 0., 0., 0., 0., 0., 0., 1., 0., 0., 0., 0., 0., 0.,\n        0., 0., 0., 0.],\n       [1., 0., 0., 0., 0., 0., 0., 0., 0., 0., 0., 0., 0., 0., 0., 0.,\n        0., 0., 0., 0.]], dtype=float32)},\n 'reward': array(0., dtype=float32),\n 'step_type': array(0, dtype=int32)}) does not match expected `time_step_spec`: TimeStep(\n{'discount': BoundedArraySpec(shape=(), dtype=dtype('float32'), name='discount', minimum=0.0, maximum=1.0),\n 'observation': {'fitness': BoundedArraySpec(shape=(1,), dtype=dtype('float32'), name=None, minimum=1.0, maximum=1.0),\n                 'sequence': BoundedArraySpec(shape=(20, 20), dtype=dtype('float32'), name=None, minimum=0.0, maximum=1.0)},\n 'reward': ArraySpec(shape=(), dtype=dtype('float32'), name='reward'),\n 'step_type': ArraySpec(shape=(), dtype=dtype('int32'), name='step_type')})"
     ]
    }
   ],
   "source": [
    "cnn = baselines.models.CNN(len(starting_sequence), alphabet=alphabet,\n",
    "                         num_filters=32, hidden_size=100, loss='MSE')\n",
    "\n",
    "ppo_explorer = baselines.explorers.PPO(  # DynaPPO has its own default ensemble model, so don't use CNN\n",
    "    model=cnn,\n",
    "    rounds=nRounds,\n",
    "    starting_sequence=starting_sequence,\n",
    "    sequences_batch_size=query_batch_size,\n",
    "    model_queries_per_batch=model_queries_per_batch,\n",
    "    alphabet=alphabet,\n",
    ")\n",
    "\n",
    "ppo_sequences, metadata = ppo_explorer.run(landscape)\n",
    "ppo_sequences"
   ]
  }
 ],
 "metadata": {
  "kernelspec": {
   "display_name": "Python 3 (ipykernel)",
   "language": "python",
   "name": "python3"
  },
  "language_info": {
   "codemirror_mode": {
    "name": "ipython",
    "version": 3
   },
   "file_extension": ".py",
   "mimetype": "text/x-python",
   "name": "python",
   "nbconvert_exporter": "python",
   "pygments_lexer": "ipython3",
   "version": "3.7.11"
  }
 },
 "nbformat": 4,
 "nbformat_minor": 5
}
