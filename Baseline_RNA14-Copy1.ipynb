{
 "cells": [
  {
   "cell_type": "code",
   "execution_count": 2,
   "id": "117e15f1-2001-4cb5-b588-5d98aff9e59d",
   "metadata": {},
   "outputs": [],
   "source": [
    "import flexs"
   ]
  },
  {
   "cell_type": "code",
   "execution_count": 1,
   "id": "e8a73df2-bf6d-42f4-b775-a33294767285",
   "metadata": {},
   "outputs": [],
   "source": [
    "import editdistance\n",
    "import matplotlib.pyplot as plt\n",
    "import seaborn as sns\n",
    "import pandas as pd\n",
    "import pprint\n",
    "import numpy as np\n",
    "import json\n",
    "\n",
    "import flexs\n",
    "from flexs import baselines\n",
    "import flexs.utils.sequence_utils as s_utils\n"
   ]
  },
  {
   "cell_type": "code",
   "execution_count": 8,
   "id": "487ffa96-98e9-4777-be7c-596c32c53ae2",
   "metadata": {},
   "outputs": [
    {
     "name": "stdout",
     "output_type": "stream",
     "text": [
      "{'params': {'landscape_file': '/Users/leofeng/miniconda3/envs/flexsenv/lib/python3.7/site-packages/flexs/landscapes/data/tf_binding/SIX6_REF_R1_8mers.txt'},\n",
      " 'starts': {1: 'GCTCGAGC',\n",
      "            2: 'GCGCGCGC',\n",
      "            3: 'TGCGCGCC',\n",
      "            4: 'ATATAGCC',\n",
      "            5: 'GTTTGGTA',\n",
      "            6: 'ATTATGTT',\n",
      "            7: 'CAGTTTTT',\n",
      "            8: 'AAAAATTT',\n",
      "            9: 'AAAAACGC',\n",
      "            10: 'GTTGTTTT',\n",
      "            11: 'TGCTTTTT',\n",
      "            12: 'AAAGATAG',\n",
      "            13: 'CCTTCTTT',\n",
      "            14: 'AAAGAGAG'}}\n"
     ]
    }
   ],
   "source": [
    "\n",
    "\n",
    "problem = flexs.landscapes.tf_binding.registry()['SIX6_REF_R1']\n",
    "pprint.pprint(problem)\n",
    "\n",
    "landscape = flexs.landscapes.TFBinding(**problem['params'])\n",
    "alphabet = s_utils.DNAA\n",
    "\n",
    "\n",
    "bsize=100"
   ]
  },
  {
   "cell_type": "code",
   "execution_count": 9,
   "id": "0d73d3f9-5120-4a85-94ac-1c0ad7b6ce15",
   "metadata": {},
   "outputs": [
    {
     "data": {
      "text/plain": [
       "'TGCA'"
      ]
     },
     "execution_count": 9,
     "metadata": {},
     "output_type": "execute_result"
    }
   ],
   "source": [
    "s_utils.DNAA"
   ]
  },
  {
   "cell_type": "code",
   "execution_count": 10,
   "id": "6bd21f9e-2b10-4763-ad55-49ab9fc44993",
   "metadata": {},
   "outputs": [
    {
     "name": "stderr",
     "output_type": "stream",
     "text": [
      "2021-12-02 02:39:47.802102: I tensorflow/core/platform/cpu_feature_guard.cc:151] This TensorFlow binary is optimized with oneAPI Deep Neural Network Library (oneDNN) to use the following CPU instructions in performance-critical operations:  AVX2 FMA\n",
      "To enable them in other operations, rebuild TensorFlow with the appropriate compiler flags.\n"
     ]
    },
    {
     "name": "stdout",
     "output_type": "stream",
     "text": [
      "round: 0, top: 0.3138580794128561, time: 0.000269s\n",
      "round: 1, top: 0.8739228136725353, time: 0.753633s\n",
      "round: 2, top: 0.9534799818579145, time: 0.130345s\n",
      "round: 3, top: 0.9534799818579145, time: 0.158309s\n",
      "round: 4, top: 0.9534799818579145, time: 0.196203s\n",
      "round: 5, top: 0.9534799818579145, time: 0.225391s\n",
      "round: 6, top: 0.9534799818579145, time: 0.233839s\n",
      "round: 7, top: 0.9906300251515278, time: 0.324525s\n",
      "round: 8, top: 0.9906300251515278, time: 0.326296s\n",
      "round: 9, top: 0.9906300251515278, time: 0.342116s\n",
      "round: 10, top: 0.9906300251515278, time: 0.383201s\n"
     ]
    },
    {
     "data": {
      "text/html": [
       "<div>\n",
       "<style scoped>\n",
       "    .dataframe tbody tr th:only-of-type {\n",
       "        vertical-align: middle;\n",
       "    }\n",
       "\n",
       "    .dataframe tbody tr th {\n",
       "        vertical-align: top;\n",
       "    }\n",
       "\n",
       "    .dataframe thead th {\n",
       "        text-align: right;\n",
       "    }\n",
       "</style>\n",
       "<table border=\"1\" class=\"dataframe\">\n",
       "  <thead>\n",
       "    <tr style=\"text-align: right;\">\n",
       "      <th></th>\n",
       "      <th>sequence</th>\n",
       "      <th>model_score</th>\n",
       "      <th>true_score</th>\n",
       "      <th>round</th>\n",
       "      <th>model_cost</th>\n",
       "      <th>measurement_cost</th>\n",
       "    </tr>\n",
       "  </thead>\n",
       "  <tbody>\n",
       "    <tr>\n",
       "      <th>0</th>\n",
       "      <td>TGCGCGCC</td>\n",
       "      <td>NaN</td>\n",
       "      <td>0.313858</td>\n",
       "      <td>0</td>\n",
       "      <td>0</td>\n",
       "      <td>1</td>\n",
       "    </tr>\n",
       "    <tr>\n",
       "      <th>0</th>\n",
       "      <td>TACGCCCC</td>\n",
       "      <td>0.265665</td>\n",
       "      <td>0.567260</td>\n",
       "      <td>1</td>\n",
       "      <td>101</td>\n",
       "      <td>101</td>\n",
       "    </tr>\n",
       "    <tr>\n",
       "      <th>1</th>\n",
       "      <td>AGCGCACC</td>\n",
       "      <td>0.220758</td>\n",
       "      <td>0.215478</td>\n",
       "      <td>1</td>\n",
       "      <td>101</td>\n",
       "      <td>101</td>\n",
       "    </tr>\n",
       "    <tr>\n",
       "      <th>2</th>\n",
       "      <td>GGAGCGCC</td>\n",
       "      <td>0.297765</td>\n",
       "      <td>0.364378</td>\n",
       "      <td>1</td>\n",
       "      <td>101</td>\n",
       "      <td>101</td>\n",
       "    </tr>\n",
       "    <tr>\n",
       "      <th>3</th>\n",
       "      <td>TACACGAG</td>\n",
       "      <td>0.244798</td>\n",
       "      <td>0.611852</td>\n",
       "      <td>1</td>\n",
       "      <td>101</td>\n",
       "      <td>101</td>\n",
       "    </tr>\n",
       "    <tr>\n",
       "      <th>...</th>\n",
       "      <td>...</td>\n",
       "      <td>...</td>\n",
       "      <td>...</td>\n",
       "      <td>...</td>\n",
       "      <td>...</td>\n",
       "      <td>...</td>\n",
       "    </tr>\n",
       "    <tr>\n",
       "      <th>95</th>\n",
       "      <td>AGCGAATG</td>\n",
       "      <td>0.312130</td>\n",
       "      <td>0.333691</td>\n",
       "      <td>10</td>\n",
       "      <td>1010</td>\n",
       "      <td>1001</td>\n",
       "    </tr>\n",
       "    <tr>\n",
       "      <th>96</th>\n",
       "      <td>ACCGCAAC</td>\n",
       "      <td>0.312849</td>\n",
       "      <td>0.337845</td>\n",
       "      <td>10</td>\n",
       "      <td>1010</td>\n",
       "      <td>1001</td>\n",
       "    </tr>\n",
       "    <tr>\n",
       "      <th>97</th>\n",
       "      <td>CGTGTGTC</td>\n",
       "      <td>0.582880</td>\n",
       "      <td>0.459758</td>\n",
       "      <td>10</td>\n",
       "      <td>1010</td>\n",
       "      <td>1001</td>\n",
       "    </tr>\n",
       "    <tr>\n",
       "      <th>98</th>\n",
       "      <td>TAAGCCTC</td>\n",
       "      <td>0.460585</td>\n",
       "      <td>0.371449</td>\n",
       "      <td>10</td>\n",
       "      <td>1010</td>\n",
       "      <td>1001</td>\n",
       "    </tr>\n",
       "    <tr>\n",
       "      <th>99</th>\n",
       "      <td>TAGGTTCT</td>\n",
       "      <td>0.432946</td>\n",
       "      <td>0.437719</td>\n",
       "      <td>10</td>\n",
       "      <td>1010</td>\n",
       "      <td>1001</td>\n",
       "    </tr>\n",
       "  </tbody>\n",
       "</table>\n",
       "<p>1001 rows × 6 columns</p>\n",
       "</div>"
      ],
      "text/plain": [
       "    sequence  model_score  true_score  round  model_cost  measurement_cost\n",
       "0   TGCGCGCC          NaN    0.313858      0           0                 1\n",
       "0   TACGCCCC     0.265665    0.567260      1         101               101\n",
       "1   AGCGCACC     0.220758    0.215478      1         101               101\n",
       "2   GGAGCGCC     0.297765    0.364378      1         101               101\n",
       "3   TACACGAG     0.244798    0.611852      1         101               101\n",
       "..       ...          ...         ...    ...         ...               ...\n",
       "95  AGCGAATG     0.312130    0.333691     10        1010              1001\n",
       "96  ACCGCAAC     0.312849    0.337845     10        1010              1001\n",
       "97  CGTGTGTC     0.582880    0.459758     10        1010              1001\n",
       "98  TAAGCCTC     0.460585    0.371449     10        1010              1001\n",
       "99  TAGGTTCT     0.432946    0.437719     10        1010              1001\n",
       "\n",
       "[1001 rows x 6 columns]"
      ]
     },
     "execution_count": 10,
     "metadata": {},
     "output_type": "execute_result"
    }
   ],
   "source": [
    "\n",
    "starting_sequence = problem['starts'][3]\n",
    "starting_sequence\n",
    "\n",
    "cnn = baselines.models.CNN(len(starting_sequence), alphabet=alphabet,\n",
    "                         num_filters=32, hidden_size=100, loss='MSE')\n",
    "\n",
    "random_explorer = baselines.explorers.Random(\n",
    "    cnn,\n",
    "    rounds=10,\n",
    "    mu=1,\n",
    "    starting_sequence=starting_sequence,\n",
    "    sequences_batch_size=100,\n",
    "    model_queries_per_batch=100,\n",
    "    alphabet=alphabet\n",
    ")\n",
    "\n",
    "random_sequences, metadata = random_explorer.run(landscape)\n",
    "random_sequences"
   ]
  },
  {
   "cell_type": "code",
   "execution_count": 4,
   "id": "b40e3298-4b1f-4b73-86e7-6776cbcab723",
   "metadata": {},
   "outputs": [
    {
     "name": "stdout",
     "output_type": "stream",
     "text": [
      "round: 0, top: 0.28011203300685433, time: 0.000235s\n",
      "round: 1, top: 0.5190311192130015, time: 14.709052s\n",
      "round: 2, top: 0.6124017881520295, time: 5.209340s\n",
      "round: 3, top: 0.7140110778789233, time: 3.763060s\n",
      "round: 4, top: 0.8732904512231746, time: 3.592170s\n",
      "round: 5, top: 0.9556763448245889, time: 3.574958s\n",
      "round: 6, top: 0.9556763448245889, time: 3.848999s\n",
      "round: 7, top: 0.9556763448245889, time: 3.764802s\n",
      "round: 8, top: 0.9556763448245889, time: 3.875693s\n",
      "round: 9, top: 0.9556763448245889, time: 3.830125s\n",
      "round: 10, top: 0.9556763448245889, time: 3.864334s\n"
     ]
    }
   ],
   "source": [
    "\n",
    "\n",
    "cnn = baselines.models.CNN(len(starting_sequence), alphabet=alphabet,\n",
    "                         num_filters=32, hidden_size=100, loss='MSE')\n",
    "\n",
    "adalead_explorer = baselines.explorers.Adalead(\n",
    "    cnn,\n",
    "    rounds=10,\n",
    "    starting_sequence=starting_sequence,\n",
    "    sequences_batch_size=100,\n",
    "    model_queries_per_batch=2000,\n",
    "    alphabet=alphabet\n",
    ")\n",
    "\n",
    "\n",
    "adalead_sequences, metadata = adalead_explorer.run(landscape)\n",
    "\n"
   ]
  },
  {
   "cell_type": "code",
   "execution_count": 48,
   "id": "8b509576-4415-44dc-986d-194f81c450ea",
   "metadata": {},
   "outputs": [],
   "source": [
    "cnn = baselines.models.CNN(len(starting_sequence), alphabet=alphabet,\n",
    "                         num_filters=32, hidden_size=100, loss='MSE')\n",
    "\n",
    "genetic_explorer = baselines.explorers.GeneticAlgorithm(\n",
    "    cnn,\n",
    "    \n",
    "    population_size=8,\n",
    "    parent_selection_strategy='wright-fisher', # wright-fisher model decides who gets to 'mate'\n",
    "    beta=0.01,\n",
    "    children_proportion=0.2,\n",
    "\n",
    "    rounds=8,\n",
    "    starting_sequence=starting_sequence,\n",
    "    sequences_batch_size=bsize,\n",
    "    model_queries_per_batch=1000,\n",
    "    alphabet=alphabet\n",
    ")"
   ]
  },
  {
   "cell_type": "code",
   "execution_count": 49,
   "id": "ad441f74-433c-436d-9912-65f9ccd7b13c",
   "metadata": {},
   "outputs": [
    {
     "name": "stdout",
     "output_type": "stream",
     "text": [
      "round: 0, top: 0.055, time: 0.000579s\n",
      "round: 1, top: 0.31, time: 47.479483s\n"
     ]
    },
    {
     "ename": "KeyboardInterrupt",
     "evalue": "",
     "output_type": "error",
     "traceback": [
      "\u001b[0;31m---------------------------------------------------------------------------\u001b[0m",
      "\u001b[0;31mKeyboardInterrupt\u001b[0m                         Traceback (most recent call last)",
      "\u001b[0;32m/var/folders/f4/xryngv2x045_m6s988v9s80c0000gn/T/ipykernel_16566/3076554424.py\u001b[0m in \u001b[0;36m<module>\u001b[0;34m\u001b[0m\n\u001b[0;32m----> 1\u001b[0;31m \u001b[0mgenetic_algo_sequences\u001b[0m\u001b[0;34m,\u001b[0m \u001b[0mmetadata\u001b[0m \u001b[0;34m=\u001b[0m \u001b[0mgenetic_explorer\u001b[0m\u001b[0;34m.\u001b[0m\u001b[0mrun\u001b[0m\u001b[0;34m(\u001b[0m\u001b[0mlandscape\u001b[0m\u001b[0;34m)\u001b[0m\u001b[0;34m\u001b[0m\u001b[0;34m\u001b[0m\u001b[0m\n\u001b[0m",
      "\u001b[0;32m~/miniconda3/envs/flexsenv/lib/python3.7/site-packages/flexs/explorer.py\u001b[0m in \u001b[0;36mrun\u001b[0;34m(self, landscape, verbose)\u001b[0m\n\u001b[1;32m    157\u001b[0m             self.model.train(\n\u001b[1;32m    158\u001b[0m                 \u001b[0msequences_data\u001b[0m\u001b[0;34m[\u001b[0m\u001b[0;34m\"sequence\"\u001b[0m\u001b[0;34m]\u001b[0m\u001b[0;34m.\u001b[0m\u001b[0mto_numpy\u001b[0m\u001b[0;34m(\u001b[0m\u001b[0;34m)\u001b[0m\u001b[0;34m,\u001b[0m\u001b[0;34m\u001b[0m\u001b[0;34m\u001b[0m\u001b[0m\n\u001b[0;32m--> 159\u001b[0;31m                 \u001b[0msequences_data\u001b[0m\u001b[0;34m[\u001b[0m\u001b[0;34m\"true_score\"\u001b[0m\u001b[0;34m]\u001b[0m\u001b[0;34m.\u001b[0m\u001b[0mto_numpy\u001b[0m\u001b[0;34m(\u001b[0m\u001b[0;34m)\u001b[0m\u001b[0;34m,\u001b[0m\u001b[0;34m\u001b[0m\u001b[0;34m\u001b[0m\u001b[0m\n\u001b[0m\u001b[1;32m    160\u001b[0m             )\n\u001b[1;32m    161\u001b[0m \u001b[0;34m\u001b[0m\u001b[0m\n",
      "\u001b[0;32m~/miniconda3/envs/flexsenv/lib/python3.7/site-packages/flexs/baselines/models/keras_model.py\u001b[0m in \u001b[0;36mtrain\u001b[0;34m(self, sequences, labels, verbose)\u001b[0m\n\u001b[1;32m     64\u001b[0m             \u001b[0mbatch_size\u001b[0m\u001b[0;34m=\u001b[0m\u001b[0mself\u001b[0m\u001b[0;34m.\u001b[0m\u001b[0mbatch_size\u001b[0m\u001b[0;34m,\u001b[0m\u001b[0;34m\u001b[0m\u001b[0;34m\u001b[0m\u001b[0m\n\u001b[1;32m     65\u001b[0m             \u001b[0mepochs\u001b[0m\u001b[0;34m=\u001b[0m\u001b[0mself\u001b[0m\u001b[0;34m.\u001b[0m\u001b[0mepochs\u001b[0m\u001b[0;34m,\u001b[0m\u001b[0;34m\u001b[0m\u001b[0;34m\u001b[0m\u001b[0m\n\u001b[0;32m---> 66\u001b[0;31m             \u001b[0mverbose\u001b[0m\u001b[0;34m=\u001b[0m\u001b[0mverbose\u001b[0m\u001b[0;34m,\u001b[0m\u001b[0;34m\u001b[0m\u001b[0;34m\u001b[0m\u001b[0m\n\u001b[0m\u001b[1;32m     67\u001b[0m         )\n\u001b[1;32m     68\u001b[0m \u001b[0;34m\u001b[0m\u001b[0m\n",
      "\u001b[0;32m~/miniconda3/envs/flexsenv/lib/python3.7/site-packages/keras/utils/traceback_utils.py\u001b[0m in \u001b[0;36merror_handler\u001b[0;34m(*args, **kwargs)\u001b[0m\n\u001b[1;32m     62\u001b[0m     \u001b[0mfiltered_tb\u001b[0m \u001b[0;34m=\u001b[0m \u001b[0;32mNone\u001b[0m\u001b[0;34m\u001b[0m\u001b[0;34m\u001b[0m\u001b[0m\n\u001b[1;32m     63\u001b[0m     \u001b[0;32mtry\u001b[0m\u001b[0;34m:\u001b[0m\u001b[0;34m\u001b[0m\u001b[0;34m\u001b[0m\u001b[0m\n\u001b[0;32m---> 64\u001b[0;31m       \u001b[0;32mreturn\u001b[0m \u001b[0mfn\u001b[0m\u001b[0;34m(\u001b[0m\u001b[0;34m*\u001b[0m\u001b[0margs\u001b[0m\u001b[0;34m,\u001b[0m \u001b[0;34m**\u001b[0m\u001b[0mkwargs\u001b[0m\u001b[0;34m)\u001b[0m\u001b[0;34m\u001b[0m\u001b[0;34m\u001b[0m\u001b[0m\n\u001b[0m\u001b[1;32m     65\u001b[0m     \u001b[0;32mexcept\u001b[0m \u001b[0mException\u001b[0m \u001b[0;32mas\u001b[0m \u001b[0me\u001b[0m\u001b[0;34m:\u001b[0m  \u001b[0;31m# pylint: disable=broad-except\u001b[0m\u001b[0;34m\u001b[0m\u001b[0;34m\u001b[0m\u001b[0m\n\u001b[1;32m     66\u001b[0m       \u001b[0mfiltered_tb\u001b[0m \u001b[0;34m=\u001b[0m \u001b[0m_process_traceback_frames\u001b[0m\u001b[0;34m(\u001b[0m\u001b[0me\u001b[0m\u001b[0;34m.\u001b[0m\u001b[0m__traceback__\u001b[0m\u001b[0;34m)\u001b[0m\u001b[0;34m\u001b[0m\u001b[0;34m\u001b[0m\u001b[0m\n",
      "\u001b[0;32m~/miniconda3/envs/flexsenv/lib/python3.7/site-packages/keras/engine/training.py\u001b[0m in \u001b[0;36mfit\u001b[0;34m(self, x, y, batch_size, epochs, verbose, callbacks, validation_split, validation_data, shuffle, class_weight, sample_weight, initial_epoch, steps_per_epoch, validation_steps, validation_batch_size, validation_freq, max_queue_size, workers, use_multiprocessing)\u001b[0m\n\u001b[1;32m   1214\u001b[0m                 _r=1):\n\u001b[1;32m   1215\u001b[0m               \u001b[0mcallbacks\u001b[0m\u001b[0;34m.\u001b[0m\u001b[0mon_train_batch_begin\u001b[0m\u001b[0;34m(\u001b[0m\u001b[0mstep\u001b[0m\u001b[0;34m)\u001b[0m\u001b[0;34m\u001b[0m\u001b[0;34m\u001b[0m\u001b[0m\n\u001b[0;32m-> 1216\u001b[0;31m               \u001b[0mtmp_logs\u001b[0m \u001b[0;34m=\u001b[0m \u001b[0mself\u001b[0m\u001b[0;34m.\u001b[0m\u001b[0mtrain_function\u001b[0m\u001b[0;34m(\u001b[0m\u001b[0miterator\u001b[0m\u001b[0;34m)\u001b[0m\u001b[0;34m\u001b[0m\u001b[0;34m\u001b[0m\u001b[0m\n\u001b[0m\u001b[1;32m   1217\u001b[0m               \u001b[0;32mif\u001b[0m \u001b[0mdata_handler\u001b[0m\u001b[0;34m.\u001b[0m\u001b[0mshould_sync\u001b[0m\u001b[0;34m:\u001b[0m\u001b[0;34m\u001b[0m\u001b[0;34m\u001b[0m\u001b[0m\n\u001b[1;32m   1218\u001b[0m                 \u001b[0mcontext\u001b[0m\u001b[0;34m.\u001b[0m\u001b[0masync_wait\u001b[0m\u001b[0;34m(\u001b[0m\u001b[0;34m)\u001b[0m\u001b[0;34m\u001b[0m\u001b[0;34m\u001b[0m\u001b[0m\n",
      "\u001b[0;32m~/miniconda3/envs/flexsenv/lib/python3.7/site-packages/tensorflow/python/util/traceback_utils.py\u001b[0m in \u001b[0;36merror_handler\u001b[0;34m(*args, **kwargs)\u001b[0m\n\u001b[1;32m    148\u001b[0m     \u001b[0mfiltered_tb\u001b[0m \u001b[0;34m=\u001b[0m \u001b[0;32mNone\u001b[0m\u001b[0;34m\u001b[0m\u001b[0;34m\u001b[0m\u001b[0m\n\u001b[1;32m    149\u001b[0m     \u001b[0;32mtry\u001b[0m\u001b[0;34m:\u001b[0m\u001b[0;34m\u001b[0m\u001b[0;34m\u001b[0m\u001b[0m\n\u001b[0;32m--> 150\u001b[0;31m       \u001b[0;32mreturn\u001b[0m \u001b[0mfn\u001b[0m\u001b[0;34m(\u001b[0m\u001b[0;34m*\u001b[0m\u001b[0margs\u001b[0m\u001b[0;34m,\u001b[0m \u001b[0;34m**\u001b[0m\u001b[0mkwargs\u001b[0m\u001b[0;34m)\u001b[0m\u001b[0;34m\u001b[0m\u001b[0;34m\u001b[0m\u001b[0m\n\u001b[0m\u001b[1;32m    151\u001b[0m     \u001b[0;32mexcept\u001b[0m \u001b[0mException\u001b[0m \u001b[0;32mas\u001b[0m \u001b[0me\u001b[0m\u001b[0;34m:\u001b[0m\u001b[0;34m\u001b[0m\u001b[0;34m\u001b[0m\u001b[0m\n\u001b[1;32m    152\u001b[0m       \u001b[0mfiltered_tb\u001b[0m \u001b[0;34m=\u001b[0m \u001b[0m_process_traceback_frames\u001b[0m\u001b[0;34m(\u001b[0m\u001b[0me\u001b[0m\u001b[0;34m.\u001b[0m\u001b[0m__traceback__\u001b[0m\u001b[0;34m)\u001b[0m\u001b[0;34m\u001b[0m\u001b[0;34m\u001b[0m\u001b[0m\n",
      "\u001b[0;32m~/miniconda3/envs/flexsenv/lib/python3.7/site-packages/tensorflow/python/eager/def_function.py\u001b[0m in \u001b[0;36m__call__\u001b[0;34m(self, *args, **kwds)\u001b[0m\n\u001b[1;32m    908\u001b[0m \u001b[0;34m\u001b[0m\u001b[0m\n\u001b[1;32m    909\u001b[0m       \u001b[0;32mwith\u001b[0m \u001b[0mOptionalXlaContext\u001b[0m\u001b[0;34m(\u001b[0m\u001b[0mself\u001b[0m\u001b[0;34m.\u001b[0m\u001b[0m_jit_compile\u001b[0m\u001b[0;34m)\u001b[0m\u001b[0;34m:\u001b[0m\u001b[0;34m\u001b[0m\u001b[0;34m\u001b[0m\u001b[0m\n\u001b[0;32m--> 910\u001b[0;31m         \u001b[0mresult\u001b[0m \u001b[0;34m=\u001b[0m \u001b[0mself\u001b[0m\u001b[0;34m.\u001b[0m\u001b[0m_call\u001b[0m\u001b[0;34m(\u001b[0m\u001b[0;34m*\u001b[0m\u001b[0margs\u001b[0m\u001b[0;34m,\u001b[0m \u001b[0;34m**\u001b[0m\u001b[0mkwds\u001b[0m\u001b[0;34m)\u001b[0m\u001b[0;34m\u001b[0m\u001b[0;34m\u001b[0m\u001b[0m\n\u001b[0m\u001b[1;32m    911\u001b[0m \u001b[0;34m\u001b[0m\u001b[0m\n\u001b[1;32m    912\u001b[0m       \u001b[0mnew_tracing_count\u001b[0m \u001b[0;34m=\u001b[0m \u001b[0mself\u001b[0m\u001b[0;34m.\u001b[0m\u001b[0mexperimental_get_tracing_count\u001b[0m\u001b[0;34m(\u001b[0m\u001b[0;34m)\u001b[0m\u001b[0;34m\u001b[0m\u001b[0;34m\u001b[0m\u001b[0m\n",
      "\u001b[0;32m~/miniconda3/envs/flexsenv/lib/python3.7/site-packages/tensorflow/python/eager/def_function.py\u001b[0m in \u001b[0;36m_call\u001b[0;34m(self, *args, **kwds)\u001b[0m\n\u001b[1;32m    940\u001b[0m       \u001b[0;31m# In this case we have created variables on the first call, so we run the\u001b[0m\u001b[0;34m\u001b[0m\u001b[0;34m\u001b[0m\u001b[0;34m\u001b[0m\u001b[0m\n\u001b[1;32m    941\u001b[0m       \u001b[0;31m# defunned version which is guaranteed to never create variables.\u001b[0m\u001b[0;34m\u001b[0m\u001b[0;34m\u001b[0m\u001b[0;34m\u001b[0m\u001b[0m\n\u001b[0;32m--> 942\u001b[0;31m       \u001b[0;32mreturn\u001b[0m \u001b[0mself\u001b[0m\u001b[0;34m.\u001b[0m\u001b[0m_stateless_fn\u001b[0m\u001b[0;34m(\u001b[0m\u001b[0;34m*\u001b[0m\u001b[0margs\u001b[0m\u001b[0;34m,\u001b[0m \u001b[0;34m**\u001b[0m\u001b[0mkwds\u001b[0m\u001b[0;34m)\u001b[0m  \u001b[0;31m# pylint: disable=not-callable\u001b[0m\u001b[0;34m\u001b[0m\u001b[0;34m\u001b[0m\u001b[0m\n\u001b[0m\u001b[1;32m    943\u001b[0m     \u001b[0;32melif\u001b[0m \u001b[0mself\u001b[0m\u001b[0;34m.\u001b[0m\u001b[0m_stateful_fn\u001b[0m \u001b[0;32mis\u001b[0m \u001b[0;32mnot\u001b[0m \u001b[0;32mNone\u001b[0m\u001b[0;34m:\u001b[0m\u001b[0;34m\u001b[0m\u001b[0;34m\u001b[0m\u001b[0m\n\u001b[1;32m    944\u001b[0m       \u001b[0;31m# Release the lock early so that multiple threads can perform the call\u001b[0m\u001b[0;34m\u001b[0m\u001b[0;34m\u001b[0m\u001b[0;34m\u001b[0m\u001b[0m\n",
      "\u001b[0;32m~/miniconda3/envs/flexsenv/lib/python3.7/site-packages/tensorflow/python/eager/function.py\u001b[0m in \u001b[0;36m__call__\u001b[0;34m(self, *args, **kwargs)\u001b[0m\n\u001b[1;32m   3129\u001b[0m        filtered_flat_args) = self._maybe_define_function(args, kwargs)\n\u001b[1;32m   3130\u001b[0m     return graph_function._call_flat(\n\u001b[0;32m-> 3131\u001b[0;31m         filtered_flat_args, captured_inputs=graph_function.captured_inputs)  # pylint: disable=protected-access\n\u001b[0m\u001b[1;32m   3132\u001b[0m \u001b[0;34m\u001b[0m\u001b[0m\n\u001b[1;32m   3133\u001b[0m   \u001b[0;34m@\u001b[0m\u001b[0mproperty\u001b[0m\u001b[0;34m\u001b[0m\u001b[0;34m\u001b[0m\u001b[0m\n",
      "\u001b[0;32m~/miniconda3/envs/flexsenv/lib/python3.7/site-packages/tensorflow/python/eager/function.py\u001b[0m in \u001b[0;36m_call_flat\u001b[0;34m(self, args, captured_inputs, cancellation_manager)\u001b[0m\n\u001b[1;32m   1958\u001b[0m       \u001b[0;31m# No tape is watching; skip to running the function.\u001b[0m\u001b[0;34m\u001b[0m\u001b[0;34m\u001b[0m\u001b[0;34m\u001b[0m\u001b[0m\n\u001b[1;32m   1959\u001b[0m       return self._build_call_outputs(self._inference_function.call(\n\u001b[0;32m-> 1960\u001b[0;31m           ctx, args, cancellation_manager=cancellation_manager))\n\u001b[0m\u001b[1;32m   1961\u001b[0m     forward_backward = self._select_forward_and_backward_functions(\n\u001b[1;32m   1962\u001b[0m         \u001b[0margs\u001b[0m\u001b[0;34m,\u001b[0m\u001b[0;34m\u001b[0m\u001b[0;34m\u001b[0m\u001b[0m\n",
      "\u001b[0;32m~/miniconda3/envs/flexsenv/lib/python3.7/site-packages/tensorflow/python/eager/function.py\u001b[0m in \u001b[0;36mcall\u001b[0;34m(self, ctx, args, cancellation_manager)\u001b[0m\n\u001b[1;32m    601\u001b[0m               \u001b[0minputs\u001b[0m\u001b[0;34m=\u001b[0m\u001b[0margs\u001b[0m\u001b[0;34m,\u001b[0m\u001b[0;34m\u001b[0m\u001b[0;34m\u001b[0m\u001b[0m\n\u001b[1;32m    602\u001b[0m               \u001b[0mattrs\u001b[0m\u001b[0;34m=\u001b[0m\u001b[0mattrs\u001b[0m\u001b[0;34m,\u001b[0m\u001b[0;34m\u001b[0m\u001b[0;34m\u001b[0m\u001b[0m\n\u001b[0;32m--> 603\u001b[0;31m               ctx=ctx)\n\u001b[0m\u001b[1;32m    604\u001b[0m         \u001b[0;32melse\u001b[0m\u001b[0;34m:\u001b[0m\u001b[0;34m\u001b[0m\u001b[0;34m\u001b[0m\u001b[0m\n\u001b[1;32m    605\u001b[0m           outputs = execute.execute_with_cancellation(\n",
      "\u001b[0;32m~/miniconda3/envs/flexsenv/lib/python3.7/site-packages/tensorflow/python/eager/execute.py\u001b[0m in \u001b[0;36mquick_execute\u001b[0;34m(op_name, num_outputs, inputs, attrs, ctx, name)\u001b[0m\n\u001b[1;32m     57\u001b[0m     \u001b[0mctx\u001b[0m\u001b[0;34m.\u001b[0m\u001b[0mensure_initialized\u001b[0m\u001b[0;34m(\u001b[0m\u001b[0;34m)\u001b[0m\u001b[0;34m\u001b[0m\u001b[0;34m\u001b[0m\u001b[0m\n\u001b[1;32m     58\u001b[0m     tensors = pywrap_tfe.TFE_Py_Execute(ctx._handle, device_name, op_name,\n\u001b[0;32m---> 59\u001b[0;31m                                         inputs, attrs, num_outputs)\n\u001b[0m\u001b[1;32m     60\u001b[0m   \u001b[0;32mexcept\u001b[0m \u001b[0mcore\u001b[0m\u001b[0;34m.\u001b[0m\u001b[0m_NotOkStatusException\u001b[0m \u001b[0;32mas\u001b[0m \u001b[0me\u001b[0m\u001b[0;34m:\u001b[0m\u001b[0;34m\u001b[0m\u001b[0;34m\u001b[0m\u001b[0m\n\u001b[1;32m     61\u001b[0m     \u001b[0;32mif\u001b[0m \u001b[0mname\u001b[0m \u001b[0;32mis\u001b[0m \u001b[0;32mnot\u001b[0m \u001b[0;32mNone\u001b[0m\u001b[0;34m:\u001b[0m\u001b[0;34m\u001b[0m\u001b[0;34m\u001b[0m\u001b[0m\n",
      "\u001b[0;31mKeyboardInterrupt\u001b[0m: "
     ]
    }
   ],
   "source": [
    "genetic_algo_sequences, metadata = genetic_explorer.run(landscape)"
   ]
  },
  {
   "cell_type": "code",
   "execution_count": null,
   "id": "9c67a577-e4a2-4889-90bc-99765ba1f792",
   "metadata": {},
   "outputs": [],
   "source": [
    "cnn = baselines.models.CNN(len(starting_sequence), alphabet=alphabet,\n",
    "                         num_filters=32, hidden_size=100, loss='MSE')\n",
    "\n",
    "cmaes_explorer = baselines.explorers.CMAES(\n",
    "    flexs.LandscapeAsModel(landscape),\n",
    "    \n",
    "    population_size=10,\n",
    "    max_iter=200,\n",
    "    \n",
    "    rounds=10,\n",
    "    starting_sequence=starting_sequence,\n",
    "    sequences_batch_size=bsize,\n",
    "    model_queries_per_batch=1000,\n",
    "    alphabet=alphabet\n",
    ")\n",
    "\n",
    "cmaes_sequences, metadata = cmaes_explorer.run(landscape)"
   ]
  },
  {
   "cell_type": "code",
   "execution_count": null,
   "id": "a1c7c45b-99a2-40d4-839e-4b66a7a0c875",
   "metadata": {},
   "outputs": [],
   "source": []
  },
  {
   "cell_type": "code",
   "execution_count": 8,
   "id": "0cee27cf-4dd8-47f6-a17a-1bf0a84d66fd",
   "metadata": {},
   "outputs": [
    {
     "name": "stderr",
     "output_type": "stream",
     "text": [
      "/Users/leofeng/miniconda3/envs/flexsenv/lib/python3.7/site-packages/sklearn/linear_model/_coordinate_descent.py:532: ConvergenceWarning: Objective did not converge. You might want to increase the number of iterations. Duality gap: 0.0, tolerance: 0.0\n",
      "  positive)\n"
     ]
    },
    {
     "name": "stdout",
     "output_type": "stream",
     "text": [
      "BoundedTensorSpec(shape=(), dtype=tf.int64, name='action', minimum=array(0), maximum=array(3))\n",
      "round: 0, top: 0.28011203300685433, time: 0.000227s\n",
      "round: 1, top: 0.5190311192130015, time: 13.155419s\n",
      "round: 2, top: 0.6343713912067976, time: 13.785190s\n",
      "round: 3, top: 0.6975338886827324, time: 23.262424s\n",
      "round: 4, top: 0.7222496462872485, time: 23.863388s\n",
      "round: 5, top: 0.7222496462872485, time: 23.563456s\n",
      "round: 6, top: 0.7332344740044028, time: 25.564283s\n",
      "round: 7, top: 0.7332344740044028, time: 26.635824s\n",
      "round: 8, top: 0.7332344740044028, time: 29.754795s\n"
     ]
    }
   ],
   "source": [
    "cnn = baselines.models.CNN(len(starting_sequence), alphabet=alphabet,\n",
    "                         num_filters=32, hidden_size=100, loss='MSE')\n",
    "\n",
    "dynappo_explorer = baselines.explorers.DynaPPO(  # DynaPPO has its own default ensemble model, so don't use CNN\n",
    "    landscape=landscape,\n",
    "    env_batch_size=10,\n",
    "    num_model_rounds=10,\n",
    "    rounds=8,\n",
    "    starting_sequence=starting_sequence,\n",
    "    sequences_batch_size=bsize,\n",
    "    model_queries_per_batch=1000,\n",
    "    alphabet=alphabet,\n",
    ")\n",
    "\n",
    "dynappo_sequences, metadata = dynappo_explorer.run(landscape)"
   ]
  },
  {
   "cell_type": "code",
   "execution_count": null,
   "id": "bc27d62b-f53a-4d83-b16a-4ddd843c1f6c",
   "metadata": {},
   "outputs": [],
   "source": []
  }
 ],
 "metadata": {
  "kernelspec": {
   "display_name": "Python 3 (ipykernel)",
   "language": "python",
   "name": "python3"
  },
  "language_info": {
   "codemirror_mode": {
    "name": "ipython",
    "version": 3
   },
   "file_extension": ".py",
   "mimetype": "text/x-python",
   "name": "python",
   "nbconvert_exporter": "python",
   "pygments_lexer": "ipython3",
   "version": "3.7.11"
  }
 },
 "nbformat": 4,
 "nbformat_minor": 5
}
