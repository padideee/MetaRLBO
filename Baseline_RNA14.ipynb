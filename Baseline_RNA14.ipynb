{
 "cells": [
  {
   "cell_type": "code",
   "execution_count": 2,
   "id": "117e15f1-2001-4cb5-b588-5d98aff9e59d",
   "metadata": {},
   "outputs": [],
   "source": [
    "import flexs"
   ]
  },
  {
   "cell_type": "code",
   "execution_count": 3,
   "id": "e8a73df2-bf6d-42f4-b775-a33294767285",
   "metadata": {},
   "outputs": [],
   "source": [
    "import editdistance\n",
    "import matplotlib.pyplot as plt\n",
    "import seaborn as sns\n",
    "import pandas as pd\n",
    "import pprint\n",
    "import numpy as np\n",
    "import json\n",
    "\n",
    "import flexs\n",
    "from flexs import baselines\n",
    "import flexs.utils.sequence_utils as s_utils\n"
   ]
  },
  {
   "cell_type": "code",
   "execution_count": 4,
   "id": "4741b76e",
   "metadata": {},
   "outputs": [],
   "source": [
    "exp_name = 'RNA14'"
   ]
  },
  {
   "cell_type": "code",
   "execution_count": 5,
   "id": "487ffa96-98e9-4777-be7c-596c32c53ae2",
   "metadata": {},
   "outputs": [
    {
     "name": "stdout",
     "output_type": "stream",
     "text": [
      "{'params': {'seq_length': 14,\n",
      "            'targets': ['GAACGAGGCACAUUCCGGCUCGCCCGGCCCAUGUGAGCAUGGGCCGGACCCCGUCCGCGCGGGGCCCCCGCGCGGACGGGGGCGAGCCGGAAUGUGCCUC']},\n",
      " 'starts': {1: 'AUGGGCCGGACCCC',\n",
      "            2: 'GCCCCGCCGGAAUG',\n",
      "            3: 'UCUUGGGGACUUUU',\n",
      "            4: 'GGAUAACAAUUCAU',\n",
      "            5: 'CCCAUGCGCGAUCA'}}\n"
     ]
    }
   ],
   "source": [
    "\n",
    "\n",
    "problem = flexs.landscapes.rna.registry()['L14_RNA1']\n",
    "pprint.pprint(problem)\n",
    "\n",
    "landscape = flexs.landscapes.RNABinding(**problem['params'])\n",
    "alphabet = s_utils.RNAA\n",
    "\n",
    "\n",
    "bsize=100"
   ]
  },
  {
   "cell_type": "code",
   "execution_count": 6,
   "id": "f63ab47c",
   "metadata": {},
   "outputs": [],
   "source": [
    "nModelQueries = 2000\n",
    "nRounds = 15"
   ]
  },
  {
   "cell_type": "code",
   "execution_count": 7,
   "id": "b60dc28f",
   "metadata": {},
   "outputs": [],
   "source": [
    "seq_length = problem['params']['seq_length']"
   ]
  },
  {
   "cell_type": "code",
   "execution_count": 8,
   "id": "1f25e58d",
   "metadata": {},
   "outputs": [],
   "source": [
    "import random\n",
    "\n",
    "starting_sequence = \"\".join([random.choice(alphabet) for i in range(seq_length)])\n",
    "\n"
   ]
  },
  {
   "cell_type": "code",
   "execution_count": 9,
   "id": "3a022c8c",
   "metadata": {},
   "outputs": [],
   "source": [
    "import os\n",
    "\n",
    "logs_dir = f'./analysis/{exp_name}'\n",
    "\n",
    "os.listdir(logs_dir)\n",
    "\n",
    "\n",
    "from datetime import datetime\n",
    "def get_time():\n",
    "    return datetime.now().isoformat()"
   ]
  },
  {
   "cell_type": "markdown",
   "id": "31056a14",
   "metadata": {},
   "source": [
    "## Random Explorer"
   ]
  },
  {
   "cell_type": "code",
   "execution_count": 34,
   "id": "6bd21f9e-2b10-4763-ad55-49ab9fc44993",
   "metadata": {},
   "outputs": [
    {
     "name": "stdout",
     "output_type": "stream",
     "text": [
      "round: 0, top: 0.15378699877032953, time: 0.000262s\n",
      "round: 1, top: 0.39819848574016875, time: 3.345087s\n",
      "round: 2, top: 0.46959960400396916, time: 0.516236s\n",
      "round: 3, top: 0.5053001369460991, time: 0.522794s\n",
      "round: 4, top: 0.5080463438753877, time: 0.624389s\n",
      "round: 5, top: 0.5080463438753877, time: 0.591970s\n",
      "round: 6, top: 0.5657164798722858, time: 0.617488s\n",
      "round: 7, top: 0.5657164798722858, time: 0.767273s\n",
      "round: 8, top: 0.5657164798722858, time: 0.766474s\n",
      "round: 9, top: 0.631625184277509, time: 0.876353s\n",
      "round: 10, top: 0.631625184277509, time: 0.891544s\n",
      "round: 11, top: 0.631625184277509, time: 0.942348s\n",
      "round: 12, top: 0.631625184277509, time: 0.988282s\n",
      "round: 13, top: 0.631625184277509, time: 1.035094s\n",
      "round: 14, top: 0.631625184277509, time: 1.073871s\n",
      "round: 15, top: 0.631625184277509, time: 1.114259s\n",
      "round: 0, top: 0.15378699877032953, time: 0.000207s\n",
      "round: 1, top: 0.36524413353755714, time: 3.007227s\n",
      "round: 2, top: 0.5272697400008672, time: 0.512746s\n",
      "round: 3, top: 0.5272697400008672, time: 0.514192s\n",
      "round: 4, top: 0.5272697400008672, time: 0.554641s\n",
      "round: 5, top: 0.5272697400008672, time: 0.597312s\n",
      "round: 6, top: 0.5272697400008672, time: 0.637239s\n",
      "round: 7, top: 0.5272697400008672, time: 0.727842s\n",
      "round: 8, top: 0.5355083084091925, time: 0.791124s\n",
      "round: 9, top: 0.5355083084091925, time: 0.836279s\n",
      "round: 10, top: 0.5355083084091925, time: 0.869826s\n",
      "round: 11, top: 0.5355083084091925, time: 0.915142s\n",
      "round: 12, top: 0.5355083084091925, time: 0.974567s\n",
      "round: 13, top: 0.538254515338481, time: 1.015381s\n",
      "round: 14, top: 0.538254515338481, time: 1.063271s\n",
      "round: 15, top: 0.538254515338481, time: 1.135029s\n",
      "round: 0, top: 0.15378699877032953, time: 0.000206s\n",
      "round: 1, top: 0.3734827281356526, time: 3.055386s\n",
      "round: 2, top: 0.55747785908442, time: 0.503224s\n",
      "round: 3, top: 0.55747785908442, time: 0.522732s\n",
      "round: 4, top: 0.55747785908442, time: 0.575139s\n",
      "round: 5, top: 0.55747785908442, time: 0.593761s\n",
      "round: 6, top: 0.55747785908442, time: 0.636275s\n",
      "round: 7, top: 0.55747785908442, time: 0.729198s\n",
      "round: 8, top: 0.5849398236182248, time: 0.768248s\n",
      "round: 9, top: 0.5849398236182248, time: 0.857791s\n",
      "round: 10, top: 0.5849398236182248, time: 0.924933s\n",
      "round: 11, top: 0.5849398236182248, time: 0.909545s\n",
      "round: 12, top: 0.5849398236182248, time: 0.990896s\n",
      "round: 13, top: 0.5849398236182248, time: 1.029165s\n",
      "round: 14, top: 0.5849398236182248, time: 1.061929s\n",
      "round: 15, top: 0.5849398236182248, time: 1.155433s\n"
     ]
    }
   ],
   "source": [
    "for _ in range(3):\n",
    "    cnn = baselines.models.CNN(len(starting_sequence), alphabet=alphabet,\n",
    "                             num_filters=32, hidden_size=100, loss='MSE')\n",
    "\n",
    "    random_explorer = baselines.explorers.Random(\n",
    "        cnn,\n",
    "        rounds=nRounds,\n",
    "        mu=1,\n",
    "        starting_sequence=starting_sequence,\n",
    "        sequences_batch_size=100,\n",
    "        model_queries_per_batch=nModelQueries,\n",
    "        alphabet=alphabet\n",
    "    )\n",
    "\n",
    "    random_sequences, metadata = random_explorer.run(landscape)\n",
    "    fname = \"Random_Explorer_\" + get_time() + \".csv\"\n",
    "    random_sequences.to_csv(os.path.join(logs_dir, fname))\n",
    "    random_sequences"
   ]
  },
  {
   "cell_type": "markdown",
   "id": "9ef9de91",
   "metadata": {},
   "source": [
    "## Adalead Explorer"
   ]
  },
  {
   "cell_type": "code",
   "execution_count": 35,
   "id": "b40e3298-4b1f-4b73-86e7-6776cbcab723",
   "metadata": {},
   "outputs": [
    {
     "name": "stdout",
     "output_type": "stream",
     "text": [
      "round: 0, top: 0.15378699877032953, time: 0.000225s\n",
      "round: 1, top: 0.46959960400396916, time: 25.539324s\n",
      "round: 2, top: 0.6508485804029885, time: 11.473732s\n",
      "round: 3, top: 0.7661888000172442, time: 9.138100s\n",
      "round: 4, top: 0.8128741606765285, time: 7.251759s\n",
      "round: 5, top: 0.8540671074772356, time: 6.994964s\n",
      "round: 6, top: 0.8925138473486541, time: 7.110831s\n",
      "round: 7, top: 1.0517932206929055, time: 7.468872s\n",
      "round: 8, top: 1.0517932206929055, time: 7.447524s\n",
      "round: 9, top: 1.0517932206929055, time: 8.011372s\n",
      "round: 10, top: 1.0517932206929055, time: 8.216094s\n",
      "round: 11, top: 1.0517932206929055, time: 8.176075s\n",
      "round: 12, top: 1.0517932206929055, time: 7.238011s\n",
      "round: 13, top: 1.0517932206929055, time: 7.767524s\n",
      "round: 14, top: 1.0517932206929055, time: 7.745489s\n",
      "round: 15, top: 1.0517932206929055, time: 7.632067s\n",
      "round: 0, top: 0.15378699877032953, time: 0.000216s\n",
      "round: 1, top: 0.4998077754670625, time: 16.958308s\n",
      "round: 2, top: 0.6700719241489276, time: 7.781839s\n",
      "round: 3, top: 0.8018893853389146, time: 7.701683s\n",
      "round: 4, top: 0.889767692798906, time: 7.012050s\n",
      "round: 5, top: 0.889767692798906, time: 7.152224s\n",
      "round: 6, top: 0.961168758683166, time: 7.669273s\n",
      "round: 7, top: 0.961168758683166, time: 7.286888s\n",
      "round: 8, top: 0.961168758683166, time: 10.720167s\n",
      "round: 9, top: 0.961168758683166, time: 8.398960s\n",
      "round: 10, top: 0.961168758683166, time: 8.119432s\n",
      "round: 11, top: 0.961168758683166, time: 7.827595s\n",
      "round: 12, top: 0.961168758683166, time: 8.111626s\n",
      "round: 13, top: 0.961168758683166, time: 10.650194s\n",
      "round: 14, top: 0.961168758683166, time: 9.683061s\n",
      "round: 15, top: 0.961168758683166, time: 9.714277s\n",
      "round: 0, top: 0.15378699877032953, time: 0.000353s\n",
      "round: 1, top: 0.39819848574016875, time: 14.897369s\n",
      "round: 2, top: 0.6124017881520295, time: 13.742811s\n",
      "round: 3, top: 0.6645795626698909, time: 7.876997s\n",
      "round: 4, top: 0.7497116108210532, time: 10.688361s\n",
      "round: 5, top: 0.8540671074772356, time: 8.551819s\n",
      "round: 6, top: 0.8540671074772356, time: 10.005240s\n",
      "round: 7, top: 0.8540671074772356, time: 9.165594s\n",
      "round: 8, top: 0.9034986750658084, time: 8.317424s\n",
      "round: 9, top: 0.9034986750658084, time: 9.780541s\n",
      "round: 10, top: 0.9034986750658084, time: 9.148014s\n",
      "round: 11, top: 0.9034986750658084, time: 9.198363s\n",
      "round: 12, top: 0.9034986750658084, time: 7.069315s\n",
      "round: 13, top: 0.9034986750658084, time: 7.064618s\n",
      "round: 14, top: 0.9034986750658084, time: 7.566244s\n",
      "round: 15, top: 0.9034986750658084, time: 7.443151s\n"
     ]
    }
   ],
   "source": [
    "\n",
    "for _ in range(3):\n",
    "\n",
    "    cnn = baselines.models.CNN(len(starting_sequence), alphabet=alphabet,\n",
    "                             num_filters=32, hidden_size=100, loss='MSE')\n",
    "\n",
    "    adalead_explorer = baselines.explorers.Adalead(\n",
    "        cnn,\n",
    "        rounds=nRounds,\n",
    "        starting_sequence=starting_sequence,\n",
    "        sequences_batch_size=100,\n",
    "        model_queries_per_batch=nModelQueries,\n",
    "        alphabet=alphabet\n",
    "    )\n",
    "\n",
    "\n",
    "    adalead_sequences, metadata = adalead_explorer.run(landscape)\n",
    "    fname = \"Adalead_Explorer_\" + get_time() + \".csv\"\n",
    "    adalead_sequences.to_csv(os.path.join(logs_dir, fname))\n",
    "    adalead_sequences\n"
   ]
  },
  {
   "cell_type": "markdown",
   "id": "388b4de0",
   "metadata": {},
   "source": [
    "## Genetic Explorer"
   ]
  },
  {
   "cell_type": "code",
   "execution_count": 10,
   "id": "ad441f74-433c-436d-9912-65f9ccd7b13c",
   "metadata": {},
   "outputs": [
    {
     "name": "stderr",
     "output_type": "stream",
     "text": [
      "2022-01-25 22:05:03.310464: I tensorflow/core/platform/cpu_feature_guard.cc:151] This TensorFlow binary is optimized with oneAPI Deep Neural Network Library (oneDNN) to use the following CPU instructions in performance-critical operations:  AVX2 FMA\n",
      "To enable them in other operations, rebuild TensorFlow with the appropriate compiler flags.\n"
     ]
    },
    {
     "name": "stdout",
     "output_type": "stream",
     "text": [
      "round: 0, top: 0.4201680626051666, time: 0.000516s\n",
      "round: 1, top: 0.6783105449367933, time: 108.172023s\n",
      "round: 2, top: 0.8266051429434308, time: 112.553208s\n",
      "round: 3, top: 0.961168758683166, time: 102.583191s\n",
      "round: 4, top: 0.961168758683166, time: 112.091614s\n",
      "round: 5, top: 0.961168758683166, time: 107.688405s\n",
      "round: 6, top: 0.961168758683166, time: 57.704073s\n",
      "round: 7, top: 0.961168758683166, time: 52.915628s\n",
      "round: 8, top: 0.961168758683166, time: 54.318035s\n",
      "round: 9, top: 0.961168758683166, time: 52.302489s\n",
      "round: 10, top: 0.961168758683166, time: 55.263631s\n",
      "round: 11, top: 0.961168758683166, time: 63.992599s\n",
      "round: 12, top: 0.961168758683166, time: 62.387843s\n",
      "round: 13, top: 0.961168758683166, time: 52.873845s\n",
      "round: 14, top: 0.961168758683166, time: 50.883334s\n",
      "round: 15, top: 0.961168758683166, time: 51.396622s\n",
      "round: 0, top: 0.4201680626051666, time: 0.000340s\n",
      "round: 1, top: 0.6783105449367933, time: 47.585553s\n",
      "round: 2, top: 0.8266051429434308, time: 45.966455s\n",
      "round: 3, top: 0.9089909841653045, time: 50.686720s\n",
      "round: 4, top: 0.961168758683166, time: 55.333601s\n",
      "round: 5, top: 0.961168758683166, time: 54.379120s\n",
      "round: 6, top: 0.961168758683166, time: 50.669977s\n",
      "round: 7, top: 0.961168758683166, time: 48.438640s\n",
      "round: 8, top: 0.961168758683166, time: 47.780017s\n",
      "round: 9, top: 0.961168758683166, time: 48.449137s\n",
      "round: 10, top: 0.961168758683166, time: 48.845316s\n",
      "round: 11, top: 0.961168758683166, time: 49.692901s\n",
      "round: 12, top: 0.961168758683166, time: 49.564679s\n",
      "round: 13, top: 0.961168758683166, time: 49.769997s\n",
      "round: 14, top: 0.961168758683166, time: 49.958632s\n",
      "round: 15, top: 0.961168758683166, time: 41.263456s\n",
      "round: 0, top: 0.4201680626051666, time: 0.000209s\n",
      "round: 1, top: 0.5410007222677696, time: 18.570550s\n",
      "round: 2, top: 0.7195034917375004, time: 30.875000s\n",
      "round: 3, top: 0.7909045576217604, time: 28.266793s\n",
      "round: 4, top: 0.8760366581524631, time: 32.619034s\n",
      "round: 5, top: 0.8760366581524631, time: 29.824469s\n",
      "round: 6, top: 0.9117372434741337, time: 37.245517s\n",
      "round: 7, top: 0.9584226041334178, time: 30.204168s\n",
      "round: 8, top: 0.9584226041334178, time: 31.209162s\n",
      "round: 9, top: 0.9584226041334178, time: 31.186992s\n",
      "round: 10, top: 0.9584226041334178, time: 33.955886s\n",
      "round: 11, top: 0.9584226041334178, time: 37.522396s\n",
      "round: 12, top: 0.9584226041334178, time: 51.421034s\n",
      "round: 13, top: 0.9584226041334178, time: 56.346669s\n",
      "round: 14, top: 0.9584226041334178, time: 57.354642s\n",
      "round: 15, top: 0.9584226041334178, time: 65.951363s\n"
     ]
    }
   ],
   "source": [
    "for _ in range(3):\n",
    "    \n",
    "    cnn = baselines.models.CNN(len(starting_sequence), alphabet=alphabet,\n",
    "                             num_filters=32, hidden_size=100, loss='MSE')\n",
    "\n",
    "    genetic_explorer = baselines.explorers.GeneticAlgorithm(\n",
    "        cnn,\n",
    "\n",
    "        population_size=20,\n",
    "        parent_selection_strategy='wright-fisher', # wright-fisher model decides who gets to 'mate'\n",
    "        beta=0.01,\n",
    "        children_proportion=0.2,\n",
    "\n",
    "        rounds=nRounds,\n",
    "        starting_sequence=starting_sequence,\n",
    "        sequences_batch_size=bsize,\n",
    "        model_queries_per_batch=nModelQueries,\n",
    "        alphabet=alphabet\n",
    "    )\n",
    "\n",
    "\n",
    "    genetic_algo_sequences, metadata = genetic_explorer.run(landscape)\n",
    "    fname = \"Genetic_Explorer_\" + get_time() + \".csv\"\n",
    "    genetic_algo_sequences.to_csv(os.path.join(logs_dir, fname))\n",
    "    genetic_algo_sequences"
   ]
  },
  {
   "cell_type": "markdown",
   "id": "c8d58b09",
   "metadata": {},
   "source": [
    "## CMAES Explorer"
   ]
  },
  {
   "cell_type": "code",
   "execution_count": 11,
   "id": "9c67a577-e4a2-4889-90bc-99765ba1f792",
   "metadata": {},
   "outputs": [
    {
     "name": "stdout",
     "output_type": "stream",
     "text": [
      "round: 0, top: 0.4201680626051666, time: 0.000303s\n",
      "round: 1, top: 0.5025539300168106, time: 1.982948s\n",
      "round: 2, top: 0.6865491133451186, time: 2.153259s\n",
      "round: 3, top: 0.7387268354834394, time: 1.932465s\n",
      "round: 4, top: 0.7387268354834394, time: 2.041866s\n",
      "round: 5, top: 0.7606964385382076, time: 3.523021s\n",
      "round: 6, top: 0.7606964385382076, time: 4.833827s\n",
      "round: 7, top: 0.777173575354858, time: 3.614939s\n",
      "round: 8, top: 0.777173575354858, time: 1.910069s\n",
      "round: 9, top: 0.8128741606765285, time: 2.642523s\n",
      "round: 10, top: 0.9007524157569793, time: 1.946164s\n",
      "round: 11, top: 0.9007524157569793, time: 2.193195s\n",
      "round: 12, top: 0.9007524157569793, time: 2.050235s\n",
      "round: 13, top: 0.9007524157569793, time: 2.179243s\n",
      "round: 14, top: 0.9007524157569793, time: 2.053605s\n",
      "round: 15, top: 0.9007524157569793, time: 5.206067s\n",
      "round: 0, top: 0.4201680626051666, time: 0.000357s\n",
      "round: 1, top: 0.48333058627087155, time: 6.803608s\n",
      "round: 2, top: 0.5931784444060906, time: 2.140992s\n",
      "round: 3, top: 0.6453561665444114, time: 2.059802s\n",
      "round: 4, top: 0.6453561665444114, time: 1.822234s\n",
      "round: 5, top: 0.7057725094705981, time: 1.815464s\n",
      "round: 6, top: 0.7057725094705981, time: 1.709093s\n",
      "round: 7, top: 0.7057725094705981, time: 1.646537s\n",
      "round: 8, top: 0.7799197822841466, time: 2.166175s\n",
      "round: 9, top: 0.7799197822841466, time: 2.231253s\n",
      "round: 10, top: 0.7799197822841466, time: 2.158117s\n",
      "round: 11, top: 0.7991431784096261, time: 2.257518s\n",
      "round: 12, top: 0.7991431784096261, time: 2.055816s\n",
      "round: 13, top: 0.7991431784096261, time: 1.969360s\n",
      "round: 14, top: 0.7991431784096261, time: 2.011559s\n",
      "round: 15, top: 0.8238589360141423, time: 2.322091s\n",
      "round: 0, top: 0.4201680626051666, time: 0.000328s\n",
      "round: 1, top: 0.5410007222677696, time: 1.661183s\n",
      "round: 2, top: 0.5410007222677696, time: 1.992406s\n",
      "round: 3, top: 0.6810566994865414, time: 1.742922s\n",
      "round: 4, top: 0.8211127290848537, time: 1.542655s\n",
      "round: 5, top: 0.8430823321396218, time: 1.678013s\n",
      "round: 6, top: 0.9007524157569793, time: 1.728248s\n",
      "round: 7, top: 0.9007524157569793, time: 1.744229s\n",
      "round: 8, top: 0.9007524157569793, time: 1.547933s\n",
      "round: 9, top: 0.9007524157569793, time: 1.867534s\n",
      "round: 10, top: 0.9007524157569793, time: 2.216576s\n",
      "round: 11, top: 0.9007524157569793, time: 1.853690s\n",
      "round: 12, top: 0.9007524157569793, time: 1.997841s\n",
      "round: 13, top: 0.961168758683166, time: 1.968458s\n",
      "round: 14, top: 0.961168758683166, time: 1.997545s\n",
      "round: 15, top: 0.961168758683166, time: 2.013422s\n"
     ]
    }
   ],
   "source": [
    "for _ in range(3):\n",
    "    cnn = baselines.models.CNN(len(starting_sequence), alphabet=alphabet,\n",
    "                             num_filters=32, hidden_size=100, loss='MSE')\n",
    "\n",
    "    cmaes_explorer = baselines.explorers.CMAES(\n",
    "        flexs.LandscapeAsModel(landscape),\n",
    "\n",
    "        population_size=10,\n",
    "        max_iter=200,\n",
    "\n",
    "        rounds=nRounds,\n",
    "        starting_sequence=starting_sequence,\n",
    "        sequences_batch_size=bsize,\n",
    "        model_queries_per_batch=nModelQueries,\n",
    "        alphabet=alphabet\n",
    "    )\n",
    "\n",
    "    cmaes_sequences, metadata = cmaes_explorer.run(landscape)\n",
    "    fname = \"CMAES_Explorer_\" + get_time() + \".csv\"\n",
    "    cmaes_sequences.to_csv(os.path.join(logs_dir, fname))\n",
    "    cmaes_sequences"
   ]
  },
  {
   "cell_type": "markdown",
   "id": "1f3cfa0e",
   "metadata": {},
   "source": [
    "## DynaPPO Explorer"
   ]
  },
  {
   "cell_type": "code",
   "execution_count": 12,
   "id": "0cee27cf-4dd8-47f6-a17a-1bf0a84d66fd",
   "metadata": {},
   "outputs": [
    {
     "name": "stderr",
     "output_type": "stream",
     "text": [
      "/Users/leofeng/miniconda3/envs/flexsenv/lib/python3.7/site-packages/sklearn/linear_model/_coordinate_descent.py:532: ConvergenceWarning: Objective did not converge. You might want to increase the number of iterations. Duality gap: 0.0, tolerance: 0.0\n",
      "  positive)\n"
     ]
    },
    {
     "name": "stdout",
     "output_type": "stream",
     "text": [
      "BoundedTensorSpec(shape=(), dtype=tf.int64, name='action', minimum=array(0), maximum=array(3))\n",
      "round: 0, top: 0.4201680626051666, time: 0.000340s\n",
      "WARNING:tensorflow:From /Users/leofeng/miniconda3/envs/flexsenv/lib/python3.7/site-packages/flexs/baselines/explorers/dyna_ppo.py:287: ReplayBuffer.gather_all (from tf_agents.replay_buffers.replay_buffer) is deprecated and will be removed in a future version.\n",
      "Instructions for updating:\n",
      "Use `as_dataset(..., single_deterministic_pass=True)` instead.\n",
      "round: 1, top: 0.5492392906760948, time: 27.114906s\n",
      "round: 2, top: 0.6041632197437043, time: 25.552637s\n",
      "round: 3, top: 0.6041632197437043, time: 41.923151s\n",
      "round: 4, top: 0.6865491133451186, time: 50.845752s\n",
      "round: 5, top: 0.6865491133451186, time: 53.996527s\n",
      "round: 6, top: 0.6865491133451186, time: 55.447780s\n",
      "round: 7, top: 0.6865491133451186, time: 50.893434s\n",
      "round: 8, top: 0.6865491133451186, time: 55.873641s\n",
      "round: 9, top: 0.7277420601458257, time: 64.665684s\n",
      "round: 10, top: 0.7277420601458257, time: 73.673227s\n",
      "round: 11, top: 0.7277420601458257, time: 66.918742s\n",
      "round: 12, top: 0.7277420601458257, time: 63.949947s\n",
      "round: 13, top: 0.7359806285541509, time: 66.207138s\n",
      "round: 14, top: 0.7359806285541509, time: 70.894270s\n",
      "round: 15, top: 0.7359806285541509, time: 67.255384s\n"
     ]
    },
    {
     "name": "stderr",
     "output_type": "stream",
     "text": [
      "/Users/leofeng/miniconda3/envs/flexsenv/lib/python3.7/site-packages/sklearn/linear_model/_coordinate_descent.py:532: ConvergenceWarning: Objective did not converge. You might want to increase the number of iterations. Duality gap: 0.0, tolerance: 0.0\n",
      "  positive)\n"
     ]
    },
    {
     "name": "stdout",
     "output_type": "stream",
     "text": [
      "BoundedTensorSpec(shape=(), dtype=tf.int64, name='action', minimum=array(0), maximum=array(3))\n",
      "round: 0, top: 0.4201680626051666, time: 0.000235s\n",
      "round: 1, top: 0.5876860305475133, time: 23.751129s\n",
      "round: 2, top: 0.6508485804029885, time: 22.286866s\n",
      "round: 3, top: 0.7854121961427237, time: 37.061231s\n",
      "round: 4, top: 0.7854121961427237, time: 39.500445s\n",
      "round: 5, top: 0.7854121961427237, time: 41.589381s\n",
      "round: 6, top: 0.7854121961427237, time: 43.209767s\n",
      "round: 7, top: 0.7854121961427237, time: 47.488311s\n",
      "round: 8, top: 0.7854121961427237, time: 49.717049s\n",
      "round: 9, top: 0.7854121961427237, time: 54.079600s\n",
      "round: 10, top: 0.7854121961427237, time: 53.592415s\n",
      "round: 11, top: 0.7854121961427237, time: 62.149071s\n",
      "round: 12, top: 0.7854121961427237, time: 61.656065s\n",
      "round: 13, top: 0.7854121961427237, time: 65.808941s\n",
      "round: 14, top: 0.7854121961427237, time: 71.938159s\n",
      "round: 15, top: 0.7854121961427237, time: 73.658067s\n"
     ]
    },
    {
     "name": "stderr",
     "output_type": "stream",
     "text": [
      "/Users/leofeng/miniconda3/envs/flexsenv/lib/python3.7/site-packages/sklearn/linear_model/_coordinate_descent.py:532: ConvergenceWarning: Objective did not converge. You might want to increase the number of iterations. Duality gap: 0.0, tolerance: 0.0\n",
      "  positive)\n"
     ]
    },
    {
     "name": "stdout",
     "output_type": "stream",
     "text": [
      "BoundedTensorSpec(shape=(), dtype=tf.int64, name='action', minimum=array(0), maximum=array(3))\n",
      "round: 0, top: 0.4201680626051666, time: 0.000330s\n",
      "round: 1, top: 0.6288789773482205, time: 22.852963s\n",
      "round: 2, top: 0.724995853216537, time: 25.145255s\n",
      "round: 3, top: 0.724995853216537, time: 37.127891s\n",
      "round: 4, top: 0.724995853216537, time: 36.942710s\n",
      "round: 5, top: 0.7661888000172442, time: 47.116694s\n",
      "round: 6, top: 0.7661888000172442, time: 55.809284s\n",
      "round: 7, top: 0.7661888000172442, time: 52.086127s\n",
      "round: 8, top: 0.7661888000172442, time: 60.610725s\n",
      "round: 9, top: 0.77442742080511, time: 55.673338s\n",
      "round: 10, top: 0.77442742080511, time: 81.478679s\n",
      "round: 11, top: 0.77442742080511, time: 76.304080s\n",
      "round: 12, top: 0.77442742080511, time: 77.813152s\n",
      "round: 13, top: 0.77442742080511, time: 96.763856s\n",
      "round: 14, top: 0.77442742080511, time: 80.436016s\n",
      "round: 15, top: 0.77442742080511, time: 79.684004s\n"
     ]
    }
   ],
   "source": [
    "for _ in range(3):\n",
    "\n",
    "    cnn = baselines.models.CNN(len(starting_sequence), alphabet=alphabet,\n",
    "                             num_filters=32, hidden_size=100, loss='MSE')\n",
    "\n",
    "    dynappo_explorer = baselines.explorers.DynaPPO(  # DynaPPO has its own default ensemble model, so don't use CNN\n",
    "        landscape=landscape,\n",
    "        env_batch_size=10,\n",
    "        num_model_rounds=10,\n",
    "        rounds=nRounds,\n",
    "        starting_sequence=starting_sequence,\n",
    "        sequences_batch_size=bsize,\n",
    "        model_queries_per_batch=nModelQueries,\n",
    "        alphabet=alphabet,\n",
    "    )\n",
    "\n",
    "    dynappo_sequences, metadata = dynappo_explorer.run(landscape)\n",
    "    fname = \"DynaPPO_Explorer_\" + get_time() + \".csv\"\n",
    "    dynappo_sequences.to_csv(os.path.join(logs_dir, fname))\n",
    "    dynappo_sequences"
   ]
  },
  {
   "cell_type": "code",
   "execution_count": null,
   "id": "bc27d62b-f53a-4d83-b16a-4ddd843c1f6c",
   "metadata": {},
   "outputs": [],
   "source": []
  }
 ],
 "metadata": {
  "kernelspec": {
   "display_name": "Python 3 (ipykernel)",
   "language": "python",
   "name": "python3"
  },
  "language_info": {
   "codemirror_mode": {
    "name": "ipython",
    "version": 3
   },
   "file_extension": ".py",
   "mimetype": "text/x-python",
   "name": "python",
   "nbconvert_exporter": "python",
   "pygments_lexer": "ipython3",
   "version": "3.7.11"
  }
 },
 "nbformat": 4,
 "nbformat_minor": 5
}
