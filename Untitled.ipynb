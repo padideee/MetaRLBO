{
 "cells": [
  {
   "cell_type": "code",
   "execution_count": 1,
   "metadata": {},
   "outputs": [],
   "source": [
    "import pandas as pd\n",
    "import numpy as np\n",
    "import torch.nn.functional as F\n",
    "import torch\n",
    "\n",
    "enc_len = 50\n",
    "num_actions = 21\n",
    "\n",
    "def seq_to_enc(seq):\n",
    "    enc = [None for i in range(enc_len)]\n",
    "    for i in range(enc_len):\n",
    "        if i < len(seq):\n",
    "            # import pdb; pdb.set_trace()\n",
    "            enc[i] = ord(seq[i]) - ord('A')\n",
    "        else:\n",
    "            enc[i] = num_actions - 1\n",
    "    try:\n",
    "        return F.one_hot(torch.tensor(enc), num_classes=num_actions).numpy()\n",
    "    except:\n",
    "        import pdb; pdb.set_trace()\n",
    "\n",
    "def get_AMP_data(mode):\n",
    "\n",
    "    if mode == \"val\":\n",
    "        df = pd.read_csv(\"data/210820_v0.24.1_rf_not-alibicani.csv\")\n",
    "    elif mode == \"test\":\n",
    "        df = pd.read_csv(\"data/210820_v0.24.1_rf_alibicani.csv\")\n",
    "    else:\n",
    "        raise NotImplementedError\n",
    "\n",
    "    import pdb; pdb.set_trace()    \n",
    "    # TODO: \n",
    "    df.sequence = df.sequence.map(seq_to_enc)\n",
    "\n",
    "\n",
    "\n",
    "\n",
    "    storage = QueryStorage(df.sequence.shape[0], df.sequence.shape[1:])\n",
    "\n",
    "    storage.mols = torch.tensor(df.sequence.to_list())\n",
    "\n",
    "    storage.scores = torch.tensor(df.is_amp.to_list()).long()\n",
    "\n",
    "    # Return QueryStorage w/ mols (50, 21) and their labels (as scores -- True being 1, False being 0)\n",
    "\n",
    "    return storage"
   ]
  },
  {
   "cell_type": "code",
   "execution_count": 2,
   "metadata": {},
   "outputs": [],
   "source": [
    "df = pd.read_csv(\"data/210820_v0.24.1_rf_not-alibicani.csv\")"
   ]
  },
  {
   "cell_type": "code",
   "execution_count": 3,
   "metadata": {},
   "outputs": [
    {
     "data": {
      "text/html": [
       "<div>\n",
       "<style scoped>\n",
       "    .dataframe tbody tr th:only-of-type {\n",
       "        vertical-align: middle;\n",
       "    }\n",
       "\n",
       "    .dataframe tbody tr th {\n",
       "        vertical-align: top;\n",
       "    }\n",
       "\n",
       "    .dataframe thead th {\n",
       "        text-align: right;\n",
       "    }\n",
       "</style>\n",
       "<table border=\"1\" class=\"dataframe\">\n",
       "  <thead>\n",
       "    <tr style=\"text-align: right;\">\n",
       "      <th></th>\n",
       "      <th>sequence</th>\n",
       "      <th>is_amp</th>\n",
       "    </tr>\n",
       "  </thead>\n",
       "  <tbody>\n",
       "    <tr>\n",
       "      <th>0</th>\n",
       "      <td>AAFRGCWTKNYSPKPCL</td>\n",
       "      <td>True</td>\n",
       "    </tr>\n",
       "    <tr>\n",
       "      <th>1</th>\n",
       "      <td>AAHCIALRKGYK</td>\n",
       "      <td>True</td>\n",
       "    </tr>\n",
       "    <tr>\n",
       "      <th>2</th>\n",
       "      <td>AAHCIQLGKR</td>\n",
       "      <td>True</td>\n",
       "    </tr>\n",
       "    <tr>\n",
       "      <th>3</th>\n",
       "      <td>AAHCIVLHHN</td>\n",
       "      <td>True</td>\n",
       "    </tr>\n",
       "    <tr>\n",
       "      <th>4</th>\n",
       "      <td>AAHCLAIGRK</td>\n",
       "      <td>True</td>\n",
       "    </tr>\n",
       "    <tr>\n",
       "      <th>...</th>\n",
       "      <td>...</td>\n",
       "      <td>...</td>\n",
       "    </tr>\n",
       "    <tr>\n",
       "      <th>47927</th>\n",
       "      <td>HFVLSIRHGTFLSKRAKGWQFQLNNFLCVEEPFHTSRNLANT</td>\n",
       "      <td>False</td>\n",
       "    </tr>\n",
       "    <tr>\n",
       "      <th>47928</th>\n",
       "      <td>KYLSQEEQSTAALTLYTKKQFFQGIHEVVESSNEDNFQLLDI</td>\n",
       "      <td>False</td>\n",
       "    </tr>\n",
       "    <tr>\n",
       "      <th>47929</th>\n",
       "      <td>LLTGRARVSTEGAPE</td>\n",
       "      <td>False</td>\n",
       "    </tr>\n",
       "    <tr>\n",
       "      <th>47930</th>\n",
       "      <td>ATHLTKILNSDEHAV</td>\n",
       "      <td>False</td>\n",
       "    </tr>\n",
       "    <tr>\n",
       "      <th>47931</th>\n",
       "      <td>GASVGRRGRGAGWYC</td>\n",
       "      <td>False</td>\n",
       "    </tr>\n",
       "  </tbody>\n",
       "</table>\n",
       "<p>47932 rows × 2 columns</p>\n",
       "</div>"
      ],
      "text/plain": [
       "                                         sequence  is_amp\n",
       "0                               AAFRGCWTKNYSPKPCL    True\n",
       "1                                    AAHCIALRKGYK    True\n",
       "2                                      AAHCIQLGKR    True\n",
       "3                                      AAHCIVLHHN    True\n",
       "4                                      AAHCLAIGRK    True\n",
       "...                                           ...     ...\n",
       "47927  HFVLSIRHGTFLSKRAKGWQFQLNNFLCVEEPFHTSRNLANT   False\n",
       "47928  KYLSQEEQSTAALTLYTKKQFFQGIHEVVESSNEDNFQLLDI   False\n",
       "47929                             LLTGRARVSTEGAPE   False\n",
       "47930                             ATHLTKILNSDEHAV   False\n",
       "47931                             GASVGRRGRGAGWYC   False\n",
       "\n",
       "[47932 rows x 2 columns]"
      ]
     },
     "execution_count": 3,
     "metadata": {},
     "output_type": "execute_result"
    }
   ],
   "source": [
    "df"
   ]
  },
  {
   "cell_type": "code",
   "execution_count": 7,
   "metadata": {},
   "outputs": [],
   "source": [
    "seqs = df.sequence.to_list()"
   ]
  },
  {
   "cell_type": "code",
   "execution_count": 16,
   "metadata": {},
   "outputs": [],
   "source": [
    "chars = {}"
   ]
  },
  {
   "cell_type": "code",
   "execution_count": 17,
   "metadata": {},
   "outputs": [],
   "source": [
    "cnt = 0\n",
    "for s in seqs:\n",
    "    for c in s:\n",
    "        if c not in chars:\n",
    "            chars[c] = cnt\n",
    "            cnt += 1\n",
    "        "
   ]
  },
  {
   "cell_type": "code",
   "execution_count": null,
   "metadata": {},
   "outputs": [],
   "source": []
  },
  {
   "cell_type": "markdown",
   "metadata": {},
   "source": [
    "chars"
   ]
  },
  {
   "cell_type": "code",
   "execution_count": null,
   "metadata": {},
   "outputs": [],
   "source": []
  }
 ],
 "metadata": {
  "kernelspec": {
   "display_name": "Python 3",
   "language": "python",
   "name": "python3"
  },
  "language_info": {
   "codemirror_mode": {
    "name": "ipython",
    "version": 3
   },
   "file_extension": ".py",
   "mimetype": "text/x-python",
   "name": "python",
   "nbconvert_exporter": "python",
   "pygments_lexer": "ipython3",
   "version": "3.6.7"
  }
 },
 "nbformat": 4,
 "nbformat_minor": 2
}
