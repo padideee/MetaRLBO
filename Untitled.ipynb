{
 "cells": [
  {
   "cell_type": "code",
   "execution_count": 2,
   "metadata": {},
   "outputs": [],
   "source": [
    "import torch\n",
    "import os"
   ]
  },
  {
   "cell_type": "code",
   "execution_count": 9,
   "metadata": {},
   "outputs": [],
   "source": [
    "exp_name = \"CLAMP-Large-001_73__24-09_14-59-41\""
   ]
  },
  {
   "cell_type": "code",
   "execution_count": 11,
   "metadata": {},
   "outputs": [
    {
     "data": {
      "text/plain": [
       "['config.json',\n",
       " 'best_batch_mean_policy.pt',\n",
       " 'queried_mols.pkl',\n",
       " 'events.out.tfevents.1632509981.cn-c037.59928.0',\n",
       " 'best_batch_max_policy.pt']"
      ]
     },
     "execution_count": 11,
     "metadata": {},
     "output_type": "execute_result"
    }
   ],
   "source": [
    "exp_path = os.path.join(\"logs/logs_CLAMP-v0\", exp_name)\n",
    "os.listdir(exp_path)"
   ]
  },
  {
   "cell_type": "code",
   "execution_count": 25,
   "metadata": {
    "scrolled": true
   },
   "outputs": [],
   "source": [
    "model_state_dict = torch.load(os.path.join(exp_path, 'best_batch_max_policy.pt'),  map_location=torch.device('cpu'))"
   ]
  },
  {
   "cell_type": "code",
   "execution_count": 24,
   "metadata": {},
   "outputs": [
    {
     "name": "stdout",
     "output_type": "stream",
     "text": [
      "One\n"
     ]
    }
   ],
   "source": [
    "from policies.mlp_policy import Policy as MLPPolicy\n",
    "from environments.AMP_env import AMPEnv\n",
    "\n",
    "env = AMPEnv()\n",
    "policy = MLPPolicy((1050,),env.action_space)"
   ]
  },
  {
   "cell_type": "code",
   "execution_count": 26,
   "metadata": {},
   "outputs": [
    {
     "data": {
      "text/plain": [
       "<All keys matched successfully>"
      ]
     },
     "execution_count": 26,
     "metadata": {},
     "output_type": "execute_result"
    }
   ],
   "source": [
    "policy.load_state_dict(model_state_dict)"
   ]
  },
  {
   "cell_type": "code",
   "execution_count": 29,
   "metadata": {
    "scrolled": true
   },
   "outputs": [
    {
     "data": {
      "text/plain": [
       "OrderedDict([('base.actor.0.weight',\n",
       "              tensor([[ 0.0934, -0.0274, -0.0255,  ...,  0.0172, -0.0667, -0.0029],\n",
       "                      [-0.0037,  0.0183,  0.0228,  ..., -0.0406,  0.0285, -0.0094],\n",
       "                      [ 0.0741,  0.0192,  0.1059,  ...,  0.0642, -0.0664,  0.0500],\n",
       "                      ...,\n",
       "                      [-0.0471, -0.0529,  0.0081,  ..., -0.0394,  0.0060, -0.0051],\n",
       "                      [-0.0136, -0.0089, -0.0933,  ..., -0.0260,  0.0607, -0.0355],\n",
       "                      [ 0.0288, -0.0196,  0.0567,  ...,  0.0128,  0.0062, -0.0037]])),\n",
       "             ('base.actor.0.bias',\n",
       "              tensor([-8.9370e-04, -1.1688e-06, -3.2928e-05, -7.2779e-04, -8.6705e-04,\n",
       "                      -2.0920e-04,  1.3781e-03, -7.9164e-05,  4.5580e-04, -6.9555e-04,\n",
       "                      -7.9827e-04,  6.8926e-04,  6.4499e-04,  6.5369e-04, -6.5125e-04,\n",
       "                      -1.6719e-03,  4.6757e-04,  6.1190e-04,  3.1931e-04, -6.8262e-05,\n",
       "                       3.4770e-05, -1.2731e-03, -7.0972e-04,  2.1683e-04,  1.0833e-03,\n",
       "                       6.4691e-04, -9.8857e-04,  1.3946e-03,  1.3658e-03,  1.1688e-03,\n",
       "                       7.1282e-04,  6.4791e-04, -9.6695e-04, -1.3173e-03, -7.2702e-04,\n",
       "                       1.1848e-03,  1.7508e-03, -1.1552e-03, -7.9625e-04,  7.1366e-04,\n",
       "                      -1.0247e-03, -2.4949e-04, -9.0599e-04, -9.6810e-04, -3.1498e-04,\n",
       "                       1.6437e-03,  4.9352e-04, -7.6143e-04, -1.0902e-03, -6.8471e-05,\n",
       "                       6.7046e-04,  2.2554e-04,  3.1033e-04,  3.8266e-04,  8.2617e-04,\n",
       "                       1.3696e-03, -1.2653e-03,  2.5456e-04,  6.3373e-04, -3.2518e-04,\n",
       "                       7.1979e-05, -9.9872e-04, -1.4723e-03,  5.6360e-05,  5.3774e-04,\n",
       "                       7.9327e-05, -1.0920e-03,  1.9268e-04,  1.1561e-03, -1.9233e-04,\n",
       "                       1.0488e-03, -1.2460e-03, -6.9094e-05,  6.9970e-04,  9.9732e-04,\n",
       "                      -6.2614e-04,  6.7373e-04, -7.3728e-04,  1.2184e-03,  8.2035e-04,\n",
       "                       1.1050e-03, -8.6320e-04,  9.1895e-04, -6.7707e-04,  9.0447e-04,\n",
       "                      -7.5219e-04, -7.2297e-04, -5.3903e-04, -9.4518e-04,  1.0014e-03,\n",
       "                      -8.7563e-05, -7.5191e-04, -1.1570e-04, -6.2110e-04,  1.5020e-03,\n",
       "                      -1.1120e-03, -2.2089e-04, -3.4403e-04, -3.5861e-04,  4.7280e-04,\n",
       "                       7.1168e-04, -1.2294e-03, -1.1331e-03, -7.5143e-04, -7.9679e-04,\n",
       "                       6.8171e-04,  8.1110e-04, -8.2495e-04, -3.1496e-04, -4.8054e-04,\n",
       "                      -1.2565e-03,  7.2223e-04, -7.1175e-04,  1.2678e-03, -9.6156e-04,\n",
       "                       2.5477e-04,  8.0353e-04, -6.1114e-04, -1.1436e-03, -8.0122e-04,\n",
       "                      -8.9229e-04, -7.3778e-05, -1.1861e-03, -5.6473e-04,  8.3707e-04,\n",
       "                       1.6274e-03,  7.8400e-04, -1.4750e-03])),\n",
       "             ('dist.linear.weight',\n",
       "              tensor([[-0.0031,  0.0001,  0.0056,  ...,  0.0104,  0.0054, -0.0079],\n",
       "                      [ 0.0008, -0.0043, -0.0041,  ..., -0.0049, -0.0110,  0.0091],\n",
       "                      [ 0.0085, -0.0015, -0.0066,  ..., -0.0111, -0.0108,  0.0044],\n",
       "                      ...,\n",
       "                      [ 0.0148, -0.0027, -0.0083,  ..., -0.0217, -0.0246,  0.0163],\n",
       "                      [ 0.0128, -0.0033, -0.0094,  ..., -0.0118, -0.0141,  0.0106],\n",
       "                      [-0.0313,  0.0232,  0.0263,  ...,  0.0330,  0.0380, -0.0248]])),\n",
       "             ('dist.linear.bias',\n",
       "              tensor([ 0.0081, -0.0177, -0.0193, -0.0226, -0.0132, -0.0174, -0.0162, -0.0086,\n",
       "                      -0.0405,  0.0377,  0.0222,  0.1070, -0.0319,  0.0401, -0.0172,  0.0005,\n",
       "                      -0.0157,  0.0249, -0.0435, -0.0211,  0.0446]))])"
      ]
     },
     "execution_count": 29,
     "metadata": {},
     "output_type": "execute_result"
    }
   ],
   "source": [
    "policy.state_dict()"
   ]
  },
  {
   "cell_type": "code",
   "execution_count": null,
   "metadata": {},
   "outputs": [],
   "source": [
    "for _ ipier"
   ]
  }
 ],
 "metadata": {
  "kernelspec": {
   "display_name": "Python 3",
   "language": "python",
   "name": "python3"
  },
  "language_info": {
   "codemirror_mode": {
    "name": "ipython",
    "version": 3
   },
   "file_extension": ".py",
   "mimetype": "text/x-python",
   "name": "python",
   "nbconvert_exporter": "python",
   "pygments_lexer": "ipython3",
   "version": "3.6.7"
  }
 },
 "nbformat": 4,
 "nbformat_minor": 2
}
